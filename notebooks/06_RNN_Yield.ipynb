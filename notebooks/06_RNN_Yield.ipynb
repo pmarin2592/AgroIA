{
 "cells": [
  {
   "cell_type": "code",
   "id": "initial_id",
   "metadata": {
    "collapsed": true,
    "ExecuteTime": {
     "end_time": "2025-07-17T20:08:55.490780Z",
     "start_time": "2025-07-17T20:08:53.929211Z"
    }
   },
   "source": [
    "import pandas as pd\n",
    "import numpy as np\n",
    "import matplotlib.pyplot as plt\n",
    "import os\n",
    "from datetime import datetime\n"
   ],
   "outputs": [],
   "execution_count": 1
  },
  {
   "metadata": {
    "ExecuteTime": {
     "end_time": "2025-07-17T20:08:57.394614Z",
     "start_time": "2025-07-17T20:08:57.383456Z"
    }
   },
   "cell_type": "code",
   "source": "from src.utils.metrics import obtener_ruta_app",
   "id": "5a3338e59990c786",
   "outputs": [],
   "execution_count": 2
  },
  {
   "metadata": {
    "ExecuteTime": {
     "end_time": "2025-07-17T20:08:59.440607Z",
     "start_time": "2025-07-17T20:08:59.421922Z"
    }
   },
   "cell_type": "code",
   "source": "df = pd.read_csv(os.path.join(obtener_ruta_app(\"AgroIA\"), \"data\", \"processed\", \"RNN\", \"rnn_produccion.csv\"),index_col='fecha', parse_dates=True, date_parser=lambda x: datetime.strptime(x, '%Y-%m-%d'))",
   "id": "338d46c11531e664",
   "outputs": [
    {
     "name": "stderr",
     "output_type": "stream",
     "text": [
      "C:\\Users\\pmari\\AppData\\Local\\Temp\\ipykernel_20856\\3625814039.py:1: FutureWarning: The argument 'date_parser' is deprecated and will be removed in a future version. Please use 'date_format' instead, or read your data in as 'object' dtype and then call 'to_datetime'.\n",
      "  df = pd.read_csv(os.path.join(obtener_ruta_app(\"AgroIA\"), \"data\", \"processed\", \"RNN\", \"rnn_produccion.csv\"),index_col='fecha', parse_dates=True, date_parser=lambda x: datetime.strptime(x, '%Y-%m-%d'))\n"
     ]
    }
   ],
   "execution_count": 3
  },
  {
   "metadata": {
    "ExecuteTime": {
     "end_time": "2025-07-17T20:09:02.885353Z",
     "start_time": "2025-07-17T20:09:02.875432Z"
    }
   },
   "cell_type": "code",
   "source": "df.dtypes",
   "id": "9de08229f1ef0aec",
   "outputs": [
    {
     "data": {
      "text/plain": [
       "produccion     float64\n",
       "lluvia         float64\n",
       "humedad        float64\n",
       "temperatura    float64\n",
       "dtype: object"
      ]
     },
     "execution_count": 4,
     "metadata": {},
     "output_type": "execute_result"
    }
   ],
   "execution_count": 4
  },
  {
   "metadata": {
    "ExecuteTime": {
     "end_time": "2025-07-17T20:09:05.882118Z",
     "start_time": "2025-07-17T20:09:05.870869Z"
    }
   },
   "cell_type": "code",
   "source": "df.head()",
   "id": "a996aa93c7a3909f",
   "outputs": [
    {
     "data": {
      "text/plain": [
       "            produccion  lluvia  humedad  temperatura\n",
       "fecha                                               \n",
       "2015-01-01       36.40  171.90    90.67        19.20\n",
       "2015-02-01       62.20  107.62    89.37        19.11\n",
       "2015-03-01      102.80   79.44    86.31        19.49\n",
       "2015-04-01       29.95  115.93    85.46        20.80\n",
       "2015-05-01        8.40  253.66    89.03        20.93"
      ],
      "text/html": [
       "<div>\n",
       "<style scoped>\n",
       "    .dataframe tbody tr th:only-of-type {\n",
       "        vertical-align: middle;\n",
       "    }\n",
       "\n",
       "    .dataframe tbody tr th {\n",
       "        vertical-align: top;\n",
       "    }\n",
       "\n",
       "    .dataframe thead th {\n",
       "        text-align: right;\n",
       "    }\n",
       "</style>\n",
       "<table border=\"1\" class=\"dataframe\">\n",
       "  <thead>\n",
       "    <tr style=\"text-align: right;\">\n",
       "      <th></th>\n",
       "      <th>produccion</th>\n",
       "      <th>lluvia</th>\n",
       "      <th>humedad</th>\n",
       "      <th>temperatura</th>\n",
       "    </tr>\n",
       "    <tr>\n",
       "      <th>fecha</th>\n",
       "      <th></th>\n",
       "      <th></th>\n",
       "      <th></th>\n",
       "      <th></th>\n",
       "    </tr>\n",
       "  </thead>\n",
       "  <tbody>\n",
       "    <tr>\n",
       "      <th>2015-01-01</th>\n",
       "      <td>36.40</td>\n",
       "      <td>171.90</td>\n",
       "      <td>90.67</td>\n",
       "      <td>19.20</td>\n",
       "    </tr>\n",
       "    <tr>\n",
       "      <th>2015-02-01</th>\n",
       "      <td>62.20</td>\n",
       "      <td>107.62</td>\n",
       "      <td>89.37</td>\n",
       "      <td>19.11</td>\n",
       "    </tr>\n",
       "    <tr>\n",
       "      <th>2015-03-01</th>\n",
       "      <td>102.80</td>\n",
       "      <td>79.44</td>\n",
       "      <td>86.31</td>\n",
       "      <td>19.49</td>\n",
       "    </tr>\n",
       "    <tr>\n",
       "      <th>2015-04-01</th>\n",
       "      <td>29.95</td>\n",
       "      <td>115.93</td>\n",
       "      <td>85.46</td>\n",
       "      <td>20.80</td>\n",
       "    </tr>\n",
       "    <tr>\n",
       "      <th>2015-05-01</th>\n",
       "      <td>8.40</td>\n",
       "      <td>253.66</td>\n",
       "      <td>89.03</td>\n",
       "      <td>20.93</td>\n",
       "    </tr>\n",
       "  </tbody>\n",
       "</table>\n",
       "</div>"
      ]
     },
     "execution_count": 5,
     "metadata": {},
     "output_type": "execute_result"
    }
   ],
   "execution_count": 5
  },
  {
   "metadata": {},
   "cell_type": "markdown",
   "source": "### Train",
   "id": "d31097137edf95ca"
  },
  {
   "metadata": {
    "ExecuteTime": {
     "end_time": "2025-07-17T20:09:09.813980Z",
     "start_time": "2025-07-17T20:09:09.806955Z"
    }
   },
   "cell_type": "code",
   "source": "len(df)",
   "id": "2e05e66d2de296a4",
   "outputs": [
    {
     "data": {
      "text/plain": [
       "126"
      ]
     },
     "execution_count": 6,
     "metadata": {},
     "output_type": "execute_result"
    }
   ],
   "execution_count": 6
  },
  {
   "metadata": {
    "ExecuteTime": {
     "end_time": "2025-07-17T20:09:11.034199Z",
     "start_time": "2025-07-17T20:09:11.028024Z"
    }
   },
   "cell_type": "code",
   "source": "tamaño_test = 18",
   "id": "6aa4aa4757e9572f",
   "outputs": [],
   "execution_count": 7
  },
  {
   "metadata": {
    "ExecuteTime": {
     "end_time": "2025-07-17T20:09:12.071878Z",
     "start_time": "2025-07-17T20:09:12.066308Z"
    }
   },
   "cell_type": "code",
   "source": "test_ind = len(df)- tamaño_test",
   "id": "5e40b3f36485b51e",
   "outputs": [],
   "execution_count": 8
  },
  {
   "metadata": {
    "ExecuteTime": {
     "end_time": "2025-07-17T20:09:12.879019Z",
     "start_time": "2025-07-17T20:09:12.872644Z"
    }
   },
   "cell_type": "code",
   "source": "test_ind",
   "id": "c220e105b9b40cc3",
   "outputs": [
    {
     "data": {
      "text/plain": [
       "108"
      ]
     },
     "execution_count": 9,
     "metadata": {},
     "output_type": "execute_result"
    }
   ],
   "execution_count": 9
  },
  {
   "metadata": {
    "ExecuteTime": {
     "end_time": "2025-07-17T20:09:14.623876Z",
     "start_time": "2025-07-17T20:09:14.618979Z"
    }
   },
   "cell_type": "code",
   "source": [
    "train = df.iloc[:test_ind]\n",
    "test = df.iloc[test_ind:]"
   ],
   "id": "e858f6f80d5eface",
   "outputs": [],
   "execution_count": 10
  },
  {
   "metadata": {
    "ExecuteTime": {
     "end_time": "2025-07-17T20:09:15.883437Z",
     "start_time": "2025-07-17T20:09:15.871858Z"
    }
   },
   "cell_type": "code",
   "source": "train",
   "id": "dbe0fc39eb7a54e2",
   "outputs": [
    {
     "data": {
      "text/plain": [
       "            produccion  lluvia  humedad  temperatura\n",
       "fecha                                               \n",
       "2015-01-01      36.400  171.90    90.67        19.20\n",
       "2015-02-01      62.200  107.62    89.37        19.11\n",
       "2015-03-01     102.800   79.44    86.31        19.49\n",
       "2015-04-01      29.950  115.93    85.46        20.80\n",
       "2015-05-01       8.400  253.66    89.03        20.93\n",
       "...                ...     ...      ...          ...\n",
       "2023-08-01     110.920  232.04    90.84        21.40\n",
       "2023-09-01      75.360  177.24    88.68        21.45\n",
       "2023-10-01     114.800  381.46    92.57        21.52\n",
       "2023-11-01     166.635  294.26    93.77        21.08\n",
       "2023-12-01      69.125  150.04    91.62        20.66\n",
       "\n",
       "[108 rows x 4 columns]"
      ],
      "text/html": [
       "<div>\n",
       "<style scoped>\n",
       "    .dataframe tbody tr th:only-of-type {\n",
       "        vertical-align: middle;\n",
       "    }\n",
       "\n",
       "    .dataframe tbody tr th {\n",
       "        vertical-align: top;\n",
       "    }\n",
       "\n",
       "    .dataframe thead th {\n",
       "        text-align: right;\n",
       "    }\n",
       "</style>\n",
       "<table border=\"1\" class=\"dataframe\">\n",
       "  <thead>\n",
       "    <tr style=\"text-align: right;\">\n",
       "      <th></th>\n",
       "      <th>produccion</th>\n",
       "      <th>lluvia</th>\n",
       "      <th>humedad</th>\n",
       "      <th>temperatura</th>\n",
       "    </tr>\n",
       "    <tr>\n",
       "      <th>fecha</th>\n",
       "      <th></th>\n",
       "      <th></th>\n",
       "      <th></th>\n",
       "      <th></th>\n",
       "    </tr>\n",
       "  </thead>\n",
       "  <tbody>\n",
       "    <tr>\n",
       "      <th>2015-01-01</th>\n",
       "      <td>36.400</td>\n",
       "      <td>171.90</td>\n",
       "      <td>90.67</td>\n",
       "      <td>19.20</td>\n",
       "    </tr>\n",
       "    <tr>\n",
       "      <th>2015-02-01</th>\n",
       "      <td>62.200</td>\n",
       "      <td>107.62</td>\n",
       "      <td>89.37</td>\n",
       "      <td>19.11</td>\n",
       "    </tr>\n",
       "    <tr>\n",
       "      <th>2015-03-01</th>\n",
       "      <td>102.800</td>\n",
       "      <td>79.44</td>\n",
       "      <td>86.31</td>\n",
       "      <td>19.49</td>\n",
       "    </tr>\n",
       "    <tr>\n",
       "      <th>2015-04-01</th>\n",
       "      <td>29.950</td>\n",
       "      <td>115.93</td>\n",
       "      <td>85.46</td>\n",
       "      <td>20.80</td>\n",
       "    </tr>\n",
       "    <tr>\n",
       "      <th>2015-05-01</th>\n",
       "      <td>8.400</td>\n",
       "      <td>253.66</td>\n",
       "      <td>89.03</td>\n",
       "      <td>20.93</td>\n",
       "    </tr>\n",
       "    <tr>\n",
       "      <th>...</th>\n",
       "      <td>...</td>\n",
       "      <td>...</td>\n",
       "      <td>...</td>\n",
       "      <td>...</td>\n",
       "    </tr>\n",
       "    <tr>\n",
       "      <th>2023-08-01</th>\n",
       "      <td>110.920</td>\n",
       "      <td>232.04</td>\n",
       "      <td>90.84</td>\n",
       "      <td>21.40</td>\n",
       "    </tr>\n",
       "    <tr>\n",
       "      <th>2023-09-01</th>\n",
       "      <td>75.360</td>\n",
       "      <td>177.24</td>\n",
       "      <td>88.68</td>\n",
       "      <td>21.45</td>\n",
       "    </tr>\n",
       "    <tr>\n",
       "      <th>2023-10-01</th>\n",
       "      <td>114.800</td>\n",
       "      <td>381.46</td>\n",
       "      <td>92.57</td>\n",
       "      <td>21.52</td>\n",
       "    </tr>\n",
       "    <tr>\n",
       "      <th>2023-11-01</th>\n",
       "      <td>166.635</td>\n",
       "      <td>294.26</td>\n",
       "      <td>93.77</td>\n",
       "      <td>21.08</td>\n",
       "    </tr>\n",
       "    <tr>\n",
       "      <th>2023-12-01</th>\n",
       "      <td>69.125</td>\n",
       "      <td>150.04</td>\n",
       "      <td>91.62</td>\n",
       "      <td>20.66</td>\n",
       "    </tr>\n",
       "  </tbody>\n",
       "</table>\n",
       "<p>108 rows × 4 columns</p>\n",
       "</div>"
      ]
     },
     "execution_count": 11,
     "metadata": {},
     "output_type": "execute_result"
    }
   ],
   "execution_count": 11
  },
  {
   "metadata": {
    "ExecuteTime": {
     "end_time": "2025-07-17T20:09:17.893593Z",
     "start_time": "2025-07-17T20:09:17.881054Z"
    }
   },
   "cell_type": "code",
   "source": "test",
   "id": "f5e4a9ac64d85734",
   "outputs": [
    {
     "data": {
      "text/plain": [
       "            produccion  lluvia  humedad  temperatura\n",
       "fecha                                               \n",
       "2024-01-01     106.498   33.88    89.62        20.49\n",
       "2024-02-01      78.050  117.35    87.47        20.06\n",
       "2024-03-01      76.300   64.52    81.79        21.74\n",
       "2024-04-01      23.240  171.48    83.24        21.64\n",
       "2024-05-01     104.370  785.07    87.56        22.37\n",
       "2024-06-01      66.010  768.48    92.91        21.82\n",
       "2024-07-01      80.115  539.28    93.10        21.36\n",
       "2024-08-01      64.680  201.52    90.32        21.32\n",
       "2024-09-01      97.391  393.40    91.03        21.56\n",
       "2024-10-01      95.424  384.18    93.06        21.15\n",
       "2024-11-01     140.679  779.73    94.04        20.64\n",
       "2024-12-01     104.860  244.65    93.15        20.12\n",
       "2025-01-01       0.530  122.30    91.29        19.89\n",
       "2025-02-01       0.530   57.69    88.61        19.99\n",
       "2025-03-01       5.640   78.32    84.79        20.68\n",
       "2025-04-01      73.339  342.60    87.64        20.78\n",
       "2025-05-01     123.480  364.74    92.25        21.60\n",
       "2025-06-01      93.072  364.74    92.25        21.60"
      ],
      "text/html": [
       "<div>\n",
       "<style scoped>\n",
       "    .dataframe tbody tr th:only-of-type {\n",
       "        vertical-align: middle;\n",
       "    }\n",
       "\n",
       "    .dataframe tbody tr th {\n",
       "        vertical-align: top;\n",
       "    }\n",
       "\n",
       "    .dataframe thead th {\n",
       "        text-align: right;\n",
       "    }\n",
       "</style>\n",
       "<table border=\"1\" class=\"dataframe\">\n",
       "  <thead>\n",
       "    <tr style=\"text-align: right;\">\n",
       "      <th></th>\n",
       "      <th>produccion</th>\n",
       "      <th>lluvia</th>\n",
       "      <th>humedad</th>\n",
       "      <th>temperatura</th>\n",
       "    </tr>\n",
       "    <tr>\n",
       "      <th>fecha</th>\n",
       "      <th></th>\n",
       "      <th></th>\n",
       "      <th></th>\n",
       "      <th></th>\n",
       "    </tr>\n",
       "  </thead>\n",
       "  <tbody>\n",
       "    <tr>\n",
       "      <th>2024-01-01</th>\n",
       "      <td>106.498</td>\n",
       "      <td>33.88</td>\n",
       "      <td>89.62</td>\n",
       "      <td>20.49</td>\n",
       "    </tr>\n",
       "    <tr>\n",
       "      <th>2024-02-01</th>\n",
       "      <td>78.050</td>\n",
       "      <td>117.35</td>\n",
       "      <td>87.47</td>\n",
       "      <td>20.06</td>\n",
       "    </tr>\n",
       "    <tr>\n",
       "      <th>2024-03-01</th>\n",
       "      <td>76.300</td>\n",
       "      <td>64.52</td>\n",
       "      <td>81.79</td>\n",
       "      <td>21.74</td>\n",
       "    </tr>\n",
       "    <tr>\n",
       "      <th>2024-04-01</th>\n",
       "      <td>23.240</td>\n",
       "      <td>171.48</td>\n",
       "      <td>83.24</td>\n",
       "      <td>21.64</td>\n",
       "    </tr>\n",
       "    <tr>\n",
       "      <th>2024-05-01</th>\n",
       "      <td>104.370</td>\n",
       "      <td>785.07</td>\n",
       "      <td>87.56</td>\n",
       "      <td>22.37</td>\n",
       "    </tr>\n",
       "    <tr>\n",
       "      <th>2024-06-01</th>\n",
       "      <td>66.010</td>\n",
       "      <td>768.48</td>\n",
       "      <td>92.91</td>\n",
       "      <td>21.82</td>\n",
       "    </tr>\n",
       "    <tr>\n",
       "      <th>2024-07-01</th>\n",
       "      <td>80.115</td>\n",
       "      <td>539.28</td>\n",
       "      <td>93.10</td>\n",
       "      <td>21.36</td>\n",
       "    </tr>\n",
       "    <tr>\n",
       "      <th>2024-08-01</th>\n",
       "      <td>64.680</td>\n",
       "      <td>201.52</td>\n",
       "      <td>90.32</td>\n",
       "      <td>21.32</td>\n",
       "    </tr>\n",
       "    <tr>\n",
       "      <th>2024-09-01</th>\n",
       "      <td>97.391</td>\n",
       "      <td>393.40</td>\n",
       "      <td>91.03</td>\n",
       "      <td>21.56</td>\n",
       "    </tr>\n",
       "    <tr>\n",
       "      <th>2024-10-01</th>\n",
       "      <td>95.424</td>\n",
       "      <td>384.18</td>\n",
       "      <td>93.06</td>\n",
       "      <td>21.15</td>\n",
       "    </tr>\n",
       "    <tr>\n",
       "      <th>2024-11-01</th>\n",
       "      <td>140.679</td>\n",
       "      <td>779.73</td>\n",
       "      <td>94.04</td>\n",
       "      <td>20.64</td>\n",
       "    </tr>\n",
       "    <tr>\n",
       "      <th>2024-12-01</th>\n",
       "      <td>104.860</td>\n",
       "      <td>244.65</td>\n",
       "      <td>93.15</td>\n",
       "      <td>20.12</td>\n",
       "    </tr>\n",
       "    <tr>\n",
       "      <th>2025-01-01</th>\n",
       "      <td>0.530</td>\n",
       "      <td>122.30</td>\n",
       "      <td>91.29</td>\n",
       "      <td>19.89</td>\n",
       "    </tr>\n",
       "    <tr>\n",
       "      <th>2025-02-01</th>\n",
       "      <td>0.530</td>\n",
       "      <td>57.69</td>\n",
       "      <td>88.61</td>\n",
       "      <td>19.99</td>\n",
       "    </tr>\n",
       "    <tr>\n",
       "      <th>2025-03-01</th>\n",
       "      <td>5.640</td>\n",
       "      <td>78.32</td>\n",
       "      <td>84.79</td>\n",
       "      <td>20.68</td>\n",
       "    </tr>\n",
       "    <tr>\n",
       "      <th>2025-04-01</th>\n",
       "      <td>73.339</td>\n",
       "      <td>342.60</td>\n",
       "      <td>87.64</td>\n",
       "      <td>20.78</td>\n",
       "    </tr>\n",
       "    <tr>\n",
       "      <th>2025-05-01</th>\n",
       "      <td>123.480</td>\n",
       "      <td>364.74</td>\n",
       "      <td>92.25</td>\n",
       "      <td>21.60</td>\n",
       "    </tr>\n",
       "    <tr>\n",
       "      <th>2025-06-01</th>\n",
       "      <td>93.072</td>\n",
       "      <td>364.74</td>\n",
       "      <td>92.25</td>\n",
       "      <td>21.60</td>\n",
       "    </tr>\n",
       "  </tbody>\n",
       "</table>\n",
       "</div>"
      ]
     },
     "execution_count": 12,
     "metadata": {},
     "output_type": "execute_result"
    }
   ],
   "execution_count": 12
  },
  {
   "metadata": {},
   "cell_type": "markdown",
   "source": "### Escalado",
   "id": "e983684344939abc"
  },
  {
   "metadata": {
    "ExecuteTime": {
     "end_time": "2025-07-17T20:09:22.254857Z",
     "start_time": "2025-07-17T20:09:20.667047Z"
    }
   },
   "cell_type": "code",
   "source": [
    "from sklearn.preprocessing import MinMaxScaler\n",
    "scaler = MinMaxScaler()\n",
    "# Solo utilizamos train data para el ajuste del escalado, sino estaríamos asumiendo información acerca del conjunto de test\n",
    "scaler.fit(train)"
   ],
   "id": "5511bb1f23c4cc0a",
   "outputs": [
    {
     "data": {
      "text/plain": [
       "MinMaxScaler()"
      ],
      "text/html": [
       "<style>#sk-container-id-1 {\n",
       "  /* Definition of color scheme common for light and dark mode */\n",
       "  --sklearn-color-text: #000;\n",
       "  --sklearn-color-text-muted: #666;\n",
       "  --sklearn-color-line: gray;\n",
       "  /* Definition of color scheme for unfitted estimators */\n",
       "  --sklearn-color-unfitted-level-0: #fff5e6;\n",
       "  --sklearn-color-unfitted-level-1: #f6e4d2;\n",
       "  --sklearn-color-unfitted-level-2: #ffe0b3;\n",
       "  --sklearn-color-unfitted-level-3: chocolate;\n",
       "  /* Definition of color scheme for fitted estimators */\n",
       "  --sklearn-color-fitted-level-0: #f0f8ff;\n",
       "  --sklearn-color-fitted-level-1: #d4ebff;\n",
       "  --sklearn-color-fitted-level-2: #b3dbfd;\n",
       "  --sklearn-color-fitted-level-3: cornflowerblue;\n",
       "\n",
       "  /* Specific color for light theme */\n",
       "  --sklearn-color-text-on-default-background: var(--sg-text-color, var(--theme-code-foreground, var(--jp-content-font-color1, black)));\n",
       "  --sklearn-color-background: var(--sg-background-color, var(--theme-background, var(--jp-layout-color0, white)));\n",
       "  --sklearn-color-border-box: var(--sg-text-color, var(--theme-code-foreground, var(--jp-content-font-color1, black)));\n",
       "  --sklearn-color-icon: #696969;\n",
       "\n",
       "  @media (prefers-color-scheme: dark) {\n",
       "    /* Redefinition of color scheme for dark theme */\n",
       "    --sklearn-color-text-on-default-background: var(--sg-text-color, var(--theme-code-foreground, var(--jp-content-font-color1, white)));\n",
       "    --sklearn-color-background: var(--sg-background-color, var(--theme-background, var(--jp-layout-color0, #111)));\n",
       "    --sklearn-color-border-box: var(--sg-text-color, var(--theme-code-foreground, var(--jp-content-font-color1, white)));\n",
       "    --sklearn-color-icon: #878787;\n",
       "  }\n",
       "}\n",
       "\n",
       "#sk-container-id-1 {\n",
       "  color: var(--sklearn-color-text);\n",
       "}\n",
       "\n",
       "#sk-container-id-1 pre {\n",
       "  padding: 0;\n",
       "}\n",
       "\n",
       "#sk-container-id-1 input.sk-hidden--visually {\n",
       "  border: 0;\n",
       "  clip: rect(1px 1px 1px 1px);\n",
       "  clip: rect(1px, 1px, 1px, 1px);\n",
       "  height: 1px;\n",
       "  margin: -1px;\n",
       "  overflow: hidden;\n",
       "  padding: 0;\n",
       "  position: absolute;\n",
       "  width: 1px;\n",
       "}\n",
       "\n",
       "#sk-container-id-1 div.sk-dashed-wrapped {\n",
       "  border: 1px dashed var(--sklearn-color-line);\n",
       "  margin: 0 0.4em 0.5em 0.4em;\n",
       "  box-sizing: border-box;\n",
       "  padding-bottom: 0.4em;\n",
       "  background-color: var(--sklearn-color-background);\n",
       "}\n",
       "\n",
       "#sk-container-id-1 div.sk-container {\n",
       "  /* jupyter's `normalize.less` sets `[hidden] { display: none; }`\n",
       "     but bootstrap.min.css set `[hidden] { display: none !important; }`\n",
       "     so we also need the `!important` here to be able to override the\n",
       "     default hidden behavior on the sphinx rendered scikit-learn.org.\n",
       "     See: https://github.com/scikit-learn/scikit-learn/issues/21755 */\n",
       "  display: inline-block !important;\n",
       "  position: relative;\n",
       "}\n",
       "\n",
       "#sk-container-id-1 div.sk-text-repr-fallback {\n",
       "  display: none;\n",
       "}\n",
       "\n",
       "div.sk-parallel-item,\n",
       "div.sk-serial,\n",
       "div.sk-item {\n",
       "  /* draw centered vertical line to link estimators */\n",
       "  background-image: linear-gradient(var(--sklearn-color-text-on-default-background), var(--sklearn-color-text-on-default-background));\n",
       "  background-size: 2px 100%;\n",
       "  background-repeat: no-repeat;\n",
       "  background-position: center center;\n",
       "}\n",
       "\n",
       "/* Parallel-specific style estimator block */\n",
       "\n",
       "#sk-container-id-1 div.sk-parallel-item::after {\n",
       "  content: \"\";\n",
       "  width: 100%;\n",
       "  border-bottom: 2px solid var(--sklearn-color-text-on-default-background);\n",
       "  flex-grow: 1;\n",
       "}\n",
       "\n",
       "#sk-container-id-1 div.sk-parallel {\n",
       "  display: flex;\n",
       "  align-items: stretch;\n",
       "  justify-content: center;\n",
       "  background-color: var(--sklearn-color-background);\n",
       "  position: relative;\n",
       "}\n",
       "\n",
       "#sk-container-id-1 div.sk-parallel-item {\n",
       "  display: flex;\n",
       "  flex-direction: column;\n",
       "}\n",
       "\n",
       "#sk-container-id-1 div.sk-parallel-item:first-child::after {\n",
       "  align-self: flex-end;\n",
       "  width: 50%;\n",
       "}\n",
       "\n",
       "#sk-container-id-1 div.sk-parallel-item:last-child::after {\n",
       "  align-self: flex-start;\n",
       "  width: 50%;\n",
       "}\n",
       "\n",
       "#sk-container-id-1 div.sk-parallel-item:only-child::after {\n",
       "  width: 0;\n",
       "}\n",
       "\n",
       "/* Serial-specific style estimator block */\n",
       "\n",
       "#sk-container-id-1 div.sk-serial {\n",
       "  display: flex;\n",
       "  flex-direction: column;\n",
       "  align-items: center;\n",
       "  background-color: var(--sklearn-color-background);\n",
       "  padding-right: 1em;\n",
       "  padding-left: 1em;\n",
       "}\n",
       "\n",
       "\n",
       "/* Toggleable style: style used for estimator/Pipeline/ColumnTransformer box that is\n",
       "clickable and can be expanded/collapsed.\n",
       "- Pipeline and ColumnTransformer use this feature and define the default style\n",
       "- Estimators will overwrite some part of the style using the `sk-estimator` class\n",
       "*/\n",
       "\n",
       "/* Pipeline and ColumnTransformer style (default) */\n",
       "\n",
       "#sk-container-id-1 div.sk-toggleable {\n",
       "  /* Default theme specific background. It is overwritten whether we have a\n",
       "  specific estimator or a Pipeline/ColumnTransformer */\n",
       "  background-color: var(--sklearn-color-background);\n",
       "}\n",
       "\n",
       "/* Toggleable label */\n",
       "#sk-container-id-1 label.sk-toggleable__label {\n",
       "  cursor: pointer;\n",
       "  display: flex;\n",
       "  width: 100%;\n",
       "  margin-bottom: 0;\n",
       "  padding: 0.5em;\n",
       "  box-sizing: border-box;\n",
       "  text-align: center;\n",
       "  align-items: start;\n",
       "  justify-content: space-between;\n",
       "  gap: 0.5em;\n",
       "}\n",
       "\n",
       "#sk-container-id-1 label.sk-toggleable__label .caption {\n",
       "  font-size: 0.6rem;\n",
       "  font-weight: lighter;\n",
       "  color: var(--sklearn-color-text-muted);\n",
       "}\n",
       "\n",
       "#sk-container-id-1 label.sk-toggleable__label-arrow:before {\n",
       "  /* Arrow on the left of the label */\n",
       "  content: \"▸\";\n",
       "  float: left;\n",
       "  margin-right: 0.25em;\n",
       "  color: var(--sklearn-color-icon);\n",
       "}\n",
       "\n",
       "#sk-container-id-1 label.sk-toggleable__label-arrow:hover:before {\n",
       "  color: var(--sklearn-color-text);\n",
       "}\n",
       "\n",
       "/* Toggleable content - dropdown */\n",
       "\n",
       "#sk-container-id-1 div.sk-toggleable__content {\n",
       "  display: none;\n",
       "  text-align: left;\n",
       "  /* unfitted */\n",
       "  background-color: var(--sklearn-color-unfitted-level-0);\n",
       "}\n",
       "\n",
       "#sk-container-id-1 div.sk-toggleable__content.fitted {\n",
       "  /* fitted */\n",
       "  background-color: var(--sklearn-color-fitted-level-0);\n",
       "}\n",
       "\n",
       "#sk-container-id-1 div.sk-toggleable__content pre {\n",
       "  margin: 0.2em;\n",
       "  border-radius: 0.25em;\n",
       "  color: var(--sklearn-color-text);\n",
       "  /* unfitted */\n",
       "  background-color: var(--sklearn-color-unfitted-level-0);\n",
       "}\n",
       "\n",
       "#sk-container-id-1 div.sk-toggleable__content.fitted pre {\n",
       "  /* unfitted */\n",
       "  background-color: var(--sklearn-color-fitted-level-0);\n",
       "}\n",
       "\n",
       "#sk-container-id-1 input.sk-toggleable__control:checked~div.sk-toggleable__content {\n",
       "  /* Expand drop-down */\n",
       "  display: block;\n",
       "  width: 100%;\n",
       "  overflow: visible;\n",
       "}\n",
       "\n",
       "#sk-container-id-1 input.sk-toggleable__control:checked~label.sk-toggleable__label-arrow:before {\n",
       "  content: \"▾\";\n",
       "}\n",
       "\n",
       "/* Pipeline/ColumnTransformer-specific style */\n",
       "\n",
       "#sk-container-id-1 div.sk-label input.sk-toggleable__control:checked~label.sk-toggleable__label {\n",
       "  color: var(--sklearn-color-text);\n",
       "  background-color: var(--sklearn-color-unfitted-level-2);\n",
       "}\n",
       "\n",
       "#sk-container-id-1 div.sk-label.fitted input.sk-toggleable__control:checked~label.sk-toggleable__label {\n",
       "  background-color: var(--sklearn-color-fitted-level-2);\n",
       "}\n",
       "\n",
       "/* Estimator-specific style */\n",
       "\n",
       "/* Colorize estimator box */\n",
       "#sk-container-id-1 div.sk-estimator input.sk-toggleable__control:checked~label.sk-toggleable__label {\n",
       "  /* unfitted */\n",
       "  background-color: var(--sklearn-color-unfitted-level-2);\n",
       "}\n",
       "\n",
       "#sk-container-id-1 div.sk-estimator.fitted input.sk-toggleable__control:checked~label.sk-toggleable__label {\n",
       "  /* fitted */\n",
       "  background-color: var(--sklearn-color-fitted-level-2);\n",
       "}\n",
       "\n",
       "#sk-container-id-1 div.sk-label label.sk-toggleable__label,\n",
       "#sk-container-id-1 div.sk-label label {\n",
       "  /* The background is the default theme color */\n",
       "  color: var(--sklearn-color-text-on-default-background);\n",
       "}\n",
       "\n",
       "/* On hover, darken the color of the background */\n",
       "#sk-container-id-1 div.sk-label:hover label.sk-toggleable__label {\n",
       "  color: var(--sklearn-color-text);\n",
       "  background-color: var(--sklearn-color-unfitted-level-2);\n",
       "}\n",
       "\n",
       "/* Label box, darken color on hover, fitted */\n",
       "#sk-container-id-1 div.sk-label.fitted:hover label.sk-toggleable__label.fitted {\n",
       "  color: var(--sklearn-color-text);\n",
       "  background-color: var(--sklearn-color-fitted-level-2);\n",
       "}\n",
       "\n",
       "/* Estimator label */\n",
       "\n",
       "#sk-container-id-1 div.sk-label label {\n",
       "  font-family: monospace;\n",
       "  font-weight: bold;\n",
       "  display: inline-block;\n",
       "  line-height: 1.2em;\n",
       "}\n",
       "\n",
       "#sk-container-id-1 div.sk-label-container {\n",
       "  text-align: center;\n",
       "}\n",
       "\n",
       "/* Estimator-specific */\n",
       "#sk-container-id-1 div.sk-estimator {\n",
       "  font-family: monospace;\n",
       "  border: 1px dotted var(--sklearn-color-border-box);\n",
       "  border-radius: 0.25em;\n",
       "  box-sizing: border-box;\n",
       "  margin-bottom: 0.5em;\n",
       "  /* unfitted */\n",
       "  background-color: var(--sklearn-color-unfitted-level-0);\n",
       "}\n",
       "\n",
       "#sk-container-id-1 div.sk-estimator.fitted {\n",
       "  /* fitted */\n",
       "  background-color: var(--sklearn-color-fitted-level-0);\n",
       "}\n",
       "\n",
       "/* on hover */\n",
       "#sk-container-id-1 div.sk-estimator:hover {\n",
       "  /* unfitted */\n",
       "  background-color: var(--sklearn-color-unfitted-level-2);\n",
       "}\n",
       "\n",
       "#sk-container-id-1 div.sk-estimator.fitted:hover {\n",
       "  /* fitted */\n",
       "  background-color: var(--sklearn-color-fitted-level-2);\n",
       "}\n",
       "\n",
       "/* Specification for estimator info (e.g. \"i\" and \"?\") */\n",
       "\n",
       "/* Common style for \"i\" and \"?\" */\n",
       "\n",
       ".sk-estimator-doc-link,\n",
       "a:link.sk-estimator-doc-link,\n",
       "a:visited.sk-estimator-doc-link {\n",
       "  float: right;\n",
       "  font-size: smaller;\n",
       "  line-height: 1em;\n",
       "  font-family: monospace;\n",
       "  background-color: var(--sklearn-color-background);\n",
       "  border-radius: 1em;\n",
       "  height: 1em;\n",
       "  width: 1em;\n",
       "  text-decoration: none !important;\n",
       "  margin-left: 0.5em;\n",
       "  text-align: center;\n",
       "  /* unfitted */\n",
       "  border: var(--sklearn-color-unfitted-level-1) 1pt solid;\n",
       "  color: var(--sklearn-color-unfitted-level-1);\n",
       "}\n",
       "\n",
       ".sk-estimator-doc-link.fitted,\n",
       "a:link.sk-estimator-doc-link.fitted,\n",
       "a:visited.sk-estimator-doc-link.fitted {\n",
       "  /* fitted */\n",
       "  border: var(--sklearn-color-fitted-level-1) 1pt solid;\n",
       "  color: var(--sklearn-color-fitted-level-1);\n",
       "}\n",
       "\n",
       "/* On hover */\n",
       "div.sk-estimator:hover .sk-estimator-doc-link:hover,\n",
       ".sk-estimator-doc-link:hover,\n",
       "div.sk-label-container:hover .sk-estimator-doc-link:hover,\n",
       ".sk-estimator-doc-link:hover {\n",
       "  /* unfitted */\n",
       "  background-color: var(--sklearn-color-unfitted-level-3);\n",
       "  color: var(--sklearn-color-background);\n",
       "  text-decoration: none;\n",
       "}\n",
       "\n",
       "div.sk-estimator.fitted:hover .sk-estimator-doc-link.fitted:hover,\n",
       ".sk-estimator-doc-link.fitted:hover,\n",
       "div.sk-label-container:hover .sk-estimator-doc-link.fitted:hover,\n",
       ".sk-estimator-doc-link.fitted:hover {\n",
       "  /* fitted */\n",
       "  background-color: var(--sklearn-color-fitted-level-3);\n",
       "  color: var(--sklearn-color-background);\n",
       "  text-decoration: none;\n",
       "}\n",
       "\n",
       "/* Span, style for the box shown on hovering the info icon */\n",
       ".sk-estimator-doc-link span {\n",
       "  display: none;\n",
       "  z-index: 9999;\n",
       "  position: relative;\n",
       "  font-weight: normal;\n",
       "  right: .2ex;\n",
       "  padding: .5ex;\n",
       "  margin: .5ex;\n",
       "  width: min-content;\n",
       "  min-width: 20ex;\n",
       "  max-width: 50ex;\n",
       "  color: var(--sklearn-color-text);\n",
       "  box-shadow: 2pt 2pt 4pt #999;\n",
       "  /* unfitted */\n",
       "  background: var(--sklearn-color-unfitted-level-0);\n",
       "  border: .5pt solid var(--sklearn-color-unfitted-level-3);\n",
       "}\n",
       "\n",
       ".sk-estimator-doc-link.fitted span {\n",
       "  /* fitted */\n",
       "  background: var(--sklearn-color-fitted-level-0);\n",
       "  border: var(--sklearn-color-fitted-level-3);\n",
       "}\n",
       "\n",
       ".sk-estimator-doc-link:hover span {\n",
       "  display: block;\n",
       "}\n",
       "\n",
       "/* \"?\"-specific style due to the `<a>` HTML tag */\n",
       "\n",
       "#sk-container-id-1 a.estimator_doc_link {\n",
       "  float: right;\n",
       "  font-size: 1rem;\n",
       "  line-height: 1em;\n",
       "  font-family: monospace;\n",
       "  background-color: var(--sklearn-color-background);\n",
       "  border-radius: 1rem;\n",
       "  height: 1rem;\n",
       "  width: 1rem;\n",
       "  text-decoration: none;\n",
       "  /* unfitted */\n",
       "  color: var(--sklearn-color-unfitted-level-1);\n",
       "  border: var(--sklearn-color-unfitted-level-1) 1pt solid;\n",
       "}\n",
       "\n",
       "#sk-container-id-1 a.estimator_doc_link.fitted {\n",
       "  /* fitted */\n",
       "  border: var(--sklearn-color-fitted-level-1) 1pt solid;\n",
       "  color: var(--sklearn-color-fitted-level-1);\n",
       "}\n",
       "\n",
       "/* On hover */\n",
       "#sk-container-id-1 a.estimator_doc_link:hover {\n",
       "  /* unfitted */\n",
       "  background-color: var(--sklearn-color-unfitted-level-3);\n",
       "  color: var(--sklearn-color-background);\n",
       "  text-decoration: none;\n",
       "}\n",
       "\n",
       "#sk-container-id-1 a.estimator_doc_link.fitted:hover {\n",
       "  /* fitted */\n",
       "  background-color: var(--sklearn-color-fitted-level-3);\n",
       "}\n",
       "\n",
       ".estimator-table summary {\n",
       "    padding: .5rem;\n",
       "    font-family: monospace;\n",
       "    cursor: pointer;\n",
       "}\n",
       "\n",
       ".estimator-table details[open] {\n",
       "    padding-left: 0.1rem;\n",
       "    padding-right: 0.1rem;\n",
       "    padding-bottom: 0.3rem;\n",
       "}\n",
       "\n",
       ".estimator-table .parameters-table {\n",
       "    margin-left: auto !important;\n",
       "    margin-right: auto !important;\n",
       "}\n",
       "\n",
       ".estimator-table .parameters-table tr:nth-child(odd) {\n",
       "    background-color: #fff;\n",
       "}\n",
       "\n",
       ".estimator-table .parameters-table tr:nth-child(even) {\n",
       "    background-color: #f6f6f6;\n",
       "}\n",
       "\n",
       ".estimator-table .parameters-table tr:hover {\n",
       "    background-color: #e0e0e0;\n",
       "}\n",
       "\n",
       ".estimator-table table td {\n",
       "    border: 1px solid rgba(106, 105, 104, 0.232);\n",
       "}\n",
       "\n",
       ".user-set td {\n",
       "    color:rgb(255, 94, 0);\n",
       "    text-align: left;\n",
       "}\n",
       "\n",
       ".user-set td.value pre {\n",
       "    color:rgb(255, 94, 0) !important;\n",
       "    background-color: transparent !important;\n",
       "}\n",
       "\n",
       ".default td {\n",
       "    color: black;\n",
       "    text-align: left;\n",
       "}\n",
       "\n",
       ".user-set td i,\n",
       ".default td i {\n",
       "    color: black;\n",
       "}\n",
       "\n",
       ".copy-paste-icon {\n",
       "    background-image: url(data:image/svg+xml;base64,PHN2ZyB4bWxucz0iaHR0cDovL3d3dy53My5vcmcvMjAwMC9zdmciIHZpZXdCb3g9IjAgMCA0NDggNTEyIj48IS0tIUZvbnQgQXdlc29tZSBGcmVlIDYuNy4yIGJ5IEBmb250YXdlc29tZSAtIGh0dHBzOi8vZm9udGF3ZXNvbWUuY29tIExpY2Vuc2UgLSBodHRwczovL2ZvbnRhd2Vzb21lLmNvbS9saWNlbnNlL2ZyZWUgQ29weXJpZ2h0IDIwMjUgRm9udGljb25zLCBJbmMuLS0+PHBhdGggZD0iTTIwOCAwTDMzMi4xIDBjMTIuNyAwIDI0LjkgNS4xIDMzLjkgMTQuMWw2Ny45IDY3LjljOSA5IDE0LjEgMjEuMiAxNC4xIDMzLjlMNDQ4IDMzNmMwIDI2LjUtMjEuNSA0OC00OCA0OGwtMTkyIDBjLTI2LjUgMC00OC0yMS41LTQ4LTQ4bDAtMjg4YzAtMjYuNSAyMS41LTQ4IDQ4LTQ4ek00OCAxMjhsODAgMCAwIDY0LTY0IDAgMCAyNTYgMTkyIDAgMC0zMiA2NCAwIDAgNDhjMCAyNi41LTIxLjUgNDgtNDggNDhMNDggNTEyYy0yNi41IDAtNDgtMjEuNS00OC00OEwwIDE3NmMwLTI2LjUgMjEuNS00OCA0OC00OHoiLz48L3N2Zz4=);\n",
       "    background-repeat: no-repeat;\n",
       "    background-size: 14px 14px;\n",
       "    background-position: 0;\n",
       "    display: inline-block;\n",
       "    width: 14px;\n",
       "    height: 14px;\n",
       "    cursor: pointer;\n",
       "}\n",
       "</style><body><div id=\"sk-container-id-1\" class=\"sk-top-container\"><div class=\"sk-text-repr-fallback\"><pre>MinMaxScaler()</pre><b>In a Jupyter environment, please rerun this cell to show the HTML representation or trust the notebook. <br />On GitHub, the HTML representation is unable to render, please try loading this page with nbviewer.org.</b></div><div class=\"sk-container\" hidden><div class=\"sk-item\"><div class=\"sk-estimator fitted sk-toggleable\"><input class=\"sk-toggleable__control sk-hidden--visually\" id=\"sk-estimator-id-1\" type=\"checkbox\" checked><label for=\"sk-estimator-id-1\" class=\"sk-toggleable__label fitted sk-toggleable__label-arrow\"><div><div>MinMaxScaler</div></div><div><a class=\"sk-estimator-doc-link fitted\" rel=\"noreferrer\" target=\"_blank\" href=\"https://scikit-learn.org/1.7/modules/generated/sklearn.preprocessing.MinMaxScaler.html\">?<span>Documentation for MinMaxScaler</span></a><span class=\"sk-estimator-doc-link fitted\">i<span>Fitted</span></span></div></label><div class=\"sk-toggleable__content fitted\" data-param-prefix=\"\">\n",
       "        <div class=\"estimator-table\">\n",
       "            <details>\n",
       "                <summary>Parameters</summary>\n",
       "                <table class=\"parameters-table\">\n",
       "                  <tbody>\n",
       "                    \n",
       "        <tr class=\"default\">\n",
       "            <td><i class=\"copy-paste-icon\"\n",
       "                 onclick=\"copyToClipboard('feature_range',\n",
       "                          this.parentElement.nextElementSibling)\"\n",
       "            ></i></td>\n",
       "            <td class=\"param\">feature_range&nbsp;</td>\n",
       "            <td class=\"value\">(0, ...)</td>\n",
       "        </tr>\n",
       "    \n",
       "\n",
       "        <tr class=\"default\">\n",
       "            <td><i class=\"copy-paste-icon\"\n",
       "                 onclick=\"copyToClipboard('copy',\n",
       "                          this.parentElement.nextElementSibling)\"\n",
       "            ></i></td>\n",
       "            <td class=\"param\">copy&nbsp;</td>\n",
       "            <td class=\"value\">True</td>\n",
       "        </tr>\n",
       "    \n",
       "\n",
       "        <tr class=\"default\">\n",
       "            <td><i class=\"copy-paste-icon\"\n",
       "                 onclick=\"copyToClipboard('clip',\n",
       "                          this.parentElement.nextElementSibling)\"\n",
       "            ></i></td>\n",
       "            <td class=\"param\">clip&nbsp;</td>\n",
       "            <td class=\"value\">False</td>\n",
       "        </tr>\n",
       "    \n",
       "                  </tbody>\n",
       "                </table>\n",
       "            </details>\n",
       "        </div>\n",
       "    </div></div></div></div></div><script>function copyToClipboard(text, element) {\n",
       "    // Get the parameter prefix from the closest toggleable content\n",
       "    const toggleableContent = element.closest('.sk-toggleable__content');\n",
       "    const paramPrefix = toggleableContent ? toggleableContent.dataset.paramPrefix : '';\n",
       "    const fullParamName = paramPrefix ? `${paramPrefix}${text}` : text;\n",
       "\n",
       "    const originalStyle = element.style;\n",
       "    const computedStyle = window.getComputedStyle(element);\n",
       "    const originalWidth = computedStyle.width;\n",
       "    const originalHTML = element.innerHTML.replace('Copied!', '');\n",
       "\n",
       "    navigator.clipboard.writeText(fullParamName)\n",
       "        .then(() => {\n",
       "            element.style.width = originalWidth;\n",
       "            element.style.color = 'green';\n",
       "            element.innerHTML = \"Copied!\";\n",
       "\n",
       "            setTimeout(() => {\n",
       "                element.innerHTML = originalHTML;\n",
       "                element.style = originalStyle;\n",
       "            }, 2000);\n",
       "        })\n",
       "        .catch(err => {\n",
       "            console.error('Failed to copy:', err);\n",
       "            element.style.color = 'red';\n",
       "            element.innerHTML = \"Failed!\";\n",
       "            setTimeout(() => {\n",
       "                element.innerHTML = originalHTML;\n",
       "                element.style = originalStyle;\n",
       "            }, 2000);\n",
       "        });\n",
       "    return false;\n",
       "}\n",
       "\n",
       "document.querySelectorAll('.fa-regular.fa-copy').forEach(function(element) {\n",
       "    const toggleableContent = element.closest('.sk-toggleable__content');\n",
       "    const paramPrefix = toggleableContent ? toggleableContent.dataset.paramPrefix : '';\n",
       "    const paramName = element.parentElement.nextElementSibling.textContent.trim();\n",
       "    const fullParamName = paramPrefix ? `${paramPrefix}${paramName}` : paramName;\n",
       "\n",
       "    element.setAttribute('title', fullParamName);\n",
       "});\n",
       "</script></body>"
      ]
     },
     "execution_count": 13,
     "metadata": {},
     "output_type": "execute_result"
    }
   ],
   "execution_count": 13
  },
  {
   "metadata": {
    "ExecuteTime": {
     "end_time": "2025-07-17T20:09:24.261759Z",
     "start_time": "2025-07-17T20:09:24.254641Z"
    }
   },
   "cell_type": "code",
   "source": [
    "scaled_train = scaler.transform(train)\n",
    "scaled_test = scaler.transform(test)"
   ],
   "id": "46eaf1b6c6431b30",
   "outputs": [],
   "execution_count": 14
  },
  {
   "metadata": {},
   "cell_type": "markdown",
   "source": "### Creación Generador Serie Temporal",
   "id": "6e97326b71f0dbe4"
  },
  {
   "metadata": {
    "ExecuteTime": {
     "end_time": "2025-07-17T20:09:32.562714Z",
     "start_time": "2025-07-17T20:09:25.947840Z"
    }
   },
   "cell_type": "code",
   "source": "from tensorflow.keras.preprocessing.sequence import TimeseriesGenerator\n",
   "id": "f0cc13322d6c05c9",
   "outputs": [],
   "execution_count": 15
  },
  {
   "metadata": {
    "ExecuteTime": {
     "end_time": "2025-07-17T20:09:40.822648Z",
     "start_time": "2025-07-17T20:09:40.816463Z"
    }
   },
   "cell_type": "code",
   "source": [
    "longitud = 12\n",
    "tamaño_batch = 1\n",
    "generador = TimeseriesGenerator(data=scaled_train, targets=scaled_train, length=longitud, batch_size=tamaño_batch)\n",
    "X, y = generador[0]"
   ],
   "id": "388a01c4fbd561b3",
   "outputs": [],
   "execution_count": 16
  },
  {
   "metadata": {
    "ExecuteTime": {
     "end_time": "2025-07-17T20:09:45.910976Z",
     "start_time": "2025-07-17T20:09:45.904543Z"
    }
   },
   "cell_type": "code",
   "source": [
    "print(f'Dado el array de entrada: \\n{X.flatten()}')\n",
    "print(f'Predecimos: \\n {y}')"
   ],
   "id": "7d7d1e57e787de43",
   "outputs": [
    {
     "name": "stdout",
     "output_type": "stream",
     "text": [
      "Dado el array de entrada: \n",
      "[0.21348552 0.27221493 0.76550681 0.13017751 0.36929674 0.15497556\n",
      " 0.66717095 0.1035503  0.61448803 0.10357846 0.43570348 0.21597633\n",
      " 0.17453272 0.17013205 0.37140696 0.6035503  0.04438808 0.42133581\n",
      " 0.64145234 0.64201183 0.04016064 0.44891296 0.89939486 0.75147929\n",
      " 0.10462904 0.40692712 0.88653555 0.53550296 0.36144578 0.26417159\n",
      " 0.76248109 0.62130178 0.61388411 0.45394689 0.86686838 0.6183432\n",
      " 0.55953136 0.49033341 0.81618759 0.70414201 0.3395537  0.43435836\n",
      " 0.91981846 0.53550296 0.31578947 0.19535639 0.81013616 0.57988166]\n",
      "Predecimos: \n",
      " [[0.32400278 0.08285912 0.62027231 0.26923077]]\n"
     ]
    }
   ],
   "execution_count": 17
  },
  {
   "metadata": {},
   "cell_type": "markdown",
   "source": "### Creación del Modelo",
   "id": "fae58f4343bddb63"
  },
  {
   "metadata": {
    "ExecuteTime": {
     "end_time": "2025-07-17T20:09:48.721232Z",
     "start_time": "2025-07-17T20:09:48.712198Z"
    }
   },
   "cell_type": "code",
   "source": [
    "from tensorflow.keras.models import Sequential\n",
    "from tensorflow.keras.layers import Dense\n",
    "from tensorflow.keras.layers import LSTM"
   ],
   "id": "f5441b6868da3795",
   "outputs": [],
   "execution_count": 18
  },
  {
   "metadata": {
    "ExecuteTime": {
     "end_time": "2025-07-17T20:09:50.219387Z",
     "start_time": "2025-07-17T20:09:50.212609Z"
    }
   },
   "cell_type": "code",
   "source": [
    "\n",
    "n_variables = scaled_train.shape[1] #Si hubiera múltiples variables cogeríamos el número de columnas: scaled_train.shape[1]\n",
    "n_variables"
   ],
   "id": "3fd8f28109c654ce",
   "outputs": [
    {
     "data": {
      "text/plain": [
       "4"
      ]
     },
     "execution_count": 19,
     "metadata": {},
     "output_type": "execute_result"
    }
   ],
   "execution_count": 19
  },
  {
   "metadata": {
    "ExecuteTime": {
     "end_time": "2025-07-17T20:09:52.125623Z",
     "start_time": "2025-07-17T20:09:52.014542Z"
    }
   },
   "cell_type": "code",
   "source": [
    "# Definir modelo\n",
    "model = Sequential()\n",
    "model.add(LSTM(126, activation='relu', input_shape=(longitud, n_variables))) # Podemos aumentar el número de neuronas LSTM para intentar conseguir mayor precisión\n",
    "model.add(Dense(n_variables)) #Solo 1 variable de salida, si hubiera múltiples variables indicaríamos tantas neuronas como variables\n",
    "model.compile(optimizer='adam', loss='mse')"
   ],
   "id": "774339e3d580ab04",
   "outputs": [
    {
     "name": "stderr",
     "output_type": "stream",
     "text": [
      "C:\\Users\\pmari\\OneDrive\\Para Revisar\\Documentos\\GitKraken\\AgroIAPrincipal\\AgroIA\\.venv\\Lib\\site-packages\\keras\\src\\layers\\rnn\\rnn.py:199: UserWarning: Do not pass an `input_shape`/`input_dim` argument to a layer. When using Sequential models, prefer using an `Input(shape)` object as the first layer in the model instead.\n",
      "  super().__init__(**kwargs)\n"
     ]
    }
   ],
   "execution_count": 20
  },
  {
   "metadata": {
    "ExecuteTime": {
     "end_time": "2025-07-17T20:09:55.459597Z",
     "start_time": "2025-07-17T20:09:55.430590Z"
    }
   },
   "cell_type": "code",
   "source": "model.summary()",
   "id": "a62972f38ff025fc",
   "outputs": [
    {
     "data": {
      "text/plain": [
       "\u001B[1mModel: \"sequential\"\u001B[0m\n"
      ],
      "text/html": [
       "<pre style=\"white-space:pre;overflow-x:auto;line-height:normal;font-family:Menlo,'DejaVu Sans Mono',consolas,'Courier New',monospace\"><span style=\"font-weight: bold\">Model: \"sequential\"</span>\n",
       "</pre>\n"
      ]
     },
     "metadata": {},
     "output_type": "display_data"
    },
    {
     "data": {
      "text/plain": [
       "┏━━━━━━━━━━━━━━━━━━━━━━━━━━━━━━━━━┳━━━━━━━━━━━━━━━━━━━━━━━━┳━━━━━━━━━━━━━━━┓\n",
       "┃\u001B[1m \u001B[0m\u001B[1mLayer (type)                   \u001B[0m\u001B[1m \u001B[0m┃\u001B[1m \u001B[0m\u001B[1mOutput Shape          \u001B[0m\u001B[1m \u001B[0m┃\u001B[1m \u001B[0m\u001B[1m      Param #\u001B[0m\u001B[1m \u001B[0m┃\n",
       "┡━━━━━━━━━━━━━━━━━━━━━━━━━━━━━━━━━╇━━━━━━━━━━━━━━━━━━━━━━━━╇━━━━━━━━━━━━━━━┩\n",
       "│ lstm (\u001B[38;5;33mLSTM\u001B[0m)                     │ (\u001B[38;5;45mNone\u001B[0m, \u001B[38;5;34m126\u001B[0m)            │        \u001B[38;5;34m66,024\u001B[0m │\n",
       "├─────────────────────────────────┼────────────────────────┼───────────────┤\n",
       "│ dense (\u001B[38;5;33mDense\u001B[0m)                   │ (\u001B[38;5;45mNone\u001B[0m, \u001B[38;5;34m4\u001B[0m)              │           \u001B[38;5;34m508\u001B[0m │\n",
       "└─────────────────────────────────┴────────────────────────┴───────────────┘\n"
      ],
      "text/html": [
       "<pre style=\"white-space:pre;overflow-x:auto;line-height:normal;font-family:Menlo,'DejaVu Sans Mono',consolas,'Courier New',monospace\">┏━━━━━━━━━━━━━━━━━━━━━━━━━━━━━━━━━┳━━━━━━━━━━━━━━━━━━━━━━━━┳━━━━━━━━━━━━━━━┓\n",
       "┃<span style=\"font-weight: bold\"> Layer (type)                    </span>┃<span style=\"font-weight: bold\"> Output Shape           </span>┃<span style=\"font-weight: bold\">       Param # </span>┃\n",
       "┡━━━━━━━━━━━━━━━━━━━━━━━━━━━━━━━━━╇━━━━━━━━━━━━━━━━━━━━━━━━╇━━━━━━━━━━━━━━━┩\n",
       "│ lstm (<span style=\"color: #0087ff; text-decoration-color: #0087ff\">LSTM</span>)                     │ (<span style=\"color: #00d7ff; text-decoration-color: #00d7ff\">None</span>, <span style=\"color: #00af00; text-decoration-color: #00af00\">126</span>)            │        <span style=\"color: #00af00; text-decoration-color: #00af00\">66,024</span> │\n",
       "├─────────────────────────────────┼────────────────────────┼───────────────┤\n",
       "│ dense (<span style=\"color: #0087ff; text-decoration-color: #0087ff\">Dense</span>)                   │ (<span style=\"color: #00d7ff; text-decoration-color: #00d7ff\">None</span>, <span style=\"color: #00af00; text-decoration-color: #00af00\">4</span>)              │           <span style=\"color: #00af00; text-decoration-color: #00af00\">508</span> │\n",
       "└─────────────────────────────────┴────────────────────────┴───────────────┘\n",
       "</pre>\n"
      ]
     },
     "metadata": {},
     "output_type": "display_data"
    },
    {
     "data": {
      "text/plain": [
       "\u001B[1m Total params: \u001B[0m\u001B[38;5;34m66,532\u001B[0m (259.89 KB)\n"
      ],
      "text/html": [
       "<pre style=\"white-space:pre;overflow-x:auto;line-height:normal;font-family:Menlo,'DejaVu Sans Mono',consolas,'Courier New',monospace\"><span style=\"font-weight: bold\"> Total params: </span><span style=\"color: #00af00; text-decoration-color: #00af00\">66,532</span> (259.89 KB)\n",
       "</pre>\n"
      ]
     },
     "metadata": {},
     "output_type": "display_data"
    },
    {
     "data": {
      "text/plain": [
       "\u001B[1m Trainable params: \u001B[0m\u001B[38;5;34m66,532\u001B[0m (259.89 KB)\n"
      ],
      "text/html": [
       "<pre style=\"white-space:pre;overflow-x:auto;line-height:normal;font-family:Menlo,'DejaVu Sans Mono',consolas,'Courier New',monospace\"><span style=\"font-weight: bold\"> Trainable params: </span><span style=\"color: #00af00; text-decoration-color: #00af00\">66,532</span> (259.89 KB)\n",
       "</pre>\n"
      ]
     },
     "metadata": {},
     "output_type": "display_data"
    },
    {
     "data": {
      "text/plain": [
       "\u001B[1m Non-trainable params: \u001B[0m\u001B[38;5;34m0\u001B[0m (0.00 B)\n"
      ],
      "text/html": [
       "<pre style=\"white-space:pre;overflow-x:auto;line-height:normal;font-family:Menlo,'DejaVu Sans Mono',consolas,'Courier New',monospace\"><span style=\"font-weight: bold\"> Non-trainable params: </span><span style=\"color: #00af00; text-decoration-color: #00af00\">0</span> (0.00 B)\n",
       "</pre>\n"
      ]
     },
     "metadata": {},
     "output_type": "display_data"
    }
   ],
   "execution_count": 21
  },
  {
   "metadata": {
    "ExecuteTime": {
     "end_time": "2025-07-17T20:09:57.675092Z",
     "start_time": "2025-07-17T20:09:57.664484Z"
    }
   },
   "cell_type": "code",
   "source": "from tensorflow.keras.callbacks import EarlyStopping",
   "id": "a0ca739a4d568330",
   "outputs": [],
   "execution_count": 22
  },
  {
   "metadata": {
    "ExecuteTime": {
     "end_time": "2025-07-17T20:09:59.443252Z",
     "start_time": "2025-07-17T20:09:59.438466Z"
    }
   },
   "cell_type": "code",
   "source": "early_stop = EarlyStopping(monitor='val_loss',patience=30)",
   "id": "e721742ec3172b64",
   "outputs": [],
   "execution_count": 23
  },
  {
   "metadata": {
    "ExecuteTime": {
     "end_time": "2025-07-17T20:10:00.516711Z",
     "start_time": "2025-07-17T20:10:00.511220Z"
    }
   },
   "cell_type": "code",
   "source": [
    "#Definimos generador para el conjunto de test de tal manera que nos sirva para la validación del modelo\n",
    "val_generador = TimeseriesGenerator(scaled_test,scaled_test, length=longitud, batch_size=tamaño_batch)"
   ],
   "id": "98e9bfa69b354030",
   "outputs": [],
   "execution_count": 24
  },
  {
   "metadata": {
    "ExecuteTime": {
     "end_time": "2025-07-17T20:10:28.423165Z",
     "start_time": "2025-07-17T20:10:01.653360Z"
    }
   },
   "cell_type": "code",
   "source": [
    "model.fit(generador, epochs=300,\n",
    "          validation_data=val_generador,\n",
    "          callbacks=[early_stop])"
   ],
   "id": "84bb0a86fac35da1",
   "outputs": [
    {
     "name": "stdout",
     "output_type": "stream",
     "text": [
      "Epoch 1/300\n"
     ]
    },
    {
     "name": "stderr",
     "output_type": "stream",
     "text": [
      "C:\\Users\\pmari\\OneDrive\\Para Revisar\\Documentos\\GitKraken\\AgroIAPrincipal\\AgroIA\\.venv\\Lib\\site-packages\\keras\\src\\trainers\\data_adapters\\py_dataset_adapter.py:121: UserWarning: Your `PyDataset` class should call `super().__init__(**kwargs)` in its constructor. `**kwargs` can include `workers`, `use_multiprocessing`, `max_queue_size`. Do not pass these arguments to `fit()`, as they will be ignored.\n",
      "  self._warn_if_super_not_called()\n"
     ]
    },
    {
     "name": "stdout",
     "output_type": "stream",
     "text": [
      "\u001B[1m96/96\u001B[0m \u001B[32m━━━━━━━━━━━━━━━━━━━━\u001B[0m\u001B[37m\u001B[0m \u001B[1m2s\u001B[0m 6ms/step - loss: 0.1272 - val_loss: 0.0669\n",
      "Epoch 2/300\n",
      "\u001B[1m96/96\u001B[0m \u001B[32m━━━━━━━━━━━━━━━━━━━━\u001B[0m\u001B[37m\u001B[0m \u001B[1m0s\u001B[0m 4ms/step - loss: 0.0426 - val_loss: 0.0668\n",
      "Epoch 3/300\n",
      "\u001B[1m96/96\u001B[0m \u001B[32m━━━━━━━━━━━━━━━━━━━━\u001B[0m\u001B[37m\u001B[0m \u001B[1m0s\u001B[0m 4ms/step - loss: 0.0410 - val_loss: 0.0416\n",
      "Epoch 4/300\n",
      "\u001B[1m96/96\u001B[0m \u001B[32m━━━━━━━━━━━━━━━━━━━━\u001B[0m\u001B[37m\u001B[0m \u001B[1m0s\u001B[0m 4ms/step - loss: 0.0334 - val_loss: 0.0472\n",
      "Epoch 5/300\n",
      "\u001B[1m96/96\u001B[0m \u001B[32m━━━━━━━━━━━━━━━━━━━━\u001B[0m\u001B[37m\u001B[0m \u001B[1m0s\u001B[0m 4ms/step - loss: 0.0315 - val_loss: 0.0522\n",
      "Epoch 6/300\n",
      "\u001B[1m96/96\u001B[0m \u001B[32m━━━━━━━━━━━━━━━━━━━━\u001B[0m\u001B[37m\u001B[0m \u001B[1m0s\u001B[0m 4ms/step - loss: 0.0363 - val_loss: 0.0464\n",
      "Epoch 7/300\n",
      "\u001B[1m96/96\u001B[0m \u001B[32m━━━━━━━━━━━━━━━━━━━━\u001B[0m\u001B[37m\u001B[0m \u001B[1m0s\u001B[0m 4ms/step - loss: 0.0279 - val_loss: 0.0696\n",
      "Epoch 8/300\n",
      "\u001B[1m96/96\u001B[0m \u001B[32m━━━━━━━━━━━━━━━━━━━━\u001B[0m\u001B[37m\u001B[0m \u001B[1m0s\u001B[0m 4ms/step - loss: 0.0396 - val_loss: 0.0444\n",
      "Epoch 9/300\n",
      "\u001B[1m96/96\u001B[0m \u001B[32m━━━━━━━━━━━━━━━━━━━━\u001B[0m\u001B[37m\u001B[0m \u001B[1m0s\u001B[0m 4ms/step - loss: 0.0245 - val_loss: 0.0480\n",
      "Epoch 10/300\n",
      "\u001B[1m96/96\u001B[0m \u001B[32m━━━━━━━━━━━━━━━━━━━━\u001B[0m\u001B[37m\u001B[0m \u001B[1m0s\u001B[0m 4ms/step - loss: 0.0267 - val_loss: 0.0604\n",
      "Epoch 11/300\n",
      "\u001B[1m96/96\u001B[0m \u001B[32m━━━━━━━━━━━━━━━━━━━━\u001B[0m\u001B[37m\u001B[0m \u001B[1m0s\u001B[0m 4ms/step - loss: 0.0368 - val_loss: 0.0460\n",
      "Epoch 12/300\n",
      "\u001B[1m96/96\u001B[0m \u001B[32m━━━━━━━━━━━━━━━━━━━━\u001B[0m\u001B[37m\u001B[0m \u001B[1m0s\u001B[0m 4ms/step - loss: 0.0203 - val_loss: 0.0449\n",
      "Epoch 13/300\n",
      "\u001B[1m96/96\u001B[0m \u001B[32m━━━━━━━━━━━━━━━━━━━━\u001B[0m\u001B[37m\u001B[0m \u001B[1m0s\u001B[0m 4ms/step - loss: 0.0223 - val_loss: 0.0432\n",
      "Epoch 14/300\n",
      "\u001B[1m96/96\u001B[0m \u001B[32m━━━━━━━━━━━━━━━━━━━━\u001B[0m\u001B[37m\u001B[0m \u001B[1m0s\u001B[0m 4ms/step - loss: 0.0271 - val_loss: 0.0423\n",
      "Epoch 15/300\n",
      "\u001B[1m96/96\u001B[0m \u001B[32m━━━━━━━━━━━━━━━━━━━━\u001B[0m\u001B[37m\u001B[0m \u001B[1m0s\u001B[0m 4ms/step - loss: 0.0230 - val_loss: 0.0589\n",
      "Epoch 16/300\n",
      "\u001B[1m96/96\u001B[0m \u001B[32m━━━━━━━━━━━━━━━━━━━━\u001B[0m\u001B[37m\u001B[0m \u001B[1m0s\u001B[0m 4ms/step - loss: 0.0257 - val_loss: 0.0476\n",
      "Epoch 17/300\n",
      "\u001B[1m96/96\u001B[0m \u001B[32m━━━━━━━━━━━━━━━━━━━━\u001B[0m\u001B[37m\u001B[0m \u001B[1m0s\u001B[0m 4ms/step - loss: 0.0221 - val_loss: 0.0470\n",
      "Epoch 18/300\n",
      "\u001B[1m96/96\u001B[0m \u001B[32m━━━━━━━━━━━━━━━━━━━━\u001B[0m\u001B[37m\u001B[0m \u001B[1m0s\u001B[0m 4ms/step - loss: 0.0230 - val_loss: 0.0412\n",
      "Epoch 19/300\n",
      "\u001B[1m96/96\u001B[0m \u001B[32m━━━━━━━━━━━━━━━━━━━━\u001B[0m\u001B[37m\u001B[0m \u001B[1m0s\u001B[0m 4ms/step - loss: 0.0221 - val_loss: 0.0371\n",
      "Epoch 20/300\n",
      "\u001B[1m96/96\u001B[0m \u001B[32m━━━━━━━━━━━━━━━━━━━━\u001B[0m\u001B[37m\u001B[0m \u001B[1m0s\u001B[0m 4ms/step - loss: 0.0217 - val_loss: 0.0410\n",
      "Epoch 21/300\n",
      "\u001B[1m96/96\u001B[0m \u001B[32m━━━━━━━━━━━━━━━━━━━━\u001B[0m\u001B[37m\u001B[0m \u001B[1m0s\u001B[0m 4ms/step - loss: 0.0177 - val_loss: 0.0449\n",
      "Epoch 22/300\n",
      "\u001B[1m96/96\u001B[0m \u001B[32m━━━━━━━━━━━━━━━━━━━━\u001B[0m\u001B[37m\u001B[0m \u001B[1m0s\u001B[0m 4ms/step - loss: 0.0210 - val_loss: 0.0439\n",
      "Epoch 23/300\n",
      "\u001B[1m96/96\u001B[0m \u001B[32m━━━━━━━━━━━━━━━━━━━━\u001B[0m\u001B[37m\u001B[0m \u001B[1m0s\u001B[0m 4ms/step - loss: 0.0215 - val_loss: 0.0432\n",
      "Epoch 24/300\n",
      "\u001B[1m96/96\u001B[0m \u001B[32m━━━━━━━━━━━━━━━━━━━━\u001B[0m\u001B[37m\u001B[0m \u001B[1m0s\u001B[0m 4ms/step - loss: 0.0178 - val_loss: 0.0419\n",
      "Epoch 25/300\n",
      "\u001B[1m96/96\u001B[0m \u001B[32m━━━━━━━━━━━━━━━━━━━━\u001B[0m\u001B[37m\u001B[0m \u001B[1m0s\u001B[0m 4ms/step - loss: 0.0158 - val_loss: 0.0377\n",
      "Epoch 26/300\n",
      "\u001B[1m96/96\u001B[0m \u001B[32m━━━━━━━━━━━━━━━━━━━━\u001B[0m\u001B[37m\u001B[0m \u001B[1m0s\u001B[0m 4ms/step - loss: 0.0187 - val_loss: 0.0405\n",
      "Epoch 27/300\n",
      "\u001B[1m96/96\u001B[0m \u001B[32m━━━━━━━━━━━━━━━━━━━━\u001B[0m\u001B[37m\u001B[0m \u001B[1m0s\u001B[0m 4ms/step - loss: 0.0223 - val_loss: 0.0521\n",
      "Epoch 28/300\n",
      "\u001B[1m96/96\u001B[0m \u001B[32m━━━━━━━━━━━━━━━━━━━━\u001B[0m\u001B[37m\u001B[0m \u001B[1m0s\u001B[0m 4ms/step - loss: 0.0176 - val_loss: 0.0400\n",
      "Epoch 29/300\n",
      "\u001B[1m96/96\u001B[0m \u001B[32m━━━━━━━━━━━━━━━━━━━━\u001B[0m\u001B[37m\u001B[0m \u001B[1m0s\u001B[0m 4ms/step - loss: 0.0203 - val_loss: 0.0386\n",
      "Epoch 30/300\n",
      "\u001B[1m96/96\u001B[0m \u001B[32m━━━━━━━━━━━━━━━━━━━━\u001B[0m\u001B[37m\u001B[0m \u001B[1m0s\u001B[0m 4ms/step - loss: 0.0196 - val_loss: 0.0453\n",
      "Epoch 31/300\n",
      "\u001B[1m96/96\u001B[0m \u001B[32m━━━━━━━━━━━━━━━━━━━━\u001B[0m\u001B[37m\u001B[0m \u001B[1m0s\u001B[0m 4ms/step - loss: 0.0184 - val_loss: 0.0435\n",
      "Epoch 32/300\n",
      "\u001B[1m96/96\u001B[0m \u001B[32m━━━━━━━━━━━━━━━━━━━━\u001B[0m\u001B[37m\u001B[0m \u001B[1m0s\u001B[0m 4ms/step - loss: 0.0231 - val_loss: 0.0392\n",
      "Epoch 33/300\n",
      "\u001B[1m96/96\u001B[0m \u001B[32m━━━━━━━━━━━━━━━━━━━━\u001B[0m\u001B[37m\u001B[0m \u001B[1m0s\u001B[0m 4ms/step - loss: 0.0191 - val_loss: 0.0481\n",
      "Epoch 34/300\n",
      "\u001B[1m96/96\u001B[0m \u001B[32m━━━━━━━━━━━━━━━━━━━━\u001B[0m\u001B[37m\u001B[0m \u001B[1m0s\u001B[0m 4ms/step - loss: 0.0170 - val_loss: 0.0366\n",
      "Epoch 35/300\n",
      "\u001B[1m96/96\u001B[0m \u001B[32m━━━━━━━━━━━━━━━━━━━━\u001B[0m\u001B[37m\u001B[0m \u001B[1m0s\u001B[0m 4ms/step - loss: 0.0172 - val_loss: 0.0423\n",
      "Epoch 36/300\n",
      "\u001B[1m96/96\u001B[0m \u001B[32m━━━━━━━━━━━━━━━━━━━━\u001B[0m\u001B[37m\u001B[0m \u001B[1m0s\u001B[0m 4ms/step - loss: 0.0180 - val_loss: 0.0518\n",
      "Epoch 37/300\n",
      "\u001B[1m96/96\u001B[0m \u001B[32m━━━━━━━━━━━━━━━━━━━━\u001B[0m\u001B[37m\u001B[0m \u001B[1m0s\u001B[0m 4ms/step - loss: 0.0191 - val_loss: 0.0403\n",
      "Epoch 38/300\n",
      "\u001B[1m96/96\u001B[0m \u001B[32m━━━━━━━━━━━━━━━━━━━━\u001B[0m\u001B[37m\u001B[0m \u001B[1m0s\u001B[0m 4ms/step - loss: 0.0155 - val_loss: 0.0447\n",
      "Epoch 39/300\n",
      "\u001B[1m96/96\u001B[0m \u001B[32m━━━━━━━━━━━━━━━━━━━━\u001B[0m\u001B[37m\u001B[0m \u001B[1m0s\u001B[0m 4ms/step - loss: 0.0163 - val_loss: 0.0445\n",
      "Epoch 40/300\n",
      "\u001B[1m96/96\u001B[0m \u001B[32m━━━━━━━━━━━━━━━━━━━━\u001B[0m\u001B[37m\u001B[0m \u001B[1m0s\u001B[0m 4ms/step - loss: 0.0168 - val_loss: 0.0411\n",
      "Epoch 41/300\n",
      "\u001B[1m96/96\u001B[0m \u001B[32m━━━━━━━━━━━━━━━━━━━━\u001B[0m\u001B[37m\u001B[0m \u001B[1m0s\u001B[0m 4ms/step - loss: 0.0174 - val_loss: 0.0405\n",
      "Epoch 42/300\n",
      "\u001B[1m96/96\u001B[0m \u001B[32m━━━━━━━━━━━━━━━━━━━━\u001B[0m\u001B[37m\u001B[0m \u001B[1m0s\u001B[0m 4ms/step - loss: 0.0135 - val_loss: 0.0482\n",
      "Epoch 43/300\n",
      "\u001B[1m96/96\u001B[0m \u001B[32m━━━━━━━━━━━━━━━━━━━━\u001B[0m\u001B[37m\u001B[0m \u001B[1m0s\u001B[0m 4ms/step - loss: 0.0139 - val_loss: 0.0417\n",
      "Epoch 44/300\n",
      "\u001B[1m96/96\u001B[0m \u001B[32m━━━━━━━━━━━━━━━━━━━━\u001B[0m\u001B[37m\u001B[0m \u001B[1m0s\u001B[0m 4ms/step - loss: 0.0124 - val_loss: 0.0388\n",
      "Epoch 45/300\n",
      "\u001B[1m96/96\u001B[0m \u001B[32m━━━━━━━━━━━━━━━━━━━━\u001B[0m\u001B[37m\u001B[0m \u001B[1m0s\u001B[0m 3ms/step - loss: 0.0127 - val_loss: 0.0533\n",
      "Epoch 46/300\n",
      "\u001B[1m96/96\u001B[0m \u001B[32m━━━━━━━━━━━━━━━━━━━━\u001B[0m\u001B[37m\u001B[0m \u001B[1m0s\u001B[0m 4ms/step - loss: 0.0154 - val_loss: 0.0379\n",
      "Epoch 47/300\n",
      "\u001B[1m96/96\u001B[0m \u001B[32m━━━━━━━━━━━━━━━━━━━━\u001B[0m\u001B[37m\u001B[0m \u001B[1m0s\u001B[0m 4ms/step - loss: 0.0147 - val_loss: 0.0484\n",
      "Epoch 48/300\n",
      "\u001B[1m96/96\u001B[0m \u001B[32m━━━━━━━━━━━━━━━━━━━━\u001B[0m\u001B[37m\u001B[0m \u001B[1m0s\u001B[0m 4ms/step - loss: 0.0115 - val_loss: 0.0450\n",
      "Epoch 49/300\n",
      "\u001B[1m96/96\u001B[0m \u001B[32m━━━━━━━━━━━━━━━━━━━━\u001B[0m\u001B[37m\u001B[0m \u001B[1m0s\u001B[0m 4ms/step - loss: 0.0153 - val_loss: 0.0411\n",
      "Epoch 50/300\n",
      "\u001B[1m96/96\u001B[0m \u001B[32m━━━━━━━━━━━━━━━━━━━━\u001B[0m\u001B[37m\u001B[0m \u001B[1m0s\u001B[0m 4ms/step - loss: 0.0154 - val_loss: 0.0434\n",
      "Epoch 51/300\n",
      "\u001B[1m96/96\u001B[0m \u001B[32m━━━━━━━━━━━━━━━━━━━━\u001B[0m\u001B[37m\u001B[0m \u001B[1m0s\u001B[0m 4ms/step - loss: 0.0121 - val_loss: 0.0462\n",
      "Epoch 52/300\n",
      "\u001B[1m96/96\u001B[0m \u001B[32m━━━━━━━━━━━━━━━━━━━━\u001B[0m\u001B[37m\u001B[0m \u001B[1m0s\u001B[0m 4ms/step - loss: 0.0122 - val_loss: 0.0569\n",
      "Epoch 53/300\n",
      "\u001B[1m96/96\u001B[0m \u001B[32m━━━━━━━━━━━━━━━━━━━━\u001B[0m\u001B[37m\u001B[0m \u001B[1m0s\u001B[0m 3ms/step - loss: 0.0133 - val_loss: 0.0523\n",
      "Epoch 54/300\n",
      "\u001B[1m96/96\u001B[0m \u001B[32m━━━━━━━━━━━━━━━━━━━━\u001B[0m\u001B[37m\u001B[0m \u001B[1m0s\u001B[0m 3ms/step - loss: 0.0147 - val_loss: 0.0430\n",
      "Epoch 55/300\n",
      "\u001B[1m96/96\u001B[0m \u001B[32m━━━━━━━━━━━━━━━━━━━━\u001B[0m\u001B[37m\u001B[0m \u001B[1m0s\u001B[0m 4ms/step - loss: 0.0139 - val_loss: 0.0475\n",
      "Epoch 56/300\n",
      "\u001B[1m96/96\u001B[0m \u001B[32m━━━━━━━━━━━━━━━━━━━━\u001B[0m\u001B[37m\u001B[0m \u001B[1m0s\u001B[0m 3ms/step - loss: 0.0097 - val_loss: 0.0589\n",
      "Epoch 57/300\n",
      "\u001B[1m96/96\u001B[0m \u001B[32m━━━━━━━━━━━━━━━━━━━━\u001B[0m\u001B[37m\u001B[0m \u001B[1m0s\u001B[0m 4ms/step - loss: 0.0111 - val_loss: 0.0470\n",
      "Epoch 58/300\n",
      "\u001B[1m96/96\u001B[0m \u001B[32m━━━━━━━━━━━━━━━━━━━━\u001B[0m\u001B[37m\u001B[0m \u001B[1m0s\u001B[0m 4ms/step - loss: 0.0096 - val_loss: 0.0466\n",
      "Epoch 59/300\n",
      "\u001B[1m96/96\u001B[0m \u001B[32m━━━━━━━━━━━━━━━━━━━━\u001B[0m\u001B[37m\u001B[0m \u001B[1m0s\u001B[0m 4ms/step - loss: 0.0104 - val_loss: 0.0484\n",
      "Epoch 60/300\n",
      "\u001B[1m96/96\u001B[0m \u001B[32m━━━━━━━━━━━━━━━━━━━━\u001B[0m\u001B[37m\u001B[0m \u001B[1m0s\u001B[0m 4ms/step - loss: 0.0104 - val_loss: 0.0644\n",
      "Epoch 61/300\n",
      "\u001B[1m96/96\u001B[0m \u001B[32m━━━━━━━━━━━━━━━━━━━━\u001B[0m\u001B[37m\u001B[0m \u001B[1m0s\u001B[0m 4ms/step - loss: 0.0113 - val_loss: 0.0539\n",
      "Epoch 62/300\n",
      "\u001B[1m96/96\u001B[0m \u001B[32m━━━━━━━━━━━━━━━━━━━━\u001B[0m\u001B[37m\u001B[0m \u001B[1m0s\u001B[0m 4ms/step - loss: 0.0094 - val_loss: 0.0576\n",
      "Epoch 63/300\n",
      "\u001B[1m96/96\u001B[0m \u001B[32m━━━━━━━━━━━━━━━━━━━━\u001B[0m\u001B[37m\u001B[0m \u001B[1m0s\u001B[0m 4ms/step - loss: 0.0088 - val_loss: 0.0627\n",
      "Epoch 64/300\n",
      "\u001B[1m96/96\u001B[0m \u001B[32m━━━━━━━━━━━━━━━━━━━━\u001B[0m\u001B[37m\u001B[0m \u001B[1m0s\u001B[0m 4ms/step - loss: 0.0144 - val_loss: 0.0518\n"
     ]
    },
    {
     "data": {
      "text/plain": [
       "<keras.src.callbacks.history.History at 0x1cff2013cd0>"
      ]
     },
     "execution_count": 25,
     "metadata": {},
     "output_type": "execute_result"
    }
   ],
   "execution_count": 25
  },
  {
   "metadata": {
    "ExecuteTime": {
     "end_time": "2025-07-17T20:10:49.155562Z",
     "start_time": "2025-07-17T20:10:49.151176Z"
    }
   },
   "cell_type": "code",
   "source": "losses = pd.DataFrame(model.history.history)",
   "id": "37ff1629b9e0f6f5",
   "outputs": [],
   "execution_count": 26
  },
  {
   "metadata": {
    "ExecuteTime": {
     "end_time": "2025-07-17T20:10:50.622158Z",
     "start_time": "2025-07-17T20:10:50.312736Z"
    }
   },
   "cell_type": "code",
   "source": "losses.plot()",
   "id": "f379db3fd922e8dc",
   "outputs": [
    {
     "data": {
      "text/plain": [
       "<Axes: >"
      ]
     },
     "execution_count": 27,
     "metadata": {},
     "output_type": "execute_result"
    },
    {
     "data": {
      "text/plain": [
       "<Figure size 640x480 with 1 Axes>"
      ],
      "image/png": "[encoded data removed]"
     },
     "metadata": {},
     "output_type": "display_data"
    }
   ],
   "execution_count": 27
  },
  {
   "metadata": {},
   "cell_type": "markdown",
   "source": "### Evaluación del Modelo",
   "id": "1a7de1eab6174107"
  },
  {
   "metadata": {
    "ExecuteTime": {
     "end_time": "2025-07-17T20:10:53.013484Z",
     "start_time": "2025-07-17T20:10:53.008935Z"
    }
   },
   "cell_type": "code",
   "source": "primer_batch = scaled_train[-longitud:]",
   "id": "5226c239d602a4d6",
   "outputs": [],
   "execution_count": 28
  },
  {
   "metadata": {
    "ExecuteTime": {
     "end_time": "2025-07-17T20:10:54.612594Z",
     "start_time": "2025-07-17T20:10:54.604967Z"
    }
   },
   "cell_type": "code",
   "source": "primer_batch.shape",
   "id": "354b76d0f706a7ed",
   "outputs": [
    {
     "data": {
      "text/plain": [
       "(12, 4)"
      ]
     },
     "execution_count": 29,
     "metadata": {},
     "output_type": "execute_result"
    }
   ],
   "execution_count": 29
  },
  {
   "metadata": {
    "ExecuteTime": {
     "end_time": "2025-07-17T20:10:56.831965Z",
     "start_time": "2025-07-17T20:10:56.826633Z"
    }
   },
   "cell_type": "code",
   "source": "primer_batch = primer_batch.reshape((1, longitud, n_variables))",
   "id": "77e324f0599bccc1",
   "outputs": [],
   "execution_count": 30
  },
  {
   "metadata": {
    "ExecuteTime": {
     "end_time": "2025-07-17T20:10:58.913197Z",
     "start_time": "2025-07-17T20:10:58.904711Z"
    }
   },
   "cell_type": "code",
   "source": "primer_batch.shape",
   "id": "dc6eca7544da9050",
   "outputs": [
    {
     "data": {
      "text/plain": [
       "(1, 12, 4)"
      ]
     },
     "execution_count": 31,
     "metadata": {},
     "output_type": "execute_result"
    }
   ],
   "execution_count": 31
  },
  {
   "metadata": {
    "ExecuteTime": {
     "end_time": "2025-07-17T20:11:00.612575Z",
     "start_time": "2025-07-17T20:11:00.367730Z"
    }
   },
   "cell_type": "code",
   "source": "model.predict(primer_batch)",
   "id": "ea9aab1eea355859",
   "outputs": [
    {
     "name": "stdout",
     "output_type": "stream",
     "text": [
      "\u001B[1m1/1\u001B[0m \u001B[32m━━━━━━━━━━━━━━━━━━━━\u001B[0m\u001B[37m\u001B[0m \u001B[1m0s\u001B[0m 180ms/step\n"
     ]
    },
    {
     "data": {
      "text/plain": [
       "array([[0.5239849 , 0.25596336, 0.7158513 , 0.23989707]], dtype=float32)"
      ]
     },
     "execution_count": 32,
     "metadata": {},
     "output_type": "execute_result"
    }
   ],
   "execution_count": 32
  },
  {
   "metadata": {
    "ExecuteTime": {
     "end_time": "2025-07-17T20:11:03.278559Z",
     "start_time": "2025-07-17T20:11:03.272226Z"
    }
   },
   "cell_type": "code",
   "source": "scaled_test[0]",
   "id": "420b8017a9003d77",
   "outputs": [
    {
     "data": {
      "text/plain": [
       "array([0.63682097, 0.02048224, 0.68608169, 0.51183432])"
      ]
     },
     "execution_count": 33,
     "metadata": {},
     "output_type": "execute_result"
    }
   ],
   "execution_count": 33
  },
  {
   "metadata": {
    "ExecuteTime": {
     "end_time": "2025-07-17T20:11:09.429679Z",
     "start_time": "2025-07-17T20:11:07.928887Z"
    }
   },
   "cell_type": "code",
   "source": [
    "test_predictions = []\n",
    "\n",
    "primer_batch = scaled_train[-longitud:]\n",
    "batch_actual = primer_batch.reshape((1, longitud, n_variables))\n",
    "\n",
    "for i in range(len(test)):\n",
    "\n",
    "    # Hacemos la predicción 1 time stamp (el siguiente mes). Indicar [0] para coger el valor de la predicción en lugar del array\n",
    "    pred_actual = model.predict(batch_actual)[0]\n",
    "\n",
    "    # Guardamos la predicción en la lista test_predictions\n",
    "    test_predictions.append(pred_actual)\n",
    "\n",
    "    # Actualizamos el batch para descartar el primer valor e incluir la nueva predicción (desplazamiento)\n",
    "    batch_actual = np.append(batch_actual[:,1:,:],[[pred_actual]],axis=1)"
   ],
   "id": "3d678cf4c814e89e",
   "outputs": [
    {
     "name": "stdout",
     "output_type": "stream",
     "text": [
      "\u001B[1m1/1\u001B[0m \u001B[32m━━━━━━━━━━━━━━━━━━━━\u001B[0m\u001B[37m\u001B[0m \u001B[1m0s\u001B[0m 30ms/step\n",
      "\u001B[1m1/1\u001B[0m \u001B[32m━━━━━━━━━━━━━━━━━━━━\u001B[0m\u001B[37m\u001B[0m \u001B[1m0s\u001B[0m 27ms/step\n",
      "\u001B[1m1/1\u001B[0m \u001B[32m━━━━━━━━━━━━━━━━━━━━\u001B[0m\u001B[37m\u001B[0m \u001B[1m0s\u001B[0m 30ms/step\n",
      "\u001B[1m1/1\u001B[0m \u001B[32m━━━━━━━━━━━━━━━━━━━━\u001B[0m\u001B[37m\u001B[0m \u001B[1m0s\u001B[0m 37ms/step\n",
      "\u001B[1m1/1\u001B[0m \u001B[32m━━━━━━━━━━━━━━━━━━━━\u001B[0m\u001B[37m\u001B[0m \u001B[1m0s\u001B[0m 24ms/step\n",
      "\u001B[1m1/1\u001B[0m \u001B[32m━━━━━━━━━━━━━━━━━━━━\u001B[0m\u001B[37m\u001B[0m \u001B[1m0s\u001B[0m 42ms/step\n",
      "\u001B[1m1/1\u001B[0m \u001B[32m━━━━━━━━━━━━━━━━━━━━\u001B[0m\u001B[37m\u001B[0m \u001B[1m0s\u001B[0m 42ms/step\n",
      "\u001B[1m1/1\u001B[0m \u001B[32m━━━━━━━━━━━━━━━━━━━━\u001B[0m\u001B[37m\u001B[0m \u001B[1m0s\u001B[0m 41ms/step\n",
      "\u001B[1m1/1\u001B[0m \u001B[32m━━━━━━━━━━━━━━━━━━━━\u001B[0m\u001B[37m\u001B[0m \u001B[1m0s\u001B[0m 29ms/step\n",
      "\u001B[1m1/1\u001B[0m \u001B[32m━━━━━━━━━━━━━━━━━━━━\u001B[0m\u001B[37m\u001B[0m \u001B[1m0s\u001B[0m 37ms/step\n",
      "\u001B[1m1/1\u001B[0m \u001B[32m━━━━━━━━━━━━━━━━━━━━\u001B[0m\u001B[37m\u001B[0m \u001B[1m0s\u001B[0m 31ms/step\n",
      "\u001B[1m1/1\u001B[0m \u001B[32m━━━━━━━━━━━━━━━━━━━━\u001B[0m\u001B[37m\u001B[0m \u001B[1m0s\u001B[0m 29ms/step\n",
      "\u001B[1m1/1\u001B[0m \u001B[32m━━━━━━━━━━━━━━━━━━━━\u001B[0m\u001B[37m\u001B[0m \u001B[1m0s\u001B[0m 34ms/step\n",
      "\u001B[1m1/1\u001B[0m \u001B[32m━━━━━━━━━━━━━━━━━━━━\u001B[0m\u001B[37m\u001B[0m \u001B[1m0s\u001B[0m 38ms/step\n",
      "\u001B[1m1/1\u001B[0m \u001B[32m━━━━━━━━━━━━━━━━━━━━\u001B[0m\u001B[37m\u001B[0m \u001B[1m0s\u001B[0m 30ms/step\n",
      "\u001B[1m1/1\u001B[0m \u001B[32m━━━━━━━━━━━━━━━━━━━━\u001B[0m\u001B[37m\u001B[0m \u001B[1m0s\u001B[0m 30ms/step\n",
      "\u001B[1m1/1\u001B[0m \u001B[32m━━━━━━━━━━━━━━━━━━━━\u001B[0m\u001B[37m\u001B[0m \u001B[1m0s\u001B[0m 33ms/step\n",
      "\u001B[1m1/1\u001B[0m \u001B[32m━━━━━━━━━━━━━━━━━━━━\u001B[0m\u001B[37m\u001B[0m \u001B[1m0s\u001B[0m 35ms/step\n"
     ]
    }
   ],
   "execution_count": 34
  },
  {
   "metadata": {
    "ExecuteTime": {
     "end_time": "2025-07-17T20:11:11.390421Z",
     "start_time": "2025-07-17T20:11:11.383375Z"
    }
   },
   "cell_type": "code",
   "source": "primer_batch",
   "id": "ffbe71287a6e3cb4",
   "outputs": [
    {
     "data": {
      "text/plain": [
       "array([[0.4677658 , 0.10598599, 0.72995461, 0.13609467],\n",
       "       [0.36968928, 0.1179142 , 0.57488654, 0.15680473],\n",
       "       [0.43711689, 0.23517181, 0.52950076, 0.30177515],\n",
       "       [0.26530181, 0.14523601, 0.21406959, 0.63017751],\n",
       "       [0.18262524, 0.38017072, 0.37518911, 0.93786982],\n",
       "       [0.32635806, 0.48987743, 0.75416036, 0.85207101],\n",
       "       [0.39146058, 0.49354344, 0.85098336, 0.73076923],\n",
       "       [0.66352629, 0.38190341, 0.77836611, 0.78106509],\n",
       "       [0.44877253, 0.28195448, 0.61497731, 0.79585799],\n",
       "       [0.68695836, 0.65442839, 0.90922844, 0.81656805],\n",
       "       [1.        , 0.49538557, 1.        , 0.68639053],\n",
       "       [0.41111816, 0.23234479, 0.83736762, 0.56213018]])"
      ]
     },
     "execution_count": 35,
     "metadata": {},
     "output_type": "execute_result"
    }
   ],
   "execution_count": 35
  },
  {
   "metadata": {
    "ExecuteTime": {
     "end_time": "2025-07-17T20:11:13.426710Z",
     "start_time": "2025-07-17T20:11:13.420332Z"
    }
   },
   "cell_type": "code",
   "source": "batch_actual",
   "id": "5d850e1fd55320cb",
   "outputs": [
    {
     "data": {
      "text/plain": [
       "array([[[0.58036041, 0.53184378, 0.85132509, 0.49728081],\n",
       "        [0.81988299, 0.44719094, 0.81109422, 0.52349257],\n",
       "        [0.74254191, 0.57313812, 0.81738991, 0.55100518],\n",
       "        [0.70261967, 0.50142741, 0.90694135, 0.41236225],\n",
       "        [0.78963637, 0.31137991, 0.90546179, 0.30008459],\n",
       "        [0.57571197, 0.25534537, 0.8026669 , 0.13328247],\n",
       "        [0.41667503, 0.18670174, 0.660303  , 0.0024476 ],\n",
       "        [0.52533543, 0.17373691, 0.50042462, 0.06347131],\n",
       "        [0.63065267, 0.19518696, 0.34907711, 0.28145647],\n",
       "        [0.45796537, 0.54767102, 0.46971732, 0.74372268],\n",
       "        [0.29519323, 0.82767099, 0.86663938, 0.8787213 ],\n",
       "        [0.62769341, 0.66474915, 1.018857  , 0.71886069]]])"
      ]
     },
     "execution_count": 36,
     "metadata": {},
     "output_type": "execute_result"
    }
   ],
   "execution_count": 36
  },
  {
   "metadata": {
    "ExecuteTime": {
     "end_time": "2025-07-17T20:11:15.116901Z",
     "start_time": "2025-07-17T20:11:15.111847Z"
    }
   },
   "cell_type": "code",
   "source": [
    "#Desescalamos las predicciones para obtener los valores reales (\"true_predictions\")\n",
    "true_predictions = scaler.inverse_transform(test_predictions)"
   ],
   "id": "78deea832178bacd",
   "outputs": [],
   "execution_count": 37
  },
  {
   "metadata": {
    "ExecuteTime": {
     "end_time": "2025-07-17T20:11:16.667177Z",
     "start_time": "2025-07-17T20:11:16.660686Z"
    }
   },
   "cell_type": "code",
   "source": "true_predictions",
   "id": "1abf6ba47549a49f",
   "outputs": [
    {
     "data": {
      "text/plain": [
       "array([[ 87.81404117, 162.98958845,  90.01355428,  19.5708521 ],\n",
       "       [ 99.53202206, 152.67282831,  87.22189689,  19.37483679],\n",
       "       [142.59324002, 128.87303753,  82.43565365,  20.24674912],\n",
       "       [127.28837712, 278.81830123,  82.53926841,  21.68184697],\n",
       "       [ 56.23040445, 476.53911216,  90.3308428 ,  21.74426345],\n",
       "       [ 50.97888512, 457.08112541,  93.47610404,  20.8075064 ],\n",
       "       [ 97.14897892, 314.24930851,  91.80451775,  20.44080913],\n",
       "       [136.81032472, 267.83584879,  91.27266565,  20.5294049 ],\n",
       "       [124.00380204, 336.89016722,  91.35589455,  20.62239752],\n",
       "       [117.39327836, 297.57262147,  92.5397647 ,  20.1537844 ],\n",
       "       [131.80193891, 193.37337679,  92.52020484,  19.77428592],\n",
       "       [ 96.37926582, 162.65076185,  91.16125645,  19.21049474],\n",
       "       [ 70.04513504, 125.01483264,  89.27920562,  18.76827288],\n",
       "       [ 88.03766736, 117.90647575,  87.16561352,  18.97453303],\n",
       "       [105.47662171, 129.66710518,  85.16479934,  19.71132287],\n",
       "       [ 76.88219645, 322.92706686,  86.75966302,  21.27378265],\n",
       "       [ 49.92957019, 476.44545118,  92.00697255,  21.73007798],\n",
       "       [104.98661407, 387.1186615 ,  94.01928957,  21.18974912]])"
      ]
     },
     "execution_count": 38,
     "metadata": {},
     "output_type": "execute_result"
    }
   ],
   "execution_count": 38
  },
  {
   "metadata": {
    "ExecuteTime": {
     "end_time": "2025-07-17T20:11:18.498829Z",
     "start_time": "2025-07-17T20:11:18.491513Z"
    }
   },
   "cell_type": "code",
   "source": [
    "for i in range(true_predictions.shape[1]):\n",
    "    test[f'Predicción_{i+1}'] = true_predictions[:, i]"
   ],
   "id": "525da677a05bcc88",
   "outputs": [
    {
     "name": "stderr",
     "output_type": "stream",
     "text": [
      "C:\\Users\\pmari\\AppData\\Local\\Temp\\ipykernel_20856\\3603203859.py:2: SettingWithCopyWarning: \n",
      "A value is trying to be set on a copy of a slice from a DataFrame.\n",
      "Try using .loc[row_indexer,col_indexer] = value instead\n",
      "\n",
      "See the caveats in the documentation: https://pandas.pydata.org/pandas-docs/stable/user_guide/indexing.html#returning-a-view-versus-a-copy\n",
      "  test[f'Predicción_{i+1}'] = true_predictions[:, i]\n",
      "C:\\Users\\pmari\\AppData\\Local\\Temp\\ipykernel_20856\\3603203859.py:2: SettingWithCopyWarning: \n",
      "A value is trying to be set on a copy of a slice from a DataFrame.\n",
      "Try using .loc[row_indexer,col_indexer] = value instead\n",
      "\n",
      "See the caveats in the documentation: https://pandas.pydata.org/pandas-docs/stable/user_guide/indexing.html#returning-a-view-versus-a-copy\n",
      "  test[f'Predicción_{i+1}'] = true_predictions[:, i]\n",
      "C:\\Users\\pmari\\AppData\\Local\\Temp\\ipykernel_20856\\3603203859.py:2: SettingWithCopyWarning: \n",
      "A value is trying to be set on a copy of a slice from a DataFrame.\n",
      "Try using .loc[row_indexer,col_indexer] = value instead\n",
      "\n",
      "See the caveats in the documentation: https://pandas.pydata.org/pandas-docs/stable/user_guide/indexing.html#returning-a-view-versus-a-copy\n",
      "  test[f'Predicción_{i+1}'] = true_predictions[:, i]\n",
      "C:\\Users\\pmari\\AppData\\Local\\Temp\\ipykernel_20856\\3603203859.py:2: SettingWithCopyWarning: \n",
      "A value is trying to be set on a copy of a slice from a DataFrame.\n",
      "Try using .loc[row_indexer,col_indexer] = value instead\n",
      "\n",
      "See the caveats in the documentation: https://pandas.pydata.org/pandas-docs/stable/user_guide/indexing.html#returning-a-view-versus-a-copy\n",
      "  test[f'Predicción_{i+1}'] = true_predictions[:, i]\n"
     ]
    }
   ],
   "execution_count": 39
  },
  {
   "metadata": {
    "ExecuteTime": {
     "end_time": "2025-07-17T20:11:21.028409Z",
     "start_time": "2025-07-17T20:11:21.009882Z"
    }
   },
   "cell_type": "code",
   "source": "test",
   "id": "e8b6e41f580ada8e",
   "outputs": [
    {
     "data": {
      "text/plain": [
       "            produccion  lluvia  humedad  temperatura  Predicción_1  \\\n",
       "fecha                                                                \n",
       "2024-01-01     106.498   33.88    89.62        20.49     87.814041   \n",
       "2024-02-01      78.050  117.35    87.47        20.06     99.532022   \n",
       "2024-03-01      76.300   64.52    81.79        21.74    142.593240   \n",
       "2024-04-01      23.240  171.48    83.24        21.64    127.288377   \n",
       "2024-05-01     104.370  785.07    87.56        22.37     56.230404   \n",
       "2024-06-01      66.010  768.48    92.91        21.82     50.978885   \n",
       "2024-07-01      80.115  539.28    93.10        21.36     97.148979   \n",
       "2024-08-01      64.680  201.52    90.32        21.32    136.810325   \n",
       "2024-09-01      97.391  393.40    91.03        21.56    124.003802   \n",
       "2024-10-01      95.424  384.18    93.06        21.15    117.393278   \n",
       "2024-11-01     140.679  779.73    94.04        20.64    131.801939   \n",
       "2024-12-01     104.860  244.65    93.15        20.12     96.379266   \n",
       "2025-01-01       0.530  122.30    91.29        19.89     70.045135   \n",
       "2025-02-01       0.530   57.69    88.61        19.99     88.037667   \n",
       "2025-03-01       5.640   78.32    84.79        20.68    105.476622   \n",
       "2025-04-01      73.339  342.60    87.64        20.78     76.882196   \n",
       "2025-05-01     123.480  364.74    92.25        21.60     49.929570   \n",
       "2025-06-01      93.072  364.74    92.25        21.60    104.986614   \n",
       "\n",
       "            Predicción_2  Predicción_3  Predicción_4  \n",
       "fecha                                                 \n",
       "2024-01-01    162.989588     90.013554     19.570852  \n",
       "2024-02-01    152.672828     87.221897     19.374837  \n",
       "2024-03-01    128.873038     82.435654     20.246749  \n",
       "2024-04-01    278.818301     82.539268     21.681847  \n",
       "2024-05-01    476.539112     90.330843     21.744263  \n",
       "2024-06-01    457.081125     93.476104     20.807506  \n",
       "2024-07-01    314.249309     91.804518     20.440809  \n",
       "2024-08-01    267.835849     91.272666     20.529405  \n",
       "2024-09-01    336.890167     91.355895     20.622398  \n",
       "2024-10-01    297.572621     92.539765     20.153784  \n",
       "2024-11-01    193.373377     92.520205     19.774286  \n",
       "2024-12-01    162.650762     91.161256     19.210495  \n",
       "2025-01-01    125.014833     89.279206     18.768273  \n",
       "2025-02-01    117.906476     87.165614     18.974533  \n",
       "2025-03-01    129.667105     85.164799     19.711323  \n",
       "2025-04-01    322.927067     86.759663     21.273783  \n",
       "2025-05-01    476.445451     92.006973     21.730078  \n",
       "2025-06-01    387.118661     94.019290     21.189749  "
      ],
      "text/html": [
       "<div>\n",
       "<style scoped>\n",
       "    .dataframe tbody tr th:only-of-type {\n",
       "        vertical-align: middle;\n",
       "    }\n",
       "\n",
       "    .dataframe tbody tr th {\n",
       "        vertical-align: top;\n",
       "    }\n",
       "\n",
       "    .dataframe thead th {\n",
       "        text-align: right;\n",
       "    }\n",
       "</style>\n",
       "<table border=\"1\" class=\"dataframe\">\n",
       "  <thead>\n",
       "    <tr style=\"text-align: right;\">\n",
       "      <th></th>\n",
       "      <th>produccion</th>\n",
       "      <th>lluvia</th>\n",
       "      <th>humedad</th>\n",
       "      <th>temperatura</th>\n",
       "      <th>Predicción_1</th>\n",
       "      <th>Predicción_2</th>\n",
       "      <th>Predicción_3</th>\n",
       "      <th>Predicción_4</th>\n",
       "    </tr>\n",
       "    <tr>\n",
       "      <th>fecha</th>\n",
       "      <th></th>\n",
       "      <th></th>\n",
       "      <th></th>\n",
       "      <th></th>\n",
       "      <th></th>\n",
       "      <th></th>\n",
       "      <th></th>\n",
       "      <th></th>\n",
       "    </tr>\n",
       "  </thead>\n",
       "  <tbody>\n",
       "    <tr>\n",
       "      <th>2024-01-01</th>\n",
       "      <td>106.498</td>\n",
       "      <td>33.88</td>\n",
       "      <td>89.62</td>\n",
       "      <td>20.49</td>\n",
       "      <td>87.814041</td>\n",
       "      <td>162.989588</td>\n",
       "      <td>90.013554</td>\n",
       "      <td>19.570852</td>\n",
       "    </tr>\n",
       "    <tr>\n",
       "      <th>2024-02-01</th>\n",
       "      <td>78.050</td>\n",
       "      <td>117.35</td>\n",
       "      <td>87.47</td>\n",
       "      <td>20.06</td>\n",
       "      <td>99.532022</td>\n",
       "      <td>152.672828</td>\n",
       "      <td>87.221897</td>\n",
       "      <td>19.374837</td>\n",
       "    </tr>\n",
       "    <tr>\n",
       "      <th>2024-03-01</th>\n",
       "      <td>76.300</td>\n",
       "      <td>64.52</td>\n",
       "      <td>81.79</td>\n",
       "      <td>21.74</td>\n",
       "      <td>142.593240</td>\n",
       "      <td>128.873038</td>\n",
       "      <td>82.435654</td>\n",
       "      <td>20.246749</td>\n",
       "    </tr>\n",
       "    <tr>\n",
       "      <th>2024-04-01</th>\n",
       "      <td>23.240</td>\n",
       "      <td>171.48</td>\n",
       "      <td>83.24</td>\n",
       "      <td>21.64</td>\n",
       "      <td>127.288377</td>\n",
       "      <td>278.818301</td>\n",
       "      <td>82.539268</td>\n",
       "      <td>21.681847</td>\n",
       "    </tr>\n",
       "    <tr>\n",
       "      <th>2024-05-01</th>\n",
       "      <td>104.370</td>\n",
       "      <td>785.07</td>\n",
       "      <td>87.56</td>\n",
       "      <td>22.37</td>\n",
       "      <td>56.230404</td>\n",
       "      <td>476.539112</td>\n",
       "      <td>90.330843</td>\n",
       "      <td>21.744263</td>\n",
       "    </tr>\n",
       "    <tr>\n",
       "      <th>2024-06-01</th>\n",
       "      <td>66.010</td>\n",
       "      <td>768.48</td>\n",
       "      <td>92.91</td>\n",
       "      <td>21.82</td>\n",
       "      <td>50.978885</td>\n",
       "      <td>457.081125</td>\n",
       "      <td>93.476104</td>\n",
       "      <td>20.807506</td>\n",
       "    </tr>\n",
       "    <tr>\n",
       "      <th>2024-07-01</th>\n",
       "      <td>80.115</td>\n",
       "      <td>539.28</td>\n",
       "      <td>93.10</td>\n",
       "      <td>21.36</td>\n",
       "      <td>97.148979</td>\n",
       "      <td>314.249309</td>\n",
       "      <td>91.804518</td>\n",
       "      <td>20.440809</td>\n",
       "    </tr>\n",
       "    <tr>\n",
       "      <th>2024-08-01</th>\n",
       "      <td>64.680</td>\n",
       "      <td>201.52</td>\n",
       "      <td>90.32</td>\n",
       "      <td>21.32</td>\n",
       "      <td>136.810325</td>\n",
       "      <td>267.835849</td>\n",
       "      <td>91.272666</td>\n",
       "      <td>20.529405</td>\n",
       "    </tr>\n",
       "    <tr>\n",
       "      <th>2024-09-01</th>\n",
       "      <td>97.391</td>\n",
       "      <td>393.40</td>\n",
       "      <td>91.03</td>\n",
       "      <td>21.56</td>\n",
       "      <td>124.003802</td>\n",
       "      <td>336.890167</td>\n",
       "      <td>91.355895</td>\n",
       "      <td>20.622398</td>\n",
       "    </tr>\n",
       "    <tr>\n",
       "      <th>2024-10-01</th>\n",
       "      <td>95.424</td>\n",
       "      <td>384.18</td>\n",
       "      <td>93.06</td>\n",
       "      <td>21.15</td>\n",
       "      <td>117.393278</td>\n",
       "      <td>297.572621</td>\n",
       "      <td>92.539765</td>\n",
       "      <td>20.153784</td>\n",
       "    </tr>\n",
       "    <tr>\n",
       "      <th>2024-11-01</th>\n",
       "      <td>140.679</td>\n",
       "      <td>779.73</td>\n",
       "      <td>94.04</td>\n",
       "      <td>20.64</td>\n",
       "      <td>131.801939</td>\n",
       "      <td>193.373377</td>\n",
       "      <td>92.520205</td>\n",
       "      <td>19.774286</td>\n",
       "    </tr>\n",
       "    <tr>\n",
       "      <th>2024-12-01</th>\n",
       "      <td>104.860</td>\n",
       "      <td>244.65</td>\n",
       "      <td>93.15</td>\n",
       "      <td>20.12</td>\n",
       "      <td>96.379266</td>\n",
       "      <td>162.650762</td>\n",
       "      <td>91.161256</td>\n",
       "      <td>19.210495</td>\n",
       "    </tr>\n",
       "    <tr>\n",
       "      <th>2025-01-01</th>\n",
       "      <td>0.530</td>\n",
       "      <td>122.30</td>\n",
       "      <td>91.29</td>\n",
       "      <td>19.89</td>\n",
       "      <td>70.045135</td>\n",
       "      <td>125.014833</td>\n",
       "      <td>89.279206</td>\n",
       "      <td>18.768273</td>\n",
       "    </tr>\n",
       "    <tr>\n",
       "      <th>2025-02-01</th>\n",
       "      <td>0.530</td>\n",
       "      <td>57.69</td>\n",
       "      <td>88.61</td>\n",
       "      <td>19.99</td>\n",
       "      <td>88.037667</td>\n",
       "      <td>117.906476</td>\n",
       "      <td>87.165614</td>\n",
       "      <td>18.974533</td>\n",
       "    </tr>\n",
       "    <tr>\n",
       "      <th>2025-03-01</th>\n",
       "      <td>5.640</td>\n",
       "      <td>78.32</td>\n",
       "      <td>84.79</td>\n",
       "      <td>20.68</td>\n",
       "      <td>105.476622</td>\n",
       "      <td>129.667105</td>\n",
       "      <td>85.164799</td>\n",
       "      <td>19.711323</td>\n",
       "    </tr>\n",
       "    <tr>\n",
       "      <th>2025-04-01</th>\n",
       "      <td>73.339</td>\n",
       "      <td>342.60</td>\n",
       "      <td>87.64</td>\n",
       "      <td>20.78</td>\n",
       "      <td>76.882196</td>\n",
       "      <td>322.927067</td>\n",
       "      <td>86.759663</td>\n",
       "      <td>21.273783</td>\n",
       "    </tr>\n",
       "    <tr>\n",
       "      <th>2025-05-01</th>\n",
       "      <td>123.480</td>\n",
       "      <td>364.74</td>\n",
       "      <td>92.25</td>\n",
       "      <td>21.60</td>\n",
       "      <td>49.929570</td>\n",
       "      <td>476.445451</td>\n",
       "      <td>92.006973</td>\n",
       "      <td>21.730078</td>\n",
       "    </tr>\n",
       "    <tr>\n",
       "      <th>2025-06-01</th>\n",
       "      <td>93.072</td>\n",
       "      <td>364.74</td>\n",
       "      <td>92.25</td>\n",
       "      <td>21.60</td>\n",
       "      <td>104.986614</td>\n",
       "      <td>387.118661</td>\n",
       "      <td>94.019290</td>\n",
       "      <td>21.189749</td>\n",
       "    </tr>\n",
       "  </tbody>\n",
       "</table>\n",
       "</div>"
      ]
     },
     "execution_count": 40,
     "metadata": {},
     "output_type": "execute_result"
    }
   ],
   "execution_count": 40
  },
  {
   "metadata": {
    "ExecuteTime": {
     "end_time": "2025-07-17T20:11:23.694360Z",
     "start_time": "2025-07-17T20:11:23.467103Z"
    }
   },
   "cell_type": "code",
   "source": "test.plot(figsize=(12,8))",
   "id": "20652838564dfed9",
   "outputs": [
    {
     "data": {
      "text/plain": [
       "<Axes: xlabel='fecha'>"
      ]
     },
     "execution_count": 41,
     "metadata": {},
     "output_type": "execute_result"
    },
    {
     "data": {
      "text/plain": [
       "<Figure size 1200x800 with 1 Axes>"
      ],
      "image/png": "[encoded data removed]"
     },
     "metadata": {},
     "output_type": "display_data"
    }
   ],
   "execution_count": 41
  },
  {
   "metadata": {
    "ExecuteTime": {
     "end_time": "2025-07-17T20:11:28.590427Z",
     "start_time": "2025-07-17T20:11:28.251251Z"
    }
   },
   "cell_type": "code",
   "source": "from sklearn.metrics import mean_squared_error",
   "id": "9aaeff927ff8eff9",
   "outputs": [],
   "execution_count": 42
  },
  {
   "metadata": {
    "ExecuteTime": {
     "end_time": "2025-07-17T20:11:30.452227Z",
     "start_time": "2025-07-17T20:11:30.443478Z"
    }
   },
   "cell_type": "code",
   "source": [
    "col_real = 'produccion'  # o el nombre real de la columna con los valores verdaderos\n",
    "\n",
    "for i in range(true_predictions.shape[1]):\n",
    "    col_pred = f'Predicción_{i+1}'\n",
    "    rmse = np.sqrt(mean_squared_error(test[col_real], test[col_pred]))\n",
    "    print(f\"RMSE para {col_pred} vs {col_real}: {rmse:.4f}\")"
   ],
   "id": "b1689047448c00ea",
   "outputs": [
    {
     "name": "stdout",
     "output_type": "stream",
     "text": [
      "RMSE para Predicción_1 vs produccion: 54.4828\n",
      "RMSE para Predicción_2 vs produccion: 221.9510\n",
      "RMSE para Predicción_3 vs produccion: 41.5898\n",
      "RMSE para Predicción_4 vs produccion: 67.1394\n"
     ]
    }
   ],
   "execution_count": 43
  },
  {
   "metadata": {
    "ExecuteTime": {
     "end_time": "2025-07-17T20:11:31.938312Z",
     "start_time": "2025-07-17T20:11:31.932299Z"
    }
   },
   "cell_type": "code",
   "source": [
    "from sklearn.metrics import mean_squared_error\n",
    "np.sqrt(mean_squared_error(test['produccion'],test['Predicción_2']))"
   ],
   "id": "7fad8a6a36ebfb25",
   "outputs": [
    {
     "data": {
      "text/plain": [
       "np.float64(221.9510426593464)"
      ]
     },
     "execution_count": 44,
     "metadata": {},
     "output_type": "execute_result"
    }
   ],
   "execution_count": 44
  },
  {
   "metadata": {},
   "cell_type": "markdown",
   "source": "### Predicción de nuevos datos",
   "id": "4cddf86d2a06703e"
  },
  {
   "metadata": {
    "ExecuteTime": {
     "end_time": "2025-07-17T20:11:34.363769Z",
     "start_time": "2025-07-17T20:11:34.346667Z"
    }
   },
   "cell_type": "code",
   "source": "df",
   "id": "1abaaa0c8d6bcb98",
   "outputs": [
    {
     "data": {
      "text/plain": [
       "            produccion  lluvia  humedad  temperatura\n",
       "fecha                                               \n",
       "2015-01-01      36.400  171.90    90.67        19.20\n",
       "2015-02-01      62.200  107.62    89.37        19.11\n",
       "2015-03-01     102.800   79.44    86.31        19.49\n",
       "2015-04-01      29.950  115.93    85.46        20.80\n",
       "2015-05-01       8.400  253.66    89.03        20.93\n",
       "...                ...     ...      ...          ...\n",
       "2025-02-01       0.530   57.69    88.61        19.99\n",
       "2025-03-01       5.640   78.32    84.79        20.68\n",
       "2025-04-01      73.339  342.60    87.64        20.78\n",
       "2025-05-01     123.480  364.74    92.25        21.60\n",
       "2025-06-01      93.072  364.74    92.25        21.60\n",
       "\n",
       "[126 rows x 4 columns]"
      ],
      "text/html": [
       "<div>\n",
       "<style scoped>\n",
       "    .dataframe tbody tr th:only-of-type {\n",
       "        vertical-align: middle;\n",
       "    }\n",
       "\n",
       "    .dataframe tbody tr th {\n",
       "        vertical-align: top;\n",
       "    }\n",
       "\n",
       "    .dataframe thead th {\n",
       "        text-align: right;\n",
       "    }\n",
       "</style>\n",
       "<table border=\"1\" class=\"dataframe\">\n",
       "  <thead>\n",
       "    <tr style=\"text-align: right;\">\n",
       "      <th></th>\n",
       "      <th>produccion</th>\n",
       "      <th>lluvia</th>\n",
       "      <th>humedad</th>\n",
       "      <th>temperatura</th>\n",
       "    </tr>\n",
       "    <tr>\n",
       "      <th>fecha</th>\n",
       "      <th></th>\n",
       "      <th></th>\n",
       "      <th></th>\n",
       "      <th></th>\n",
       "    </tr>\n",
       "  </thead>\n",
       "  <tbody>\n",
       "    <tr>\n",
       "      <th>2015-01-01</th>\n",
       "      <td>36.400</td>\n",
       "      <td>171.90</td>\n",
       "      <td>90.67</td>\n",
       "      <td>19.20</td>\n",
       "    </tr>\n",
       "    <tr>\n",
       "      <th>2015-02-01</th>\n",
       "      <td>62.200</td>\n",
       "      <td>107.62</td>\n",
       "      <td>89.37</td>\n",
       "      <td>19.11</td>\n",
       "    </tr>\n",
       "    <tr>\n",
       "      <th>2015-03-01</th>\n",
       "      <td>102.800</td>\n",
       "      <td>79.44</td>\n",
       "      <td>86.31</td>\n",
       "      <td>19.49</td>\n",
       "    </tr>\n",
       "    <tr>\n",
       "      <th>2015-04-01</th>\n",
       "      <td>29.950</td>\n",
       "      <td>115.93</td>\n",
       "      <td>85.46</td>\n",
       "      <td>20.80</td>\n",
       "    </tr>\n",
       "    <tr>\n",
       "      <th>2015-05-01</th>\n",
       "      <td>8.400</td>\n",
       "      <td>253.66</td>\n",
       "      <td>89.03</td>\n",
       "      <td>20.93</td>\n",
       "    </tr>\n",
       "    <tr>\n",
       "      <th>...</th>\n",
       "      <td>...</td>\n",
       "      <td>...</td>\n",
       "      <td>...</td>\n",
       "      <td>...</td>\n",
       "    </tr>\n",
       "    <tr>\n",
       "      <th>2025-02-01</th>\n",
       "      <td>0.530</td>\n",
       "      <td>57.69</td>\n",
       "      <td>88.61</td>\n",
       "      <td>19.99</td>\n",
       "    </tr>\n",
       "    <tr>\n",
       "      <th>2025-03-01</th>\n",
       "      <td>5.640</td>\n",
       "      <td>78.32</td>\n",
       "      <td>84.79</td>\n",
       "      <td>20.68</td>\n",
       "    </tr>\n",
       "    <tr>\n",
       "      <th>2025-04-01</th>\n",
       "      <td>73.339</td>\n",
       "      <td>342.60</td>\n",
       "      <td>87.64</td>\n",
       "      <td>20.78</td>\n",
       "    </tr>\n",
       "    <tr>\n",
       "      <th>2025-05-01</th>\n",
       "      <td>123.480</td>\n",
       "      <td>364.74</td>\n",
       "      <td>92.25</td>\n",
       "      <td>21.60</td>\n",
       "    </tr>\n",
       "    <tr>\n",
       "      <th>2025-06-01</th>\n",
       "      <td>93.072</td>\n",
       "      <td>364.74</td>\n",
       "      <td>92.25</td>\n",
       "      <td>21.60</td>\n",
       "    </tr>\n",
       "  </tbody>\n",
       "</table>\n",
       "<p>126 rows × 4 columns</p>\n",
       "</div>"
      ]
     },
     "execution_count": 45,
     "metadata": {},
     "output_type": "execute_result"
    }
   ],
   "execution_count": 45
  },
  {
   "metadata": {
    "ExecuteTime": {
     "end_time": "2025-07-17T20:11:38.267389Z",
     "start_time": "2025-07-17T20:11:38.260128Z"
    }
   },
   "cell_type": "code",
   "source": [
    "#Cogemos todos los datos originales y escalamos en base a ellos\n",
    "full_scaler = MinMaxScaler()\n",
    "scaled_full_data = full_scaler.fit_transform(df)"
   ],
   "id": "5299d146ce294882",
   "outputs": [],
   "execution_count": 46
  },
  {
   "metadata": {
    "ExecuteTime": {
     "end_time": "2025-07-17T20:11:40.167210Z",
     "start_time": "2025-07-17T20:11:40.162399Z"
    }
   },
   "cell_type": "code",
   "source": [
    "longitud = 12 # Longitud de la secuencia de salida a predecir (en número de timesteps)\n",
    "generador = TimeseriesGenerator(scaled_full_data, scaled_full_data, length=longitud, batch_size=tamaño_batch)"
   ],
   "id": "c81a188635e8b0ca",
   "outputs": [],
   "execution_count": 47
  },
  {
   "metadata": {
    "ExecuteTime": {
     "end_time": "2025-07-17T20:12:02.591281Z",
     "start_time": "2025-07-17T20:11:42.018744Z"
    }
   },
   "cell_type": "code",
   "source": [
    "model = Sequential()\n",
    "model.add(LSTM(100, activation='relu', input_shape=(longitud, n_variables)))\n",
    "model.add(Dense(1))\n",
    "model.compile(optimizer='adam', loss='mse')\n",
    "\n",
    "# Ajustamos el modelo, escogemos el número de epochs en base al entrenamiento anterior (no tiene sentido EarlyStopping puesto que no tenemos ahora datos de validación con los que comparar)\n",
    "model.fit(generador,epochs=50)"
   ],
   "id": "6d61df7d8015e452",
   "outputs": [
    {
     "name": "stdout",
     "output_type": "stream",
     "text": [
      "Epoch 1/50\n"
     ]
    },
    {
     "name": "stderr",
     "output_type": "stream",
     "text": [
      "C:\\Users\\pmari\\OneDrive\\Para Revisar\\Documentos\\GitKraken\\AgroIAPrincipal\\AgroIA\\.venv\\Lib\\site-packages\\keras\\src\\layers\\rnn\\rnn.py:199: UserWarning: Do not pass an `input_shape`/`input_dim` argument to a layer. When using Sequential models, prefer using an `Input(shape)` object as the first layer in the model instead.\n",
      "  super().__init__(**kwargs)\n",
      "C:\\Users\\pmari\\OneDrive\\Para Revisar\\Documentos\\GitKraken\\AgroIAPrincipal\\AgroIA\\.venv\\Lib\\site-packages\\keras\\src\\trainers\\data_adapters\\py_dataset_adapter.py:121: UserWarning: Your `PyDataset` class should call `super().__init__(**kwargs)` in its constructor. `**kwargs` can include `workers`, `use_multiprocessing`, `max_queue_size`. Do not pass these arguments to `fit()`, as they will be ignored.\n",
      "  self._warn_if_super_not_called()\n"
     ]
    },
    {
     "name": "stdout",
     "output_type": "stream",
     "text": [
      "\u001B[1m114/114\u001B[0m \u001B[32m━━━━━━━━━━━━━━━━━━━━\u001B[0m\u001B[37m\u001B[0m \u001B[1m2s\u001B[0m 3ms/step - loss: 0.1190\n",
      "Epoch 2/50\n",
      "\u001B[1m114/114\u001B[0m \u001B[32m━━━━━━━━━━━━━━━━━━━━\u001B[0m\u001B[37m\u001B[0m \u001B[1m0s\u001B[0m 3ms/step - loss: 0.0683\n",
      "Epoch 3/50\n",
      "\u001B[1m114/114\u001B[0m \u001B[32m━━━━━━━━━━━━━━━━━━━━\u001B[0m\u001B[37m\u001B[0m \u001B[1m0s\u001B[0m 3ms/step - loss: 0.0599\n",
      "Epoch 4/50\n",
      "\u001B[1m114/114\u001B[0m \u001B[32m━━━━━━━━━━━━━━━━━━━━\u001B[0m\u001B[37m\u001B[0m \u001B[1m0s\u001B[0m 3ms/step - loss: 0.0588\n",
      "Epoch 5/50\n",
      "\u001B[1m114/114\u001B[0m \u001B[32m━━━━━━━━━━━━━━━━━━━━\u001B[0m\u001B[37m\u001B[0m \u001B[1m0s\u001B[0m 3ms/step - loss: 0.0613\n",
      "Epoch 6/50\n",
      "\u001B[1m114/114\u001B[0m \u001B[32m━━━━━━━━━━━━━━━━━━━━\u001B[0m\u001B[37m\u001B[0m \u001B[1m0s\u001B[0m 3ms/step - loss: 0.0562\n",
      "Epoch 7/50\n",
      "\u001B[1m114/114\u001B[0m \u001B[32m━━━━━━━━━━━━━━━━━━━━\u001B[0m\u001B[37m\u001B[0m \u001B[1m0s\u001B[0m 3ms/step - loss: 0.0539\n",
      "Epoch 8/50\n",
      "\u001B[1m114/114\u001B[0m \u001B[32m━━━━━━━━━━━━━━━━━━━━\u001B[0m\u001B[37m\u001B[0m \u001B[1m0s\u001B[0m 3ms/step - loss: 0.0591\n",
      "Epoch 9/50\n",
      "\u001B[1m114/114\u001B[0m \u001B[32m━━━━━━━━━━━━━━━━━━━━\u001B[0m\u001B[37m\u001B[0m \u001B[1m0s\u001B[0m 3ms/step - loss: 0.0599\n",
      "Epoch 10/50\n",
      "\u001B[1m114/114\u001B[0m \u001B[32m━━━━━━━━━━━━━━━━━━━━\u001B[0m\u001B[37m\u001B[0m \u001B[1m0s\u001B[0m 3ms/step - loss: 0.0569\n",
      "Epoch 11/50\n",
      "\u001B[1m114/114\u001B[0m \u001B[32m━━━━━━━━━━━━━━━━━━━━\u001B[0m\u001B[37m\u001B[0m \u001B[1m0s\u001B[0m 3ms/step - loss: 0.0618\n",
      "Epoch 12/50\n",
      "\u001B[1m114/114\u001B[0m \u001B[32m━━━━━━━━━━━━━━━━━━━━\u001B[0m\u001B[37m\u001B[0m \u001B[1m0s\u001B[0m 3ms/step - loss: 0.0598\n",
      "Epoch 13/50\n",
      "\u001B[1m114/114\u001B[0m \u001B[32m━━━━━━━━━━━━━━━━━━━━\u001B[0m\u001B[37m\u001B[0m \u001B[1m0s\u001B[0m 3ms/step - loss: 0.0569\n",
      "Epoch 14/50\n",
      "\u001B[1m114/114\u001B[0m \u001B[32m━━━━━━━━━━━━━━━━━━━━\u001B[0m\u001B[37m\u001B[0m \u001B[1m0s\u001B[0m 3ms/step - loss: 0.0578\n",
      "Epoch 15/50\n",
      "\u001B[1m114/114\u001B[0m \u001B[32m━━━━━━━━━━━━━━━━━━━━\u001B[0m\u001B[37m\u001B[0m \u001B[1m0s\u001B[0m 3ms/step - loss: 0.0555\n",
      "Epoch 16/50\n",
      "\u001B[1m114/114\u001B[0m \u001B[32m━━━━━━━━━━━━━━━━━━━━\u001B[0m\u001B[37m\u001B[0m \u001B[1m0s\u001B[0m 3ms/step - loss: 0.0593\n",
      "Epoch 17/50\n",
      "\u001B[1m114/114\u001B[0m \u001B[32m━━━━━━━━━━━━━━━━━━━━\u001B[0m\u001B[37m\u001B[0m \u001B[1m0s\u001B[0m 3ms/step - loss: 0.0543\n",
      "Epoch 18/50\n",
      "\u001B[1m114/114\u001B[0m \u001B[32m━━━━━━━━━━━━━━━━━━━━\u001B[0m\u001B[37m\u001B[0m \u001B[1m0s\u001B[0m 3ms/step - loss: 0.0598\n",
      "Epoch 19/50\n",
      "\u001B[1m114/114\u001B[0m \u001B[32m━━━━━━━━━━━━━━━━━━━━\u001B[0m\u001B[37m\u001B[0m \u001B[1m0s\u001B[0m 3ms/step - loss: 0.0541\n",
      "Epoch 20/50\n",
      "\u001B[1m114/114\u001B[0m \u001B[32m━━━━━━━━━━━━━━━━━━━━\u001B[0m\u001B[37m\u001B[0m \u001B[1m0s\u001B[0m 3ms/step - loss: 0.0593\n",
      "Epoch 21/50\n",
      "\u001B[1m114/114\u001B[0m \u001B[32m━━━━━━━━━━━━━━━━━━━━\u001B[0m\u001B[37m\u001B[0m \u001B[1m0s\u001B[0m 3ms/step - loss: 0.0528\n",
      "Epoch 22/50\n",
      "\u001B[1m114/114\u001B[0m \u001B[32m━━━━━━━━━━━━━━━━━━━━\u001B[0m\u001B[37m\u001B[0m \u001B[1m0s\u001B[0m 3ms/step - loss: 0.0542\n",
      "Epoch 23/50\n",
      "\u001B[1m114/114\u001B[0m \u001B[32m━━━━━━━━━━━━━━━━━━━━\u001B[0m\u001B[37m\u001B[0m \u001B[1m0s\u001B[0m 3ms/step - loss: 0.0551\n",
      "Epoch 24/50\n",
      "\u001B[1m114/114\u001B[0m \u001B[32m━━━━━━━━━━━━━━━━━━━━\u001B[0m\u001B[37m\u001B[0m \u001B[1m0s\u001B[0m 3ms/step - loss: 0.0588\n",
      "Epoch 25/50\n",
      "\u001B[1m114/114\u001B[0m \u001B[32m━━━━━━━━━━━━━━━━━━━━\u001B[0m\u001B[37m\u001B[0m \u001B[1m0s\u001B[0m 3ms/step - loss: 0.0572\n",
      "Epoch 26/50\n",
      "\u001B[1m114/114\u001B[0m \u001B[32m━━━━━━━━━━━━━━━━━━━━\u001B[0m\u001B[37m\u001B[0m \u001B[1m0s\u001B[0m 3ms/step - loss: 0.0595\n",
      "Epoch 27/50\n",
      "\u001B[1m114/114\u001B[0m \u001B[32m━━━━━━━━━━━━━━━━━━━━\u001B[0m\u001B[37m\u001B[0m \u001B[1m0s\u001B[0m 3ms/step - loss: 0.0585\n",
      "Epoch 28/50\n",
      "\u001B[1m114/114\u001B[0m \u001B[32m━━━━━━━━━━━━━━━━━━━━\u001B[0m\u001B[37m\u001B[0m \u001B[1m0s\u001B[0m 4ms/step - loss: 0.0533\n",
      "Epoch 29/50\n",
      "\u001B[1m114/114\u001B[0m \u001B[32m━━━━━━━━━━━━━━━━━━━━\u001B[0m\u001B[37m\u001B[0m \u001B[1m0s\u001B[0m 3ms/step - loss: 0.0537\n",
      "Epoch 30/50\n",
      "\u001B[1m114/114\u001B[0m \u001B[32m━━━━━━━━━━━━━━━━━━━━\u001B[0m\u001B[37m\u001B[0m \u001B[1m0s\u001B[0m 3ms/step - loss: 0.0582\n",
      "Epoch 31/50\n",
      "\u001B[1m114/114\u001B[0m \u001B[32m━━━━━━━━━━━━━━━━━━━━\u001B[0m\u001B[37m\u001B[0m \u001B[1m0s\u001B[0m 3ms/step - loss: 0.0532\n",
      "Epoch 32/50\n",
      "\u001B[1m114/114\u001B[0m \u001B[32m━━━━━━━━━━━━━━━━━━━━\u001B[0m\u001B[37m\u001B[0m \u001B[1m0s\u001B[0m 3ms/step - loss: 0.0545\n",
      "Epoch 33/50\n",
      "\u001B[1m114/114\u001B[0m \u001B[32m━━━━━━━━━━━━━━━━━━━━\u001B[0m\u001B[37m\u001B[0m \u001B[1m0s\u001B[0m 3ms/step - loss: 0.0546\n",
      "Epoch 34/50\n",
      "\u001B[1m114/114\u001B[0m \u001B[32m━━━━━━━━━━━━━━━━━━━━\u001B[0m\u001B[37m\u001B[0m \u001B[1m0s\u001B[0m 3ms/step - loss: 0.0581\n",
      "Epoch 35/50\n",
      "\u001B[1m114/114\u001B[0m \u001B[32m━━━━━━━━━━━━━━━━━━━━\u001B[0m\u001B[37m\u001B[0m \u001B[1m0s\u001B[0m 3ms/step - loss: 0.0539\n",
      "Epoch 36/50\n",
      "\u001B[1m114/114\u001B[0m \u001B[32m━━━━━━━━━━━━━━━━━━━━\u001B[0m\u001B[37m\u001B[0m \u001B[1m0s\u001B[0m 4ms/step - loss: 0.0528\n",
      "Epoch 37/50\n",
      "\u001B[1m114/114\u001B[0m \u001B[32m━━━━━━━━━━━━━━━━━━━━\u001B[0m\u001B[37m\u001B[0m \u001B[1m0s\u001B[0m 3ms/step - loss: 0.0548\n",
      "Epoch 38/50\n",
      "\u001B[1m114/114\u001B[0m \u001B[32m━━━━━━━━━━━━━━━━━━━━\u001B[0m\u001B[37m\u001B[0m \u001B[1m0s\u001B[0m 3ms/step - loss: 0.0557\n",
      "Epoch 39/50\n",
      "\u001B[1m114/114\u001B[0m \u001B[32m━━━━━━━━━━━━━━━━━━━━\u001B[0m\u001B[37m\u001B[0m \u001B[1m0s\u001B[0m 3ms/step - loss: 0.0556\n",
      "Epoch 40/50\n",
      "\u001B[1m114/114\u001B[0m \u001B[32m━━━━━━━━━━━━━━━━━━━━\u001B[0m\u001B[37m\u001B[0m \u001B[1m0s\u001B[0m 3ms/step - loss: 0.0544\n",
      "Epoch 41/50\n",
      "\u001B[1m114/114\u001B[0m \u001B[32m━━━━━━━━━━━━━━━━━━━━\u001B[0m\u001B[37m\u001B[0m \u001B[1m0s\u001B[0m 3ms/step - loss: 0.0512\n",
      "Epoch 42/50\n",
      "\u001B[1m114/114\u001B[0m \u001B[32m━━━━━━━━━━━━━━━━━━━━\u001B[0m\u001B[37m\u001B[0m \u001B[1m0s\u001B[0m 3ms/step - loss: 0.0537\n",
      "Epoch 43/50\n",
      "\u001B[1m114/114\u001B[0m \u001B[32m━━━━━━━━━━━━━━━━━━━━\u001B[0m\u001B[37m\u001B[0m \u001B[1m0s\u001B[0m 3ms/step - loss: 0.0518\n",
      "Epoch 44/50\n",
      "\u001B[1m114/114\u001B[0m \u001B[32m━━━━━━━━━━━━━━━━━━━━\u001B[0m\u001B[37m\u001B[0m \u001B[1m0s\u001B[0m 3ms/step - loss: 0.0567\n",
      "Epoch 45/50\n",
      "\u001B[1m114/114\u001B[0m \u001B[32m━━━━━━━━━━━━━━━━━━━━\u001B[0m\u001B[37m\u001B[0m \u001B[1m0s\u001B[0m 3ms/step - loss: 0.0576\n",
      "Epoch 46/50\n",
      "\u001B[1m114/114\u001B[0m \u001B[32m━━━━━━━━━━━━━━━━━━━━\u001B[0m\u001B[37m\u001B[0m \u001B[1m0s\u001B[0m 3ms/step - loss: 0.0535\n",
      "Epoch 47/50\n",
      "\u001B[1m114/114\u001B[0m \u001B[32m━━━━━━━━━━━━━━━━━━━━\u001B[0m\u001B[37m\u001B[0m \u001B[1m0s\u001B[0m 3ms/step - loss: 0.0535\n",
      "Epoch 48/50\n",
      "\u001B[1m114/114\u001B[0m \u001B[32m━━━━━━━━━━━━━━━━━━━━\u001B[0m\u001B[37m\u001B[0m \u001B[1m0s\u001B[0m 3ms/step - loss: 0.0532\n",
      "Epoch 49/50\n",
      "\u001B[1m114/114\u001B[0m \u001B[32m━━━━━━━━━━━━━━━━━━━━\u001B[0m\u001B[37m\u001B[0m \u001B[1m0s\u001B[0m 3ms/step - loss: 0.0537\n",
      "Epoch 50/50\n",
      "\u001B[1m114/114\u001B[0m \u001B[32m━━━━━━━━━━━━━━━━━━━━\u001B[0m\u001B[37m\u001B[0m \u001B[1m0s\u001B[0m 3ms/step - loss: 0.0525\n"
     ]
    },
    {
     "data": {
      "text/plain": [
       "<keras.src.callbacks.history.History at 0x1cff5df1110>"
      ]
     },
     "execution_count": 48,
     "metadata": {},
     "output_type": "execute_result"
    }
   ],
   "execution_count": 48
  },
  {
   "metadata": {
    "ExecuteTime": {
     "end_time": "2025-07-17T20:12:14.991498Z",
     "start_time": "2025-07-17T20:12:13.899376Z"
    }
   },
   "cell_type": "code",
   "source": [
    "forecast = []\n",
    "\n",
    "periodos = 12 # Indicamos el número de periodos en base a la longitud del forecast deseada (12 meses)\n",
    "\n",
    "primer_batch = scaled_full_data[-longitud:]\n",
    "batch_actual = primer_batch.reshape((1, longitud, n_variables))\n",
    "\n",
    "for i in range(periodos):\n",
    "\n",
    "    pred_actual = model.predict(batch_actual)[0]\n",
    "    forecast.append(pred_actual)\n",
    "\n",
    "    # Actualizar batch_actual de forma más simple\n",
    "    batch_actual = np.roll(batch_actual, -1, axis=1)\n",
    "    batch_actual[0, -1, :] = pred_actual\n"
   ],
   "id": "ad04b6c723a826f5",
   "outputs": [
    {
     "name": "stdout",
     "output_type": "stream",
     "text": [
      "\u001B[1m1/1\u001B[0m \u001B[32m━━━━━━━━━━━━━━━━━━━━\u001B[0m\u001B[37m\u001B[0m \u001B[1m0s\u001B[0m 135ms/step\n",
      "\u001B[1m1/1\u001B[0m \u001B[32m━━━━━━━━━━━━━━━━━━━━\u001B[0m\u001B[37m\u001B[0m \u001B[1m0s\u001B[0m 39ms/step\n",
      "\u001B[1m1/1\u001B[0m \u001B[32m━━━━━━━━━━━━━━━━━━━━\u001B[0m\u001B[37m\u001B[0m \u001B[1m0s\u001B[0m 37ms/step\n",
      "\u001B[1m1/1\u001B[0m \u001B[32m━━━━━━━━━━━━━━━━━━━━\u001B[0m\u001B[37m\u001B[0m \u001B[1m0s\u001B[0m 24ms/step\n",
      "\u001B[1m1/1\u001B[0m \u001B[32m━━━━━━━━━━━━━━━━━━━━\u001B[0m\u001B[37m\u001B[0m \u001B[1m0s\u001B[0m 34ms/step\n",
      "\u001B[1m1/1\u001B[0m \u001B[32m━━━━━━━━━━━━━━━━━━━━\u001B[0m\u001B[37m\u001B[0m \u001B[1m0s\u001B[0m 43ms/step\n",
      "\u001B[1m1/1\u001B[0m \u001B[32m━━━━━━━━━━━━━━━━━━━━\u001B[0m\u001B[37m\u001B[0m \u001B[1m0s\u001B[0m 42ms/step\n",
      "\u001B[1m1/1\u001B[0m \u001B[32m━━━━━━━━━━━━━━━━━━━━\u001B[0m\u001B[37m\u001B[0m \u001B[1m0s\u001B[0m 46ms/step\n",
      "\u001B[1m1/1\u001B[0m \u001B[32m━━━━━━━━━━━━━━━━━━━━\u001B[0m\u001B[37m\u001B[0m \u001B[1m0s\u001B[0m 32ms/step\n",
      "\u001B[1m1/1\u001B[0m \u001B[32m━━━━━━━━━━━━━━━━━━━━\u001B[0m\u001B[37m\u001B[0m \u001B[1m0s\u001B[0m 29ms/step\n",
      "\u001B[1m1/1\u001B[0m \u001B[32m━━━━━━━━━━━━━━━━━━━━\u001B[0m\u001B[37m\u001B[0m \u001B[1m0s\u001B[0m 27ms/step\n",
      "\u001B[1m1/1\u001B[0m \u001B[32m━━━━━━━━━━━━━━━━━━━━\u001B[0m\u001B[37m\u001B[0m \u001B[1m0s\u001B[0m 38ms/step\n"
     ]
    }
   ],
   "execution_count": 49
  },
  {
   "metadata": {
    "ExecuteTime": {
     "end_time": "2025-07-17T20:12:17.537928Z",
     "start_time": "2025-07-17T20:12:17.531325Z"
    }
   },
   "cell_type": "code",
   "source": "batch_actual",
   "id": "a539f1e808214dcf",
   "outputs": [
    {
     "data": {
      "text/plain": [
       "array([[[0.59386265, 0.59386265, 0.59386265, 0.59386265],\n",
       "        [0.5929535 , 0.5929535 , 0.5929535 , 0.5929535 ],\n",
       "        [0.58441776, 0.58441776, 0.58441776, 0.58441776],\n",
       "        [0.55727738, 0.55727738, 0.55727738, 0.55727738],\n",
       "        [0.52810168, 0.52810168, 0.52810168, 0.52810168],\n",
       "        [0.49040753, 0.49040753, 0.49040753, 0.49040753],\n",
       "        [0.43328097, 0.43328097, 0.43328097, 0.43328097],\n",
       "        [0.41721234, 0.41721234, 0.41721234, 0.41721234],\n",
       "        [0.42499006, 0.42499006, 0.42499006, 0.42499006],\n",
       "        [0.44803217, 0.44803217, 0.44803217, 0.44803217],\n",
       "        [0.46403912, 0.46403912, 0.46403912, 0.46403912],\n",
       "        [0.46634054, 0.46634054, 0.46634054, 0.46634054]]])"
      ]
     },
     "execution_count": 50,
     "metadata": {},
     "output_type": "execute_result"
    }
   ],
   "execution_count": 50
  },
  {
   "metadata": {
    "ExecuteTime": {
     "end_time": "2025-07-17T20:12:18.913078Z",
     "start_time": "2025-07-17T20:12:18.905943Z"
    }
   },
   "cell_type": "code",
   "source": "primer_batch\n",
   "id": "6076bc0cd9a14083",
   "outputs": [
    {
     "data": {
      "text/plain": [
       "array([[0.47912465, 0.67761864, 0.93031875, 0.72022161],\n",
       "       [0.3862015 , 0.23460822, 0.72424018, 0.70914127],\n",
       "       [0.58313115, 0.48628053, 0.77687176, 0.77562327],\n",
       "       [0.57128924, 0.47418746, 0.9273536 , 0.66204986],\n",
       "       [0.8437374 , 0.99299599, 1.        , 0.52077562],\n",
       "       [0.62809669, 0.29117809, 0.9340252 , 0.3767313 ],\n",
       "       [0.        , 0.13070224, 0.79614529, 0.31301939],\n",
       "       [0.        , 0.04595892, 0.59747961, 0.34072022],\n",
       "       [0.03076367, 0.0730175 , 0.31430689, 0.53185596],\n",
       "       [0.43833118, 0.41965059, 0.5255745 , 0.55955679],\n",
       "       [0.74019446, 0.4486897 , 0.86730912, 0.7867036 ],\n",
       "       [0.55712953, 0.4486897 , 0.86730912, 0.7867036 ]])"
      ]
     },
     "execution_count": 51,
     "metadata": {},
     "output_type": "execute_result"
    }
   ],
   "execution_count": 51
  },
  {
   "metadata": {
    "ExecuteTime": {
     "end_time": "2025-07-17T20:12:20.747039Z",
     "start_time": "2025-07-17T20:12:20.739125Z"
    }
   },
   "cell_type": "code",
   "source": "forecast",
   "id": "1f1d406b3c71183",
   "outputs": [
    {
     "data": {
      "text/plain": [
       "[array([0.59386265], dtype=float32),\n",
       " array([0.5929535], dtype=float32),\n",
       " array([0.58441776], dtype=float32),\n",
       " array([0.5572774], dtype=float32),\n",
       " array([0.5281017], dtype=float32),\n",
       " array([0.49040753], dtype=float32),\n",
       " array([0.43328097], dtype=float32),\n",
       " array([0.41721234], dtype=float32),\n",
       " array([0.42499006], dtype=float32),\n",
       " array([0.44803217], dtype=float32),\n",
       " array([0.46403912], dtype=float32),\n",
       " array([0.46634054], dtype=float32)]"
      ]
     },
     "execution_count": 52,
     "metadata": {},
     "output_type": "execute_result"
    }
   ],
   "execution_count": 52
  },
  {
   "metadata": {
    "ExecuteTime": {
     "end_time": "2025-07-17T20:12:23.057556Z",
     "start_time": "2025-07-17T20:12:23.053325Z"
    }
   },
   "cell_type": "code",
   "source": [
    "# Usar los parámetros del scaler original solo para la primera variable\n",
    "forecast = np.array(forecast)\n",
    "\n",
    "# Extraer parámetros de la primera variable del scaler original\n",
    "min_val = scaler.min_[0]\n",
    "scale_val = scaler.scale_[0]\n",
    "\n",
    "# Aplicar inverse transform manualmente\n",
    "forecast_original = (forecast / scale_val) + min_val"
   ],
   "id": "328bd15588d27e73",
   "outputs": [],
   "execution_count": 53
  },
  {
   "metadata": {
    "ExecuteTime": {
     "end_time": "2025-07-17T20:12:26.096363Z",
     "start_time": "2025-07-17T20:12:26.089916Z"
    }
   },
   "cell_type": "code",
   "source": "forecast_original.shape[1]",
   "id": "bc37ddb835e8ef7d",
   "outputs": [
    {
     "data": {
      "text/plain": [
       "1"
      ]
     },
     "execution_count": 54,
     "metadata": {},
     "output_type": "execute_result"
    }
   ],
   "execution_count": 54
  },
  {
   "metadata": {
    "ExecuteTime": {
     "end_time": "2025-07-17T20:12:27.420210Z",
     "start_time": "2025-07-17T20:12:27.413169Z"
    }
   },
   "cell_type": "code",
   "source": "forecast_original",
   "id": "d04b844b5114db38",
   "outputs": [
    {
     "data": {
      "text/plain": [
       "array([[98.32840621],\n",
       "       [98.17786466],\n",
       "       [96.7644737 ],\n",
       "       [92.27043405],\n",
       "       [87.43937597],\n",
       "       [81.19778912],\n",
       "       [71.73848903],\n",
       "       [69.07776371],\n",
       "       [70.36563759],\n",
       "       [74.1810658 ],\n",
       "       [76.83157605],\n",
       "       [77.21265747]])"
      ]
     },
     "execution_count": 55,
     "metadata": {},
     "output_type": "execute_result"
    }
   ],
   "execution_count": 55
  },
  {
   "metadata": {
    "ExecuteTime": {
     "end_time": "2025-07-17T20:12:30.299102Z",
     "start_time": "2025-07-17T20:12:30.294423Z"
    }
   },
   "cell_type": "code",
   "source": "forecast_variable_interes = forecast_original",
   "id": "4eb17bb9c6ccd9e7",
   "outputs": [],
   "execution_count": 56
  },
  {
   "metadata": {
    "ExecuteTime": {
     "end_time": "2025-07-17T20:12:31.699352Z",
     "start_time": "2025-07-17T20:12:31.693201Z"
    }
   },
   "cell_type": "code",
   "source": "forecast_original",
   "id": "3ac86b0a5ec1a8cd",
   "outputs": [
    {
     "data": {
      "text/plain": [
       "array([[98.32840621],\n",
       "       [98.17786466],\n",
       "       [96.7644737 ],\n",
       "       [92.27043405],\n",
       "       [87.43937597],\n",
       "       [81.19778912],\n",
       "       [71.73848903],\n",
       "       [69.07776371],\n",
       "       [70.36563759],\n",
       "       [74.1810658 ],\n",
       "       [76.83157605],\n",
       "       [77.21265747]])"
      ]
     },
     "execution_count": 57,
     "metadata": {},
     "output_type": "execute_result"
    }
   ],
   "execution_count": 57
  },
  {
   "metadata": {},
   "cell_type": "markdown",
   "source": "### Creamos el nuevo índice de tiempos para el forecast",
   "id": "d53665a605105cab"
  },
  {
   "metadata": {
    "ExecuteTime": {
     "end_time": "2025-07-17T20:12:34.187698Z",
     "start_time": "2025-07-17T20:12:34.175679Z"
    }
   },
   "cell_type": "code",
   "source": "df",
   "id": "fec29f6c36c20e22",
   "outputs": [
    {
     "data": {
      "text/plain": [
       "            produccion  lluvia  humedad  temperatura\n",
       "fecha                                               \n",
       "2015-01-01      36.400  171.90    90.67        19.20\n",
       "2015-02-01      62.200  107.62    89.37        19.11\n",
       "2015-03-01     102.800   79.44    86.31        19.49\n",
       "2015-04-01      29.950  115.93    85.46        20.80\n",
       "2015-05-01       8.400  253.66    89.03        20.93\n",
       "...                ...     ...      ...          ...\n",
       "2025-02-01       0.530   57.69    88.61        19.99\n",
       "2025-03-01       5.640   78.32    84.79        20.68\n",
       "2025-04-01      73.339  342.60    87.64        20.78\n",
       "2025-05-01     123.480  364.74    92.25        21.60\n",
       "2025-06-01      93.072  364.74    92.25        21.60\n",
       "\n",
       "[126 rows x 4 columns]"
      ],
      "text/html": [
       "<div>\n",
       "<style scoped>\n",
       "    .dataframe tbody tr th:only-of-type {\n",
       "        vertical-align: middle;\n",
       "    }\n",
       "\n",
       "    .dataframe tbody tr th {\n",
       "        vertical-align: top;\n",
       "    }\n",
       "\n",
       "    .dataframe thead th {\n",
       "        text-align: right;\n",
       "    }\n",
       "</style>\n",
       "<table border=\"1\" class=\"dataframe\">\n",
       "  <thead>\n",
       "    <tr style=\"text-align: right;\">\n",
       "      <th></th>\n",
       "      <th>produccion</th>\n",
       "      <th>lluvia</th>\n",
       "      <th>humedad</th>\n",
       "      <th>temperatura</th>\n",
       "    </tr>\n",
       "    <tr>\n",
       "      <th>fecha</th>\n",
       "      <th></th>\n",
       "      <th></th>\n",
       "      <th></th>\n",
       "      <th></th>\n",
       "    </tr>\n",
       "  </thead>\n",
       "  <tbody>\n",
       "    <tr>\n",
       "      <th>2015-01-01</th>\n",
       "      <td>36.400</td>\n",
       "      <td>171.90</td>\n",
       "      <td>90.67</td>\n",
       "      <td>19.20</td>\n",
       "    </tr>\n",
       "    <tr>\n",
       "      <th>2015-02-01</th>\n",
       "      <td>62.200</td>\n",
       "      <td>107.62</td>\n",
       "      <td>89.37</td>\n",
       "      <td>19.11</td>\n",
       "    </tr>\n",
       "    <tr>\n",
       "      <th>2015-03-01</th>\n",
       "      <td>102.800</td>\n",
       "      <td>79.44</td>\n",
       "      <td>86.31</td>\n",
       "      <td>19.49</td>\n",
       "    </tr>\n",
       "    <tr>\n",
       "      <th>2015-04-01</th>\n",
       "      <td>29.950</td>\n",
       "      <td>115.93</td>\n",
       "      <td>85.46</td>\n",
       "      <td>20.80</td>\n",
       "    </tr>\n",
       "    <tr>\n",
       "      <th>2015-05-01</th>\n",
       "      <td>8.400</td>\n",
       "      <td>253.66</td>\n",
       "      <td>89.03</td>\n",
       "      <td>20.93</td>\n",
       "    </tr>\n",
       "    <tr>\n",
       "      <th>...</th>\n",
       "      <td>...</td>\n",
       "      <td>...</td>\n",
       "      <td>...</td>\n",
       "      <td>...</td>\n",
       "    </tr>\n",
       "    <tr>\n",
       "      <th>2025-02-01</th>\n",
       "      <td>0.530</td>\n",
       "      <td>57.69</td>\n",
       "      <td>88.61</td>\n",
       "      <td>19.99</td>\n",
       "    </tr>\n",
       "    <tr>\n",
       "      <th>2025-03-01</th>\n",
       "      <td>5.640</td>\n",
       "      <td>78.32</td>\n",
       "      <td>84.79</td>\n",
       "      <td>20.68</td>\n",
       "    </tr>\n",
       "    <tr>\n",
       "      <th>2025-04-01</th>\n",
       "      <td>73.339</td>\n",
       "      <td>342.60</td>\n",
       "      <td>87.64</td>\n",
       "      <td>20.78</td>\n",
       "    </tr>\n",
       "    <tr>\n",
       "      <th>2025-05-01</th>\n",
       "      <td>123.480</td>\n",
       "      <td>364.74</td>\n",
       "      <td>92.25</td>\n",
       "      <td>21.60</td>\n",
       "    </tr>\n",
       "    <tr>\n",
       "      <th>2025-06-01</th>\n",
       "      <td>93.072</td>\n",
       "      <td>364.74</td>\n",
       "      <td>92.25</td>\n",
       "      <td>21.60</td>\n",
       "    </tr>\n",
       "  </tbody>\n",
       "</table>\n",
       "<p>126 rows × 4 columns</p>\n",
       "</div>"
      ]
     },
     "execution_count": 58,
     "metadata": {},
     "output_type": "execute_result"
    }
   ],
   "execution_count": 58
  },
  {
   "metadata": {
    "ExecuteTime": {
     "end_time": "2025-07-17T20:12:35.992323Z",
     "start_time": "2025-07-17T20:12:35.986643Z"
    }
   },
   "cell_type": "code",
   "source": [
    "#Creamos el índice para que empiece en el siguiente timestamp en el que acaban nuestros datos históricos\n",
    "forecast_index = pd.date_range(start='2025-07-01',periods=periodos,freq='MS') #MS = Monthly Start"
   ],
   "id": "c22022106687b6d1",
   "outputs": [],
   "execution_count": 59
  },
  {
   "metadata": {
    "ExecuteTime": {
     "end_time": "2025-07-17T20:12:37.461526Z",
     "start_time": "2025-07-17T20:12:37.454730Z"
    }
   },
   "cell_type": "code",
   "source": "forecast_index",
   "id": "84150d919d1ba4ad",
   "outputs": [
    {
     "data": {
      "text/plain": [
       "DatetimeIndex(['2025-07-01', '2025-08-01', '2025-09-01', '2025-10-01',\n",
       "               '2025-11-01', '2025-12-01', '2026-01-01', '2026-02-01',\n",
       "               '2026-03-01', '2026-04-01', '2026-05-01', '2026-06-01'],\n",
       "              dtype='datetime64[ns]', freq='MS')"
      ]
     },
     "execution_count": 60,
     "metadata": {},
     "output_type": "execute_result"
    }
   ],
   "execution_count": 60
  },
  {
   "metadata": {
    "ExecuteTime": {
     "end_time": "2025-07-17T20:12:38.361155Z",
     "start_time": "2025-07-17T20:12:38.355398Z"
    }
   },
   "cell_type": "code",
   "source": [
    "forecast_df = pd.DataFrame(data=forecast_variable_interes,index=forecast_index,\n",
    "                           columns=['Forecast'])"
   ],
   "id": "c97db6e6ebbc67be",
   "outputs": [],
   "execution_count": 61
  },
  {
   "metadata": {
    "ExecuteTime": {
     "end_time": "2025-07-17T20:12:39.170365Z",
     "start_time": "2025-07-17T20:12:39.162350Z"
    }
   },
   "cell_type": "code",
   "source": "forecast_df",
   "id": "bb855c76f5874c51",
   "outputs": [
    {
     "data": {
      "text/plain": [
       "             Forecast\n",
       "2025-07-01  98.328406\n",
       "2025-08-01  98.177865\n",
       "2025-09-01  96.764474\n",
       "2025-10-01  92.270434\n",
       "2025-11-01  87.439376\n",
       "2025-12-01  81.197789\n",
       "2026-01-01  71.738489\n",
       "2026-02-01  69.077764\n",
       "2026-03-01  70.365638\n",
       "2026-04-01  74.181066\n",
       "2026-05-01  76.831576\n",
       "2026-06-01  77.212657"
      ],
      "text/html": [
       "<div>\n",
       "<style scoped>\n",
       "    .dataframe tbody tr th:only-of-type {\n",
       "        vertical-align: middle;\n",
       "    }\n",
       "\n",
       "    .dataframe tbody tr th {\n",
       "        vertical-align: top;\n",
       "    }\n",
       "\n",
       "    .dataframe thead th {\n",
       "        text-align: right;\n",
       "    }\n",
       "</style>\n",
       "<table border=\"1\" class=\"dataframe\">\n",
       "  <thead>\n",
       "    <tr style=\"text-align: right;\">\n",
       "      <th></th>\n",
       "      <th>Forecast</th>\n",
       "    </tr>\n",
       "  </thead>\n",
       "  <tbody>\n",
       "    <tr>\n",
       "      <th>2025-07-01</th>\n",
       "      <td>98.328406</td>\n",
       "    </tr>\n",
       "    <tr>\n",
       "      <th>2025-08-01</th>\n",
       "      <td>98.177865</td>\n",
       "    </tr>\n",
       "    <tr>\n",
       "      <th>2025-09-01</th>\n",
       "      <td>96.764474</td>\n",
       "    </tr>\n",
       "    <tr>\n",
       "      <th>2025-10-01</th>\n",
       "      <td>92.270434</td>\n",
       "    </tr>\n",
       "    <tr>\n",
       "      <th>2025-11-01</th>\n",
       "      <td>87.439376</td>\n",
       "    </tr>\n",
       "    <tr>\n",
       "      <th>2025-12-01</th>\n",
       "      <td>81.197789</td>\n",
       "    </tr>\n",
       "    <tr>\n",
       "      <th>2026-01-01</th>\n",
       "      <td>71.738489</td>\n",
       "    </tr>\n",
       "    <tr>\n",
       "      <th>2026-02-01</th>\n",
       "      <td>69.077764</td>\n",
       "    </tr>\n",
       "    <tr>\n",
       "      <th>2026-03-01</th>\n",
       "      <td>70.365638</td>\n",
       "    </tr>\n",
       "    <tr>\n",
       "      <th>2026-04-01</th>\n",
       "      <td>74.181066</td>\n",
       "    </tr>\n",
       "    <tr>\n",
       "      <th>2026-05-01</th>\n",
       "      <td>76.831576</td>\n",
       "    </tr>\n",
       "    <tr>\n",
       "      <th>2026-06-01</th>\n",
       "      <td>77.212657</td>\n",
       "    </tr>\n",
       "  </tbody>\n",
       "</table>\n",
       "</div>"
      ]
     },
     "execution_count": 62,
     "metadata": {},
     "output_type": "execute_result"
    }
   ],
   "execution_count": 62
  },
  {
   "metadata": {
    "ExecuteTime": {
     "end_time": "2025-07-17T20:12:41.795943Z",
     "start_time": "2025-07-17T20:12:41.508148Z"
    }
   },
   "cell_type": "code",
   "source": [
    "df['produccion'].plot()\n",
    "forecast_df.plot()"
   ],
   "id": "a6fee93f7ad8e99",
   "outputs": [
    {
     "data": {
      "text/plain": [
       "<Axes: >"
      ]
     },
     "execution_count": 63,
     "metadata": {},
     "output_type": "execute_result"
    },
    {
     "data": {
      "text/plain": [
       "<Figure size 640x480 with 1 Axes>"
      ],
      "image/png": "[encoded data removed]"
     },
     "metadata": {},
     "output_type": "display_data"
    },
    {
     "data": {
      "text/plain": [
       "<Figure size 640x480 with 1 Axes>"
      ],
      "image/png": "[encoded data removed]"
     },
     "metadata": {},
     "output_type": "display_data"
    }
   ],
   "execution_count": 63
  },
  {
   "metadata": {
    "ExecuteTime": {
     "end_time": "2025-07-17T20:12:44.700005Z",
     "start_time": "2025-07-17T20:12:44.547824Z"
    }
   },
   "cell_type": "code",
   "source": [
    "ax = df['produccion'].plot()\n",
    "forecast_df.plot(ax=ax)"
   ],
   "id": "f4ff02ab946b680d",
   "outputs": [
    {
     "data": {
      "text/plain": [
       "<Axes: xlabel='fecha'>"
      ]
     },
     "execution_count": 64,
     "metadata": {},
     "output_type": "execute_result"
    },
    {
     "data": {
      "text/plain": [
       "<Figure size 640x480 with 1 Axes>"
      ],
      "image/png": "[encoded data removed]"
     },
     "metadata": {},
     "output_type": "display_data"
    }
   ],
   "execution_count": 64
  },
  {
   "metadata": {
    "ExecuteTime": {
     "end_time": "2025-07-17T20:12:46.578170Z",
     "start_time": "2025-07-17T20:12:46.420861Z"
    }
   },
   "cell_type": "code",
   "source": [
    "#Hacemos zoom\n",
    "ax = df['produccion'].plot()\n",
    "forecast_df.plot(ax=ax)\n",
    "plt.xlim('2025-04-01','2026-04-01')"
   ],
   "id": "c5f7e77b1b496e00",
   "outputs": [
    {
     "data": {
      "text/plain": [
       "(663.0, 675.0)"
      ]
     },
     "execution_count": 65,
     "metadata": {},
     "output_type": "execute_result"
    },
    {
     "data": {
      "text/plain": [
       "<Figure size 640x480 with 1 Axes>"
      ],
      "image/png": "[encoded data removed]"
     },
     "metadata": {},
     "output_type": "display_data"
    }
   ],
   "execution_count": 65
  },
  {
   "metadata": {},
   "cell_type": "markdown",
   "source": "# Prueba con datos nuevos",
   "id": "4763070bdd42dd09"
  },
  {
   "metadata": {
    "ExecuteTime": {
     "end_time": "2025-07-17T20:12:53.136611Z",
     "start_time": "2025-07-17T20:12:53.124443Z"
    }
   },
   "cell_type": "code",
   "source": "df_prueba = pd.read_csv(os.path.join(obtener_ruta_app(\"AgroIA\"), \"data\", \"processed\", \"rnn\", \"dataset.csv\"),index_col='fecha', parse_dates=True, date_parser=lambda x: datetime.strptime(x, '%Y-%m-%d'))",
   "id": "77304dbbfcd40cb1",
   "outputs": [
    {
     "name": "stderr",
     "output_type": "stream",
     "text": [
      "C:\\Users\\pmari\\AppData\\Local\\Temp\\ipykernel_20856\\3476613261.py:1: FutureWarning: The argument 'date_parser' is deprecated and will be removed in a future version. Please use 'date_format' instead, or read your data in as 'object' dtype and then call 'to_datetime'.\n",
      "  df_prueba = pd.read_csv(os.path.join(obtener_ruta_app(\"AgroIA\"), \"data\", \"processed\", \"rnn\", \"dataset.csv\"),index_col='fecha', parse_dates=True, date_parser=lambda x: datetime.strptime(x, '%Y-%m-%d'))\n"
     ]
    }
   ],
   "execution_count": 66
  },
  {
   "metadata": {
    "ExecuteTime": {
     "end_time": "2025-07-17T20:12:54.552182Z",
     "start_time": "2025-07-17T20:12:54.541961Z"
    }
   },
   "cell_type": "code",
   "source": "df_prueba.head()",
   "id": "f2d0cf66ec49cc35",
   "outputs": [
    {
     "data": {
      "text/plain": [
       "            lluvia  humedad  temperatura  produccion\n",
       "fecha                                               \n",
       "2024-01-01   33.88    89.62        20.49      106.50\n",
       "2024-02-01  117.35    87.47        20.06       78.05\n",
       "2024-03-01   64.52    81.79        21.74       76.30\n",
       "2024-04-01  171.48    83.24        21.64       23.24\n",
       "2024-05-01  785.07    87.56        22.37      104.37"
      ],
      "text/html": [
       "<div>\n",
       "<style scoped>\n",
       "    .dataframe tbody tr th:only-of-type {\n",
       "        vertical-align: middle;\n",
       "    }\n",
       "\n",
       "    .dataframe tbody tr th {\n",
       "        vertical-align: top;\n",
       "    }\n",
       "\n",
       "    .dataframe thead th {\n",
       "        text-align: right;\n",
       "    }\n",
       "</style>\n",
       "<table border=\"1\" class=\"dataframe\">\n",
       "  <thead>\n",
       "    <tr style=\"text-align: right;\">\n",
       "      <th></th>\n",
       "      <th>lluvia</th>\n",
       "      <th>humedad</th>\n",
       "      <th>temperatura</th>\n",
       "      <th>produccion</th>\n",
       "    </tr>\n",
       "    <tr>\n",
       "      <th>fecha</th>\n",
       "      <th></th>\n",
       "      <th></th>\n",
       "      <th></th>\n",
       "      <th></th>\n",
       "    </tr>\n",
       "  </thead>\n",
       "  <tbody>\n",
       "    <tr>\n",
       "      <th>2024-01-01</th>\n",
       "      <td>33.88</td>\n",
       "      <td>89.62</td>\n",
       "      <td>20.49</td>\n",
       "      <td>106.50</td>\n",
       "    </tr>\n",
       "    <tr>\n",
       "      <th>2024-02-01</th>\n",
       "      <td>117.35</td>\n",
       "      <td>87.47</td>\n",
       "      <td>20.06</td>\n",
       "      <td>78.05</td>\n",
       "    </tr>\n",
       "    <tr>\n",
       "      <th>2024-03-01</th>\n",
       "      <td>64.52</td>\n",
       "      <td>81.79</td>\n",
       "      <td>21.74</td>\n",
       "      <td>76.30</td>\n",
       "    </tr>\n",
       "    <tr>\n",
       "      <th>2024-04-01</th>\n",
       "      <td>171.48</td>\n",
       "      <td>83.24</td>\n",
       "      <td>21.64</td>\n",
       "      <td>23.24</td>\n",
       "    </tr>\n",
       "    <tr>\n",
       "      <th>2024-05-01</th>\n",
       "      <td>785.07</td>\n",
       "      <td>87.56</td>\n",
       "      <td>22.37</td>\n",
       "      <td>104.37</td>\n",
       "    </tr>\n",
       "  </tbody>\n",
       "</table>\n",
       "</div>"
      ]
     },
     "execution_count": 67,
     "metadata": {},
     "output_type": "execute_result"
    }
   ],
   "execution_count": 67
  },
  {
   "metadata": {
    "ExecuteTime": {
     "end_time": "2025-07-17T20:12:56.211702Z",
     "start_time": "2025-07-17T20:12:56.205836Z"
    }
   },
   "cell_type": "code",
   "source": "df_prueba = df_prueba[['lluvia', 'humedad','temperatura', 'produccion']]",
   "id": "bb4b50f0d6e32f63",
   "outputs": [],
   "execution_count": 68
  },
  {
   "metadata": {
    "ExecuteTime": {
     "end_time": "2025-07-17T20:12:57.602159Z",
     "start_time": "2025-07-17T20:12:57.595558Z"
    }
   },
   "cell_type": "code",
   "source": [
    "full_scaler_prueba = MinMaxScaler()\n",
    "scaled_full_data_prueba = full_scaler_prueba.fit_transform(df_prueba)"
   ],
   "id": "7be62947f0b6fbda",
   "outputs": [],
   "execution_count": 69
  },
  {
   "metadata": {
    "ExecuteTime": {
     "end_time": "2025-07-17T20:12:58.392620Z",
     "start_time": "2025-07-17T20:12:58.383373Z"
    }
   },
   "cell_type": "code",
   "source": "full_scaler_prueba",
   "id": "53dc64618bf392ab",
   "outputs": [
    {
     "data": {
      "text/plain": [
       "MinMaxScaler()"
      ],
      "text/html": [
       "<style>#sk-container-id-2 {\n",
       "  /* Definition of color scheme common for light and dark mode */\n",
       "  --sklearn-color-text: #000;\n",
       "  --sklearn-color-text-muted: #666;\n",
       "  --sklearn-color-line: gray;\n",
       "  /* Definition of color scheme for unfitted estimators */\n",
       "  --sklearn-color-unfitted-level-0: #fff5e6;\n",
       "  --sklearn-color-unfitted-level-1: #f6e4d2;\n",
       "  --sklearn-color-unfitted-level-2: #ffe0b3;\n",
       "  --sklearn-color-unfitted-level-3: chocolate;\n",
       "  /* Definition of color scheme for fitted estimators */\n",
       "  --sklearn-color-fitted-level-0: #f0f8ff;\n",
       "  --sklearn-color-fitted-level-1: #d4ebff;\n",
       "  --sklearn-color-fitted-level-2: #b3dbfd;\n",
       "  --sklearn-color-fitted-level-3: cornflowerblue;\n",
       "\n",
       "  /* Specific color for light theme */\n",
       "  --sklearn-color-text-on-default-background: var(--sg-text-color, var(--theme-code-foreground, var(--jp-content-font-color1, black)));\n",
       "  --sklearn-color-background: var(--sg-background-color, var(--theme-background, var(--jp-layout-color0, white)));\n",
       "  --sklearn-color-border-box: var(--sg-text-color, var(--theme-code-foreground, var(--jp-content-font-color1, black)));\n",
       "  --sklearn-color-icon: #696969;\n",
       "\n",
       "  @media (prefers-color-scheme: dark) {\n",
       "    /* Redefinition of color scheme for dark theme */\n",
       "    --sklearn-color-text-on-default-background: var(--sg-text-color, var(--theme-code-foreground, var(--jp-content-font-color1, white)));\n",
       "    --sklearn-color-background: var(--sg-background-color, var(--theme-background, var(--jp-layout-color0, #111)));\n",
       "    --sklearn-color-border-box: var(--sg-text-color, var(--theme-code-foreground, var(--jp-content-font-color1, white)));\n",
       "    --sklearn-color-icon: #878787;\n",
       "  }\n",
       "}\n",
       "\n",
       "#sk-container-id-2 {\n",
       "  color: var(--sklearn-color-text);\n",
       "}\n",
       "\n",
       "#sk-container-id-2 pre {\n",
       "  padding: 0;\n",
       "}\n",
       "\n",
       "#sk-container-id-2 input.sk-hidden--visually {\n",
       "  border: 0;\n",
       "  clip: rect(1px 1px 1px 1px);\n",
       "  clip: rect(1px, 1px, 1px, 1px);\n",
       "  height: 1px;\n",
       "  margin: -1px;\n",
       "  overflow: hidden;\n",
       "  padding: 0;\n",
       "  position: absolute;\n",
       "  width: 1px;\n",
       "}\n",
       "\n",
       "#sk-container-id-2 div.sk-dashed-wrapped {\n",
       "  border: 1px dashed var(--sklearn-color-line);\n",
       "  margin: 0 0.4em 0.5em 0.4em;\n",
       "  box-sizing: border-box;\n",
       "  padding-bottom: 0.4em;\n",
       "  background-color: var(--sklearn-color-background);\n",
       "}\n",
       "\n",
       "#sk-container-id-2 div.sk-container {\n",
       "  /* jupyter's `normalize.less` sets `[hidden] { display: none; }`\n",
       "     but bootstrap.min.css set `[hidden] { display: none !important; }`\n",
       "     so we also need the `!important` here to be able to override the\n",
       "     default hidden behavior on the sphinx rendered scikit-learn.org.\n",
       "     See: https://github.com/scikit-learn/scikit-learn/issues/21755 */\n",
       "  display: inline-block !important;\n",
       "  position: relative;\n",
       "}\n",
       "\n",
       "#sk-container-id-2 div.sk-text-repr-fallback {\n",
       "  display: none;\n",
       "}\n",
       "\n",
       "div.sk-parallel-item,\n",
       "div.sk-serial,\n",
       "div.sk-item {\n",
       "  /* draw centered vertical line to link estimators */\n",
       "  background-image: linear-gradient(var(--sklearn-color-text-on-default-background), var(--sklearn-color-text-on-default-background));\n",
       "  background-size: 2px 100%;\n",
       "  background-repeat: no-repeat;\n",
       "  background-position: center center;\n",
       "}\n",
       "\n",
       "/* Parallel-specific style estimator block */\n",
       "\n",
       "#sk-container-id-2 div.sk-parallel-item::after {\n",
       "  content: \"\";\n",
       "  width: 100%;\n",
       "  border-bottom: 2px solid var(--sklearn-color-text-on-default-background);\n",
       "  flex-grow: 1;\n",
       "}\n",
       "\n",
       "#sk-container-id-2 div.sk-parallel {\n",
       "  display: flex;\n",
       "  align-items: stretch;\n",
       "  justify-content: center;\n",
       "  background-color: var(--sklearn-color-background);\n",
       "  position: relative;\n",
       "}\n",
       "\n",
       "#sk-container-id-2 div.sk-parallel-item {\n",
       "  display: flex;\n",
       "  flex-direction: column;\n",
       "}\n",
       "\n",
       "#sk-container-id-2 div.sk-parallel-item:first-child::after {\n",
       "  align-self: flex-end;\n",
       "  width: 50%;\n",
       "}\n",
       "\n",
       "#sk-container-id-2 div.sk-parallel-item:last-child::after {\n",
       "  align-self: flex-start;\n",
       "  width: 50%;\n",
       "}\n",
       "\n",
       "#sk-container-id-2 div.sk-parallel-item:only-child::after {\n",
       "  width: 0;\n",
       "}\n",
       "\n",
       "/* Serial-specific style estimator block */\n",
       "\n",
       "#sk-container-id-2 div.sk-serial {\n",
       "  display: flex;\n",
       "  flex-direction: column;\n",
       "  align-items: center;\n",
       "  background-color: var(--sklearn-color-background);\n",
       "  padding-right: 1em;\n",
       "  padding-left: 1em;\n",
       "}\n",
       "\n",
       "\n",
       "/* Toggleable style: style used for estimator/Pipeline/ColumnTransformer box that is\n",
       "clickable and can be expanded/collapsed.\n",
       "- Pipeline and ColumnTransformer use this feature and define the default style\n",
       "- Estimators will overwrite some part of the style using the `sk-estimator` class\n",
       "*/\n",
       "\n",
       "/* Pipeline and ColumnTransformer style (default) */\n",
       "\n",
       "#sk-container-id-2 div.sk-toggleable {\n",
       "  /* Default theme specific background. It is overwritten whether we have a\n",
       "  specific estimator or a Pipeline/ColumnTransformer */\n",
       "  background-color: var(--sklearn-color-background);\n",
       "}\n",
       "\n",
       "/* Toggleable label */\n",
       "#sk-container-id-2 label.sk-toggleable__label {\n",
       "  cursor: pointer;\n",
       "  display: flex;\n",
       "  width: 100%;\n",
       "  margin-bottom: 0;\n",
       "  padding: 0.5em;\n",
       "  box-sizing: border-box;\n",
       "  text-align: center;\n",
       "  align-items: start;\n",
       "  justify-content: space-between;\n",
       "  gap: 0.5em;\n",
       "}\n",
       "\n",
       "#sk-container-id-2 label.sk-toggleable__label .caption {\n",
       "  font-size: 0.6rem;\n",
       "  font-weight: lighter;\n",
       "  color: var(--sklearn-color-text-muted);\n",
       "}\n",
       "\n",
       "#sk-container-id-2 label.sk-toggleable__label-arrow:before {\n",
       "  /* Arrow on the left of the label */\n",
       "  content: \"▸\";\n",
       "  float: left;\n",
       "  margin-right: 0.25em;\n",
       "  color: var(--sklearn-color-icon);\n",
       "}\n",
       "\n",
       "#sk-container-id-2 label.sk-toggleable__label-arrow:hover:before {\n",
       "  color: var(--sklearn-color-text);\n",
       "}\n",
       "\n",
       "/* Toggleable content - dropdown */\n",
       "\n",
       "#sk-container-id-2 div.sk-toggleable__content {\n",
       "  display: none;\n",
       "  text-align: left;\n",
       "  /* unfitted */\n",
       "  background-color: var(--sklearn-color-unfitted-level-0);\n",
       "}\n",
       "\n",
       "#sk-container-id-2 div.sk-toggleable__content.fitted {\n",
       "  /* fitted */\n",
       "  background-color: var(--sklearn-color-fitted-level-0);\n",
       "}\n",
       "\n",
       "#sk-container-id-2 div.sk-toggleable__content pre {\n",
       "  margin: 0.2em;\n",
       "  border-radius: 0.25em;\n",
       "  color: var(--sklearn-color-text);\n",
       "  /* unfitted */\n",
       "  background-color: var(--sklearn-color-unfitted-level-0);\n",
       "}\n",
       "\n",
       "#sk-container-id-2 div.sk-toggleable__content.fitted pre {\n",
       "  /* unfitted */\n",
       "  background-color: var(--sklearn-color-fitted-level-0);\n",
       "}\n",
       "\n",
       "#sk-container-id-2 input.sk-toggleable__control:checked~div.sk-toggleable__content {\n",
       "  /* Expand drop-down */\n",
       "  display: block;\n",
       "  width: 100%;\n",
       "  overflow: visible;\n",
       "}\n",
       "\n",
       "#sk-container-id-2 input.sk-toggleable__control:checked~label.sk-toggleable__label-arrow:before {\n",
       "  content: \"▾\";\n",
       "}\n",
       "\n",
       "/* Pipeline/ColumnTransformer-specific style */\n",
       "\n",
       "#sk-container-id-2 div.sk-label input.sk-toggleable__control:checked~label.sk-toggleable__label {\n",
       "  color: var(--sklearn-color-text);\n",
       "  background-color: var(--sklearn-color-unfitted-level-2);\n",
       "}\n",
       "\n",
       "#sk-container-id-2 div.sk-label.fitted input.sk-toggleable__control:checked~label.sk-toggleable__label {\n",
       "  background-color: var(--sklearn-color-fitted-level-2);\n",
       "}\n",
       "\n",
       "/* Estimator-specific style */\n",
       "\n",
       "/* Colorize estimator box */\n",
       "#sk-container-id-2 div.sk-estimator input.sk-toggleable__control:checked~label.sk-toggleable__label {\n",
       "  /* unfitted */\n",
       "  background-color: var(--sklearn-color-unfitted-level-2);\n",
       "}\n",
       "\n",
       "#sk-container-id-2 div.sk-estimator.fitted input.sk-toggleable__control:checked~label.sk-toggleable__label {\n",
       "  /* fitted */\n",
       "  background-color: var(--sklearn-color-fitted-level-2);\n",
       "}\n",
       "\n",
       "#sk-container-id-2 div.sk-label label.sk-toggleable__label,\n",
       "#sk-container-id-2 div.sk-label label {\n",
       "  /* The background is the default theme color */\n",
       "  color: var(--sklearn-color-text-on-default-background);\n",
       "}\n",
       "\n",
       "/* On hover, darken the color of the background */\n",
       "#sk-container-id-2 div.sk-label:hover label.sk-toggleable__label {\n",
       "  color: var(--sklearn-color-text);\n",
       "  background-color: var(--sklearn-color-unfitted-level-2);\n",
       "}\n",
       "\n",
       "/* Label box, darken color on hover, fitted */\n",
       "#sk-container-id-2 div.sk-label.fitted:hover label.sk-toggleable__label.fitted {\n",
       "  color: var(--sklearn-color-text);\n",
       "  background-color: var(--sklearn-color-fitted-level-2);\n",
       "}\n",
       "\n",
       "/* Estimator label */\n",
       "\n",
       "#sk-container-id-2 div.sk-label label {\n",
       "  font-family: monospace;\n",
       "  font-weight: bold;\n",
       "  display: inline-block;\n",
       "  line-height: 1.2em;\n",
       "}\n",
       "\n",
       "#sk-container-id-2 div.sk-label-container {\n",
       "  text-align: center;\n",
       "}\n",
       "\n",
       "/* Estimator-specific */\n",
       "#sk-container-id-2 div.sk-estimator {\n",
       "  font-family: monospace;\n",
       "  border: 1px dotted var(--sklearn-color-border-box);\n",
       "  border-radius: 0.25em;\n",
       "  box-sizing: border-box;\n",
       "  margin-bottom: 0.5em;\n",
       "  /* unfitted */\n",
       "  background-color: var(--sklearn-color-unfitted-level-0);\n",
       "}\n",
       "\n",
       "#sk-container-id-2 div.sk-estimator.fitted {\n",
       "  /* fitted */\n",
       "  background-color: var(--sklearn-color-fitted-level-0);\n",
       "}\n",
       "\n",
       "/* on hover */\n",
       "#sk-container-id-2 div.sk-estimator:hover {\n",
       "  /* unfitted */\n",
       "  background-color: var(--sklearn-color-unfitted-level-2);\n",
       "}\n",
       "\n",
       "#sk-container-id-2 div.sk-estimator.fitted:hover {\n",
       "  /* fitted */\n",
       "  background-color: var(--sklearn-color-fitted-level-2);\n",
       "}\n",
       "\n",
       "/* Specification for estimator info (e.g. \"i\" and \"?\") */\n",
       "\n",
       "/* Common style for \"i\" and \"?\" */\n",
       "\n",
       ".sk-estimator-doc-link,\n",
       "a:link.sk-estimator-doc-link,\n",
       "a:visited.sk-estimator-doc-link {\n",
       "  float: right;\n",
       "  font-size: smaller;\n",
       "  line-height: 1em;\n",
       "  font-family: monospace;\n",
       "  background-color: var(--sklearn-color-background);\n",
       "  border-radius: 1em;\n",
       "  height: 1em;\n",
       "  width: 1em;\n",
       "  text-decoration: none !important;\n",
       "  margin-left: 0.5em;\n",
       "  text-align: center;\n",
       "  /* unfitted */\n",
       "  border: var(--sklearn-color-unfitted-level-1) 1pt solid;\n",
       "  color: var(--sklearn-color-unfitted-level-1);\n",
       "}\n",
       "\n",
       ".sk-estimator-doc-link.fitted,\n",
       "a:link.sk-estimator-doc-link.fitted,\n",
       "a:visited.sk-estimator-doc-link.fitted {\n",
       "  /* fitted */\n",
       "  border: var(--sklearn-color-fitted-level-1) 1pt solid;\n",
       "  color: var(--sklearn-color-fitted-level-1);\n",
       "}\n",
       "\n",
       "/* On hover */\n",
       "div.sk-estimator:hover .sk-estimator-doc-link:hover,\n",
       ".sk-estimator-doc-link:hover,\n",
       "div.sk-label-container:hover .sk-estimator-doc-link:hover,\n",
       ".sk-estimator-doc-link:hover {\n",
       "  /* unfitted */\n",
       "  background-color: var(--sklearn-color-unfitted-level-3);\n",
       "  color: var(--sklearn-color-background);\n",
       "  text-decoration: none;\n",
       "}\n",
       "\n",
       "div.sk-estimator.fitted:hover .sk-estimator-doc-link.fitted:hover,\n",
       ".sk-estimator-doc-link.fitted:hover,\n",
       "div.sk-label-container:hover .sk-estimator-doc-link.fitted:hover,\n",
       ".sk-estimator-doc-link.fitted:hover {\n",
       "  /* fitted */\n",
       "  background-color: var(--sklearn-color-fitted-level-3);\n",
       "  color: var(--sklearn-color-background);\n",
       "  text-decoration: none;\n",
       "}\n",
       "\n",
       "/* Span, style for the box shown on hovering the info icon */\n",
       ".sk-estimator-doc-link span {\n",
       "  display: none;\n",
       "  z-index: 9999;\n",
       "  position: relative;\n",
       "  font-weight: normal;\n",
       "  right: .2ex;\n",
       "  padding: .5ex;\n",
       "  margin: .5ex;\n",
       "  width: min-content;\n",
       "  min-width: 20ex;\n",
       "  max-width: 50ex;\n",
       "  color: var(--sklearn-color-text);\n",
       "  box-shadow: 2pt 2pt 4pt #999;\n",
       "  /* unfitted */\n",
       "  background: var(--sklearn-color-unfitted-level-0);\n",
       "  border: .5pt solid var(--sklearn-color-unfitted-level-3);\n",
       "}\n",
       "\n",
       ".sk-estimator-doc-link.fitted span {\n",
       "  /* fitted */\n",
       "  background: var(--sklearn-color-fitted-level-0);\n",
       "  border: var(--sklearn-color-fitted-level-3);\n",
       "}\n",
       "\n",
       ".sk-estimator-doc-link:hover span {\n",
       "  display: block;\n",
       "}\n",
       "\n",
       "/* \"?\"-specific style due to the `<a>` HTML tag */\n",
       "\n",
       "#sk-container-id-2 a.estimator_doc_link {\n",
       "  float: right;\n",
       "  font-size: 1rem;\n",
       "  line-height: 1em;\n",
       "  font-family: monospace;\n",
       "  background-color: var(--sklearn-color-background);\n",
       "  border-radius: 1rem;\n",
       "  height: 1rem;\n",
       "  width: 1rem;\n",
       "  text-decoration: none;\n",
       "  /* unfitted */\n",
       "  color: var(--sklearn-color-unfitted-level-1);\n",
       "  border: var(--sklearn-color-unfitted-level-1) 1pt solid;\n",
       "}\n",
       "\n",
       "#sk-container-id-2 a.estimator_doc_link.fitted {\n",
       "  /* fitted */\n",
       "  border: var(--sklearn-color-fitted-level-1) 1pt solid;\n",
       "  color: var(--sklearn-color-fitted-level-1);\n",
       "}\n",
       "\n",
       "/* On hover */\n",
       "#sk-container-id-2 a.estimator_doc_link:hover {\n",
       "  /* unfitted */\n",
       "  background-color: var(--sklearn-color-unfitted-level-3);\n",
       "  color: var(--sklearn-color-background);\n",
       "  text-decoration: none;\n",
       "}\n",
       "\n",
       "#sk-container-id-2 a.estimator_doc_link.fitted:hover {\n",
       "  /* fitted */\n",
       "  background-color: var(--sklearn-color-fitted-level-3);\n",
       "}\n",
       "\n",
       ".estimator-table summary {\n",
       "    padding: .5rem;\n",
       "    font-family: monospace;\n",
       "    cursor: pointer;\n",
       "}\n",
       "\n",
       ".estimator-table details[open] {\n",
       "    padding-left: 0.1rem;\n",
       "    padding-right: 0.1rem;\n",
       "    padding-bottom: 0.3rem;\n",
       "}\n",
       "\n",
       ".estimator-table .parameters-table {\n",
       "    margin-left: auto !important;\n",
       "    margin-right: auto !important;\n",
       "}\n",
       "\n",
       ".estimator-table .parameters-table tr:nth-child(odd) {\n",
       "    background-color: #fff;\n",
       "}\n",
       "\n",
       ".estimator-table .parameters-table tr:nth-child(even) {\n",
       "    background-color: #f6f6f6;\n",
       "}\n",
       "\n",
       ".estimator-table .parameters-table tr:hover {\n",
       "    background-color: #e0e0e0;\n",
       "}\n",
       "\n",
       ".estimator-table table td {\n",
       "    border: 1px solid rgba(106, 105, 104, 0.232);\n",
       "}\n",
       "\n",
       ".user-set td {\n",
       "    color:rgb(255, 94, 0);\n",
       "    text-align: left;\n",
       "}\n",
       "\n",
       ".user-set td.value pre {\n",
       "    color:rgb(255, 94, 0) !important;\n",
       "    background-color: transparent !important;\n",
       "}\n",
       "\n",
       ".default td {\n",
       "    color: black;\n",
       "    text-align: left;\n",
       "}\n",
       "\n",
       ".user-set td i,\n",
       ".default td i {\n",
       "    color: black;\n",
       "}\n",
       "\n",
       ".copy-paste-icon {\n",
       "    background-image: url(data:image/svg+xml;base64,PHN2ZyB4bWxucz0iaHR0cDovL3d3dy53My5vcmcvMjAwMC9zdmciIHZpZXdCb3g9IjAgMCA0NDggNTEyIj48IS0tIUZvbnQgQXdlc29tZSBGcmVlIDYuNy4yIGJ5IEBmb250YXdlc29tZSAtIGh0dHBzOi8vZm9udGF3ZXNvbWUuY29tIExpY2Vuc2UgLSBodHRwczovL2ZvbnRhd2Vzb21lLmNvbS9saWNlbnNlL2ZyZWUgQ29weXJpZ2h0IDIwMjUgRm9udGljb25zLCBJbmMuLS0+PHBhdGggZD0iTTIwOCAwTDMzMi4xIDBjMTIuNyAwIDI0LjkgNS4xIDMzLjkgMTQuMWw2Ny45IDY3LjljOSA5IDE0LjEgMjEuMiAxNC4xIDMzLjlMNDQ4IDMzNmMwIDI2LjUtMjEuNSA0OC00OCA0OGwtMTkyIDBjLTI2LjUgMC00OC0yMS41LTQ4LTQ4bDAtMjg4YzAtMjYuNSAyMS41LTQ4IDQ4LTQ4ek00OCAxMjhsODAgMCAwIDY0LTY0IDAgMCAyNTYgMTkyIDAgMC0zMiA2NCAwIDAgNDhjMCAyNi41LTIxLjUgNDgtNDggNDhMNDggNTEyYy0yNi41IDAtNDgtMjEuNS00OC00OEwwIDE3NmMwLTI2LjUgMjEuNS00OCA0OC00OHoiLz48L3N2Zz4=);\n",
       "    background-repeat: no-repeat;\n",
       "    background-size: 14px 14px;\n",
       "    background-position: 0;\n",
       "    display: inline-block;\n",
       "    width: 14px;\n",
       "    height: 14px;\n",
       "    cursor: pointer;\n",
       "}\n",
       "</style><body><div id=\"sk-container-id-2\" class=\"sk-top-container\"><div class=\"sk-text-repr-fallback\"><pre>MinMaxScaler()</pre><b>In a Jupyter environment, please rerun this cell to show the HTML representation or trust the notebook. <br />On GitHub, the HTML representation is unable to render, please try loading this page with nbviewer.org.</b></div><div class=\"sk-container\" hidden><div class=\"sk-item\"><div class=\"sk-estimator fitted sk-toggleable\"><input class=\"sk-toggleable__control sk-hidden--visually\" id=\"sk-estimator-id-2\" type=\"checkbox\" checked><label for=\"sk-estimator-id-2\" class=\"sk-toggleable__label fitted sk-toggleable__label-arrow\"><div><div>MinMaxScaler</div></div><div><a class=\"sk-estimator-doc-link fitted\" rel=\"noreferrer\" target=\"_blank\" href=\"https://scikit-learn.org/1.7/modules/generated/sklearn.preprocessing.MinMaxScaler.html\">?<span>Documentation for MinMaxScaler</span></a><span class=\"sk-estimator-doc-link fitted\">i<span>Fitted</span></span></div></label><div class=\"sk-toggleable__content fitted\" data-param-prefix=\"\">\n",
       "        <div class=\"estimator-table\">\n",
       "            <details>\n",
       "                <summary>Parameters</summary>\n",
       "                <table class=\"parameters-table\">\n",
       "                  <tbody>\n",
       "                    \n",
       "        <tr class=\"default\">\n",
       "            <td><i class=\"copy-paste-icon\"\n",
       "                 onclick=\"copyToClipboard('feature_range',\n",
       "                          this.parentElement.nextElementSibling)\"\n",
       "            ></i></td>\n",
       "            <td class=\"param\">feature_range&nbsp;</td>\n",
       "            <td class=\"value\">(0, ...)</td>\n",
       "        </tr>\n",
       "    \n",
       "\n",
       "        <tr class=\"default\">\n",
       "            <td><i class=\"copy-paste-icon\"\n",
       "                 onclick=\"copyToClipboard('copy',\n",
       "                          this.parentElement.nextElementSibling)\"\n",
       "            ></i></td>\n",
       "            <td class=\"param\">copy&nbsp;</td>\n",
       "            <td class=\"value\">True</td>\n",
       "        </tr>\n",
       "    \n",
       "\n",
       "        <tr class=\"default\">\n",
       "            <td><i class=\"copy-paste-icon\"\n",
       "                 onclick=\"copyToClipboard('clip',\n",
       "                          this.parentElement.nextElementSibling)\"\n",
       "            ></i></td>\n",
       "            <td class=\"param\">clip&nbsp;</td>\n",
       "            <td class=\"value\">False</td>\n",
       "        </tr>\n",
       "    \n",
       "                  </tbody>\n",
       "                </table>\n",
       "            </details>\n",
       "        </div>\n",
       "    </div></div></div></div></div><script>function copyToClipboard(text, element) {\n",
       "    // Get the parameter prefix from the closest toggleable content\n",
       "    const toggleableContent = element.closest('.sk-toggleable__content');\n",
       "    const paramPrefix = toggleableContent ? toggleableContent.dataset.paramPrefix : '';\n",
       "    const fullParamName = paramPrefix ? `${paramPrefix}${text}` : text;\n",
       "\n",
       "    const originalStyle = element.style;\n",
       "    const computedStyle = window.getComputedStyle(element);\n",
       "    const originalWidth = computedStyle.width;\n",
       "    const originalHTML = element.innerHTML.replace('Copied!', '');\n",
       "\n",
       "    navigator.clipboard.writeText(fullParamName)\n",
       "        .then(() => {\n",
       "            element.style.width = originalWidth;\n",
       "            element.style.color = 'green';\n",
       "            element.innerHTML = \"Copied!\";\n",
       "\n",
       "            setTimeout(() => {\n",
       "                element.innerHTML = originalHTML;\n",
       "                element.style = originalStyle;\n",
       "            }, 2000);\n",
       "        })\n",
       "        .catch(err => {\n",
       "            console.error('Failed to copy:', err);\n",
       "            element.style.color = 'red';\n",
       "            element.innerHTML = \"Failed!\";\n",
       "            setTimeout(() => {\n",
       "                element.innerHTML = originalHTML;\n",
       "                element.style = originalStyle;\n",
       "            }, 2000);\n",
       "        });\n",
       "    return false;\n",
       "}\n",
       "\n",
       "document.querySelectorAll('.fa-regular.fa-copy').forEach(function(element) {\n",
       "    const toggleableContent = element.closest('.sk-toggleable__content');\n",
       "    const paramPrefix = toggleableContent ? toggleableContent.dataset.paramPrefix : '';\n",
       "    const paramName = element.parentElement.nextElementSibling.textContent.trim();\n",
       "    const fullParamName = paramPrefix ? `${paramPrefix}${paramName}` : paramName;\n",
       "\n",
       "    element.setAttribute('title', fullParamName);\n",
       "});\n",
       "</script></body>"
      ]
     },
     "execution_count": 70,
     "metadata": {},
     "output_type": "execute_result"
    }
   ],
   "execution_count": 70
  },
  {
   "metadata": {
    "ExecuteTime": {
     "end_time": "2025-07-17T20:12:59.760464Z",
     "start_time": "2025-07-17T20:12:59.753506Z"
    }
   },
   "cell_type": "code",
   "source": "scaled_full_data_prueba",
   "id": "3b411935188de194",
   "outputs": [
    {
     "data": {
      "text/plain": [
       "array([[0.        , 0.63918367, 0.18614719, 0.70895777],\n",
       "       [0.11111703, 0.46367347, 0.        , 0.4667064 ],\n",
       "       [0.04078862, 0.        , 0.72727273, 0.45180518],\n",
       "       [0.18317603, 0.11836735, 0.68398268, 0.        ],\n",
       "       [1.        , 0.47102041, 1.        , 0.69082084],\n",
       "       [0.97791504, 0.9077551 , 0.76190476, 0.36418597],\n",
       "       [0.67279916, 0.92326531, 0.56277056, 0.48433243],\n",
       "       [0.22316591, 0.69632653, 0.54545455, 0.35286104],\n",
       "       [0.47860062, 0.75428571, 0.64935065, 0.63138624],\n",
       "       [0.46632676, 0.92      , 0.47186147, 0.61461172],\n",
       "       [0.99289128, 1.        , 0.25108225, 1.        ],\n",
       "       [0.28058148, 0.92734694, 0.02597403, 0.69499319]])"
      ]
     },
     "execution_count": 71,
     "metadata": {},
     "output_type": "execute_result"
    }
   ],
   "execution_count": 71
  },
  {
   "metadata": {
    "ExecuteTime": {
     "end_time": "2025-07-17T20:13:02.776777Z",
     "start_time": "2025-07-17T20:13:01.307970Z"
    }
   },
   "cell_type": "code",
   "source": [
    "forecast = []\n",
    "\n",
    "periodos = 12 # Indicamos el número de periodos en base a la longitud del forecast deseada (12 meses)\n",
    "\n",
    "primer_batch = scaled_full_data_prueba[-longitud:]\n",
    "batch_actual = primer_batch.reshape((1, longitud, n_variables))\n",
    "\n",
    "for i in range(periodos):\n",
    "\n",
    "    pred_actual = model.predict(batch_actual)[0]\n",
    "    forecast.append(pred_actual)\n",
    "\n",
    "    # Actualizar batch_actual de forma más simple\n",
    "    batch_actual = np.roll(batch_actual, -1, axis=1)\n",
    "    batch_actual[0, -1, :] = pred_actual\n",
    "\n"
   ],
   "id": "8d787e1b72445db",
   "outputs": [
    {
     "name": "stdout",
     "output_type": "stream",
     "text": [
      "\u001B[1m1/1\u001B[0m \u001B[32m━━━━━━━━━━━━━━━━━━━━\u001B[0m\u001B[37m\u001B[0m \u001B[1m0s\u001B[0m 25ms/step\n",
      "\u001B[1m1/1\u001B[0m \u001B[32m━━━━━━━━━━━━━━━━━━━━\u001B[0m\u001B[37m\u001B[0m \u001B[1m0s\u001B[0m 37ms/step\n",
      "\u001B[1m1/1\u001B[0m \u001B[32m━━━━━━━━━━━━━━━━━━━━\u001B[0m\u001B[37m\u001B[0m \u001B[1m0s\u001B[0m 26ms/step\n",
      "\u001B[1m1/1\u001B[0m \u001B[32m━━━━━━━━━━━━━━━━━━━━\u001B[0m\u001B[37m\u001B[0m \u001B[1m0s\u001B[0m 31ms/step\n",
      "\u001B[1m1/1\u001B[0m \u001B[32m━━━━━━━━━━━━━━━━━━━━\u001B[0m\u001B[37m\u001B[0m \u001B[1m0s\u001B[0m 43ms/step\n",
      "\u001B[1m1/1\u001B[0m \u001B[32m━━━━━━━━━━━━━━━━━━━━\u001B[0m\u001B[37m\u001B[0m \u001B[1m0s\u001B[0m 41ms/step\n",
      "\u001B[1m1/1\u001B[0m \u001B[32m━━━━━━━━━━━━━━━━━━━━\u001B[0m\u001B[37m\u001B[0m \u001B[1m1s\u001B[0m 532ms/step\n",
      "\u001B[1m1/1\u001B[0m \u001B[32m━━━━━━━━━━━━━━━━━━━━\u001B[0m\u001B[37m\u001B[0m \u001B[1m0s\u001B[0m 39ms/step\n",
      "\u001B[1m1/1\u001B[0m \u001B[32m━━━━━━━━━━━━━━━━━━━━\u001B[0m\u001B[37m\u001B[0m \u001B[1m0s\u001B[0m 29ms/step\n",
      "\u001B[1m1/1\u001B[0m \u001B[32m━━━━━━━━━━━━━━━━━━━━\u001B[0m\u001B[37m\u001B[0m \u001B[1m0s\u001B[0m 34ms/step\n",
      "\u001B[1m1/1\u001B[0m \u001B[32m━━━━━━━━━━━━━━━━━━━━\u001B[0m\u001B[37m\u001B[0m \u001B[1m0s\u001B[0m 32ms/step\n",
      "\u001B[1m1/1\u001B[0m \u001B[32m━━━━━━━━━━━━━━━━━━━━\u001B[0m\u001B[37m\u001B[0m \u001B[1m0s\u001B[0m 28ms/step\n"
     ]
    }
   ],
   "execution_count": 72
  },
  {
   "metadata": {
    "ExecuteTime": {
     "end_time": "2025-07-17T20:13:04.107691Z",
     "start_time": "2025-07-17T20:13:04.100081Z"
    }
   },
   "cell_type": "code",
   "source": "forecast",
   "id": "54d6aa7ce3f0af32",
   "outputs": [
    {
     "data": {
      "text/plain": [
       "[array([0.66887563], dtype=float32),\n",
       " array([0.5438611], dtype=float32),\n",
       " array([0.43888006], dtype=float32),\n",
       " array([0.3767772], dtype=float32),\n",
       " array([0.41206324], dtype=float32),\n",
       " array([0.37094194], dtype=float32),\n",
       " array([0.3448738], dtype=float32),\n",
       " array([0.31610662], dtype=float32),\n",
       " array([0.33201256], dtype=float32),\n",
       " array([0.3812993], dtype=float32),\n",
       " array([0.56101024], dtype=float32),\n",
       " array([0.6361801], dtype=float32)]"
      ]
     },
     "execution_count": 73,
     "metadata": {},
     "output_type": "execute_result"
    }
   ],
   "execution_count": 73
  },
  {
   "metadata": {
    "ExecuteTime": {
     "end_time": "2025-07-17T20:13:05.590281Z",
     "start_time": "2025-07-17T20:13:05.584917Z"
    }
   },
   "cell_type": "code",
   "source": [
    "forecast = np.array(forecast)\n",
    "\n",
    "# Extraer parámetros de la primera variable del scaler original\n",
    "min_val = scaler.min_[0]\n",
    "scale_val = scaler.scale_[0]\n",
    "\n",
    "# Aplicar inverse transform manualmente\n",
    "forecast_original = (forecast / scale_val) + min_val\n"
   ],
   "id": "e65c83552dd0d2c1",
   "outputs": [],
   "execution_count": 74
  },
  {
   "metadata": {
    "ExecuteTime": {
     "end_time": "2025-07-17T20:13:07.104508Z",
     "start_time": "2025-07-17T20:13:07.097967Z"
    }
   },
   "cell_type": "code",
   "source": "forecast",
   "id": "f223143cb1d54427",
   "outputs": [
    {
     "data": {
      "text/plain": [
       "array([[0.66887563],\n",
       "       [0.5438611 ],\n",
       "       [0.43888006],\n",
       "       [0.3767772 ],\n",
       "       [0.41206324],\n",
       "       [0.37094194],\n",
       "       [0.3448738 ],\n",
       "       [0.31610662],\n",
       "       [0.33201256],\n",
       "       [0.3812993 ],\n",
       "       [0.56101024],\n",
       "       [0.6361801 ]], dtype=float32)"
      ]
     },
     "execution_count": 75,
     "metadata": {},
     "output_type": "execute_result"
    }
   ],
   "execution_count": 75
  },
  {
   "metadata": {
    "ExecuteTime": {
     "end_time": "2025-07-17T20:13:09.116738Z",
     "start_time": "2025-07-17T20:13:09.109697Z"
    }
   },
   "cell_type": "code",
   "source": "forecast_original",
   "id": "977fb7d5a81980cc",
   "outputs": [
    {
     "data": {
      "text/plain": [
       "array([[110.74943081],\n",
       "       [ 90.04889762],\n",
       "       [ 72.66561294],\n",
       "       [ 62.38231182],\n",
       "       [ 68.22515061],\n",
       "       [ 61.41607948],\n",
       "       [ 57.0995847 ],\n",
       "       [ 52.3361731 ],\n",
       "       [ 54.96995925],\n",
       "       [ 63.1311013 ],\n",
       "       [ 92.88853969],\n",
       "       [105.33554117]])"
      ]
     },
     "execution_count": 76,
     "metadata": {},
     "output_type": "execute_result"
    }
   ],
   "execution_count": 76
  },
  {
   "metadata": {
    "ExecuteTime": {
     "end_time": "2025-07-17T20:13:11.158153Z",
     "start_time": "2025-07-17T20:13:11.147680Z"
    }
   },
   "cell_type": "code",
   "source": [
    "# Si solo te interesa la primera variable (la que predijiste), puedes extraerla:\n",
    "forecast_variable_interes_prueba = forecast_original"
   ],
   "id": "1fa3ead3b732fce4",
   "outputs": [],
   "execution_count": 77
  },
  {
   "metadata": {
    "ExecuteTime": {
     "end_time": "2025-07-17T20:13:12.050722Z",
     "start_time": "2025-07-17T20:13:12.044660Z"
    }
   },
   "cell_type": "code",
   "source": "forecast_variable_interes_prueba",
   "id": "5aa4e40b3dd7fae0",
   "outputs": [
    {
     "data": {
      "text/plain": [
       "array([[110.74943081],\n",
       "       [ 90.04889762],\n",
       "       [ 72.66561294],\n",
       "       [ 62.38231182],\n",
       "       [ 68.22515061],\n",
       "       [ 61.41607948],\n",
       "       [ 57.0995847 ],\n",
       "       [ 52.3361731 ],\n",
       "       [ 54.96995925],\n",
       "       [ 63.1311013 ],\n",
       "       [ 92.88853969],\n",
       "       [105.33554117]])"
      ]
     },
     "execution_count": 78,
     "metadata": {},
     "output_type": "execute_result"
    }
   ],
   "execution_count": 78
  },
  {
   "metadata": {
    "ExecuteTime": {
     "end_time": "2025-07-17T20:13:14.293083Z",
     "start_time": "2025-07-17T20:13:14.287528Z"
    }
   },
   "cell_type": "code",
   "source": [
    "#Creamos el índice para que empiece en el siguiente timestamp en el que acaban nuestros datos históricos\n",
    "forecast_index_prueba = pd.date_range(start='2025-01-01',periods=12,freq='MS') #MS = Monthly Start"
   ],
   "id": "64190a7633fed670",
   "outputs": [],
   "execution_count": 79
  },
  {
   "metadata": {
    "ExecuteTime": {
     "end_time": "2025-07-17T20:13:15.527291Z",
     "start_time": "2025-07-17T20:13:15.522584Z"
    }
   },
   "cell_type": "code",
   "source": [
    "forecast_df_prueba = pd.DataFrame(data=forecast_variable_interes_prueba,index=forecast_index_prueba,\n",
    "                           columns=['Forecast'])"
   ],
   "id": "ede1425550e4b2f0",
   "outputs": [],
   "execution_count": 80
  },
  {
   "metadata": {
    "ExecuteTime": {
     "end_time": "2025-07-17T20:13:17.666971Z",
     "start_time": "2025-07-17T20:13:17.658347Z"
    }
   },
   "cell_type": "code",
   "source": "forecast_df_prueba",
   "id": "900816195f4b1ef2",
   "outputs": [
    {
     "data": {
      "text/plain": [
       "              Forecast\n",
       "2025-01-01  110.749431\n",
       "2025-02-01   90.048898\n",
       "2025-03-01   72.665613\n",
       "2025-04-01   62.382312\n",
       "2025-05-01   68.225151\n",
       "2025-06-01   61.416079\n",
       "2025-07-01   57.099585\n",
       "2025-08-01   52.336173\n",
       "2025-09-01   54.969959\n",
       "2025-10-01   63.131101\n",
       "2025-11-01   92.888540\n",
       "2025-12-01  105.335541"
      ],
      "text/html": [
       "<div>\n",
       "<style scoped>\n",
       "    .dataframe tbody tr th:only-of-type {\n",
       "        vertical-align: middle;\n",
       "    }\n",
       "\n",
       "    .dataframe tbody tr th {\n",
       "        vertical-align: top;\n",
       "    }\n",
       "\n",
       "    .dataframe thead th {\n",
       "        text-align: right;\n",
       "    }\n",
       "</style>\n",
       "<table border=\"1\" class=\"dataframe\">\n",
       "  <thead>\n",
       "    <tr style=\"text-align: right;\">\n",
       "      <th></th>\n",
       "      <th>Forecast</th>\n",
       "    </tr>\n",
       "  </thead>\n",
       "  <tbody>\n",
       "    <tr>\n",
       "      <th>2025-01-01</th>\n",
       "      <td>110.749431</td>\n",
       "    </tr>\n",
       "    <tr>\n",
       "      <th>2025-02-01</th>\n",
       "      <td>90.048898</td>\n",
       "    </tr>\n",
       "    <tr>\n",
       "      <th>2025-03-01</th>\n",
       "      <td>72.665613</td>\n",
       "    </tr>\n",
       "    <tr>\n",
       "      <th>2025-04-01</th>\n",
       "      <td>62.382312</td>\n",
       "    </tr>\n",
       "    <tr>\n",
       "      <th>2025-05-01</th>\n",
       "      <td>68.225151</td>\n",
       "    </tr>\n",
       "    <tr>\n",
       "      <th>2025-06-01</th>\n",
       "      <td>61.416079</td>\n",
       "    </tr>\n",
       "    <tr>\n",
       "      <th>2025-07-01</th>\n",
       "      <td>57.099585</td>\n",
       "    </tr>\n",
       "    <tr>\n",
       "      <th>2025-08-01</th>\n",
       "      <td>52.336173</td>\n",
       "    </tr>\n",
       "    <tr>\n",
       "      <th>2025-09-01</th>\n",
       "      <td>54.969959</td>\n",
       "    </tr>\n",
       "    <tr>\n",
       "      <th>2025-10-01</th>\n",
       "      <td>63.131101</td>\n",
       "    </tr>\n",
       "    <tr>\n",
       "      <th>2025-11-01</th>\n",
       "      <td>92.888540</td>\n",
       "    </tr>\n",
       "    <tr>\n",
       "      <th>2025-12-01</th>\n",
       "      <td>105.335541</td>\n",
       "    </tr>\n",
       "  </tbody>\n",
       "</table>\n",
       "</div>"
      ]
     },
     "execution_count": 81,
     "metadata": {},
     "output_type": "execute_result"
    }
   ],
   "execution_count": 81
  },
  {
   "metadata": {
    "ExecuteTime": {
     "end_time": "2025-07-17T20:13:20.697447Z",
     "start_time": "2025-07-17T20:13:20.438090Z"
    }
   },
   "cell_type": "code",
   "source": [
    "df_prueba['produccion'].plot()\n",
    "forecast_df_prueba.plot()"
   ],
   "id": "3f71a496ae54faaa",
   "outputs": [
    {
     "data": {
      "text/plain": [
       "<Axes: >"
      ]
     },
     "execution_count": 82,
     "metadata": {},
     "output_type": "execute_result"
    },
    {
     "data": {
      "text/plain": [
       "<Figure size 640x480 with 1 Axes>"
      ],
      "image/png": "[encoded data removed]"
     },
     "metadata": {},
     "output_type": "display_data"
    },
    {
     "data": {
      "text/plain": [
       "<Figure size 640x480 with 1 Axes>"
      ],
      "image/png": "[encoded data removed]"
     },
     "metadata": {},
     "output_type": "display_data"
    }
   ],
   "execution_count": 82
  },
  {
   "metadata": {
    "ExecuteTime": {
     "end_time": "2025-07-17T20:13:23.641412Z",
     "start_time": "2025-07-17T20:13:23.499866Z"
    }
   },
   "cell_type": "code",
   "source": [
    "ax = df_prueba['produccion'].plot()\n",
    "forecast_df_prueba.plot(ax=ax)"
   ],
   "id": "3f3d5fe5f9b117d7",
   "outputs": [
    {
     "data": {
      "text/plain": [
       "<Axes: xlabel='fecha'>"
      ]
     },
     "execution_count": 83,
     "metadata": {},
     "output_type": "execute_result"
    },
    {
     "data": {
      "text/plain": [
       "<Figure size 640x480 with 1 Axes>"
      ],
      "image/png": "[encoded data removed]"
     },
     "metadata": {},
     "output_type": "display_data"
    }
   ],
   "execution_count": 83
  },
  {
   "metadata": {
    "ExecuteTime": {
     "end_time": "2025-07-17T20:13:27.513950Z",
     "start_time": "2025-07-17T20:13:27.396095Z"
    }
   },
   "cell_type": "code",
   "source": [
    "#Hacemos zoom\n",
    "ax = df_prueba['produccion'].plot()\n",
    "forecast_df_prueba.plot(ax=ax)\n",
    "plt.xlim('2025-01-01','2025-04-01')"
   ],
   "id": "f0105de10eb5e629",
   "outputs": [
    {
     "data": {
      "text/plain": [
       "(660.0, 663.0)"
      ]
     },
     "execution_count": 84,
     "metadata": {},
     "output_type": "execute_result"
    },
    {
     "data": {
      "text/plain": [
       "<Figure size 640x480 with 1 Axes>"
      ],
      "image/png": "[encoded data removed]"
     },
     "metadata": {},
     "output_type": "display_data"
    }
   ],
   "execution_count": 84
  },
  {
   "metadata": {
    "ExecuteTime": {
     "end_time": "2025-07-17T20:13:32.797135Z",
     "start_time": "2025-07-17T20:13:32.742914Z"
    }
   },
   "cell_type": "code",
   "source": [
    "import joblib\n",
    "\n",
    "model.save(\"modelo_forecast.keras\")\n",
    "joblib.dump(scaler, 'scaler.pkl')"
   ],
   "id": "bb3a44efbc13082d",
   "outputs": [
    {
     "data": {
      "text/plain": [
       "['scaler.pkl']"
      ]
     },
     "execution_count": 85,
     "metadata": {},
     "output_type": "execute_result"
    }
   ],
   "execution_count": 85
  },
  {
   "metadata": {
    "ExecuteTime": {
     "end_time": "2025-07-17T20:13:45.696192Z",
     "start_time": "2025-07-17T20:13:45.608281Z"
    }
   },
   "cell_type": "code",
   "source": [
    "from tensorflow.keras.models import load_model\n",
    "modelo = load_model(\"modelo_forecast.keras\")"
   ],
   "id": "e486de6c3e57e68e",
   "outputs": [],
   "execution_count": 86
  },
  {
   "metadata": {
    "ExecuteTime": {
     "end_time": "2025-07-17T20:13:46.505556Z",
     "start_time": "2025-07-17T20:13:46.495593Z"
    }
   },
   "cell_type": "code",
   "source": "df_prueba = pd.read_csv(os.path.join(obtener_ruta_app(\"AgroIA\"), \"data\", \"processed\", \"rnn\", \"dataset1.csv\"),index_col='fecha', parse_dates=True, date_parser=lambda x: datetime.strptime(x, '%Y-%m-%d'))",
   "id": "33529cd515d9650a",
   "outputs": [
    {
     "name": "stderr",
     "output_type": "stream",
     "text": [
      "C:\\Users\\pmari\\AppData\\Local\\Temp\\ipykernel_20856\\2479101291.py:1: FutureWarning: The argument 'date_parser' is deprecated and will be removed in a future version. Please use 'date_format' instead, or read your data in as 'object' dtype and then call 'to_datetime'.\n",
      "  df_prueba = pd.read_csv(os.path.join(obtener_ruta_app(\"AgroIA\"), \"data\", \"processed\", \"rnn\", \"dataset1.csv\"),index_col='fecha', parse_dates=True, date_parser=lambda x: datetime.strptime(x, '%Y-%m-%d'))\n"
     ]
    }
   ],
   "execution_count": 87
  },
  {
   "metadata": {
    "ExecuteTime": {
     "end_time": "2025-07-17T20:13:47.972103Z",
     "start_time": "2025-07-17T20:13:47.961155Z"
    }
   },
   "cell_type": "code",
   "source": "df_prueba.head()",
   "id": "5e4a04cd175b8ff7",
   "outputs": [
    {
     "data": {
      "text/plain": [
       "            lluvia  humedad  temperatura  produccion\n",
       "fecha                                               \n",
       "2024-01-01   45.23    88.15        19.87       92.34\n",
       "2024-02-01   89.67    86.92        20.45       85.12\n",
       "2024-03-01  156.78    84.56        21.23      118.67\n",
       "2024-04-01  234.89    87.34        22.01       67.89\n",
       "2024-05-01  678.45    89.78        21.89      125.45"
      ],
      "text/html": [
       "<div>\n",
       "<style scoped>\n",
       "    .dataframe tbody tr th:only-of-type {\n",
       "        vertical-align: middle;\n",
       "    }\n",
       "\n",
       "    .dataframe tbody tr th {\n",
       "        vertical-align: top;\n",
       "    }\n",
       "\n",
       "    .dataframe thead th {\n",
       "        text-align: right;\n",
       "    }\n",
       "</style>\n",
       "<table border=\"1\" class=\"dataframe\">\n",
       "  <thead>\n",
       "    <tr style=\"text-align: right;\">\n",
       "      <th></th>\n",
       "      <th>lluvia</th>\n",
       "      <th>humedad</th>\n",
       "      <th>temperatura</th>\n",
       "      <th>produccion</th>\n",
       "    </tr>\n",
       "    <tr>\n",
       "      <th>fecha</th>\n",
       "      <th></th>\n",
       "      <th></th>\n",
       "      <th></th>\n",
       "      <th></th>\n",
       "    </tr>\n",
       "  </thead>\n",
       "  <tbody>\n",
       "    <tr>\n",
       "      <th>2024-01-01</th>\n",
       "      <td>45.23</td>\n",
       "      <td>88.15</td>\n",
       "      <td>19.87</td>\n",
       "      <td>92.34</td>\n",
       "    </tr>\n",
       "    <tr>\n",
       "      <th>2024-02-01</th>\n",
       "      <td>89.67</td>\n",
       "      <td>86.92</td>\n",
       "      <td>20.45</td>\n",
       "      <td>85.12</td>\n",
       "    </tr>\n",
       "    <tr>\n",
       "      <th>2024-03-01</th>\n",
       "      <td>156.78</td>\n",
       "      <td>84.56</td>\n",
       "      <td>21.23</td>\n",
       "      <td>118.67</td>\n",
       "    </tr>\n",
       "    <tr>\n",
       "      <th>2024-04-01</th>\n",
       "      <td>234.89</td>\n",
       "      <td>87.34</td>\n",
       "      <td>22.01</td>\n",
       "      <td>67.89</td>\n",
       "    </tr>\n",
       "    <tr>\n",
       "      <th>2024-05-01</th>\n",
       "      <td>678.45</td>\n",
       "      <td>89.78</td>\n",
       "      <td>21.89</td>\n",
       "      <td>125.45</td>\n",
       "    </tr>\n",
       "  </tbody>\n",
       "</table>\n",
       "</div>"
      ]
     },
     "execution_count": 88,
     "metadata": {},
     "output_type": "execute_result"
    }
   ],
   "execution_count": 88
  },
  {
   "metadata": {
    "ExecuteTime": {
     "end_time": "2025-07-17T20:13:49.309010Z",
     "start_time": "2025-07-17T20:13:49.297860Z"
    }
   },
   "cell_type": "code",
   "source": [
    "df_prueba = df_prueba[['lluvia', 'humedad', 'temperatura', 'produccion']]\n",
    "full_scaler_prueba = MinMaxScaler()\n",
    "scaled_full_data_prueba = full_scaler_prueba.fit_transform(df_prueba)\n",
    "full_scaler_prueba"
   ],
   "id": "85a5a9e609028f38",
   "outputs": [
    {
     "data": {
      "text/plain": [
       "MinMaxScaler()"
      ],
      "text/html": [
       "<style>#sk-container-id-3 {\n",
       "  /* Definition of color scheme common for light and dark mode */\n",
       "  --sklearn-color-text: #000;\n",
       "  --sklearn-color-text-muted: #666;\n",
       "  --sklearn-color-line: gray;\n",
       "  /* Definition of color scheme for unfitted estimators */\n",
       "  --sklearn-color-unfitted-level-0: #fff5e6;\n",
       "  --sklearn-color-unfitted-level-1: #f6e4d2;\n",
       "  --sklearn-color-unfitted-level-2: #ffe0b3;\n",
       "  --sklearn-color-unfitted-level-3: chocolate;\n",
       "  /* Definition of color scheme for fitted estimators */\n",
       "  --sklearn-color-fitted-level-0: #f0f8ff;\n",
       "  --sklearn-color-fitted-level-1: #d4ebff;\n",
       "  --sklearn-color-fitted-level-2: #b3dbfd;\n",
       "  --sklearn-color-fitted-level-3: cornflowerblue;\n",
       "\n",
       "  /* Specific color for light theme */\n",
       "  --sklearn-color-text-on-default-background: var(--sg-text-color, var(--theme-code-foreground, var(--jp-content-font-color1, black)));\n",
       "  --sklearn-color-background: var(--sg-background-color, var(--theme-background, var(--jp-layout-color0, white)));\n",
       "  --sklearn-color-border-box: var(--sg-text-color, var(--theme-code-foreground, var(--jp-content-font-color1, black)));\n",
       "  --sklearn-color-icon: #696969;\n",
       "\n",
       "  @media (prefers-color-scheme: dark) {\n",
       "    /* Redefinition of color scheme for dark theme */\n",
       "    --sklearn-color-text-on-default-background: var(--sg-text-color, var(--theme-code-foreground, var(--jp-content-font-color1, white)));\n",
       "    --sklearn-color-background: var(--sg-background-color, var(--theme-background, var(--jp-layout-color0, #111)));\n",
       "    --sklearn-color-border-box: var(--sg-text-color, var(--theme-code-foreground, var(--jp-content-font-color1, white)));\n",
       "    --sklearn-color-icon: #878787;\n",
       "  }\n",
       "}\n",
       "\n",
       "#sk-container-id-3 {\n",
       "  color: var(--sklearn-color-text);\n",
       "}\n",
       "\n",
       "#sk-container-id-3 pre {\n",
       "  padding: 0;\n",
       "}\n",
       "\n",
       "#sk-container-id-3 input.sk-hidden--visually {\n",
       "  border: 0;\n",
       "  clip: rect(1px 1px 1px 1px);\n",
       "  clip: rect(1px, 1px, 1px, 1px);\n",
       "  height: 1px;\n",
       "  margin: -1px;\n",
       "  overflow: hidden;\n",
       "  padding: 0;\n",
       "  position: absolute;\n",
       "  width: 1px;\n",
       "}\n",
       "\n",
       "#sk-container-id-3 div.sk-dashed-wrapped {\n",
       "  border: 1px dashed var(--sklearn-color-line);\n",
       "  margin: 0 0.4em 0.5em 0.4em;\n",
       "  box-sizing: border-box;\n",
       "  padding-bottom: 0.4em;\n",
       "  background-color: var(--sklearn-color-background);\n",
       "}\n",
       "\n",
       "#sk-container-id-3 div.sk-container {\n",
       "  /* jupyter's `normalize.less` sets `[hidden] { display: none; }`\n",
       "     but bootstrap.min.css set `[hidden] { display: none !important; }`\n",
       "     so we also need the `!important` here to be able to override the\n",
       "     default hidden behavior on the sphinx rendered scikit-learn.org.\n",
       "     See: https://github.com/scikit-learn/scikit-learn/issues/21755 */\n",
       "  display: inline-block !important;\n",
       "  position: relative;\n",
       "}\n",
       "\n",
       "#sk-container-id-3 div.sk-text-repr-fallback {\n",
       "  display: none;\n",
       "}\n",
       "\n",
       "div.sk-parallel-item,\n",
       "div.sk-serial,\n",
       "div.sk-item {\n",
       "  /* draw centered vertical line to link estimators */\n",
       "  background-image: linear-gradient(var(--sklearn-color-text-on-default-background), var(--sklearn-color-text-on-default-background));\n",
       "  background-size: 2px 100%;\n",
       "  background-repeat: no-repeat;\n",
       "  background-position: center center;\n",
       "}\n",
       "\n",
       "/* Parallel-specific style estimator block */\n",
       "\n",
       "#sk-container-id-3 div.sk-parallel-item::after {\n",
       "  content: \"\";\n",
       "  width: 100%;\n",
       "  border-bottom: 2px solid var(--sklearn-color-text-on-default-background);\n",
       "  flex-grow: 1;\n",
       "}\n",
       "\n",
       "#sk-container-id-3 div.sk-parallel {\n",
       "  display: flex;\n",
       "  align-items: stretch;\n",
       "  justify-content: center;\n",
       "  background-color: var(--sklearn-color-background);\n",
       "  position: relative;\n",
       "}\n",
       "\n",
       "#sk-container-id-3 div.sk-parallel-item {\n",
       "  display: flex;\n",
       "  flex-direction: column;\n",
       "}\n",
       "\n",
       "#sk-container-id-3 div.sk-parallel-item:first-child::after {\n",
       "  align-self: flex-end;\n",
       "  width: 50%;\n",
       "}\n",
       "\n",
       "#sk-container-id-3 div.sk-parallel-item:last-child::after {\n",
       "  align-self: flex-start;\n",
       "  width: 50%;\n",
       "}\n",
       "\n",
       "#sk-container-id-3 div.sk-parallel-item:only-child::after {\n",
       "  width: 0;\n",
       "}\n",
       "\n",
       "/* Serial-specific style estimator block */\n",
       "\n",
       "#sk-container-id-3 div.sk-serial {\n",
       "  display: flex;\n",
       "  flex-direction: column;\n",
       "  align-items: center;\n",
       "  background-color: var(--sklearn-color-background);\n",
       "  padding-right: 1em;\n",
       "  padding-left: 1em;\n",
       "}\n",
       "\n",
       "\n",
       "/* Toggleable style: style used for estimator/Pipeline/ColumnTransformer box that is\n",
       "clickable and can be expanded/collapsed.\n",
       "- Pipeline and ColumnTransformer use this feature and define the default style\n",
       "- Estimators will overwrite some part of the style using the `sk-estimator` class\n",
       "*/\n",
       "\n",
       "/* Pipeline and ColumnTransformer style (default) */\n",
       "\n",
       "#sk-container-id-3 div.sk-toggleable {\n",
       "  /* Default theme specific background. It is overwritten whether we have a\n",
       "  specific estimator or a Pipeline/ColumnTransformer */\n",
       "  background-color: var(--sklearn-color-background);\n",
       "}\n",
       "\n",
       "/* Toggleable label */\n",
       "#sk-container-id-3 label.sk-toggleable__label {\n",
       "  cursor: pointer;\n",
       "  display: flex;\n",
       "  width: 100%;\n",
       "  margin-bottom: 0;\n",
       "  padding: 0.5em;\n",
       "  box-sizing: border-box;\n",
       "  text-align: center;\n",
       "  align-items: start;\n",
       "  justify-content: space-between;\n",
       "  gap: 0.5em;\n",
       "}\n",
       "\n",
       "#sk-container-id-3 label.sk-toggleable__label .caption {\n",
       "  font-size: 0.6rem;\n",
       "  font-weight: lighter;\n",
       "  color: var(--sklearn-color-text-muted);\n",
       "}\n",
       "\n",
       "#sk-container-id-3 label.sk-toggleable__label-arrow:before {\n",
       "  /* Arrow on the left of the label */\n",
       "  content: \"▸\";\n",
       "  float: left;\n",
       "  margin-right: 0.25em;\n",
       "  color: var(--sklearn-color-icon);\n",
       "}\n",
       "\n",
       "#sk-container-id-3 label.sk-toggleable__label-arrow:hover:before {\n",
       "  color: var(--sklearn-color-text);\n",
       "}\n",
       "\n",
       "/* Toggleable content - dropdown */\n",
       "\n",
       "#sk-container-id-3 div.sk-toggleable__content {\n",
       "  display: none;\n",
       "  text-align: left;\n",
       "  /* unfitted */\n",
       "  background-color: var(--sklearn-color-unfitted-level-0);\n",
       "}\n",
       "\n",
       "#sk-container-id-3 div.sk-toggleable__content.fitted {\n",
       "  /* fitted */\n",
       "  background-color: var(--sklearn-color-fitted-level-0);\n",
       "}\n",
       "\n",
       "#sk-container-id-3 div.sk-toggleable__content pre {\n",
       "  margin: 0.2em;\n",
       "  border-radius: 0.25em;\n",
       "  color: var(--sklearn-color-text);\n",
       "  /* unfitted */\n",
       "  background-color: var(--sklearn-color-unfitted-level-0);\n",
       "}\n",
       "\n",
       "#sk-container-id-3 div.sk-toggleable__content.fitted pre {\n",
       "  /* unfitted */\n",
       "  background-color: var(--sklearn-color-fitted-level-0);\n",
       "}\n",
       "\n",
       "#sk-container-id-3 input.sk-toggleable__control:checked~div.sk-toggleable__content {\n",
       "  /* Expand drop-down */\n",
       "  display: block;\n",
       "  width: 100%;\n",
       "  overflow: visible;\n",
       "}\n",
       "\n",
       "#sk-container-id-3 input.sk-toggleable__control:checked~label.sk-toggleable__label-arrow:before {\n",
       "  content: \"▾\";\n",
       "}\n",
       "\n",
       "/* Pipeline/ColumnTransformer-specific style */\n",
       "\n",
       "#sk-container-id-3 div.sk-label input.sk-toggleable__control:checked~label.sk-toggleable__label {\n",
       "  color: var(--sklearn-color-text);\n",
       "  background-color: var(--sklearn-color-unfitted-level-2);\n",
       "}\n",
       "\n",
       "#sk-container-id-3 div.sk-label.fitted input.sk-toggleable__control:checked~label.sk-toggleable__label {\n",
       "  background-color: var(--sklearn-color-fitted-level-2);\n",
       "}\n",
       "\n",
       "/* Estimator-specific style */\n",
       "\n",
       "/* Colorize estimator box */\n",
       "#sk-container-id-3 div.sk-estimator input.sk-toggleable__control:checked~label.sk-toggleable__label {\n",
       "  /* unfitted */\n",
       "  background-color: var(--sklearn-color-unfitted-level-2);\n",
       "}\n",
       "\n",
       "#sk-container-id-3 div.sk-estimator.fitted input.sk-toggleable__control:checked~label.sk-toggleable__label {\n",
       "  /* fitted */\n",
       "  background-color: var(--sklearn-color-fitted-level-2);\n",
       "}\n",
       "\n",
       "#sk-container-id-3 div.sk-label label.sk-toggleable__label,\n",
       "#sk-container-id-3 div.sk-label label {\n",
       "  /* The background is the default theme color */\n",
       "  color: var(--sklearn-color-text-on-default-background);\n",
       "}\n",
       "\n",
       "/* On hover, darken the color of the background */\n",
       "#sk-container-id-3 div.sk-label:hover label.sk-toggleable__label {\n",
       "  color: var(--sklearn-color-text);\n",
       "  background-color: var(--sklearn-color-unfitted-level-2);\n",
       "}\n",
       "\n",
       "/* Label box, darken color on hover, fitted */\n",
       "#sk-container-id-3 div.sk-label.fitted:hover label.sk-toggleable__label.fitted {\n",
       "  color: var(--sklearn-color-text);\n",
       "  background-color: var(--sklearn-color-fitted-level-2);\n",
       "}\n",
       "\n",
       "/* Estimator label */\n",
       "\n",
       "#sk-container-id-3 div.sk-label label {\n",
       "  font-family: monospace;\n",
       "  font-weight: bold;\n",
       "  display: inline-block;\n",
       "  line-height: 1.2em;\n",
       "}\n",
       "\n",
       "#sk-container-id-3 div.sk-label-container {\n",
       "  text-align: center;\n",
       "}\n",
       "\n",
       "/* Estimator-specific */\n",
       "#sk-container-id-3 div.sk-estimator {\n",
       "  font-family: monospace;\n",
       "  border: 1px dotted var(--sklearn-color-border-box);\n",
       "  border-radius: 0.25em;\n",
       "  box-sizing: border-box;\n",
       "  margin-bottom: 0.5em;\n",
       "  /* unfitted */\n",
       "  background-color: var(--sklearn-color-unfitted-level-0);\n",
       "}\n",
       "\n",
       "#sk-container-id-3 div.sk-estimator.fitted {\n",
       "  /* fitted */\n",
       "  background-color: var(--sklearn-color-fitted-level-0);\n",
       "}\n",
       "\n",
       "/* on hover */\n",
       "#sk-container-id-3 div.sk-estimator:hover {\n",
       "  /* unfitted */\n",
       "  background-color: var(--sklearn-color-unfitted-level-2);\n",
       "}\n",
       "\n",
       "#sk-container-id-3 div.sk-estimator.fitted:hover {\n",
       "  /* fitted */\n",
       "  background-color: var(--sklearn-color-fitted-level-2);\n",
       "}\n",
       "\n",
       "/* Specification for estimator info (e.g. \"i\" and \"?\") */\n",
       "\n",
       "/* Common style for \"i\" and \"?\" */\n",
       "\n",
       ".sk-estimator-doc-link,\n",
       "a:link.sk-estimator-doc-link,\n",
       "a:visited.sk-estimator-doc-link {\n",
       "  float: right;\n",
       "  font-size: smaller;\n",
       "  line-height: 1em;\n",
       "  font-family: monospace;\n",
       "  background-color: var(--sklearn-color-background);\n",
       "  border-radius: 1em;\n",
       "  height: 1em;\n",
       "  width: 1em;\n",
       "  text-decoration: none !important;\n",
       "  margin-left: 0.5em;\n",
       "  text-align: center;\n",
       "  /* unfitted */\n",
       "  border: var(--sklearn-color-unfitted-level-1) 1pt solid;\n",
       "  color: var(--sklearn-color-unfitted-level-1);\n",
       "}\n",
       "\n",
       ".sk-estimator-doc-link.fitted,\n",
       "a:link.sk-estimator-doc-link.fitted,\n",
       "a:visited.sk-estimator-doc-link.fitted {\n",
       "  /* fitted */\n",
       "  border: var(--sklearn-color-fitted-level-1) 1pt solid;\n",
       "  color: var(--sklearn-color-fitted-level-1);\n",
       "}\n",
       "\n",
       "/* On hover */\n",
       "div.sk-estimator:hover .sk-estimator-doc-link:hover,\n",
       ".sk-estimator-doc-link:hover,\n",
       "div.sk-label-container:hover .sk-estimator-doc-link:hover,\n",
       ".sk-estimator-doc-link:hover {\n",
       "  /* unfitted */\n",
       "  background-color: var(--sklearn-color-unfitted-level-3);\n",
       "  color: var(--sklearn-color-background);\n",
       "  text-decoration: none;\n",
       "}\n",
       "\n",
       "div.sk-estimator.fitted:hover .sk-estimator-doc-link.fitted:hover,\n",
       ".sk-estimator-doc-link.fitted:hover,\n",
       "div.sk-label-container:hover .sk-estimator-doc-link.fitted:hover,\n",
       ".sk-estimator-doc-link.fitted:hover {\n",
       "  /* fitted */\n",
       "  background-color: var(--sklearn-color-fitted-level-3);\n",
       "  color: var(--sklearn-color-background);\n",
       "  text-decoration: none;\n",
       "}\n",
       "\n",
       "/* Span, style for the box shown on hovering the info icon */\n",
       ".sk-estimator-doc-link span {\n",
       "  display: none;\n",
       "  z-index: 9999;\n",
       "  position: relative;\n",
       "  font-weight: normal;\n",
       "  right: .2ex;\n",
       "  padding: .5ex;\n",
       "  margin: .5ex;\n",
       "  width: min-content;\n",
       "  min-width: 20ex;\n",
       "  max-width: 50ex;\n",
       "  color: var(--sklearn-color-text);\n",
       "  box-shadow: 2pt 2pt 4pt #999;\n",
       "  /* unfitted */\n",
       "  background: var(--sklearn-color-unfitted-level-0);\n",
       "  border: .5pt solid var(--sklearn-color-unfitted-level-3);\n",
       "}\n",
       "\n",
       ".sk-estimator-doc-link.fitted span {\n",
       "  /* fitted */\n",
       "  background: var(--sklearn-color-fitted-level-0);\n",
       "  border: var(--sklearn-color-fitted-level-3);\n",
       "}\n",
       "\n",
       ".sk-estimator-doc-link:hover span {\n",
       "  display: block;\n",
       "}\n",
       "\n",
       "/* \"?\"-specific style due to the `<a>` HTML tag */\n",
       "\n",
       "#sk-container-id-3 a.estimator_doc_link {\n",
       "  float: right;\n",
       "  font-size: 1rem;\n",
       "  line-height: 1em;\n",
       "  font-family: monospace;\n",
       "  background-color: var(--sklearn-color-background);\n",
       "  border-radius: 1rem;\n",
       "  height: 1rem;\n",
       "  width: 1rem;\n",
       "  text-decoration: none;\n",
       "  /* unfitted */\n",
       "  color: var(--sklearn-color-unfitted-level-1);\n",
       "  border: var(--sklearn-color-unfitted-level-1) 1pt solid;\n",
       "}\n",
       "\n",
       "#sk-container-id-3 a.estimator_doc_link.fitted {\n",
       "  /* fitted */\n",
       "  border: var(--sklearn-color-fitted-level-1) 1pt solid;\n",
       "  color: var(--sklearn-color-fitted-level-1);\n",
       "}\n",
       "\n",
       "/* On hover */\n",
       "#sk-container-id-3 a.estimator_doc_link:hover {\n",
       "  /* unfitted */\n",
       "  background-color: var(--sklearn-color-unfitted-level-3);\n",
       "  color: var(--sklearn-color-background);\n",
       "  text-decoration: none;\n",
       "}\n",
       "\n",
       "#sk-container-id-3 a.estimator_doc_link.fitted:hover {\n",
       "  /* fitted */\n",
       "  background-color: var(--sklearn-color-fitted-level-3);\n",
       "}\n",
       "\n",
       ".estimator-table summary {\n",
       "    padding: .5rem;\n",
       "    font-family: monospace;\n",
       "    cursor: pointer;\n",
       "}\n",
       "\n",
       ".estimator-table details[open] {\n",
       "    padding-left: 0.1rem;\n",
       "    padding-right: 0.1rem;\n",
       "    padding-bottom: 0.3rem;\n",
       "}\n",
       "\n",
       ".estimator-table .parameters-table {\n",
       "    margin-left: auto !important;\n",
       "    margin-right: auto !important;\n",
       "}\n",
       "\n",
       ".estimator-table .parameters-table tr:nth-child(odd) {\n",
       "    background-color: #fff;\n",
       "}\n",
       "\n",
       ".estimator-table .parameters-table tr:nth-child(even) {\n",
       "    background-color: #f6f6f6;\n",
       "}\n",
       "\n",
       ".estimator-table .parameters-table tr:hover {\n",
       "    background-color: #e0e0e0;\n",
       "}\n",
       "\n",
       ".estimator-table table td {\n",
       "    border: 1px solid rgba(106, 105, 104, 0.232);\n",
       "}\n",
       "\n",
       ".user-set td {\n",
       "    color:rgb(255, 94, 0);\n",
       "    text-align: left;\n",
       "}\n",
       "\n",
       ".user-set td.value pre {\n",
       "    color:rgb(255, 94, 0) !important;\n",
       "    background-color: transparent !important;\n",
       "}\n",
       "\n",
       ".default td {\n",
       "    color: black;\n",
       "    text-align: left;\n",
       "}\n",
       "\n",
       ".user-set td i,\n",
       ".default td i {\n",
       "    color: black;\n",
       "}\n",
       "\n",
       ".copy-paste-icon {\n",
       "    background-image: url(data:image/svg+xml;base64,PHN2ZyB4bWxucz0iaHR0cDovL3d3dy53My5vcmcvMjAwMC9zdmciIHZpZXdCb3g9IjAgMCA0NDggNTEyIj48IS0tIUZvbnQgQXdlc29tZSBGcmVlIDYuNy4yIGJ5IEBmb250YXdlc29tZSAtIGh0dHBzOi8vZm9udGF3ZXNvbWUuY29tIExpY2Vuc2UgLSBodHRwczovL2ZvbnRhd2Vzb21lLmNvbS9saWNlbnNlL2ZyZWUgQ29weXJpZ2h0IDIwMjUgRm9udGljb25zLCBJbmMuLS0+PHBhdGggZD0iTTIwOCAwTDMzMi4xIDBjMTIuNyAwIDI0LjkgNS4xIDMzLjkgMTQuMWw2Ny45IDY3LjljOSA5IDE0LjEgMjEuMiAxNC4xIDMzLjlMNDQ4IDMzNmMwIDI2LjUtMjEuNSA0OC00OCA0OGwtMTkyIDBjLTI2LjUgMC00OC0yMS41LTQ4LTQ4bDAtMjg4YzAtMjYuNSAyMS41LTQ4IDQ4LTQ4ek00OCAxMjhsODAgMCAwIDY0LTY0IDAgMCAyNTYgMTkyIDAgMC0zMiA2NCAwIDAgNDhjMCAyNi41LTIxLjUgNDgtNDggNDhMNDggNTEyYy0yNi41IDAtNDgtMjEuNS00OC00OEwwIDE3NmMwLTI2LjUgMjEuNS00OCA0OC00OHoiLz48L3N2Zz4=);\n",
       "    background-repeat: no-repeat;\n",
       "    background-size: 14px 14px;\n",
       "    background-position: 0;\n",
       "    display: inline-block;\n",
       "    width: 14px;\n",
       "    height: 14px;\n",
       "    cursor: pointer;\n",
       "}\n",
       "</style><body><div id=\"sk-container-id-3\" class=\"sk-top-container\"><div class=\"sk-text-repr-fallback\"><pre>MinMaxScaler()</pre><b>In a Jupyter environment, please rerun this cell to show the HTML representation or trust the notebook. <br />On GitHub, the HTML representation is unable to render, please try loading this page with nbviewer.org.</b></div><div class=\"sk-container\" hidden><div class=\"sk-item\"><div class=\"sk-estimator fitted sk-toggleable\"><input class=\"sk-toggleable__control sk-hidden--visually\" id=\"sk-estimator-id-3\" type=\"checkbox\" checked><label for=\"sk-estimator-id-3\" class=\"sk-toggleable__label fitted sk-toggleable__label-arrow\"><div><div>MinMaxScaler</div></div><div><a class=\"sk-estimator-doc-link fitted\" rel=\"noreferrer\" target=\"_blank\" href=\"https://scikit-learn.org/1.7/modules/generated/sklearn.preprocessing.MinMaxScaler.html\">?<span>Documentation for MinMaxScaler</span></a><span class=\"sk-estimator-doc-link fitted\">i<span>Fitted</span></span></div></label><div class=\"sk-toggleable__content fitted\" data-param-prefix=\"\">\n",
       "        <div class=\"estimator-table\">\n",
       "            <details>\n",
       "                <summary>Parameters</summary>\n",
       "                <table class=\"parameters-table\">\n",
       "                  <tbody>\n",
       "                    \n",
       "        <tr class=\"default\">\n",
       "            <td><i class=\"copy-paste-icon\"\n",
       "                 onclick=\"copyToClipboard('feature_range',\n",
       "                          this.parentElement.nextElementSibling)\"\n",
       "            ></i></td>\n",
       "            <td class=\"param\">feature_range&nbsp;</td>\n",
       "            <td class=\"value\">(0, ...)</td>\n",
       "        </tr>\n",
       "    \n",
       "\n",
       "        <tr class=\"default\">\n",
       "            <td><i class=\"copy-paste-icon\"\n",
       "                 onclick=\"copyToClipboard('copy',\n",
       "                          this.parentElement.nextElementSibling)\"\n",
       "            ></i></td>\n",
       "            <td class=\"param\">copy&nbsp;</td>\n",
       "            <td class=\"value\">True</td>\n",
       "        </tr>\n",
       "    \n",
       "\n",
       "        <tr class=\"default\">\n",
       "            <td><i class=\"copy-paste-icon\"\n",
       "                 onclick=\"copyToClipboard('clip',\n",
       "                          this.parentElement.nextElementSibling)\"\n",
       "            ></i></td>\n",
       "            <td class=\"param\">clip&nbsp;</td>\n",
       "            <td class=\"value\">False</td>\n",
       "        </tr>\n",
       "    \n",
       "                  </tbody>\n",
       "                </table>\n",
       "            </details>\n",
       "        </div>\n",
       "    </div></div></div></div></div><script>function copyToClipboard(text, element) {\n",
       "    // Get the parameter prefix from the closest toggleable content\n",
       "    const toggleableContent = element.closest('.sk-toggleable__content');\n",
       "    const paramPrefix = toggleableContent ? toggleableContent.dataset.paramPrefix : '';\n",
       "    const fullParamName = paramPrefix ? `${paramPrefix}${text}` : text;\n",
       "\n",
       "    const originalStyle = element.style;\n",
       "    const computedStyle = window.getComputedStyle(element);\n",
       "    const originalWidth = computedStyle.width;\n",
       "    const originalHTML = element.innerHTML.replace('Copied!', '');\n",
       "\n",
       "    navigator.clipboard.writeText(fullParamName)\n",
       "        .then(() => {\n",
       "            element.style.width = originalWidth;\n",
       "            element.style.color = 'green';\n",
       "            element.innerHTML = \"Copied!\";\n",
       "\n",
       "            setTimeout(() => {\n",
       "                element.innerHTML = originalHTML;\n",
       "                element.style = originalStyle;\n",
       "            }, 2000);\n",
       "        })\n",
       "        .catch(err => {\n",
       "            console.error('Failed to copy:', err);\n",
       "            element.style.color = 'red';\n",
       "            element.innerHTML = \"Failed!\";\n",
       "            setTimeout(() => {\n",
       "                element.innerHTML = originalHTML;\n",
       "                element.style = originalStyle;\n",
       "            }, 2000);\n",
       "        });\n",
       "    return false;\n",
       "}\n",
       "\n",
       "document.querySelectorAll('.fa-regular.fa-copy').forEach(function(element) {\n",
       "    const toggleableContent = element.closest('.sk-toggleable__content');\n",
       "    const paramPrefix = toggleableContent ? toggleableContent.dataset.paramPrefix : '';\n",
       "    const paramName = element.parentElement.nextElementSibling.textContent.trim();\n",
       "    const fullParamName = paramPrefix ? `${paramPrefix}${paramName}` : paramName;\n",
       "\n",
       "    element.setAttribute('title', fullParamName);\n",
       "});\n",
       "</script></body>"
      ]
     },
     "execution_count": 89,
     "metadata": {},
     "output_type": "execute_result"
    }
   ],
   "execution_count": 89
  },
  {
   "metadata": {
    "ExecuteTime": {
     "end_time": "2025-07-17T20:13:53.639077Z",
     "start_time": "2025-07-17T20:13:53.627951Z"
    }
   },
   "cell_type": "code",
   "source": "scaled_full_data_prueba",
   "id": "1790e9d370ff17e0",
   "outputs": [
    {
     "data": {
      "text/plain": [
       "array([[0.        , 0.38937093, 0.        , 0.2747191 ],\n",
       "       [0.05630091, 0.25596529, 0.25550661, 0.19359551],\n",
       "       [0.14132239, 0.        , 0.59911894, 0.5705618 ],\n",
       "       [0.24027973, 0.30151844, 0.94273128, 0.        ],\n",
       "       [0.80222467, 0.56616052, 0.88986784, 0.64674157],\n",
       "       [0.85881697, 0.72342733, 1.        , 0.11617978],\n",
       "       [0.52139156, 0.87960954, 0.74449339, 0.31213483],\n",
       "       [0.33854028, 0.68655098, 0.84140969, 0.4994382 ],\n",
       "       [0.66215651, 0.7472885 , 0.64757709, 0.24224719],\n",
       "       [0.50731633, 0.81995662, 0.79295154, 0.40325843],\n",
       "       [1.        , 1.        , 0.44933921, 1.        ],\n",
       "       [0.18257256, 0.75921909, 0.15859031, 0.3458427 ]])"
      ]
     },
     "execution_count": 90,
     "metadata": {},
     "output_type": "execute_result"
    }
   ],
   "execution_count": 90
  },
  {
   "metadata": {
    "ExecuteTime": {
     "end_time": "2025-07-17T20:13:56.802997Z",
     "start_time": "2025-07-17T20:13:55.689777Z"
    }
   },
   "cell_type": "code",
   "source": [
    "forecast = []\n",
    "\n",
    "periodos = 12 # Indicamos el número de periodos en base a la longitud del forecast deseada (12 meses)\n",
    "\n",
    "primer_batch = scaled_full_data_prueba[-12:]\n",
    "batch_actual = primer_batch.reshape((1, 12, 4))\n",
    "\n",
    "for i in range(periodos):\n",
    "\n",
    "    pred_actual = modelo.predict(batch_actual)[0]\n",
    "    forecast.append(pred_actual)\n",
    "\n",
    "    # Actualizar batch_actual de forma más simple\n",
    "    batch_actual = np.roll(batch_actual, -1, axis=1)\n",
    "    batch_actual[0, -1, :] = pred_actual"
   ],
   "id": "d76465fb285b4d1d",
   "outputs": [
    {
     "name": "stdout",
     "output_type": "stream",
     "text": [
      "\u001B[1m1/1\u001B[0m \u001B[32m━━━━━━━━━━━━━━━━━━━━\u001B[0m\u001B[37m\u001B[0m \u001B[1m0s\u001B[0m 143ms/step\n",
      "\u001B[1m1/1\u001B[0m \u001B[32m━━━━━━━━━━━━━━━━━━━━\u001B[0m\u001B[37m\u001B[0m \u001B[1m0s\u001B[0m 40ms/step\n",
      "\u001B[1m1/1\u001B[0m \u001B[32m━━━━━━━━━━━━━━━━━━━━\u001B[0m\u001B[37m\u001B[0m \u001B[1m0s\u001B[0m 40ms/step\n",
      "\u001B[1m1/1\u001B[0m \u001B[32m━━━━━━━━━━━━━━━━━━━━\u001B[0m\u001B[37m\u001B[0m \u001B[1m0s\u001B[0m 55ms/step\n",
      "\u001B[1m1/1\u001B[0m \u001B[32m━━━━━━━━━━━━━━━━━━━━\u001B[0m\u001B[37m\u001B[0m \u001B[1m0s\u001B[0m 35ms/step\n",
      "\u001B[1m1/1\u001B[0m \u001B[32m━━━━━━━━━━━━━━━━━━━━\u001B[0m\u001B[37m\u001B[0m \u001B[1m0s\u001B[0m 43ms/step\n",
      "\u001B[1m1/1\u001B[0m \u001B[32m━━━━━━━━━━━━━━━━━━━━\u001B[0m\u001B[37m\u001B[0m \u001B[1m0s\u001B[0m 37ms/step\n",
      "\u001B[1m1/1\u001B[0m \u001B[32m━━━━━━━━━━━━━━━━━━━━\u001B[0m\u001B[37m\u001B[0m \u001B[1m0s\u001B[0m 42ms/step\n",
      "\u001B[1m1/1\u001B[0m \u001B[32m━━━━━━━━━━━━━━━━━━━━\u001B[0m\u001B[37m\u001B[0m \u001B[1m0s\u001B[0m 41ms/step\n",
      "\u001B[1m1/1\u001B[0m \u001B[32m━━━━━━━━━━━━━━━━━━━━\u001B[0m\u001B[37m\u001B[0m \u001B[1m0s\u001B[0m 32ms/step\n",
      "\u001B[1m1/1\u001B[0m \u001B[32m━━━━━━━━━━━━━━━━━━━━\u001B[0m\u001B[37m\u001B[0m \u001B[1m0s\u001B[0m 35ms/step\n",
      "\u001B[1m1/1\u001B[0m \u001B[32m━━━━━━━━━━━━━━━━━━━━\u001B[0m\u001B[37m\u001B[0m \u001B[1m0s\u001B[0m 40ms/step\n"
     ]
    }
   ],
   "execution_count": 91
  },
  {
   "metadata": {
    "ExecuteTime": {
     "end_time": "2025-07-17T20:13:58.514727Z",
     "start_time": "2025-07-17T20:13:58.508981Z"
    }
   },
   "cell_type": "code",
   "source": [
    "forecast = np.array(forecast)\n",
    "\n",
    "# Extraer parámetros de la primera variable del scaler original\n",
    "min_val = scaler.min_[0]\n",
    "scale_val = scaler.scale_[0]\n",
    "\n",
    "# Aplicar inverse transform manualmente\n",
    "forecast_original = (forecast / scale_val) + min_val"
   ],
   "id": "30ab7d7e95f4956f",
   "outputs": [],
   "execution_count": 92
  },
  {
   "metadata": {
    "ExecuteTime": {
     "end_time": "2025-07-17T20:14:00.909880Z",
     "start_time": "2025-07-17T20:14:00.905406Z"
    }
   },
   "cell_type": "code",
   "source": "forecast_variable_interes_prueba = forecast_original",
   "id": "653d1fa1221f3eea",
   "outputs": [],
   "execution_count": 93
  },
  {
   "metadata": {
    "ExecuteTime": {
     "end_time": "2025-07-17T20:14:01.635885Z",
     "start_time": "2025-07-17T20:14:01.629799Z"
    }
   },
   "cell_type": "code",
   "source": [
    "forecast_index_prueba = pd.date_range(start='2025-01-01', periods=12, freq='MS')  #MS = Monthly Start\n",
    "forecast_df_prueba = pd.DataFrame(data=forecast_variable_interes_prueba, index=forecast_index_prueba,\n",
    "                                  columns=['Forecast'])"
   ],
   "id": "c5051bb272c9d492",
   "outputs": [],
   "execution_count": 94
  },
  {
   "metadata": {
    "ExecuteTime": {
     "end_time": "2025-07-17T20:14:03.035219Z",
     "start_time": "2025-07-17T20:14:02.803971Z"
    }
   },
   "cell_type": "code",
   "source": [
    "df_prueba['produccion'].plot()\n",
    "forecast_df_prueba.plot()"
   ],
   "id": "c2227b3e1371dc8",
   "outputs": [
    {
     "data": {
      "text/plain": [
       "<Axes: >"
      ]
     },
     "execution_count": 95,
     "metadata": {},
     "output_type": "execute_result"
    },
    {
     "data": {
      "text/plain": [
       "<Figure size 640x480 with 1 Axes>"
      ],
      "image/png": "[encoded data removed]"
     },
     "metadata": {},
     "output_type": "display_data"
    },
    {
     "data": {
      "text/plain": [
       "<Figure size 640x480 with 1 Axes>"
      ],
      "image/png": "[encoded data removed]"
     },
     "metadata": {},
     "output_type": "display_data"
    }
   ],
   "execution_count": 95
  },
  {
   "metadata": {
    "ExecuteTime": {
     "end_time": "2025-07-17T20:14:06.093583Z",
     "start_time": "2025-07-17T20:14:05.951002Z"
    }
   },
   "cell_type": "code",
   "source": [
    "ax = df_prueba['produccion'].plot()\n",
    "forecast_df_prueba.plot(ax=ax)"
   ],
   "id": "37e3e67404516556",
   "outputs": [
    {
     "data": {
      "text/plain": [
       "<Axes: xlabel='fecha'>"
      ]
     },
     "execution_count": 96,
     "metadata": {},
     "output_type": "execute_result"
    },
    {
     "data": {
      "text/plain": [
       "<Figure size 640x480 with 1 Axes>"
      ],
      "image/png": "[encoded data removed]"
     },
     "metadata": {},
     "output_type": "display_data"
    }
   ],
   "execution_count": 96
  }
 ],
 "metadata": {
  "kernelspec": {
   "display_name": "Python 3",
   "language": "python",
   "name": "python3"
  },
  "language_info": {
   "codemirror_mode": {
    "name": "ipython",
    "version": 2
   },
   "file_extension": ".py",
   "mimetype": "text/x-python",
   "name": "python",
   "nbconvert_exporter": "python",
   "pygments_lexer": "ipython2",
   "version": "2.7.6"
  }
 },
 "nbformat": 4,
 "nbformat_minor": 5
}
