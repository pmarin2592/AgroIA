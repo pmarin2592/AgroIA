{
 "cells": [
  {
   "metadata": {
    "ExecuteTime": {
     "end_time": "2025-07-14T05:36:12.840547Z",
     "start_time": "2025-07-14T05:36:12.807444Z"
    }
   },
   "cell_type": "code",
   "source": [
    "import pandas as pd\n",
    "import matplotlib.pyplot as plt\n",
    "import seaborn as sns\n",
    "from src.RecomendadorClimatico import RecomendadorClimatico\n",
    "from src.Transformaciones import Transformaciones\n",
    "from src.AgregarPH import CargaData, AgregarPH"
   ],
   "id": "6d5b80111da1a6a0",
   "outputs": [],
   "execution_count": 3
  },
  {
   "metadata": {
    "ExecuteTime": {
     "end_time": "2025-07-14T05:37:28.206970Z",
     "start_time": "2025-07-14T05:37:28.200041Z"
    }
   },
   "cell_type": "code",
   "source": "path = '../data/raw/ANN'",
   "id": "14781ad74eefecd9",
   "outputs": [],
   "execution_count": 9
  },
  {
   "metadata": {
    "ExecuteTime": {
     "end_time": "2025-07-07T22:26:47.781680Z",
     "start_time": "2025-07-07T22:26:47.776636Z"
    }
   },
   "cell_type": "code",
   "source": "# 2.Importación fuente de datos",
   "id": "ebe5484a35814c0d",
   "outputs": [],
   "execution_count": 3
  },
  {
   "metadata": {
    "ExecuteTime": {
     "end_time": "2025-07-14T05:37:29.404603Z",
     "start_time": "2025-07-14T05:37:29.360379Z"
    }
   },
   "cell_type": "code",
   "source": [
    "carga = CargaData(path+'/data.csv')\n",
    "df = carga.obtener_data()\n",
    "agregar_ph = AgregarPH(df)\n",
    "df_con_ph = agregar_ph.generar_ph_mensual()\n",
    "df_con_ph.to_csv(path+\"/df_con_ph.csv\", index=False)"
   ],
   "id": "2d66efb80dd9ae8c",
   "outputs": [],
   "execution_count": 10
  },
  {
   "metadata": {
    "ExecuteTime": {
     "end_time": "2025-07-14T05:37:42.638947Z",
     "start_time": "2025-07-14T05:37:42.622012Z"
    }
   },
   "cell_type": "code",
   "source": [
    "#Lectura datos históricos\n",
    "df = pd.read_csv(path+'/df_con_ph.csv',encoding = \"ISO-8859-1\",delimiter=',')"
   ],
   "id": "23e55da88c30527b",
   "outputs": [],
   "execution_count": 12
  },
  {
   "metadata": {
    "ExecuteTime": {
     "end_time": "2025-07-14T05:38:06.368767Z",
     "start_time": "2025-07-14T05:38:06.358670Z"
    }
   },
   "cell_type": "code",
   "source": [
    "\"\"\"\n",
    "Fuente: NASA/POWER – Resolución nativa mensual y anual\n",
    "Fechas (mes/día/año): del 01/01/1981 al 31/12/2025 en hora solar local (LST)\n",
    "Ubicación: Latitud 9.8062  Longitud -83.8448\n",
    "Elevación según MERRA-2: Promedio para una región de 0.5 x 0.625 grados de latitud/longitud = 1064.94 metros\n",
    "Valor para datos faltantes que no pueden ser calculados o que están fuera del rango de disponibilidad de las fuentes: -999\n",
    "Parámetro(s):\n",
    "- PRECTOTCORR: Precipitación corregida de MERRA-2 (mm/día)\n",
    "- PRECTOTCORR_SUM: Suma de la precipitación corregida de MERRA-2 (mm/día)\n",
    "- QV2M: Humedad específica a 2 metros según MERRA-2 (g/kg)\n",
    "- RH2M: Humedad relativa a 2 metros según MERRA-2 (%)\n",
    "- T2M: Temperatura a 2 metros según MERRA-2 (°C)\n",
    "- T2M_MAX: Temperatura máxima a 2 metros según MERRA-2 (°C)\n",
    "- T2M_MIN: Temperatura mínima a 2 metros según MERRA-2 (°C)\n",
    "\"\"\""
   ],
   "id": "ad8a7134d09b3b5b",
   "outputs": [
    {
     "data": {
      "text/plain": [
       "'\\nFuente: NASA/POWER – Resolución nativa mensual y anual\\nFechas (mes/día/año): del 01/01/1981 al 31/12/2025 en hora solar local (LST)\\nUbicación: Latitud 9.8062  Longitud -83.8448\\nElevación según MERRA-2: Promedio para una región de 0.5 x 0.625 grados de latitud/longitud = 1064.94 metros\\nValor para datos faltantes que no pueden ser calculados o que están fuera del rango de disponibilidad de las fuentes: -999\\nParámetro(s):\\n- PRECTOTCORR: Precipitación corregida de MERRA-2 (mm/día)\\n- PRECTOTCORR_SUM: Suma de la precipitación corregida de MERRA-2 (mm/día)\\n- QV2M: Humedad específica a 2 metros según MERRA-2 (g/kg)\\n- RH2M: Humedad relativa a 2 metros según MERRA-2 (%)\\n- T2M: Temperatura a 2 metros según MERRA-2 (°C)\\n- T2M_MAX: Temperatura máxima a 2 metros según MERRA-2 (°C)\\n- T2M_MIN: Temperatura mínima a 2 metros según MERRA-2 (°C)\\n'"
      ]
     },
     "execution_count": 13,
     "metadata": {},
     "output_type": "execute_result"
    }
   ],
   "execution_count": 13
  },
  {
   "metadata": {
    "ExecuteTime": {
     "end_time": "2025-07-14T05:38:10.045112Z",
     "start_time": "2025-07-14T05:38:10.010674Z"
    }
   },
   "cell_type": "code",
   "source": "df.head()",
   "id": "f5b1f15b2c972381",
   "outputs": [
    {
     "data": {
      "text/plain": [
       "     PARAMETER  YEAR   JAN   FEB   MAR   APR   MAY    JUN   JUL   AUG  ...  \\\n",
       "0  PRECTOTCORR  1981  2.64  3.32  1.72  6.02  6.66  11.86  3.34  9.65  ...   \n",
       "1  PRECTOTCORR  1982  3.30  2.99  1.35  3.71  8.90   2.92  8.43  4.88  ...   \n",
       "2  PRECTOTCORR  1983  1.38  0.09  0.93  3.76  3.01   4.61  5.27  5.66  ...   \n",
       "3  PRECTOTCORR  1984  0.69  1.01  0.60  2.72  4.78   5.78  4.80  6.55  ...   \n",
       "4  PRECTOTCORR  1985  1.94  0.41  0.50  0.84  2.21   8.02  5.41  4.31  ...   \n",
       "\n",
       "   MAR_PH_SUELO  APR_PH_SUELO  MAY_PH_SUELO  JUN_PH_SUELO  JUL_PH_SUELO  \\\n",
       "0          4.88          5.49          3.08          6.50          6.27   \n",
       "1          8.03          8.90          4.23          8.58          5.95   \n",
       "2          5.74          5.02          6.82          4.33          5.21   \n",
       "3          5.84          6.99          5.12          8.10          5.80   \n",
       "4          8.46          7.10          5.58          8.39          5.77   \n",
       "\n",
       "   AUG_PH_SUELO  SEP_PH_SUELO  OCT_PH_SUELO  NOV_PH_SUELO  DEC_PH_SUELO  \n",
       "0          3.24          4.89          4.47          3.49          7.82  \n",
       "1          4.46          3.66          4.87          6.75          7.49  \n",
       "2          3.18          3.99          5.00          6.33          3.52  \n",
       "3          4.15          4.55          6.80          5.68          8.93  \n",
       "4          7.62          3.44          7.81          3.70          8.93  \n",
       "\n",
       "[5 rows x 27 columns]"
      ],
      "text/html": [
       "<div>\n",
       "<style scoped>\n",
       "    .dataframe tbody tr th:only-of-type {\n",
       "        vertical-align: middle;\n",
       "    }\n",
       "\n",
       "    .dataframe tbody tr th {\n",
       "        vertical-align: top;\n",
       "    }\n",
       "\n",
       "    .dataframe thead th {\n",
       "        text-align: right;\n",
       "    }\n",
       "</style>\n",
       "<table border=\"1\" class=\"dataframe\">\n",
       "  <thead>\n",
       "    <tr style=\"text-align: right;\">\n",
       "      <th></th>\n",
       "      <th>PARAMETER</th>\n",
       "      <th>YEAR</th>\n",
       "      <th>JAN</th>\n",
       "      <th>FEB</th>\n",
       "      <th>MAR</th>\n",
       "      <th>APR</th>\n",
       "      <th>MAY</th>\n",
       "      <th>JUN</th>\n",
       "      <th>JUL</th>\n",
       "      <th>AUG</th>\n",
       "      <th>...</th>\n",
       "      <th>MAR_PH_SUELO</th>\n",
       "      <th>APR_PH_SUELO</th>\n",
       "      <th>MAY_PH_SUELO</th>\n",
       "      <th>JUN_PH_SUELO</th>\n",
       "      <th>JUL_PH_SUELO</th>\n",
       "      <th>AUG_PH_SUELO</th>\n",
       "      <th>SEP_PH_SUELO</th>\n",
       "      <th>OCT_PH_SUELO</th>\n",
       "      <th>NOV_PH_SUELO</th>\n",
       "      <th>DEC_PH_SUELO</th>\n",
       "    </tr>\n",
       "  </thead>\n",
       "  <tbody>\n",
       "    <tr>\n",
       "      <th>0</th>\n",
       "      <td>PRECTOTCORR</td>\n",
       "      <td>1981</td>\n",
       "      <td>2.64</td>\n",
       "      <td>3.32</td>\n",
       "      <td>1.72</td>\n",
       "      <td>6.02</td>\n",
       "      <td>6.66</td>\n",
       "      <td>11.86</td>\n",
       "      <td>3.34</td>\n",
       "      <td>9.65</td>\n",
       "      <td>...</td>\n",
       "      <td>4.88</td>\n",
       "      <td>5.49</td>\n",
       "      <td>3.08</td>\n",
       "      <td>6.50</td>\n",
       "      <td>6.27</td>\n",
       "      <td>3.24</td>\n",
       "      <td>4.89</td>\n",
       "      <td>4.47</td>\n",
       "      <td>3.49</td>\n",
       "      <td>7.82</td>\n",
       "    </tr>\n",
       "    <tr>\n",
       "      <th>1</th>\n",
       "      <td>PRECTOTCORR</td>\n",
       "      <td>1982</td>\n",
       "      <td>3.30</td>\n",
       "      <td>2.99</td>\n",
       "      <td>1.35</td>\n",
       "      <td>3.71</td>\n",
       "      <td>8.90</td>\n",
       "      <td>2.92</td>\n",
       "      <td>8.43</td>\n",
       "      <td>4.88</td>\n",
       "      <td>...</td>\n",
       "      <td>8.03</td>\n",
       "      <td>8.90</td>\n",
       "      <td>4.23</td>\n",
       "      <td>8.58</td>\n",
       "      <td>5.95</td>\n",
       "      <td>4.46</td>\n",
       "      <td>3.66</td>\n",
       "      <td>4.87</td>\n",
       "      <td>6.75</td>\n",
       "      <td>7.49</td>\n",
       "    </tr>\n",
       "    <tr>\n",
       "      <th>2</th>\n",
       "      <td>PRECTOTCORR</td>\n",
       "      <td>1983</td>\n",
       "      <td>1.38</td>\n",
       "      <td>0.09</td>\n",
       "      <td>0.93</td>\n",
       "      <td>3.76</td>\n",
       "      <td>3.01</td>\n",
       "      <td>4.61</td>\n",
       "      <td>5.27</td>\n",
       "      <td>5.66</td>\n",
       "      <td>...</td>\n",
       "      <td>5.74</td>\n",
       "      <td>5.02</td>\n",
       "      <td>6.82</td>\n",
       "      <td>4.33</td>\n",
       "      <td>5.21</td>\n",
       "      <td>3.18</td>\n",
       "      <td>3.99</td>\n",
       "      <td>5.00</td>\n",
       "      <td>6.33</td>\n",
       "      <td>3.52</td>\n",
       "    </tr>\n",
       "    <tr>\n",
       "      <th>3</th>\n",
       "      <td>PRECTOTCORR</td>\n",
       "      <td>1984</td>\n",
       "      <td>0.69</td>\n",
       "      <td>1.01</td>\n",
       "      <td>0.60</td>\n",
       "      <td>2.72</td>\n",
       "      <td>4.78</td>\n",
       "      <td>5.78</td>\n",
       "      <td>4.80</td>\n",
       "      <td>6.55</td>\n",
       "      <td>...</td>\n",
       "      <td>5.84</td>\n",
       "      <td>6.99</td>\n",
       "      <td>5.12</td>\n",
       "      <td>8.10</td>\n",
       "      <td>5.80</td>\n",
       "      <td>4.15</td>\n",
       "      <td>4.55</td>\n",
       "      <td>6.80</td>\n",
       "      <td>5.68</td>\n",
       "      <td>8.93</td>\n",
       "    </tr>\n",
       "    <tr>\n",
       "      <th>4</th>\n",
       "      <td>PRECTOTCORR</td>\n",
       "      <td>1985</td>\n",
       "      <td>1.94</td>\n",
       "      <td>0.41</td>\n",
       "      <td>0.50</td>\n",
       "      <td>0.84</td>\n",
       "      <td>2.21</td>\n",
       "      <td>8.02</td>\n",
       "      <td>5.41</td>\n",
       "      <td>4.31</td>\n",
       "      <td>...</td>\n",
       "      <td>8.46</td>\n",
       "      <td>7.10</td>\n",
       "      <td>5.58</td>\n",
       "      <td>8.39</td>\n",
       "      <td>5.77</td>\n",
       "      <td>7.62</td>\n",
       "      <td>3.44</td>\n",
       "      <td>7.81</td>\n",
       "      <td>3.70</td>\n",
       "      <td>8.93</td>\n",
       "    </tr>\n",
       "  </tbody>\n",
       "</table>\n",
       "<p>5 rows × 27 columns</p>\n",
       "</div>"
      ]
     },
     "execution_count": 14,
     "metadata": {},
     "output_type": "execute_result"
    }
   ],
   "execution_count": 14
  },
  {
   "metadata": {
    "ExecuteTime": {
     "end_time": "2025-07-14T05:38:12.978344Z",
     "start_time": "2025-07-14T05:38:12.942473Z"
    }
   },
   "cell_type": "code",
   "source": "df.tail()",
   "id": "9f0801703cfbf4fc",
   "outputs": [
    {
     "data": {
      "text/plain": [
       "    PARAMETER  YEAR    JAN    FEB    MAR    APR     MAY     JUN     JUL  \\\n",
       "310   T2M_MIN  2021  13.59  15.41  13.38  15.34   15.95   15.07   16.23   \n",
       "311   T2M_MIN  2022  15.20  12.54  14.26  15.80   16.22   15.30   16.29   \n",
       "312   T2M_MIN  2023  14.71  13.53  15.29  14.76   16.99   15.81   16.89   \n",
       "313   T2M_MIN  2024  15.93  13.93  14.21  14.95   16.76   17.71   16.85   \n",
       "314   T2M_MIN  2025  14.90  15.61  15.96  16.50 -999.00 -999.00 -999.00   \n",
       "\n",
       "        AUG  ...  MAR_PH_SUELO  APR_PH_SUELO  MAY_PH_SUELO  JUN_PH_SUELO  \\\n",
       "310   15.62  ...          6.69          3.74          7.58          4.59   \n",
       "311   15.27  ...          5.81          5.66          7.23          5.30   \n",
       "312   17.24  ...          3.79          5.07          8.86          3.96   \n",
       "313   17.28  ...          5.04          3.53          7.40          7.95   \n",
       "314 -999.00  ...          6.76          7.00          3.77          3.29   \n",
       "\n",
       "     JUL_PH_SUELO  AUG_PH_SUELO  SEP_PH_SUELO  OCT_PH_SUELO  NOV_PH_SUELO  \\\n",
       "310          6.73          6.99          4.44          8.94          7.95   \n",
       "311          4.06          3.02          5.29          6.08          7.23   \n",
       "312          3.07          6.72          5.92          8.35          3.83   \n",
       "313          6.53          7.98          6.77          3.67          5.33   \n",
       "314          6.98          7.03          6.69          4.87          6.48   \n",
       "\n",
       "     DEC_PH_SUELO  \n",
       "310          8.30  \n",
       "311          7.51  \n",
       "312          7.06  \n",
       "313          7.34  \n",
       "314          5.32  \n",
       "\n",
       "[5 rows x 27 columns]"
      ],
      "text/html": [
       "<div>\n",
       "<style scoped>\n",
       "    .dataframe tbody tr th:only-of-type {\n",
       "        vertical-align: middle;\n",
       "    }\n",
       "\n",
       "    .dataframe tbody tr th {\n",
       "        vertical-align: top;\n",
       "    }\n",
       "\n",
       "    .dataframe thead th {\n",
       "        text-align: right;\n",
       "    }\n",
       "</style>\n",
       "<table border=\"1\" class=\"dataframe\">\n",
       "  <thead>\n",
       "    <tr style=\"text-align: right;\">\n",
       "      <th></th>\n",
       "      <th>PARAMETER</th>\n",
       "      <th>YEAR</th>\n",
       "      <th>JAN</th>\n",
       "      <th>FEB</th>\n",
       "      <th>MAR</th>\n",
       "      <th>APR</th>\n",
       "      <th>MAY</th>\n",
       "      <th>JUN</th>\n",
       "      <th>JUL</th>\n",
       "      <th>AUG</th>\n",
       "      <th>...</th>\n",
       "      <th>MAR_PH_SUELO</th>\n",
       "      <th>APR_PH_SUELO</th>\n",
       "      <th>MAY_PH_SUELO</th>\n",
       "      <th>JUN_PH_SUELO</th>\n",
       "      <th>JUL_PH_SUELO</th>\n",
       "      <th>AUG_PH_SUELO</th>\n",
       "      <th>SEP_PH_SUELO</th>\n",
       "      <th>OCT_PH_SUELO</th>\n",
       "      <th>NOV_PH_SUELO</th>\n",
       "      <th>DEC_PH_SUELO</th>\n",
       "    </tr>\n",
       "  </thead>\n",
       "  <tbody>\n",
       "    <tr>\n",
       "      <th>310</th>\n",
       "      <td>T2M_MIN</td>\n",
       "      <td>2021</td>\n",
       "      <td>13.59</td>\n",
       "      <td>15.41</td>\n",
       "      <td>13.38</td>\n",
       "      <td>15.34</td>\n",
       "      <td>15.95</td>\n",
       "      <td>15.07</td>\n",
       "      <td>16.23</td>\n",
       "      <td>15.62</td>\n",
       "      <td>...</td>\n",
       "      <td>6.69</td>\n",
       "      <td>3.74</td>\n",
       "      <td>7.58</td>\n",
       "      <td>4.59</td>\n",
       "      <td>6.73</td>\n",
       "      <td>6.99</td>\n",
       "      <td>4.44</td>\n",
       "      <td>8.94</td>\n",
       "      <td>7.95</td>\n",
       "      <td>8.30</td>\n",
       "    </tr>\n",
       "    <tr>\n",
       "      <th>311</th>\n",
       "      <td>T2M_MIN</td>\n",
       "      <td>2022</td>\n",
       "      <td>15.20</td>\n",
       "      <td>12.54</td>\n",
       "      <td>14.26</td>\n",
       "      <td>15.80</td>\n",
       "      <td>16.22</td>\n",
       "      <td>15.30</td>\n",
       "      <td>16.29</td>\n",
       "      <td>15.27</td>\n",
       "      <td>...</td>\n",
       "      <td>5.81</td>\n",
       "      <td>5.66</td>\n",
       "      <td>7.23</td>\n",
       "      <td>5.30</td>\n",
       "      <td>4.06</td>\n",
       "      <td>3.02</td>\n",
       "      <td>5.29</td>\n",
       "      <td>6.08</td>\n",
       "      <td>7.23</td>\n",
       "      <td>7.51</td>\n",
       "    </tr>\n",
       "    <tr>\n",
       "      <th>312</th>\n",
       "      <td>T2M_MIN</td>\n",
       "      <td>2023</td>\n",
       "      <td>14.71</td>\n",
       "      <td>13.53</td>\n",
       "      <td>15.29</td>\n",
       "      <td>14.76</td>\n",
       "      <td>16.99</td>\n",
       "      <td>15.81</td>\n",
       "      <td>16.89</td>\n",
       "      <td>17.24</td>\n",
       "      <td>...</td>\n",
       "      <td>3.79</td>\n",
       "      <td>5.07</td>\n",
       "      <td>8.86</td>\n",
       "      <td>3.96</td>\n",
       "      <td>3.07</td>\n",
       "      <td>6.72</td>\n",
       "      <td>5.92</td>\n",
       "      <td>8.35</td>\n",
       "      <td>3.83</td>\n",
       "      <td>7.06</td>\n",
       "    </tr>\n",
       "    <tr>\n",
       "      <th>313</th>\n",
       "      <td>T2M_MIN</td>\n",
       "      <td>2024</td>\n",
       "      <td>15.93</td>\n",
       "      <td>13.93</td>\n",
       "      <td>14.21</td>\n",
       "      <td>14.95</td>\n",
       "      <td>16.76</td>\n",
       "      <td>17.71</td>\n",
       "      <td>16.85</td>\n",
       "      <td>17.28</td>\n",
       "      <td>...</td>\n",
       "      <td>5.04</td>\n",
       "      <td>3.53</td>\n",
       "      <td>7.40</td>\n",
       "      <td>7.95</td>\n",
       "      <td>6.53</td>\n",
       "      <td>7.98</td>\n",
       "      <td>6.77</td>\n",
       "      <td>3.67</td>\n",
       "      <td>5.33</td>\n",
       "      <td>7.34</td>\n",
       "    </tr>\n",
       "    <tr>\n",
       "      <th>314</th>\n",
       "      <td>T2M_MIN</td>\n",
       "      <td>2025</td>\n",
       "      <td>14.90</td>\n",
       "      <td>15.61</td>\n",
       "      <td>15.96</td>\n",
       "      <td>16.50</td>\n",
       "      <td>-999.00</td>\n",
       "      <td>-999.00</td>\n",
       "      <td>-999.00</td>\n",
       "      <td>-999.00</td>\n",
       "      <td>...</td>\n",
       "      <td>6.76</td>\n",
       "      <td>7.00</td>\n",
       "      <td>3.77</td>\n",
       "      <td>3.29</td>\n",
       "      <td>6.98</td>\n",
       "      <td>7.03</td>\n",
       "      <td>6.69</td>\n",
       "      <td>4.87</td>\n",
       "      <td>6.48</td>\n",
       "      <td>5.32</td>\n",
       "    </tr>\n",
       "  </tbody>\n",
       "</table>\n",
       "<p>5 rows × 27 columns</p>\n",
       "</div>"
      ]
     },
     "execution_count": 15,
     "metadata": {},
     "output_type": "execute_result"
    }
   ],
   "execution_count": 15
  },
  {
   "metadata": {
    "ExecuteTime": {
     "end_time": "2025-07-14T05:38:17.022130Z",
     "start_time": "2025-07-14T05:38:17.016204Z"
    }
   },
   "cell_type": "code",
   "source": [
    "#Notamos que anno 2025 como NO ha fanilizado tiene valores -999, esto afectaria el molode\n",
    "#por lo que el grupo decide eliminar esta columna"
   ],
   "id": "dd84689011278936",
   "outputs": [],
   "execution_count": 16
  },
  {
   "metadata": {
    "ExecuteTime": {
     "end_time": "2025-07-14T05:38:18.126552Z",
     "start_time": "2025-07-14T05:38:18.101265Z"
    }
   },
   "cell_type": "code",
   "source": [
    "# Filtrar los datos para eliminar el año 2025\n",
    "df = df[df['YEAR'] != 2025]"
   ],
   "id": "513a4f3e48333ab9",
   "outputs": [],
   "execution_count": 17
  },
  {
   "metadata": {
    "ExecuteTime": {
     "end_time": "2025-07-14T05:38:19.515073Z",
     "start_time": "2025-07-14T05:38:19.483602Z"
    }
   },
   "cell_type": "code",
   "source": "df.to_csv(path+\"/df_sin_2025.csv\", index=False)",
   "id": "ece72b4879a50f48",
   "outputs": [],
   "execution_count": 18
  },
  {
   "metadata": {
    "ExecuteTime": {
     "end_time": "2025-07-14T05:38:32.671586Z",
     "start_time": "2025-07-14T05:38:32.555635Z"
    }
   },
   "cell_type": "code",
   "source": [
    "recomendador = RecomendadorClimatico(path+\"/df_sin_2025.csv\", path+\"/datos_con_recomendaciones_completo.csv\")\n",
    "recomendador.procesar()"
   ],
   "id": "903d83c1e91fd389",
   "outputs": [
    {
     "name": "stdout",
     "output_type": "stream",
     "text": [
      "✅ Archivo generado: ../data/raw/ANN/datos_con_recomendaciones_completo.csv\n"
     ]
    }
   ],
   "execution_count": 20
  },
  {
   "metadata": {
    "ExecuteTime": {
     "end_time": "2025-07-14T05:38:39.853597Z",
     "start_time": "2025-07-14T05:38:39.837786Z"
    }
   },
   "cell_type": "code",
   "source": [
    "#Lectura datos nuevos\n",
    "df = pd.read_csv(path+'/datos_con_recomendaciones_completo.csv',encoding = \"ISO-8859-1\",delimiter=',')"
   ],
   "id": "c468ffcc931db58f",
   "outputs": [],
   "execution_count": 21
  },
  {
   "metadata": {
    "ExecuteTime": {
     "end_time": "2025-07-14T05:38:41.371889Z",
     "start_time": "2025-07-14T05:38:41.363377Z"
    }
   },
   "cell_type": "code",
   "source": "# 3.Análisis de Datos (EDA) + Preprocesado",
   "id": "d49bccf4c1e257a3",
   "outputs": [],
   "execution_count": 22
  },
  {
   "metadata": {
    "ExecuteTime": {
     "end_time": "2025-07-14T05:38:42.578859Z",
     "start_time": "2025-07-14T05:38:42.553320Z"
    }
   },
   "cell_type": "code",
   "source": "df[\"Recomendacion\"].value_counts()",
   "id": "4b722bfc02c9f343",
   "outputs": [
    {
     "data": {
      "text/plain": [
       "Recomendacion\n",
       "fertilizacion      207\n",
       "poda_preventiva    167\n",
       "riego              154\n",
       "Name: count, dtype: int64"
      ]
     },
     "execution_count": 23,
     "metadata": {},
     "output_type": "execute_result"
    }
   ],
   "execution_count": 23
  },
  {
   "metadata": {
    "ExecuteTime": {
     "end_time": "2025-07-14T05:38:46.184436Z",
     "start_time": "2025-07-14T05:38:46.152077Z"
    }
   },
   "cell_type": "code",
   "source": "df.info()",
   "id": "236a61c0f07d974b",
   "outputs": [
    {
     "name": "stdout",
     "output_type": "stream",
     "text": [
      "<class 'pandas.core.frame.DataFrame'>\n",
      "RangeIndex: 528 entries, 0 to 527\n",
      "Data columns (total 8 columns):\n",
      " #   Column         Non-Null Count  Dtype  \n",
      "---  ------         --------------  -----  \n",
      " 0   YEAR           528 non-null    int64  \n",
      " 1   MONTH          528 non-null    object \n",
      " 2   lluvia_mm      528 non-null    float64\n",
      " 3   temp_max       528 non-null    float64\n",
      " 4   temp_min       528 non-null    float64\n",
      " 5   humedad        528 non-null    float64\n",
      " 6   ph_suelo       528 non-null    float64\n",
      " 7   Recomendacion  528 non-null    object \n",
      "dtypes: float64(5), int64(1), object(2)\n",
      "memory usage: 33.1+ KB\n"
     ]
    }
   ],
   "execution_count": 24
  },
  {
   "metadata": {
    "ExecuteTime": {
     "end_time": "2025-07-14T05:38:49.382039Z",
     "start_time": "2025-07-14T05:38:49.366983Z"
    }
   },
   "cell_type": "code",
   "source": "df.isnull().sum() #Verificamos si hay valores nulos en alguna columna del dataframe",
   "id": "2d9c01a866842633",
   "outputs": [
    {
     "data": {
      "text/plain": [
       "YEAR             0\n",
       "MONTH            0\n",
       "lluvia_mm        0\n",
       "temp_max         0\n",
       "temp_min         0\n",
       "humedad          0\n",
       "ph_suelo         0\n",
       "Recomendacion    0\n",
       "dtype: int64"
      ]
     },
     "execution_count": 25,
     "metadata": {},
     "output_type": "execute_result"
    }
   ],
   "execution_count": 25
  },
  {
   "metadata": {
    "ExecuteTime": {
     "end_time": "2025-07-14T05:38:51.465465Z",
     "start_time": "2025-07-14T05:38:51.431285Z"
    }
   },
   "cell_type": "code",
   "source": "df.describe().transpose()",
   "id": "e26b0ca93e7509f9",
   "outputs": [
    {
     "data": {
      "text/plain": [
       "           count         mean        std      min        25%       50%  \\\n",
       "YEAR       528.0  2002.500000  12.710467  1981.00  1991.7500  2002.500   \n",
       "lluvia_mm  528.0     5.246534   3.767827     0.02     2.4450     4.700   \n",
       "temp_max   528.0    26.288277   1.649643    23.34    25.1700    25.950   \n",
       "temp_min   528.0    15.276458   1.118109    11.92    14.5800    15.300   \n",
       "humedad    528.0    88.266098   4.373132    73.32    85.9525    89.555   \n",
       "ph_suelo   528.0     5.994943   1.686927     3.00     4.5450     5.950   \n",
       "\n",
       "                 75%      max  \n",
       "YEAR       2013.2500  2024.00  \n",
       "lluvia_mm     7.2400    25.99  \n",
       "temp_max     27.0150    31.78  \n",
       "temp_min     16.0800    18.14  \n",
       "humedad      91.3850    94.48  \n",
       "ph_suelo      7.5025     8.95  "
      ],
      "text/html": [
       "<div>\n",
       "<style scoped>\n",
       "    .dataframe tbody tr th:only-of-type {\n",
       "        vertical-align: middle;\n",
       "    }\n",
       "\n",
       "    .dataframe tbody tr th {\n",
       "        vertical-align: top;\n",
       "    }\n",
       "\n",
       "    .dataframe thead th {\n",
       "        text-align: right;\n",
       "    }\n",
       "</style>\n",
       "<table border=\"1\" class=\"dataframe\">\n",
       "  <thead>\n",
       "    <tr style=\"text-align: right;\">\n",
       "      <th></th>\n",
       "      <th>count</th>\n",
       "      <th>mean</th>\n",
       "      <th>std</th>\n",
       "      <th>min</th>\n",
       "      <th>25%</th>\n",
       "      <th>50%</th>\n",
       "      <th>75%</th>\n",
       "      <th>max</th>\n",
       "    </tr>\n",
       "  </thead>\n",
       "  <tbody>\n",
       "    <tr>\n",
       "      <th>YEAR</th>\n",
       "      <td>528.0</td>\n",
       "      <td>2002.500000</td>\n",
       "      <td>12.710467</td>\n",
       "      <td>1981.00</td>\n",
       "      <td>1991.7500</td>\n",
       "      <td>2002.500</td>\n",
       "      <td>2013.2500</td>\n",
       "      <td>2024.00</td>\n",
       "    </tr>\n",
       "    <tr>\n",
       "      <th>lluvia_mm</th>\n",
       "      <td>528.0</td>\n",
       "      <td>5.246534</td>\n",
       "      <td>3.767827</td>\n",
       "      <td>0.02</td>\n",
       "      <td>2.4450</td>\n",
       "      <td>4.700</td>\n",
       "      <td>7.2400</td>\n",
       "      <td>25.99</td>\n",
       "    </tr>\n",
       "    <tr>\n",
       "      <th>temp_max</th>\n",
       "      <td>528.0</td>\n",
       "      <td>26.288277</td>\n",
       "      <td>1.649643</td>\n",
       "      <td>23.34</td>\n",
       "      <td>25.1700</td>\n",
       "      <td>25.950</td>\n",
       "      <td>27.0150</td>\n",
       "      <td>31.78</td>\n",
       "    </tr>\n",
       "    <tr>\n",
       "      <th>temp_min</th>\n",
       "      <td>528.0</td>\n",
       "      <td>15.276458</td>\n",
       "      <td>1.118109</td>\n",
       "      <td>11.92</td>\n",
       "      <td>14.5800</td>\n",
       "      <td>15.300</td>\n",
       "      <td>16.0800</td>\n",
       "      <td>18.14</td>\n",
       "    </tr>\n",
       "    <tr>\n",
       "      <th>humedad</th>\n",
       "      <td>528.0</td>\n",
       "      <td>88.266098</td>\n",
       "      <td>4.373132</td>\n",
       "      <td>73.32</td>\n",
       "      <td>85.9525</td>\n",
       "      <td>89.555</td>\n",
       "      <td>91.3850</td>\n",
       "      <td>94.48</td>\n",
       "    </tr>\n",
       "    <tr>\n",
       "      <th>ph_suelo</th>\n",
       "      <td>528.0</td>\n",
       "      <td>5.994943</td>\n",
       "      <td>1.686927</td>\n",
       "      <td>3.00</td>\n",
       "      <td>4.5450</td>\n",
       "      <td>5.950</td>\n",
       "      <td>7.5025</td>\n",
       "      <td>8.95</td>\n",
       "    </tr>\n",
       "  </tbody>\n",
       "</table>\n",
       "</div>"
      ]
     },
     "execution_count": 26,
     "metadata": {},
     "output_type": "execute_result"
    }
   ],
   "execution_count": 26
  },
  {
   "metadata": {
    "ExecuteTime": {
     "end_time": "2025-07-14T05:39:11.832904Z",
     "start_time": "2025-07-14T05:39:11.815285Z"
    }
   },
   "cell_type": "code",
   "source": "df",
   "id": "d73131132ccae6d2",
   "outputs": [
    {
     "data": {
      "text/plain": [
       "     YEAR MONTH  lluvia_mm  temp_max  temp_min  humedad  ph_suelo  \\\n",
       "0    1981   JAN       2.64     23.90     14.19    88.79      6.25   \n",
       "1    1982   JAN       3.30     24.54     14.02    89.43      6.58   \n",
       "2    1983   JAN       1.38     26.13     15.75    88.61      3.14   \n",
       "3    1984   JAN       0.69     23.68     13.14    87.41      3.89   \n",
       "4    1985   JAN       1.94     23.45     14.37    86.96      6.11   \n",
       "..    ...   ...        ...       ...       ...      ...       ...   \n",
       "523  2020   DEC      10.77     24.26     13.57    91.87      3.51   \n",
       "524  2021   DEC       4.18     24.62     16.47    91.61      7.90   \n",
       "525  2022   DEC       3.39     24.12     15.47    90.88      8.67   \n",
       "526  2023   DEC       4.84     25.70     16.68    91.62      3.69   \n",
       "527  2024   DEC       7.89     24.69     16.22    93.15      3.60   \n",
       "\n",
       "       Recomendacion  \n",
       "0              riego  \n",
       "1    poda_preventiva  \n",
       "2      fertilizacion  \n",
       "3      fertilizacion  \n",
       "4              riego  \n",
       "..               ...  \n",
       "523    fertilizacion  \n",
       "524  poda_preventiva  \n",
       "525  poda_preventiva  \n",
       "526    fertilizacion  \n",
       "527    fertilizacion  \n",
       "\n",
       "[528 rows x 8 columns]"
      ],
      "text/html": [
       "<div>\n",
       "<style scoped>\n",
       "    .dataframe tbody tr th:only-of-type {\n",
       "        vertical-align: middle;\n",
       "    }\n",
       "\n",
       "    .dataframe tbody tr th {\n",
       "        vertical-align: top;\n",
       "    }\n",
       "\n",
       "    .dataframe thead th {\n",
       "        text-align: right;\n",
       "    }\n",
       "</style>\n",
       "<table border=\"1\" class=\"dataframe\">\n",
       "  <thead>\n",
       "    <tr style=\"text-align: right;\">\n",
       "      <th></th>\n",
       "      <th>YEAR</th>\n",
       "      <th>MONTH</th>\n",
       "      <th>lluvia_mm</th>\n",
       "      <th>temp_max</th>\n",
       "      <th>temp_min</th>\n",
       "      <th>humedad</th>\n",
       "      <th>ph_suelo</th>\n",
       "      <th>Recomendacion</th>\n",
       "    </tr>\n",
       "  </thead>\n",
       "  <tbody>\n",
       "    <tr>\n",
       "      <th>0</th>\n",
       "      <td>1981</td>\n",
       "      <td>JAN</td>\n",
       "      <td>2.64</td>\n",
       "      <td>23.90</td>\n",
       "      <td>14.19</td>\n",
       "      <td>88.79</td>\n",
       "      <td>6.25</td>\n",
       "      <td>riego</td>\n",
       "    </tr>\n",
       "    <tr>\n",
       "      <th>1</th>\n",
       "      <td>1982</td>\n",
       "      <td>JAN</td>\n",
       "      <td>3.30</td>\n",
       "      <td>24.54</td>\n",
       "      <td>14.02</td>\n",
       "      <td>89.43</td>\n",
       "      <td>6.58</td>\n",
       "      <td>poda_preventiva</td>\n",
       "    </tr>\n",
       "    <tr>\n",
       "      <th>2</th>\n",
       "      <td>1983</td>\n",
       "      <td>JAN</td>\n",
       "      <td>1.38</td>\n",
       "      <td>26.13</td>\n",
       "      <td>15.75</td>\n",
       "      <td>88.61</td>\n",
       "      <td>3.14</td>\n",
       "      <td>fertilizacion</td>\n",
       "    </tr>\n",
       "    <tr>\n",
       "      <th>3</th>\n",
       "      <td>1984</td>\n",
       "      <td>JAN</td>\n",
       "      <td>0.69</td>\n",
       "      <td>23.68</td>\n",
       "      <td>13.14</td>\n",
       "      <td>87.41</td>\n",
       "      <td>3.89</td>\n",
       "      <td>fertilizacion</td>\n",
       "    </tr>\n",
       "    <tr>\n",
       "      <th>4</th>\n",
       "      <td>1985</td>\n",
       "      <td>JAN</td>\n",
       "      <td>1.94</td>\n",
       "      <td>23.45</td>\n",
       "      <td>14.37</td>\n",
       "      <td>86.96</td>\n",
       "      <td>6.11</td>\n",
       "      <td>riego</td>\n",
       "    </tr>\n",
       "    <tr>\n",
       "      <th>...</th>\n",
       "      <td>...</td>\n",
       "      <td>...</td>\n",
       "      <td>...</td>\n",
       "      <td>...</td>\n",
       "      <td>...</td>\n",
       "      <td>...</td>\n",
       "      <td>...</td>\n",
       "      <td>...</td>\n",
       "    </tr>\n",
       "    <tr>\n",
       "      <th>523</th>\n",
       "      <td>2020</td>\n",
       "      <td>DEC</td>\n",
       "      <td>10.77</td>\n",
       "      <td>24.26</td>\n",
       "      <td>13.57</td>\n",
       "      <td>91.87</td>\n",
       "      <td>3.51</td>\n",
       "      <td>fertilizacion</td>\n",
       "    </tr>\n",
       "    <tr>\n",
       "      <th>524</th>\n",
       "      <td>2021</td>\n",
       "      <td>DEC</td>\n",
       "      <td>4.18</td>\n",
       "      <td>24.62</td>\n",
       "      <td>16.47</td>\n",
       "      <td>91.61</td>\n",
       "      <td>7.90</td>\n",
       "      <td>poda_preventiva</td>\n",
       "    </tr>\n",
       "    <tr>\n",
       "      <th>525</th>\n",
       "      <td>2022</td>\n",
       "      <td>DEC</td>\n",
       "      <td>3.39</td>\n",
       "      <td>24.12</td>\n",
       "      <td>15.47</td>\n",
       "      <td>90.88</td>\n",
       "      <td>8.67</td>\n",
       "      <td>poda_preventiva</td>\n",
       "    </tr>\n",
       "    <tr>\n",
       "      <th>526</th>\n",
       "      <td>2023</td>\n",
       "      <td>DEC</td>\n",
       "      <td>4.84</td>\n",
       "      <td>25.70</td>\n",
       "      <td>16.68</td>\n",
       "      <td>91.62</td>\n",
       "      <td>3.69</td>\n",
       "      <td>fertilizacion</td>\n",
       "    </tr>\n",
       "    <tr>\n",
       "      <th>527</th>\n",
       "      <td>2024</td>\n",
       "      <td>DEC</td>\n",
       "      <td>7.89</td>\n",
       "      <td>24.69</td>\n",
       "      <td>16.22</td>\n",
       "      <td>93.15</td>\n",
       "      <td>3.60</td>\n",
       "      <td>fertilizacion</td>\n",
       "    </tr>\n",
       "  </tbody>\n",
       "</table>\n",
       "<p>528 rows × 8 columns</p>\n",
       "</div>"
      ]
     },
     "execution_count": 27,
     "metadata": {},
     "output_type": "execute_result"
    }
   ],
   "execution_count": 27
  },
  {
   "metadata": {
    "ExecuteTime": {
     "end_time": "2025-07-14T05:39:14.524589Z",
     "start_time": "2025-07-14T05:39:14.517985Z"
    }
   },
   "cell_type": "code",
   "source": [
    "#Transformaciones\n",
    "\n",
    "#riego:1\n",
    "#fertilizacion: 2\n",
    "#poda_preventiva: 3"
   ],
   "id": "eb5fba6f1cddc41c",
   "outputs": [],
   "execution_count": 28
  },
  {
   "metadata": {
    "ExecuteTime": {
     "end_time": "2025-07-14T05:39:16.006176Z",
     "start_time": "2025-07-14T05:39:15.971234Z"
    }
   },
   "cell_type": "code",
   "source": [
    "transformador = Transformaciones()\n",
    "transformador.recomendacion_num(df)"
   ],
   "id": "821721b7751c44e9",
   "outputs": [
    {
     "data": {
      "text/plain": [
       "     YEAR MONTH  lluvia_mm  temp_max  temp_min  humedad  ph_suelo  \\\n",
       "0    1981   JAN       2.64     23.90     14.19    88.79      6.25   \n",
       "1    1982   JAN       3.30     24.54     14.02    89.43      6.58   \n",
       "2    1983   JAN       1.38     26.13     15.75    88.61      3.14   \n",
       "3    1984   JAN       0.69     23.68     13.14    87.41      3.89   \n",
       "4    1985   JAN       1.94     23.45     14.37    86.96      6.11   \n",
       "..    ...   ...        ...       ...       ...      ...       ...   \n",
       "523  2020   DEC      10.77     24.26     13.57    91.87      3.51   \n",
       "524  2021   DEC       4.18     24.62     16.47    91.61      7.90   \n",
       "525  2022   DEC       3.39     24.12     15.47    90.88      8.67   \n",
       "526  2023   DEC       4.84     25.70     16.68    91.62      3.69   \n",
       "527  2024   DEC       7.89     24.69     16.22    93.15      3.60   \n",
       "\n",
       "     Recomendacion  \n",
       "0                1  \n",
       "1                3  \n",
       "2                2  \n",
       "3                2  \n",
       "4                1  \n",
       "..             ...  \n",
       "523              2  \n",
       "524              3  \n",
       "525              3  \n",
       "526              2  \n",
       "527              2  \n",
       "\n",
       "[528 rows x 8 columns]"
      ],
      "text/html": [
       "<div>\n",
       "<style scoped>\n",
       "    .dataframe tbody tr th:only-of-type {\n",
       "        vertical-align: middle;\n",
       "    }\n",
       "\n",
       "    .dataframe tbody tr th {\n",
       "        vertical-align: top;\n",
       "    }\n",
       "\n",
       "    .dataframe thead th {\n",
       "        text-align: right;\n",
       "    }\n",
       "</style>\n",
       "<table border=\"1\" class=\"dataframe\">\n",
       "  <thead>\n",
       "    <tr style=\"text-align: right;\">\n",
       "      <th></th>\n",
       "      <th>YEAR</th>\n",
       "      <th>MONTH</th>\n",
       "      <th>lluvia_mm</th>\n",
       "      <th>temp_max</th>\n",
       "      <th>temp_min</th>\n",
       "      <th>humedad</th>\n",
       "      <th>ph_suelo</th>\n",
       "      <th>Recomendacion</th>\n",
       "    </tr>\n",
       "  </thead>\n",
       "  <tbody>\n",
       "    <tr>\n",
       "      <th>0</th>\n",
       "      <td>1981</td>\n",
       "      <td>JAN</td>\n",
       "      <td>2.64</td>\n",
       "      <td>23.90</td>\n",
       "      <td>14.19</td>\n",
       "      <td>88.79</td>\n",
       "      <td>6.25</td>\n",
       "      <td>1</td>\n",
       "    </tr>\n",
       "    <tr>\n",
       "      <th>1</th>\n",
       "      <td>1982</td>\n",
       "      <td>JAN</td>\n",
       "      <td>3.30</td>\n",
       "      <td>24.54</td>\n",
       "      <td>14.02</td>\n",
       "      <td>89.43</td>\n",
       "      <td>6.58</td>\n",
       "      <td>3</td>\n",
       "    </tr>\n",
       "    <tr>\n",
       "      <th>2</th>\n",
       "      <td>1983</td>\n",
       "      <td>JAN</td>\n",
       "      <td>1.38</td>\n",
       "      <td>26.13</td>\n",
       "      <td>15.75</td>\n",
       "      <td>88.61</td>\n",
       "      <td>3.14</td>\n",
       "      <td>2</td>\n",
       "    </tr>\n",
       "    <tr>\n",
       "      <th>3</th>\n",
       "      <td>1984</td>\n",
       "      <td>JAN</td>\n",
       "      <td>0.69</td>\n",
       "      <td>23.68</td>\n",
       "      <td>13.14</td>\n",
       "      <td>87.41</td>\n",
       "      <td>3.89</td>\n",
       "      <td>2</td>\n",
       "    </tr>\n",
       "    <tr>\n",
       "      <th>4</th>\n",
       "      <td>1985</td>\n",
       "      <td>JAN</td>\n",
       "      <td>1.94</td>\n",
       "      <td>23.45</td>\n",
       "      <td>14.37</td>\n",
       "      <td>86.96</td>\n",
       "      <td>6.11</td>\n",
       "      <td>1</td>\n",
       "    </tr>\n",
       "    <tr>\n",
       "      <th>...</th>\n",
       "      <td>...</td>\n",
       "      <td>...</td>\n",
       "      <td>...</td>\n",
       "      <td>...</td>\n",
       "      <td>...</td>\n",
       "      <td>...</td>\n",
       "      <td>...</td>\n",
       "      <td>...</td>\n",
       "    </tr>\n",
       "    <tr>\n",
       "      <th>523</th>\n",
       "      <td>2020</td>\n",
       "      <td>DEC</td>\n",
       "      <td>10.77</td>\n",
       "      <td>24.26</td>\n",
       "      <td>13.57</td>\n",
       "      <td>91.87</td>\n",
       "      <td>3.51</td>\n",
       "      <td>2</td>\n",
       "    </tr>\n",
       "    <tr>\n",
       "      <th>524</th>\n",
       "      <td>2021</td>\n",
       "      <td>DEC</td>\n",
       "      <td>4.18</td>\n",
       "      <td>24.62</td>\n",
       "      <td>16.47</td>\n",
       "      <td>91.61</td>\n",
       "      <td>7.90</td>\n",
       "      <td>3</td>\n",
       "    </tr>\n",
       "    <tr>\n",
       "      <th>525</th>\n",
       "      <td>2022</td>\n",
       "      <td>DEC</td>\n",
       "      <td>3.39</td>\n",
       "      <td>24.12</td>\n",
       "      <td>15.47</td>\n",
       "      <td>90.88</td>\n",
       "      <td>8.67</td>\n",
       "      <td>3</td>\n",
       "    </tr>\n",
       "    <tr>\n",
       "      <th>526</th>\n",
       "      <td>2023</td>\n",
       "      <td>DEC</td>\n",
       "      <td>4.84</td>\n",
       "      <td>25.70</td>\n",
       "      <td>16.68</td>\n",
       "      <td>91.62</td>\n",
       "      <td>3.69</td>\n",
       "      <td>2</td>\n",
       "    </tr>\n",
       "    <tr>\n",
       "      <th>527</th>\n",
       "      <td>2024</td>\n",
       "      <td>DEC</td>\n",
       "      <td>7.89</td>\n",
       "      <td>24.69</td>\n",
       "      <td>16.22</td>\n",
       "      <td>93.15</td>\n",
       "      <td>3.60</td>\n",
       "      <td>2</td>\n",
       "    </tr>\n",
       "  </tbody>\n",
       "</table>\n",
       "<p>528 rows × 8 columns</p>\n",
       "</div>"
      ]
     },
     "execution_count": 29,
     "metadata": {},
     "output_type": "execute_result"
    }
   ],
   "execution_count": 29
  },
  {
   "metadata": {
    "ExecuteTime": {
     "end_time": "2025-07-07T22:26:50.735991Z",
     "start_time": "2025-07-07T22:26:50.729312Z"
    }
   },
   "cell_type": "code",
   "source": "#Plots",
   "id": "5deb089c5e6276d4",
   "outputs": [],
   "execution_count": 22
  },
  {
   "metadata": {
    "ExecuteTime": {
     "end_time": "2025-07-14T05:39:18.909625Z",
     "start_time": "2025-07-14T05:39:18.635539Z"
    }
   },
   "cell_type": "code",
   "source": [
    "#Verificar si hay una proporción equilibrada entre los diferentes valores de la variable objetivo para un buen modelado posterior\n",
    "sns.countplot(x='Recomendacion',data=df)"
   ],
   "id": "3ae0e023901a4de3",
   "outputs": [
    {
     "data": {
      "text/plain": [
       "<Axes: xlabel='Recomendacion', ylabel='count'>"
      ]
     },
     "execution_count": 30,
     "metadata": {},
     "output_type": "execute_result"
    },
    {
     "data": {
      "text/plain": [
       "<Figure size 640x480 with 1 Axes>"
      ],
      "image/png": "[encoded data removed]"
     },
     "metadata": {},
     "output_type": "display_data"
    }
   ],
   "execution_count": 30
  },
  {
   "metadata": {
    "ExecuteTime": {
     "end_time": "2025-07-14T05:39:21.401540Z",
     "start_time": "2025-07-14T05:39:20.937885Z"
    }
   },
   "cell_type": "code",
   "source": [
    "plt.figure(figsize=(17,12))\n",
    "sns.heatmap(df.corr(numeric_only = True),annot=True,cmap='viridis')\n",
    "plt.ylim(10, 0)"
   ],
   "id": "34809971ff03981e",
   "outputs": [
    {
     "data": {
      "text/plain": [
       "(10.0, 0.0)"
      ]
     },
     "execution_count": 31,
     "metadata": {},
     "output_type": "execute_result"
    },
    {
     "data": {
      "text/plain": [
       "<Figure size 1700x1200 with 2 Axes>"
      ],
      "image/png": "[encoded data removed]"
     },
     "metadata": {},
     "output_type": "display_data"
    }
   ],
   "execution_count": 31
  },
  {
   "metadata": {
    "ExecuteTime": {
     "end_time": "2025-07-14T05:39:25.629576Z",
     "start_time": "2025-07-14T05:39:25.614607Z"
    }
   },
   "cell_type": "code",
   "source": "df.corr(numeric_only = True)['Recomendacion'].sort_values()",
   "id": "3127bf895ab7e97e",
   "outputs": [
    {
     "data": {
      "text/plain": [
       "temp_max        -0.546933\n",
       "YEAR             0.122388\n",
       "temp_min         0.204300\n",
       "ph_suelo         0.302048\n",
       "lluvia_mm        0.357263\n",
       "humedad          0.668818\n",
       "Recomendacion    1.000000\n",
       "Name: Recomendacion, dtype: float64"
      ]
     },
     "execution_count": 32,
     "metadata": {},
     "output_type": "execute_result"
    }
   ],
   "execution_count": 32
  },
  {
   "metadata": {
    "ExecuteTime": {
     "end_time": "2025-07-14T05:39:28.393014Z",
     "start_time": "2025-07-14T05:39:28.099608Z"
    }
   },
   "cell_type": "code",
   "source": "df.corr(numeric_only = True)['Recomendacion'].sort_values().plot(kind='bar')",
   "id": "a92c41ac2d8f9718",
   "outputs": [
    {
     "data": {
      "text/plain": [
       "<Axes: >"
      ]
     },
     "execution_count": 33,
     "metadata": {},
     "output_type": "execute_result"
    },
    {
     "data": {
      "text/plain": [
       "<Figure size 640x480 with 1 Axes>"
      ],
      "image/png": "[encoded data removed]"
     },
     "metadata": {},
     "output_type": "display_data"
    }
   ],
   "execution_count": 33
  },
  {
   "metadata": {
    "ExecuteTime": {
     "end_time": "2025-07-14T05:39:30.926299Z",
     "start_time": "2025-07-14T05:39:30.386580Z"
    }
   },
   "cell_type": "code",
   "source": [
    "from sklearn.preprocessing import MinMaxScaler\n",
    "\n",
    "escalador = MinMaxScaler()\n",
    "\n",
    "# columnas numéricas:\n",
    "normalizar = ['lluvia_mm', 'temp_max', 'temp_min', 'humedad', 'ph_suelo']\n",
    "\n",
    "# Aplica la normalización\n",
    "df[normalizar] = escalador.fit_transform(df[normalizar])\n"
   ],
   "id": "6d3657b9f36f71d3",
   "outputs": [],
   "execution_count": 34
  },
  {
   "metadata": {
    "ExecuteTime": {
     "end_time": "2025-07-14T05:39:33.329480Z",
     "start_time": "2025-07-14T05:39:33.287089Z"
    }
   },
   "cell_type": "code",
   "source": "df",
   "id": "ba6f69426ff3aa95",
   "outputs": [
    {
     "data": {
      "text/plain": [
       "     YEAR MONTH  lluvia_mm  temp_max  temp_min   humedad  ph_suelo  \\\n",
       "0    1981   JAN   0.100886  0.066351  0.364952  0.731096  0.546218   \n",
       "1    1982   JAN   0.126300  0.142180  0.337621  0.761342  0.601681   \n",
       "2    1983   JAN   0.052368  0.330569  0.615756  0.722590  0.023529   \n",
       "3    1984   JAN   0.025799  0.040284  0.196141  0.665879  0.149580   \n",
       "4    1985   JAN   0.073931  0.013033  0.393891  0.644612  0.522689   \n",
       "..    ...   ...        ...       ...       ...       ...       ...   \n",
       "523  2020   DEC   0.413939  0.109005  0.265273  0.876654  0.085714   \n",
       "524  2021   DEC   0.160185  0.151659  0.731511  0.864367  0.823529   \n",
       "525  2022   DEC   0.129765  0.092417  0.570740  0.829868  0.952941   \n",
       "526  2023   DEC   0.185599  0.279621  0.765273  0.864839  0.115966   \n",
       "527  2024   DEC   0.303042  0.159953  0.691318  0.937146  0.100840   \n",
       "\n",
       "     Recomendacion  \n",
       "0                1  \n",
       "1                3  \n",
       "2                2  \n",
       "3                2  \n",
       "4                1  \n",
       "..             ...  \n",
       "523              2  \n",
       "524              3  \n",
       "525              3  \n",
       "526              2  \n",
       "527              2  \n",
       "\n",
       "[528 rows x 8 columns]"
      ],
      "text/html": [
       "<div>\n",
       "<style scoped>\n",
       "    .dataframe tbody tr th:only-of-type {\n",
       "        vertical-align: middle;\n",
       "    }\n",
       "\n",
       "    .dataframe tbody tr th {\n",
       "        vertical-align: top;\n",
       "    }\n",
       "\n",
       "    .dataframe thead th {\n",
       "        text-align: right;\n",
       "    }\n",
       "</style>\n",
       "<table border=\"1\" class=\"dataframe\">\n",
       "  <thead>\n",
       "    <tr style=\"text-align: right;\">\n",
       "      <th></th>\n",
       "      <th>YEAR</th>\n",
       "      <th>MONTH</th>\n",
       "      <th>lluvia_mm</th>\n",
       "      <th>temp_max</th>\n",
       "      <th>temp_min</th>\n",
       "      <th>humedad</th>\n",
       "      <th>ph_suelo</th>\n",
       "      <th>Recomendacion</th>\n",
       "    </tr>\n",
       "  </thead>\n",
       "  <tbody>\n",
       "    <tr>\n",
       "      <th>0</th>\n",
       "      <td>1981</td>\n",
       "      <td>JAN</td>\n",
       "      <td>0.100886</td>\n",
       "      <td>0.066351</td>\n",
       "      <td>0.364952</td>\n",
       "      <td>0.731096</td>\n",
       "      <td>0.546218</td>\n",
       "      <td>1</td>\n",
       "    </tr>\n",
       "    <tr>\n",
       "      <th>1</th>\n",
       "      <td>1982</td>\n",
       "      <td>JAN</td>\n",
       "      <td>0.126300</td>\n",
       "      <td>0.142180</td>\n",
       "      <td>0.337621</td>\n",
       "      <td>0.761342</td>\n",
       "      <td>0.601681</td>\n",
       "      <td>3</td>\n",
       "    </tr>\n",
       "    <tr>\n",
       "      <th>2</th>\n",
       "      <td>1983</td>\n",
       "      <td>JAN</td>\n",
       "      <td>0.052368</td>\n",
       "      <td>0.330569</td>\n",
       "      <td>0.615756</td>\n",
       "      <td>0.722590</td>\n",
       "      <td>0.023529</td>\n",
       "      <td>2</td>\n",
       "    </tr>\n",
       "    <tr>\n",
       "      <th>3</th>\n",
       "      <td>1984</td>\n",
       "      <td>JAN</td>\n",
       "      <td>0.025799</td>\n",
       "      <td>0.040284</td>\n",
       "      <td>0.196141</td>\n",
       "      <td>0.665879</td>\n",
       "      <td>0.149580</td>\n",
       "      <td>2</td>\n",
       "    </tr>\n",
       "    <tr>\n",
       "      <th>4</th>\n",
       "      <td>1985</td>\n",
       "      <td>JAN</td>\n",
       "      <td>0.073931</td>\n",
       "      <td>0.013033</td>\n",
       "      <td>0.393891</td>\n",
       "      <td>0.644612</td>\n",
       "      <td>0.522689</td>\n",
       "      <td>1</td>\n",
       "    </tr>\n",
       "    <tr>\n",
       "      <th>...</th>\n",
       "      <td>...</td>\n",
       "      <td>...</td>\n",
       "      <td>...</td>\n",
       "      <td>...</td>\n",
       "      <td>...</td>\n",
       "      <td>...</td>\n",
       "      <td>...</td>\n",
       "      <td>...</td>\n",
       "    </tr>\n",
       "    <tr>\n",
       "      <th>523</th>\n",
       "      <td>2020</td>\n",
       "      <td>DEC</td>\n",
       "      <td>0.413939</td>\n",
       "      <td>0.109005</td>\n",
       "      <td>0.265273</td>\n",
       "      <td>0.876654</td>\n",
       "      <td>0.085714</td>\n",
       "      <td>2</td>\n",
       "    </tr>\n",
       "    <tr>\n",
       "      <th>524</th>\n",
       "      <td>2021</td>\n",
       "      <td>DEC</td>\n",
       "      <td>0.160185</td>\n",
       "      <td>0.151659</td>\n",
       "      <td>0.731511</td>\n",
       "      <td>0.864367</td>\n",
       "      <td>0.823529</td>\n",
       "      <td>3</td>\n",
       "    </tr>\n",
       "    <tr>\n",
       "      <th>525</th>\n",
       "      <td>2022</td>\n",
       "      <td>DEC</td>\n",
       "      <td>0.129765</td>\n",
       "      <td>0.092417</td>\n",
       "      <td>0.570740</td>\n",
       "      <td>0.829868</td>\n",
       "      <td>0.952941</td>\n",
       "      <td>3</td>\n",
       "    </tr>\n",
       "    <tr>\n",
       "      <th>526</th>\n",
       "      <td>2023</td>\n",
       "      <td>DEC</td>\n",
       "      <td>0.185599</td>\n",
       "      <td>0.279621</td>\n",
       "      <td>0.765273</td>\n",
       "      <td>0.864839</td>\n",
       "      <td>0.115966</td>\n",
       "      <td>2</td>\n",
       "    </tr>\n",
       "    <tr>\n",
       "      <th>527</th>\n",
       "      <td>2024</td>\n",
       "      <td>DEC</td>\n",
       "      <td>0.303042</td>\n",
       "      <td>0.159953</td>\n",
       "      <td>0.691318</td>\n",
       "      <td>0.937146</td>\n",
       "      <td>0.100840</td>\n",
       "      <td>2</td>\n",
       "    </tr>\n",
       "  </tbody>\n",
       "</table>\n",
       "<p>528 rows × 8 columns</p>\n",
       "</div>"
      ]
     },
     "execution_count": 35,
     "metadata": {},
     "output_type": "execute_result"
    }
   ],
   "execution_count": 35
  },
  {
   "metadata": {
    "ExecuteTime": {
     "end_time": "2025-07-07T22:35:27.152867Z",
     "start_time": "2025-07-07T22:35:27.141514Z"
    }
   },
   "cell_type": "code",
   "source": "df.to_csv(\"../data/processed/ANN/recomendaciones.csv\", index=False)",
   "id": "527fd6a4e2540d0f",
   "outputs": [],
   "execution_count": 29
  }
 ],
 "metadata": {},
 "nbformat": 4,
 "nbformat_minor": 5
}
