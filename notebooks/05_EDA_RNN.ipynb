{
 "cells": [
  {
   "metadata": {},
   "cell_type": "markdown",
   "source": "## Librerías",
   "id": "fdfd7733c04c1e90"
  },
  {
   "metadata": {
    "ExecuteTime": {
     "end_time": "2025-07-17T06:18:44.496737Z",
     "start_time": "2025-07-17T06:18:41.237193Z"
    }
   },
   "cell_type": "code",
   "source": [
    "import numpy as np\n",
    "import pandas as pd\n",
    "import matplotlib.pyplot as plt\n",
    "import seaborn as sns\n",
    "from fontTools.misc.filenames import reservedFileNames\n",
    "from sklearn.preprocessing import LabelEncoder\n",
    "from sklearn.preprocessing import MinMaxScaler\n",
    "import os\n",
    "\n",
    "from streamlit import columns"
   ],
   "id": "d06e0c85f342f87f",
   "outputs": [],
   "execution_count": 1
  },
  {
   "metadata": {},
   "cell_type": "markdown",
   "source": "## Llamado de Clases",
   "id": "55171c4d73ab3981"
  },
  {
   "metadata": {
    "ExecuteTime": {
     "end_time": "2025-07-17T06:18:48.837583Z",
     "start_time": "2025-07-17T06:18:48.797491Z"
    }
   },
   "cell_type": "code",
   "source": [
    "from src.PipelineProcesamiento import PipelineProcesamiento\n",
    "from src.utils.metrics import obtener_ruta_app\n",
    "from src.MetodosEDARNN import MetodosEDARNN"
   ],
   "id": "643c069114d7c4d3",
   "outputs": [],
   "execution_count": 2
  },
  {
   "metadata": {},
   "cell_type": "markdown",
   "source": "#### Definición de variable",
   "id": "f46a800d83ed84bd"
  },
  {
   "metadata": {
    "ExecuteTime": {
     "end_time": "2025-07-17T06:22:19.633807Z",
     "start_time": "2025-07-17T06:22:18.720533Z"
    }
   },
   "cell_type": "code",
   "source": [
    "ejecutar = PipelineProcesamiento(os.path.join(obtener_ruta_app(\"Template-AgroIA\"), \"data/raw/rnn/ESTIM_papa_2005-2025.xls\"),os.path.join(obtener_ruta_app(\"Template-AgroIA\"), \"data/raw/rnn/DatosAtmosfericos\"))\n",
    "\n",
    "df= ejecutar.ejecutar_pipeline_completo()\n",
    "df.head()"
   ],
   "id": "dded97ad37b2f128",
   "outputs": [
    {
     "name": "stderr",
     "output_type": "stream",
     "text": [
      "2025-07-17 00:22:18,727 - src.PipelineProcesamiento - INFO - Pipeline inicializado correctamente\n",
      "2025-07-17 00:22:18,728 - src.PipelineProcesamiento - INFO - === INICIANDO PIPELINE COMPLETO ===\n",
      "2025-07-17 00:22:18,730 - src.PipelineProcesamiento - INFO - Validación de archivos de entrada completada\n",
      "2025-07-17 00:22:18,731 - src.PipelineProcesamiento - INFO - Iniciando procesamiento de datos de papa\n",
      "2025-07-17 00:22:18,768 - src.ProcesadorDatosPapa - INFO - Procesando 21 hojas del archivo Excel\n",
      "2025-07-17 00:22:19,524 - src.ProcesadorDatosPapa - INFO - Procesamiento completado: 1260 registros\n",
      "2025-07-17 00:22:19,526 - src.PipelineProcesamiento - INFO - Procesamiento de datos de papa completado\n",
      "2025-07-17 00:22:19,527 - src.PipelineProcesamiento - INFO - Iniciando procesamiento de datos atmosféricos\n",
      "2025-07-17 00:22:19,529 - src.ProcesadorDatosAtmosfericos - INFO - Procesando 1 archivos CSV\n",
      "2025-07-17 00:22:19,549 - src.ProcesadorDatosAtmosfericos - INFO - Se procesaron exitosamente 1 de 1 archivos\n",
      "2025-07-17 00:22:19,551 - src.PipelineProcesamiento - INFO - Procesamiento de datos atmosféricos completado\n",
      "2025-07-17 00:22:19,552 - src.PipelineProcesamiento - INFO - Iniciando fusión de datos\n",
      "2025-07-17 00:22:19,588 - src.MergeDatosPapaAtmosfericos - INFO - Datos cargados - Clima: 252 filas, Papa: 1260 filas\n",
      "2025-07-17 00:22:19,601 - src.MergeDatosPapaAtmosfericos - INFO - Fusión completada:\n",
      "2025-07-17 00:22:19,602 - src.MergeDatosPapaAtmosfericos - INFO -   - Filas originales: 1260\n",
      "2025-07-17 00:22:19,603 - src.MergeDatosPapaAtmosfericos - INFO -   - Filas fusionadas: 1260\n",
      "2025-07-17 00:22:19,605 - src.MergeDatosPapaAtmosfericos - INFO -   - Filas con datos climáticos: 252\n",
      "2025-07-17 00:22:19,609 - src.PipelineProcesamiento - INFO - Fusión completada\n",
      "2025-07-17 00:22:19,611 - src.PipelineProcesamiento - INFO - === PIPELINE COMPLETADO EXITOSAMENTE ===\n",
      "2025-07-17 00:22:19,612 - src.PipelineProcesamiento - INFO - Tiempo total: 0:00:00.883211\n"
     ]
    },
    {
     "data": {
      "text/plain": [
       "      canton      mes  anio  produccion  area  ALLSKY_SFC_SW_DWN  \\\n",
       "0  TURRIALBA    enero  2005      136.21  5.95                NaN   \n",
       "1  TURRIALBA  febrero  2005       66.24  2.80                NaN   \n",
       "2  TURRIALBA    marzo  2005       14.90  0.70                NaN   \n",
       "3  TURRIALBA    abril  2005       60.03  2.45                NaN   \n",
       "4  TURRIALBA     mayo  2005      140.76  4.90                NaN   \n",
       "\n",
       "   CLRSKY_SFC_PAR_TOT  CLRSKY_SFC_SW_DWN  GWETPROF  GWETROOT  ...  \\\n",
       "0                 NaN                NaN       NaN       NaN  ...   \n",
       "1                 NaN                NaN       NaN       NaN  ...   \n",
       "2                 NaN                NaN       NaN       NaN  ...   \n",
       "3                 NaN                NaN       NaN       NaN  ...   \n",
       "4                 NaN                NaN       NaN       NaN  ...   \n",
       "\n",
       "   IMERG_PRECTOT  PRECTOTCORR_SUM  RH2M  T2M  T2MDEW  T2MWET  T2M_MAX  \\\n",
       "0            NaN              NaN   NaN  NaN     NaN     NaN      NaN   \n",
       "1            NaN              NaN   NaN  NaN     NaN     NaN      NaN   \n",
       "2            NaN              NaN   NaN  NaN     NaN     NaN      NaN   \n",
       "3            NaN              NaN   NaN  NaN     NaN     NaN      NaN   \n",
       "4            NaN              NaN   NaN  NaN     NaN     NaN      NaN   \n",
       "\n",
       "   T2M_MIN  WS10M  WS2M  \n",
       "0      NaN    NaN   NaN  \n",
       "1      NaN    NaN   NaN  \n",
       "2      NaN    NaN   NaN  \n",
       "3      NaN    NaN   NaN  \n",
       "4      NaN    NaN   NaN  \n",
       "\n",
       "[5 rows x 21 columns]"
      ],
      "text/html": [
       "<div>\n",
       "<style scoped>\n",
       "    .dataframe tbody tr th:only-of-type {\n",
       "        vertical-align: middle;\n",
       "    }\n",
       "\n",
       "    .dataframe tbody tr th {\n",
       "        vertical-align: top;\n",
       "    }\n",
       "\n",
       "    .dataframe thead th {\n",
       "        text-align: right;\n",
       "    }\n",
       "</style>\n",
       "<table border=\"1\" class=\"dataframe\">\n",
       "  <thead>\n",
       "    <tr style=\"text-align: right;\">\n",
       "      <th></th>\n",
       "      <th>canton</th>\n",
       "      <th>mes</th>\n",
       "      <th>anio</th>\n",
       "      <th>produccion</th>\n",
       "      <th>area</th>\n",
       "      <th>ALLSKY_SFC_SW_DWN</th>\n",
       "      <th>CLRSKY_SFC_PAR_TOT</th>\n",
       "      <th>CLRSKY_SFC_SW_DWN</th>\n",
       "      <th>GWETPROF</th>\n",
       "      <th>GWETROOT</th>\n",
       "      <th>...</th>\n",
       "      <th>IMERG_PRECTOT</th>\n",
       "      <th>PRECTOTCORR_SUM</th>\n",
       "      <th>RH2M</th>\n",
       "      <th>T2M</th>\n",
       "      <th>T2MDEW</th>\n",
       "      <th>T2MWET</th>\n",
       "      <th>T2M_MAX</th>\n",
       "      <th>T2M_MIN</th>\n",
       "      <th>WS10M</th>\n",
       "      <th>WS2M</th>\n",
       "    </tr>\n",
       "  </thead>\n",
       "  <tbody>\n",
       "    <tr>\n",
       "      <th>0</th>\n",
       "      <td>TURRIALBA</td>\n",
       "      <td>enero</td>\n",
       "      <td>2005</td>\n",
       "      <td>136.21</td>\n",
       "      <td>5.95</td>\n",
       "      <td>NaN</td>\n",
       "      <td>NaN</td>\n",
       "      <td>NaN</td>\n",
       "      <td>NaN</td>\n",
       "      <td>NaN</td>\n",
       "      <td>...</td>\n",
       "      <td>NaN</td>\n",
       "      <td>NaN</td>\n",
       "      <td>NaN</td>\n",
       "      <td>NaN</td>\n",
       "      <td>NaN</td>\n",
       "      <td>NaN</td>\n",
       "      <td>NaN</td>\n",
       "      <td>NaN</td>\n",
       "      <td>NaN</td>\n",
       "      <td>NaN</td>\n",
       "    </tr>\n",
       "    <tr>\n",
       "      <th>1</th>\n",
       "      <td>TURRIALBA</td>\n",
       "      <td>febrero</td>\n",
       "      <td>2005</td>\n",
       "      <td>66.24</td>\n",
       "      <td>2.80</td>\n",
       "      <td>NaN</td>\n",
       "      <td>NaN</td>\n",
       "      <td>NaN</td>\n",
       "      <td>NaN</td>\n",
       "      <td>NaN</td>\n",
       "      <td>...</td>\n",
       "      <td>NaN</td>\n",
       "      <td>NaN</td>\n",
       "      <td>NaN</td>\n",
       "      <td>NaN</td>\n",
       "      <td>NaN</td>\n",
       "      <td>NaN</td>\n",
       "      <td>NaN</td>\n",
       "      <td>NaN</td>\n",
       "      <td>NaN</td>\n",
       "      <td>NaN</td>\n",
       "    </tr>\n",
       "    <tr>\n",
       "      <th>2</th>\n",
       "      <td>TURRIALBA</td>\n",
       "      <td>marzo</td>\n",
       "      <td>2005</td>\n",
       "      <td>14.90</td>\n",
       "      <td>0.70</td>\n",
       "      <td>NaN</td>\n",
       "      <td>NaN</td>\n",
       "      <td>NaN</td>\n",
       "      <td>NaN</td>\n",
       "      <td>NaN</td>\n",
       "      <td>...</td>\n",
       "      <td>NaN</td>\n",
       "      <td>NaN</td>\n",
       "      <td>NaN</td>\n",
       "      <td>NaN</td>\n",
       "      <td>NaN</td>\n",
       "      <td>NaN</td>\n",
       "      <td>NaN</td>\n",
       "      <td>NaN</td>\n",
       "      <td>NaN</td>\n",
       "      <td>NaN</td>\n",
       "    </tr>\n",
       "    <tr>\n",
       "      <th>3</th>\n",
       "      <td>TURRIALBA</td>\n",
       "      <td>abril</td>\n",
       "      <td>2005</td>\n",
       "      <td>60.03</td>\n",
       "      <td>2.45</td>\n",
       "      <td>NaN</td>\n",
       "      <td>NaN</td>\n",
       "      <td>NaN</td>\n",
       "      <td>NaN</td>\n",
       "      <td>NaN</td>\n",
       "      <td>...</td>\n",
       "      <td>NaN</td>\n",
       "      <td>NaN</td>\n",
       "      <td>NaN</td>\n",
       "      <td>NaN</td>\n",
       "      <td>NaN</td>\n",
       "      <td>NaN</td>\n",
       "      <td>NaN</td>\n",
       "      <td>NaN</td>\n",
       "      <td>NaN</td>\n",
       "      <td>NaN</td>\n",
       "    </tr>\n",
       "    <tr>\n",
       "      <th>4</th>\n",
       "      <td>TURRIALBA</td>\n",
       "      <td>mayo</td>\n",
       "      <td>2005</td>\n",
       "      <td>140.76</td>\n",
       "      <td>4.90</td>\n",
       "      <td>NaN</td>\n",
       "      <td>NaN</td>\n",
       "      <td>NaN</td>\n",
       "      <td>NaN</td>\n",
       "      <td>NaN</td>\n",
       "      <td>...</td>\n",
       "      <td>NaN</td>\n",
       "      <td>NaN</td>\n",
       "      <td>NaN</td>\n",
       "      <td>NaN</td>\n",
       "      <td>NaN</td>\n",
       "      <td>NaN</td>\n",
       "      <td>NaN</td>\n",
       "      <td>NaN</td>\n",
       "      <td>NaN</td>\n",
       "      <td>NaN</td>\n",
       "    </tr>\n",
       "  </tbody>\n",
       "</table>\n",
       "<p>5 rows × 21 columns</p>\n",
       "</div>"
      ]
     },
     "execution_count": 12,
     "metadata": {},
     "output_type": "execute_result"
    }
   ],
   "execution_count": 12
  },
  {
   "metadata": {
    "ExecuteTime": {
     "end_time": "2025-07-17T06:22:22.015041Z",
     "start_time": "2025-07-17T06:22:22.003951Z"
    }
   },
   "cell_type": "code",
   "source": "df.info()",
   "id": "28fb3f85b6f6705d",
   "outputs": [
    {
     "name": "stdout",
     "output_type": "stream",
     "text": [
      "<class 'pandas.core.frame.DataFrame'>\n",
      "RangeIndex: 1260 entries, 0 to 1259\n",
      "Data columns (total 21 columns):\n",
      " #   Column              Non-Null Count  Dtype  \n",
      "---  ------              --------------  -----  \n",
      " 0   canton              1260 non-null   object \n",
      " 1   mes                 1260 non-null   object \n",
      " 2   anio                1260 non-null   int64  \n",
      " 3   produccion          1084 non-null   float64\n",
      " 4   area                1084 non-null   float64\n",
      " 5   ALLSKY_SFC_SW_DWN   252 non-null    float64\n",
      " 6   CLRSKY_SFC_PAR_TOT  252 non-null    float64\n",
      " 7   CLRSKY_SFC_SW_DWN   252 non-null    float64\n",
      " 8   GWETPROF            252 non-null    float64\n",
      " 9   GWETROOT            252 non-null    float64\n",
      " 10  GWETTOP             252 non-null    float64\n",
      " 11  IMERG_PRECTOT       252 non-null    float64\n",
      " 12  PRECTOTCORR_SUM     252 non-null    float64\n",
      " 13  RH2M                252 non-null    float64\n",
      " 14  T2M                 252 non-null    float64\n",
      " 15  T2MDEW              252 non-null    float64\n",
      " 16  T2MWET              252 non-null    float64\n",
      " 17  T2M_MAX             252 non-null    float64\n",
      " 18  T2M_MIN             252 non-null    float64\n",
      " 19  WS10M               252 non-null    float64\n",
      " 20  WS2M                252 non-null    float64\n",
      "dtypes: float64(18), int64(1), object(2)\n",
      "memory usage: 206.8+ KB\n"
     ]
    }
   ],
   "execution_count": 13
  },
  {
   "metadata": {
    "ExecuteTime": {
     "end_time": "2025-07-17T06:22:23.470031Z",
     "start_time": "2025-07-17T06:22:23.465172Z"
    }
   },
   "cell_type": "code",
   "source": "eda_rnn = MetodosEDARNN(df, base_path_func=obtener_ruta_app, proyecto=\"Template-AgroIA\")\n",
   "id": "9a134b54227762cd",
   "outputs": [],
   "execution_count": 14
  },
  {
   "metadata": {
    "ExecuteTime": {
     "end_time": "2025-07-17T06:22:24.864547Z",
     "start_time": "2025-07-17T06:22:24.852883Z"
    }
   },
   "cell_type": "code",
   "source": "eda_rnn.transformar_fechas() # método para transformar fechas",
   "id": "fea4981623bc8ad5",
   "outputs": [],
   "execution_count": 15
  },
  {
   "metadata": {
    "ExecuteTime": {
     "end_time": "2025-07-17T06:22:27.505888Z",
     "start_time": "2025-07-17T06:22:27.489397Z"
    }
   },
   "cell_type": "code",
   "source": "eda_rnn.df.head()",
   "id": "3b51675894a6c912",
   "outputs": [
    {
     "data": {
      "text/plain": [
       "      canton  produccion  area  ALLSKY_SFC_SW_DWN  CLRSKY_SFC_PAR_TOT  \\\n",
       "0  TURRIALBA      136.21  5.95                NaN                 NaN   \n",
       "1  TURRIALBA       66.24  2.80                NaN                 NaN   \n",
       "2  TURRIALBA       14.90  0.70                NaN                 NaN   \n",
       "3  TURRIALBA       60.03  2.45                NaN                 NaN   \n",
       "4  TURRIALBA      140.76  4.90                NaN                 NaN   \n",
       "\n",
       "   CLRSKY_SFC_SW_DWN  GWETPROF  GWETROOT  GWETTOP  IMERG_PRECTOT  \\\n",
       "0                NaN       NaN       NaN      NaN            NaN   \n",
       "1                NaN       NaN       NaN      NaN            NaN   \n",
       "2                NaN       NaN       NaN      NaN            NaN   \n",
       "3                NaN       NaN       NaN      NaN            NaN   \n",
       "4                NaN       NaN       NaN      NaN            NaN   \n",
       "\n",
       "   PRECTOTCORR_SUM  RH2M  T2M  T2MDEW  T2MWET  T2M_MAX  T2M_MIN  WS10M  WS2M  \\\n",
       "0              NaN   NaN  NaN     NaN     NaN      NaN      NaN    NaN   NaN   \n",
       "1              NaN   NaN  NaN     NaN     NaN      NaN      NaN    NaN   NaN   \n",
       "2              NaN   NaN  NaN     NaN     NaN      NaN      NaN    NaN   NaN   \n",
       "3              NaN   NaN  NaN     NaN     NaN      NaN      NaN    NaN   NaN   \n",
       "4              NaN   NaN  NaN     NaN     NaN      NaN      NaN    NaN   NaN   \n",
       "\n",
       "       fecha  \n",
       "0 2005-01-01  \n",
       "1 2005-02-01  \n",
       "2 2005-03-01  \n",
       "3 2005-04-01  \n",
       "4 2005-05-01  "
      ],
      "text/html": [
       "<div>\n",
       "<style scoped>\n",
       "    .dataframe tbody tr th:only-of-type {\n",
       "        vertical-align: middle;\n",
       "    }\n",
       "\n",
       "    .dataframe tbody tr th {\n",
       "        vertical-align: top;\n",
       "    }\n",
       "\n",
       "    .dataframe thead th {\n",
       "        text-align: right;\n",
       "    }\n",
       "</style>\n",
       "<table border=\"1\" class=\"dataframe\">\n",
       "  <thead>\n",
       "    <tr style=\"text-align: right;\">\n",
       "      <th></th>\n",
       "      <th>canton</th>\n",
       "      <th>produccion</th>\n",
       "      <th>area</th>\n",
       "      <th>ALLSKY_SFC_SW_DWN</th>\n",
       "      <th>CLRSKY_SFC_PAR_TOT</th>\n",
       "      <th>CLRSKY_SFC_SW_DWN</th>\n",
       "      <th>GWETPROF</th>\n",
       "      <th>GWETROOT</th>\n",
       "      <th>GWETTOP</th>\n",
       "      <th>IMERG_PRECTOT</th>\n",
       "      <th>PRECTOTCORR_SUM</th>\n",
       "      <th>RH2M</th>\n",
       "      <th>T2M</th>\n",
       "      <th>T2MDEW</th>\n",
       "      <th>T2MWET</th>\n",
       "      <th>T2M_MAX</th>\n",
       "      <th>T2M_MIN</th>\n",
       "      <th>WS10M</th>\n",
       "      <th>WS2M</th>\n",
       "      <th>fecha</th>\n",
       "    </tr>\n",
       "  </thead>\n",
       "  <tbody>\n",
       "    <tr>\n",
       "      <th>0</th>\n",
       "      <td>TURRIALBA</td>\n",
       "      <td>136.21</td>\n",
       "      <td>5.95</td>\n",
       "      <td>NaN</td>\n",
       "      <td>NaN</td>\n",
       "      <td>NaN</td>\n",
       "      <td>NaN</td>\n",
       "      <td>NaN</td>\n",
       "      <td>NaN</td>\n",
       "      <td>NaN</td>\n",
       "      <td>NaN</td>\n",
       "      <td>NaN</td>\n",
       "      <td>NaN</td>\n",
       "      <td>NaN</td>\n",
       "      <td>NaN</td>\n",
       "      <td>NaN</td>\n",
       "      <td>NaN</td>\n",
       "      <td>NaN</td>\n",
       "      <td>NaN</td>\n",
       "      <td>2005-01-01</td>\n",
       "    </tr>\n",
       "    <tr>\n",
       "      <th>1</th>\n",
       "      <td>TURRIALBA</td>\n",
       "      <td>66.24</td>\n",
       "      <td>2.80</td>\n",
       "      <td>NaN</td>\n",
       "      <td>NaN</td>\n",
       "      <td>NaN</td>\n",
       "      <td>NaN</td>\n",
       "      <td>NaN</td>\n",
       "      <td>NaN</td>\n",
       "      <td>NaN</td>\n",
       "      <td>NaN</td>\n",
       "      <td>NaN</td>\n",
       "      <td>NaN</td>\n",
       "      <td>NaN</td>\n",
       "      <td>NaN</td>\n",
       "      <td>NaN</td>\n",
       "      <td>NaN</td>\n",
       "      <td>NaN</td>\n",
       "      <td>NaN</td>\n",
       "      <td>2005-02-01</td>\n",
       "    </tr>\n",
       "    <tr>\n",
       "      <th>2</th>\n",
       "      <td>TURRIALBA</td>\n",
       "      <td>14.90</td>\n",
       "      <td>0.70</td>\n",
       "      <td>NaN</td>\n",
       "      <td>NaN</td>\n",
       "      <td>NaN</td>\n",
       "      <td>NaN</td>\n",
       "      <td>NaN</td>\n",
       "      <td>NaN</td>\n",
       "      <td>NaN</td>\n",
       "      <td>NaN</td>\n",
       "      <td>NaN</td>\n",
       "      <td>NaN</td>\n",
       "      <td>NaN</td>\n",
       "      <td>NaN</td>\n",
       "      <td>NaN</td>\n",
       "      <td>NaN</td>\n",
       "      <td>NaN</td>\n",
       "      <td>NaN</td>\n",
       "      <td>2005-03-01</td>\n",
       "    </tr>\n",
       "    <tr>\n",
       "      <th>3</th>\n",
       "      <td>TURRIALBA</td>\n",
       "      <td>60.03</td>\n",
       "      <td>2.45</td>\n",
       "      <td>NaN</td>\n",
       "      <td>NaN</td>\n",
       "      <td>NaN</td>\n",
       "      <td>NaN</td>\n",
       "      <td>NaN</td>\n",
       "      <td>NaN</td>\n",
       "      <td>NaN</td>\n",
       "      <td>NaN</td>\n",
       "      <td>NaN</td>\n",
       "      <td>NaN</td>\n",
       "      <td>NaN</td>\n",
       "      <td>NaN</td>\n",
       "      <td>NaN</td>\n",
       "      <td>NaN</td>\n",
       "      <td>NaN</td>\n",
       "      <td>NaN</td>\n",
       "      <td>2005-04-01</td>\n",
       "    </tr>\n",
       "    <tr>\n",
       "      <th>4</th>\n",
       "      <td>TURRIALBA</td>\n",
       "      <td>140.76</td>\n",
       "      <td>4.90</td>\n",
       "      <td>NaN</td>\n",
       "      <td>NaN</td>\n",
       "      <td>NaN</td>\n",
       "      <td>NaN</td>\n",
       "      <td>NaN</td>\n",
       "      <td>NaN</td>\n",
       "      <td>NaN</td>\n",
       "      <td>NaN</td>\n",
       "      <td>NaN</td>\n",
       "      <td>NaN</td>\n",
       "      <td>NaN</td>\n",
       "      <td>NaN</td>\n",
       "      <td>NaN</td>\n",
       "      <td>NaN</td>\n",
       "      <td>NaN</td>\n",
       "      <td>NaN</td>\n",
       "      <td>2005-05-01</td>\n",
       "    </tr>\n",
       "  </tbody>\n",
       "</table>\n",
       "</div>"
      ]
     },
     "execution_count": 16,
     "metadata": {},
     "output_type": "execute_result"
    }
   ],
   "execution_count": 16
  },
  {
   "metadata": {
    "ExecuteTime": {
     "end_time": "2025-07-17T06:22:29.894874Z",
     "start_time": "2025-07-17T06:22:29.887817Z"
    }
   },
   "cell_type": "code",
   "source": [
    "# 1. Sacar las columnas que no son 'fecha' ni 'produccion'\n",
    "cols = [col for col in eda_rnn.df.columns if col not in ['fecha', 'produccion']]\n",
    "\n",
    "# 2. Reordenar\n",
    "eda_rnn.df = eda_rnn.df[['fecha'] + cols + ['produccion']]"
   ],
   "id": "24654b1bda913ab7",
   "outputs": [],
   "execution_count": 17
  },
  {
   "metadata": {
    "ExecuteTime": {
     "end_time": "2025-07-17T06:22:32.335322Z",
     "start_time": "2025-07-17T06:22:32.315600Z"
    }
   },
   "cell_type": "code",
   "source": "eda_rnn.df.head()",
   "id": "d812aab4ee05728d",
   "outputs": [
    {
     "data": {
      "text/plain": [
       "       fecha     canton  area  ALLSKY_SFC_SW_DWN  CLRSKY_SFC_PAR_TOT  \\\n",
       "0 2005-01-01  TURRIALBA  5.95                NaN                 NaN   \n",
       "1 2005-02-01  TURRIALBA  2.80                NaN                 NaN   \n",
       "2 2005-03-01  TURRIALBA  0.70                NaN                 NaN   \n",
       "3 2005-04-01  TURRIALBA  2.45                NaN                 NaN   \n",
       "4 2005-05-01  TURRIALBA  4.90                NaN                 NaN   \n",
       "\n",
       "   CLRSKY_SFC_SW_DWN  GWETPROF  GWETROOT  GWETTOP  IMERG_PRECTOT  \\\n",
       "0                NaN       NaN       NaN      NaN            NaN   \n",
       "1                NaN       NaN       NaN      NaN            NaN   \n",
       "2                NaN       NaN       NaN      NaN            NaN   \n",
       "3                NaN       NaN       NaN      NaN            NaN   \n",
       "4                NaN       NaN       NaN      NaN            NaN   \n",
       "\n",
       "   PRECTOTCORR_SUM  RH2M  T2M  T2MDEW  T2MWET  T2M_MAX  T2M_MIN  WS10M  WS2M  \\\n",
       "0              NaN   NaN  NaN     NaN     NaN      NaN      NaN    NaN   NaN   \n",
       "1              NaN   NaN  NaN     NaN     NaN      NaN      NaN    NaN   NaN   \n",
       "2              NaN   NaN  NaN     NaN     NaN      NaN      NaN    NaN   NaN   \n",
       "3              NaN   NaN  NaN     NaN     NaN      NaN      NaN    NaN   NaN   \n",
       "4              NaN   NaN  NaN     NaN     NaN      NaN      NaN    NaN   NaN   \n",
       "\n",
       "   produccion  \n",
       "0      136.21  \n",
       "1       66.24  \n",
       "2       14.90  \n",
       "3       60.03  \n",
       "4      140.76  "
      ],
      "text/html": [
       "<div>\n",
       "<style scoped>\n",
       "    .dataframe tbody tr th:only-of-type {\n",
       "        vertical-align: middle;\n",
       "    }\n",
       "\n",
       "    .dataframe tbody tr th {\n",
       "        vertical-align: top;\n",
       "    }\n",
       "\n",
       "    .dataframe thead th {\n",
       "        text-align: right;\n",
       "    }\n",
       "</style>\n",
       "<table border=\"1\" class=\"dataframe\">\n",
       "  <thead>\n",
       "    <tr style=\"text-align: right;\">\n",
       "      <th></th>\n",
       "      <th>fecha</th>\n",
       "      <th>canton</th>\n",
       "      <th>area</th>\n",
       "      <th>ALLSKY_SFC_SW_DWN</th>\n",
       "      <th>CLRSKY_SFC_PAR_TOT</th>\n",
       "      <th>CLRSKY_SFC_SW_DWN</th>\n",
       "      <th>GWETPROF</th>\n",
       "      <th>GWETROOT</th>\n",
       "      <th>GWETTOP</th>\n",
       "      <th>IMERG_PRECTOT</th>\n",
       "      <th>PRECTOTCORR_SUM</th>\n",
       "      <th>RH2M</th>\n",
       "      <th>T2M</th>\n",
       "      <th>T2MDEW</th>\n",
       "      <th>T2MWET</th>\n",
       "      <th>T2M_MAX</th>\n",
       "      <th>T2M_MIN</th>\n",
       "      <th>WS10M</th>\n",
       "      <th>WS2M</th>\n",
       "      <th>produccion</th>\n",
       "    </tr>\n",
       "  </thead>\n",
       "  <tbody>\n",
       "    <tr>\n",
       "      <th>0</th>\n",
       "      <td>2005-01-01</td>\n",
       "      <td>TURRIALBA</td>\n",
       "      <td>5.95</td>\n",
       "      <td>NaN</td>\n",
       "      <td>NaN</td>\n",
       "      <td>NaN</td>\n",
       "      <td>NaN</td>\n",
       "      <td>NaN</td>\n",
       "      <td>NaN</td>\n",
       "      <td>NaN</td>\n",
       "      <td>NaN</td>\n",
       "      <td>NaN</td>\n",
       "      <td>NaN</td>\n",
       "      <td>NaN</td>\n",
       "      <td>NaN</td>\n",
       "      <td>NaN</td>\n",
       "      <td>NaN</td>\n",
       "      <td>NaN</td>\n",
       "      <td>NaN</td>\n",
       "      <td>136.21</td>\n",
       "    </tr>\n",
       "    <tr>\n",
       "      <th>1</th>\n",
       "      <td>2005-02-01</td>\n",
       "      <td>TURRIALBA</td>\n",
       "      <td>2.80</td>\n",
       "      <td>NaN</td>\n",
       "      <td>NaN</td>\n",
       "      <td>NaN</td>\n",
       "      <td>NaN</td>\n",
       "      <td>NaN</td>\n",
       "      <td>NaN</td>\n",
       "      <td>NaN</td>\n",
       "      <td>NaN</td>\n",
       "      <td>NaN</td>\n",
       "      <td>NaN</td>\n",
       "      <td>NaN</td>\n",
       "      <td>NaN</td>\n",
       "      <td>NaN</td>\n",
       "      <td>NaN</td>\n",
       "      <td>NaN</td>\n",
       "      <td>NaN</td>\n",
       "      <td>66.24</td>\n",
       "    </tr>\n",
       "    <tr>\n",
       "      <th>2</th>\n",
       "      <td>2005-03-01</td>\n",
       "      <td>TURRIALBA</td>\n",
       "      <td>0.70</td>\n",
       "      <td>NaN</td>\n",
       "      <td>NaN</td>\n",
       "      <td>NaN</td>\n",
       "      <td>NaN</td>\n",
       "      <td>NaN</td>\n",
       "      <td>NaN</td>\n",
       "      <td>NaN</td>\n",
       "      <td>NaN</td>\n",
       "      <td>NaN</td>\n",
       "      <td>NaN</td>\n",
       "      <td>NaN</td>\n",
       "      <td>NaN</td>\n",
       "      <td>NaN</td>\n",
       "      <td>NaN</td>\n",
       "      <td>NaN</td>\n",
       "      <td>NaN</td>\n",
       "      <td>14.90</td>\n",
       "    </tr>\n",
       "    <tr>\n",
       "      <th>3</th>\n",
       "      <td>2005-04-01</td>\n",
       "      <td>TURRIALBA</td>\n",
       "      <td>2.45</td>\n",
       "      <td>NaN</td>\n",
       "      <td>NaN</td>\n",
       "      <td>NaN</td>\n",
       "      <td>NaN</td>\n",
       "      <td>NaN</td>\n",
       "      <td>NaN</td>\n",
       "      <td>NaN</td>\n",
       "      <td>NaN</td>\n",
       "      <td>NaN</td>\n",
       "      <td>NaN</td>\n",
       "      <td>NaN</td>\n",
       "      <td>NaN</td>\n",
       "      <td>NaN</td>\n",
       "      <td>NaN</td>\n",
       "      <td>NaN</td>\n",
       "      <td>NaN</td>\n",
       "      <td>60.03</td>\n",
       "    </tr>\n",
       "    <tr>\n",
       "      <th>4</th>\n",
       "      <td>2005-05-01</td>\n",
       "      <td>TURRIALBA</td>\n",
       "      <td>4.90</td>\n",
       "      <td>NaN</td>\n",
       "      <td>NaN</td>\n",
       "      <td>NaN</td>\n",
       "      <td>NaN</td>\n",
       "      <td>NaN</td>\n",
       "      <td>NaN</td>\n",
       "      <td>NaN</td>\n",
       "      <td>NaN</td>\n",
       "      <td>NaN</td>\n",
       "      <td>NaN</td>\n",
       "      <td>NaN</td>\n",
       "      <td>NaN</td>\n",
       "      <td>NaN</td>\n",
       "      <td>NaN</td>\n",
       "      <td>NaN</td>\n",
       "      <td>NaN</td>\n",
       "      <td>140.76</td>\n",
       "    </tr>\n",
       "  </tbody>\n",
       "</table>\n",
       "</div>"
      ]
     },
     "execution_count": 18,
     "metadata": {},
     "output_type": "execute_result"
    }
   ],
   "execution_count": 18
  },
  {
   "metadata": {},
   "cell_type": "markdown",
   "source": "# Limpieza final",
   "id": "eafc6143e5985525"
  },
  {
   "metadata": {
    "ExecuteTime": {
     "end_time": "2025-07-17T06:23:13.715446Z",
     "start_time": "2025-07-17T06:23:13.566585Z"
    }
   },
   "cell_type": "code",
   "source": "eda_rnn.df = eda_rnn.df[eda_rnn.df['canton']==\"OREAMUNO\"] ## se selecciona solamente Oreamuno del df",
   "id": "7f449c871e162838",
   "outputs": [
    {
     "ename": "KeyError",
     "evalue": "'canton'",
     "output_type": "error",
     "traceback": [
      "\u001B[31m---------------------------------------------------------------------------\u001B[39m",
      "\u001B[31mKeyError\u001B[39m                                  Traceback (most recent call last)",
      "\u001B[36mFile \u001B[39m\u001B[32m~\\AppData\\Local\\Programs\\Python\\Python311\\Lib\\site-packages\\pandas\\core\\indexes\\base.py:3812\u001B[39m, in \u001B[36mIndex.get_loc\u001B[39m\u001B[34m(self, key)\u001B[39m\n\u001B[32m   3811\u001B[39m \u001B[38;5;28;01mtry\u001B[39;00m:\n\u001B[32m-> \u001B[39m\u001B[32m3812\u001B[39m     \u001B[38;5;28;01mreturn\u001B[39;00m \u001B[38;5;28;43mself\u001B[39;49m\u001B[43m.\u001B[49m\u001B[43m_engine\u001B[49m\u001B[43m.\u001B[49m\u001B[43mget_loc\u001B[49m\u001B[43m(\u001B[49m\u001B[43mcasted_key\u001B[49m\u001B[43m)\u001B[49m\n\u001B[32m   3813\u001B[39m \u001B[38;5;28;01mexcept\u001B[39;00m \u001B[38;5;167;01mKeyError\u001B[39;00m \u001B[38;5;28;01mas\u001B[39;00m err:\n",
      "\u001B[36mFile \u001B[39m\u001B[32mpandas/_libs/index.pyx:167\u001B[39m, in \u001B[36mpandas._libs.index.IndexEngine.get_loc\u001B[39m\u001B[34m()\u001B[39m\n",
      "\u001B[36mFile \u001B[39m\u001B[32mpandas/_libs/index.pyx:196\u001B[39m, in \u001B[36mpandas._libs.index.IndexEngine.get_loc\u001B[39m\u001B[34m()\u001B[39m\n",
      "\u001B[36mFile \u001B[39m\u001B[32mpandas/_libs/hashtable_class_helper.pxi:7088\u001B[39m, in \u001B[36mpandas._libs.hashtable.PyObjectHashTable.get_item\u001B[39m\u001B[34m()\u001B[39m\n",
      "\u001B[36mFile \u001B[39m\u001B[32mpandas/_libs/hashtable_class_helper.pxi:7096\u001B[39m, in \u001B[36mpandas._libs.hashtable.PyObjectHashTable.get_item\u001B[39m\u001B[34m()\u001B[39m\n",
      "\u001B[31mKeyError\u001B[39m: 'canton'",
      "\nThe above exception was the direct cause of the following exception:\n",
      "\u001B[31mKeyError\u001B[39m                                  Traceback (most recent call last)",
      "\u001B[36mCell\u001B[39m\u001B[36m \u001B[39m\u001B[32mIn[23]\u001B[39m\u001B[32m, line 1\u001B[39m\n\u001B[32m----> \u001B[39m\u001B[32m1\u001B[39m eda_rnn.df = eda_rnn.df[\u001B[43meda_rnn\u001B[49m\u001B[43m.\u001B[49m\u001B[43mdf\u001B[49m\u001B[43m[\u001B[49m\u001B[33;43m'\u001B[39;49m\u001B[33;43mcanton\u001B[39;49m\u001B[33;43m'\u001B[39;49m\u001B[43m]\u001B[49m==\u001B[33m\"\u001B[39m\u001B[33mOREAMUNO\u001B[39m\u001B[33m\"\u001B[39m] \u001B[38;5;66;03m## se selecciona solamente Oreamuno del df\u001B[39;00m\n",
      "\u001B[36mFile \u001B[39m\u001B[32m~\\AppData\\Local\\Programs\\Python\\Python311\\Lib\\site-packages\\pandas\\core\\frame.py:4107\u001B[39m, in \u001B[36mDataFrame.__getitem__\u001B[39m\u001B[34m(self, key)\u001B[39m\n\u001B[32m   4105\u001B[39m \u001B[38;5;28;01mif\u001B[39;00m \u001B[38;5;28mself\u001B[39m.columns.nlevels > \u001B[32m1\u001B[39m:\n\u001B[32m   4106\u001B[39m     \u001B[38;5;28;01mreturn\u001B[39;00m \u001B[38;5;28mself\u001B[39m._getitem_multilevel(key)\n\u001B[32m-> \u001B[39m\u001B[32m4107\u001B[39m indexer = \u001B[38;5;28;43mself\u001B[39;49m\u001B[43m.\u001B[49m\u001B[43mcolumns\u001B[49m\u001B[43m.\u001B[49m\u001B[43mget_loc\u001B[49m\u001B[43m(\u001B[49m\u001B[43mkey\u001B[49m\u001B[43m)\u001B[49m\n\u001B[32m   4108\u001B[39m \u001B[38;5;28;01mif\u001B[39;00m is_integer(indexer):\n\u001B[32m   4109\u001B[39m     indexer = [indexer]\n",
      "\u001B[36mFile \u001B[39m\u001B[32m~\\AppData\\Local\\Programs\\Python\\Python311\\Lib\\site-packages\\pandas\\core\\indexes\\base.py:3819\u001B[39m, in \u001B[36mIndex.get_loc\u001B[39m\u001B[34m(self, key)\u001B[39m\n\u001B[32m   3814\u001B[39m     \u001B[38;5;28;01mif\u001B[39;00m \u001B[38;5;28misinstance\u001B[39m(casted_key, \u001B[38;5;28mslice\u001B[39m) \u001B[38;5;129;01mor\u001B[39;00m (\n\u001B[32m   3815\u001B[39m         \u001B[38;5;28misinstance\u001B[39m(casted_key, abc.Iterable)\n\u001B[32m   3816\u001B[39m         \u001B[38;5;129;01mand\u001B[39;00m \u001B[38;5;28many\u001B[39m(\u001B[38;5;28misinstance\u001B[39m(x, \u001B[38;5;28mslice\u001B[39m) \u001B[38;5;28;01mfor\u001B[39;00m x \u001B[38;5;129;01min\u001B[39;00m casted_key)\n\u001B[32m   3817\u001B[39m     ):\n\u001B[32m   3818\u001B[39m         \u001B[38;5;28;01mraise\u001B[39;00m InvalidIndexError(key)\n\u001B[32m-> \u001B[39m\u001B[32m3819\u001B[39m     \u001B[38;5;28;01mraise\u001B[39;00m \u001B[38;5;167;01mKeyError\u001B[39;00m(key) \u001B[38;5;28;01mfrom\u001B[39;00m\u001B[38;5;250m \u001B[39m\u001B[34;01merr\u001B[39;00m\n\u001B[32m   3820\u001B[39m \u001B[38;5;28;01mexcept\u001B[39;00m \u001B[38;5;167;01mTypeError\u001B[39;00m:\n\u001B[32m   3821\u001B[39m     \u001B[38;5;66;03m# If we have a listlike key, _check_indexing_error will raise\u001B[39;00m\n\u001B[32m   3822\u001B[39m     \u001B[38;5;66;03m#  InvalidIndexError. Otherwise we fall through and re-raise\u001B[39;00m\n\u001B[32m   3823\u001B[39m     \u001B[38;5;66;03m#  the TypeError.\u001B[39;00m\n\u001B[32m   3824\u001B[39m     \u001B[38;5;28mself\u001B[39m._check_indexing_error(key)\n",
      "\u001B[31mKeyError\u001B[39m: 'canton'"
     ]
    }
   ],
   "execution_count": 23
  },
  {
   "metadata": {
    "ExecuteTime": {
     "end_time": "2025-07-17T06:22:38.211002Z",
     "start_time": "2025-07-17T06:22:38.205542Z"
    }
   },
   "cell_type": "code",
   "source": [
    "eda_rnn.df.drop([\n",
    "    'IMERG_PRECTOT',\n",
    "    'WS10M',\n",
    "    'GWETTOP',\n",
    "    'GWETPROF',\n",
    "    'GWETROOT',\n",
    "    'ALLSKY_SFC_SW_DWN',\n",
    "    'CLRSKY_SFC_SW_DWN',\n",
    "    'CLRSKY_SFC_PAR_TOT',\n",
    "    'T2MDEW',\n",
    "    'T2MWET',\n",
    "    'T2M_MAX',\n",
    "    'T2M_MIN',\n",
    "    'WS2M',\n",
    "    'area',\n",
    "    'canton'\n",
    "], axis=1, inplace=True)"
   ],
   "id": "832f02ae512625b4",
   "outputs": [],
   "execution_count": 20
  },
  {
   "metadata": {
    "ExecuteTime": {
     "end_time": "2025-07-17T06:22:57.546555Z",
     "start_time": "2025-07-17T06:22:57.540372Z"
    }
   },
   "cell_type": "code",
   "source": [
    "eda_rnn.df = eda_rnn.df.rename(columns={\n",
    "    'T2M': 'temperatura',\n",
    "    'RH2M':'humedad',\n",
    "    'PRECTOTCORR_SUM':'lluvia'})"
   ],
   "id": "91ee122c419f4fbc",
   "outputs": [],
   "execution_count": 21
  },
  {
   "metadata": {
    "ExecuteTime": {
     "end_time": "2025-07-17T06:23:25.545403Z",
     "start_time": "2025-07-17T06:23:25.532362Z"
    }
   },
   "cell_type": "code",
   "source": "eda_rnn.df.head()",
   "id": "959fa8fb6134b327",
   "outputs": [
    {
     "data": {
      "text/plain": [
       "        fecha  lluvia  humedad  temperatura  produccion\n",
       "12 2005-01-01  210.55    91.77        18.81     3000.38\n",
       "13 2005-02-01  117.71    88.51        18.42     2726.91\n",
       "14 2005-03-01   50.42    85.40        20.48     3857.77\n",
       "15 2005-04-01  203.88    85.99        20.78     1011.56\n",
       "16 2005-05-01  175.48    89.55        21.33     1129.42"
      ],
      "text/html": [
       "<div>\n",
       "<style scoped>\n",
       "    .dataframe tbody tr th:only-of-type {\n",
       "        vertical-align: middle;\n",
       "    }\n",
       "\n",
       "    .dataframe tbody tr th {\n",
       "        vertical-align: top;\n",
       "    }\n",
       "\n",
       "    .dataframe thead th {\n",
       "        text-align: right;\n",
       "    }\n",
       "</style>\n",
       "<table border=\"1\" class=\"dataframe\">\n",
       "  <thead>\n",
       "    <tr style=\"text-align: right;\">\n",
       "      <th></th>\n",
       "      <th>fecha</th>\n",
       "      <th>lluvia</th>\n",
       "      <th>humedad</th>\n",
       "      <th>temperatura</th>\n",
       "      <th>produccion</th>\n",
       "    </tr>\n",
       "  </thead>\n",
       "  <tbody>\n",
       "    <tr>\n",
       "      <th>12</th>\n",
       "      <td>2005-01-01</td>\n",
       "      <td>210.55</td>\n",
       "      <td>91.77</td>\n",
       "      <td>18.81</td>\n",
       "      <td>3000.38</td>\n",
       "    </tr>\n",
       "    <tr>\n",
       "      <th>13</th>\n",
       "      <td>2005-02-01</td>\n",
       "      <td>117.71</td>\n",
       "      <td>88.51</td>\n",
       "      <td>18.42</td>\n",
       "      <td>2726.91</td>\n",
       "    </tr>\n",
       "    <tr>\n",
       "      <th>14</th>\n",
       "      <td>2005-03-01</td>\n",
       "      <td>50.42</td>\n",
       "      <td>85.40</td>\n",
       "      <td>20.48</td>\n",
       "      <td>3857.77</td>\n",
       "    </tr>\n",
       "    <tr>\n",
       "      <th>15</th>\n",
       "      <td>2005-04-01</td>\n",
       "      <td>203.88</td>\n",
       "      <td>85.99</td>\n",
       "      <td>20.78</td>\n",
       "      <td>1011.56</td>\n",
       "    </tr>\n",
       "    <tr>\n",
       "      <th>16</th>\n",
       "      <td>2005-05-01</td>\n",
       "      <td>175.48</td>\n",
       "      <td>89.55</td>\n",
       "      <td>21.33</td>\n",
       "      <td>1129.42</td>\n",
       "    </tr>\n",
       "  </tbody>\n",
       "</table>\n",
       "</div>"
      ]
     },
     "execution_count": 24,
     "metadata": {},
     "output_type": "execute_result"
    }
   ],
   "execution_count": 24
  },
  {
   "metadata": {},
   "cell_type": "markdown",
   "source": "### Correlaciones con la variable \"produccion\"",
   "id": "5af6bb79a9a40fa"
  },
  {
   "metadata": {
    "ExecuteTime": {
     "end_time": "2025-07-17T06:23:32.659135Z",
     "start_time": "2025-07-17T06:23:32.650102Z"
    }
   },
   "cell_type": "code",
   "source": "print(eda_rnn.df.corr(numeric_only=True)['produccion'].sort_values())",
   "id": "ddb3e7f0d83c8b4d",
   "outputs": [
    {
     "name": "stdout",
     "output_type": "stream",
     "text": [
      "lluvia        -0.030635\n",
      "temperatura    0.046675\n",
      "humedad        0.049396\n",
      "produccion     1.000000\n",
      "Name: produccion, dtype: float64\n"
     ]
    }
   ],
   "execution_count": 25
  },
  {
   "metadata": {},
   "cell_type": "markdown",
   "source": "### Reemplazo de los valores -999",
   "id": "16354cec8a7620a7"
  },
  {
   "metadata": {
    "ExecuteTime": {
     "end_time": "2025-07-17T06:23:36.614661Z",
     "start_time": "2025-07-17T06:23:36.608824Z"
    }
   },
   "cell_type": "code",
   "source": "eda_rnn.df.replace(-999, np.nan, inplace=True)",
   "id": "670e59b6f40ae3e6",
   "outputs": [],
   "execution_count": 26
  },
  {
   "metadata": {},
   "cell_type": "markdown",
   "source": "### Selección de Años a utilizar",
   "id": "7da562eeec882520"
  },
  {
   "metadata": {
    "ExecuteTime": {
     "end_time": "2025-07-17T06:23:39.209139Z",
     "start_time": "2025-07-17T06:23:39.199755Z"
    }
   },
   "cell_type": "code",
   "source": "eda_rnn.df = eda_rnn.df[~((eda_rnn.df['fecha'].dt.year == 2025) & (eda_rnn.df['fecha'].dt.month > 6))]\n",
   "id": "f75ab693a0f9f900",
   "outputs": [],
   "execution_count": 27
  },
  {
   "metadata": {
    "ExecuteTime": {
     "end_time": "2025-07-17T06:23:40.858914Z",
     "start_time": "2025-07-17T06:23:40.851395Z"
    }
   },
   "cell_type": "code",
   "source": "eda_rnn.df = eda_rnn.df[eda_rnn.df['fecha'] >= '2015-01-01']\n",
   "id": "50a97e636347c413",
   "outputs": [],
   "execution_count": 28
  },
  {
   "metadata": {},
   "cell_type": "markdown",
   "source": "### Histogramas para variables numéricas",
   "id": "11f5213a7279629e"
  },
  {
   "metadata": {
    "ExecuteTime": {
     "end_time": "2025-07-17T06:23:43.582334Z",
     "start_time": "2025-07-17T06:23:42.557024Z"
    }
   },
   "cell_type": "code",
   "source": "eda_rnn.df.hist(bins=15, figsize=(20, 16), color='#1F4E79', edgecolor='black')\n",
   "id": "b285d02b9805172d",
   "outputs": [
    {
     "data": {
      "text/plain": [
       "array([[<Axes: title={'center': 'fecha'}>,\n",
       "        <Axes: title={'center': 'lluvia'}>],\n",
       "       [<Axes: title={'center': 'humedad'}>,\n",
       "        <Axes: title={'center': 'temperatura'}>],\n",
       "       [<Axes: title={'center': 'produccion'}>, <Axes: >]], dtype=object)"
      ]
     },
     "execution_count": 29,
     "metadata": {},
     "output_type": "execute_result"
    },
    {
     "data": {
      "text/plain": [
       "<Figure size 2000x1600 with 6 Axes>"
      ],
      "image/png": "[encoded data removed]"
     },
     "metadata": {},
     "output_type": "display_data"
    }
   ],
   "execution_count": 29
  },
  {
   "metadata": {
    "ExecuteTime": {
     "end_time": "2025-07-17T06:23:49.042366Z",
     "start_time": "2025-07-17T06:23:49.014069Z"
    }
   },
   "cell_type": "code",
   "source": "eda_rnn.df.describe()",
   "id": "eb9d2b5d7f811e09",
   "outputs": [
    {
     "data": {
      "text/plain": [
       "                               fecha      lluvia    humedad  temperatura  \\\n",
       "count                            126  125.000000  125.00000   125.000000   \n",
       "mean   2020-03-16 18:28:34.285714176  240.219840   89.73280    20.526640   \n",
       "min              2015-01-01 00:00:00   22.650000   80.55000    18.760000   \n",
       "25%              2017-08-08 18:00:00  129.660000   88.15000    19.990000   \n",
       "50%              2020-03-16 12:00:00  235.750000   90.84000    20.640000   \n",
       "75%              2022-10-24 06:00:00  318.140000   91.87000    21.010000   \n",
       "max              2025-06-01 00:00:00  785.070000   94.04000    22.370000   \n",
       "std                              NaN  150.386592    3.15204     0.764467   \n",
       "\n",
       "       produccion  \n",
       "count   124.00000  \n",
       "mean     58.21429  \n",
       "min       0.53000  \n",
       "25%      29.90000  \n",
       "50%      54.56500  \n",
       "75%      78.16375  \n",
       "max     166.63500  \n",
       "std      35.01202  "
      ],
      "text/html": [
       "<div>\n",
       "<style scoped>\n",
       "    .dataframe tbody tr th:only-of-type {\n",
       "        vertical-align: middle;\n",
       "    }\n",
       "\n",
       "    .dataframe tbody tr th {\n",
       "        vertical-align: top;\n",
       "    }\n",
       "\n",
       "    .dataframe thead th {\n",
       "        text-align: right;\n",
       "    }\n",
       "</style>\n",
       "<table border=\"1\" class=\"dataframe\">\n",
       "  <thead>\n",
       "    <tr style=\"text-align: right;\">\n",
       "      <th></th>\n",
       "      <th>fecha</th>\n",
       "      <th>lluvia</th>\n",
       "      <th>humedad</th>\n",
       "      <th>temperatura</th>\n",
       "      <th>produccion</th>\n",
       "    </tr>\n",
       "  </thead>\n",
       "  <tbody>\n",
       "    <tr>\n",
       "      <th>count</th>\n",
       "      <td>126</td>\n",
       "      <td>125.000000</td>\n",
       "      <td>125.00000</td>\n",
       "      <td>125.000000</td>\n",
       "      <td>124.00000</td>\n",
       "    </tr>\n",
       "    <tr>\n",
       "      <th>mean</th>\n",
       "      <td>2020-03-16 18:28:34.285714176</td>\n",
       "      <td>240.219840</td>\n",
       "      <td>89.73280</td>\n",
       "      <td>20.526640</td>\n",
       "      <td>58.21429</td>\n",
       "    </tr>\n",
       "    <tr>\n",
       "      <th>min</th>\n",
       "      <td>2015-01-01 00:00:00</td>\n",
       "      <td>22.650000</td>\n",
       "      <td>80.55000</td>\n",
       "      <td>18.760000</td>\n",
       "      <td>0.53000</td>\n",
       "    </tr>\n",
       "    <tr>\n",
       "      <th>25%</th>\n",
       "      <td>2017-08-08 18:00:00</td>\n",
       "      <td>129.660000</td>\n",
       "      <td>88.15000</td>\n",
       "      <td>19.990000</td>\n",
       "      <td>29.90000</td>\n",
       "    </tr>\n",
       "    <tr>\n",
       "      <th>50%</th>\n",
       "      <td>2020-03-16 12:00:00</td>\n",
       "      <td>235.750000</td>\n",
       "      <td>90.84000</td>\n",
       "      <td>20.640000</td>\n",
       "      <td>54.56500</td>\n",
       "    </tr>\n",
       "    <tr>\n",
       "      <th>75%</th>\n",
       "      <td>2022-10-24 06:00:00</td>\n",
       "      <td>318.140000</td>\n",
       "      <td>91.87000</td>\n",
       "      <td>21.010000</td>\n",
       "      <td>78.16375</td>\n",
       "    </tr>\n",
       "    <tr>\n",
       "      <th>max</th>\n",
       "      <td>2025-06-01 00:00:00</td>\n",
       "      <td>785.070000</td>\n",
       "      <td>94.04000</td>\n",
       "      <td>22.370000</td>\n",
       "      <td>166.63500</td>\n",
       "    </tr>\n",
       "    <tr>\n",
       "      <th>std</th>\n",
       "      <td>NaN</td>\n",
       "      <td>150.386592</td>\n",
       "      <td>3.15204</td>\n",
       "      <td>0.764467</td>\n",
       "      <td>35.01202</td>\n",
       "    </tr>\n",
       "  </tbody>\n",
       "</table>\n",
       "</div>"
      ]
     },
     "execution_count": 30,
     "metadata": {},
     "output_type": "execute_result"
    }
   ],
   "execution_count": 30
  },
  {
   "metadata": {},
   "cell_type": "markdown",
   "source": "### BoxPlot para \"area\" y \"produccion\"",
   "id": "4b1799986fe42b85"
  },
  {
   "metadata": {
    "ExecuteTime": {
     "end_time": "2025-07-17T06:24:10.358522Z",
     "start_time": "2025-07-17T06:24:09.073883Z"
    }
   },
   "cell_type": "code",
   "source": [
    "import plotly.express as px\n",
    "\n",
    "fig = px.box(eda_rnn.df, y='produccion', title='Boxplot de Producción')\n",
    "fig.show()"
   ],
   "id": "173854177758b3c2",
   "outputs": [
    {
     "data": {
      "application/vnd.plotly.v1+json": {
       "data": [
        {
         "alignmentgroup": "True",
         "hovertemplate": "produccion=%{y}<extra></extra>",
         "legendgroup": "",
         "marker": {
          "color": "#000001"
         },
         "name": "",
         "notched": false,
         "offsetgroup": "",
         "orientation": "v",
         "showlegend": false,
         "x0": " ",
         "xaxis": "x",
         "y": {
          "dtype": "f8",
          "bdata": "MzMzMzMzQkCamZmZmRlPQDMzMzMzs1lAMzMzMzPzPUDNzMzMzMwgQMzMzMzMzB5AAAAAAABgMkAzMzMzM3NOQM3MzMzMrFlAzczMzMxsV0AzMzMzM6NMQOxRuB6Fq0pAmpmZmZlZS0AAAAAAAMBSQM3MzMzMFGRAhetRuB7FWUCamZmZmXlEQDIzMzMzI0ZAAAAAAABwRUAAAAAAAEBaQAAAAAAAuFhAZmZmZmZGUEBxPQrXo+BMQGZmZmZmXl9AmJmZmZlZRUAfhetRuD5MQJqZmZmZSVJAZmZmZmY2S0BmZmZmZvZMQM3MzMzMDD1AhutRuB79UkDhehSuR9FeQOxRuB6Fy1ZAAAAAAADwSEBnZmZmZm5UQM3MzMzMzFBAZmZmZmZmNkCamZmZmVk1QOxRuB6Fi0RAmpmZmZkZUEDXo3A9Cl9QQDIzMzMzU0FAmpmZmZkZV0BmZmZmZvZWQB+F61G4PkZAmpmZmZlZTECkcD0K12NDQHoUrkfhelZA4noUrkfxTUBI4XoUrsdIQKRwPQrX21FASOF6FK6HQ0Cr8dJNYvA2QAAAAAAAgBFAKlyPwvUoL0BSuB6F67FUQNejcD0K11VAcT0K16OgTkAzMzMzMwNHQKRwPQrX40dAzczMzMxsM0CamZmZmZk6QAAAAAAAoEBAexSuR+F6O0AAAAAAAMA9QKRwPQrXA0dAAAAAAABASkCamZmZmRk3QM3MzMzMzPA/AAAAAAAA+H+amZmZmRk3QGZmZmZmJj9AZWZmZmYmOEABAAAAAJBLQDQzMzMzY1RAzczMzMysOEBwPQrXo7A5QDMzMzMzsyxAMzMzMzPTNECamZmZmdkoQM3MzMzMLDVAy8zMzMxMK0DNzMzMzEwrQDMzMzMz80pANDMzMzNTSEAxMzMzMwNHQPYoXI/CBVNA16NwPQo3S0A7CtejcL0jQGVmZmZmZhZAexSuR+F6MkCPwvUoXE9IQGZmZmZmxkpApHA9CtejSEB7FK5H4TpFQAAAAAAAYGJAuh6F61GgU0BRuB6F6yFPQOxRuB6FW1JAPQrXo3B9RkAK16NwPUo/QOxRuB6Fi0tASOF6FK53UEB7FK5H4bpbQNejcD0K11JAMzMzMzOzXEC5HoXrUdRkQAAAAAAASFFAGlpkO9+fWkAzMzMzM4NTQDMzMzMzE1NAPQrXo3A9N0BI4XoUrhdaQHE9CtejgFBAkML1KFwHVEDsUbgehStQQBsv3SQGWVhARGDl0CLbV0B8PzVeupVhQNejcD0KN1pA9ihcj8L14D8AAAAAAAD4f5DC9ShcjxZABVYOLbJVUkAdhetRuN5eQPlT46WbRFdA"
         },
         "y0": " ",
         "yaxis": "y",
         "type": "box"
        }
       ],
       "layout": {
        "template": {
         "data": {
          "candlestick": [
           {
            "decreasing": {
             "line": {
              "color": "#000033"
             }
            },
            "increasing": {
             "line": {
              "color": "#000032"
             }
            },
            "type": "candlestick"
           }
          ],
          "contourcarpet": [
           {
            "colorscale": [
             [
              0.0,
              "#000011"
             ],
             [
              0.1111111111111111,
              "#000012"
             ],
             [
              0.2222222222222222,
              "#000013"
             ],
             [
              0.3333333333333333,
              "#000014"
             ],
             [
              0.4444444444444444,
              "#000015"
             ],
             [
              0.5555555555555556,
              "#000016"
             ],
             [
              0.6666666666666666,
              "#000017"
             ],
             [
              0.7777777777777778,
              "#000018"
             ],
             [
              0.8888888888888888,
              "#000019"
             ],
             [
              1.0,
              "#000020"
             ]
            ],
            "type": "contourcarpet"
           }
          ],
          "contour": [
           {
            "colorscale": [
             [
              0.0,
              "#000011"
             ],
             [
              0.1111111111111111,
              "#000012"
             ],
             [
              0.2222222222222222,
              "#000013"
             ],
             [
              0.3333333333333333,
              "#000014"
             ],
             [
              0.4444444444444444,
              "#000015"
             ],
             [
              0.5555555555555556,
              "#000016"
             ],
             [
              0.6666666666666666,
              "#000017"
             ],
             [
              0.7777777777777778,
              "#000018"
             ],
             [
              0.8888888888888888,
              "#000019"
             ],
             [
              1.0,
              "#000020"
             ]
            ],
            "type": "contour"
           }
          ],
          "heatmap": [
           {
            "colorscale": [
             [
              0.0,
              "#000011"
             ],
             [
              0.1111111111111111,
              "#000012"
             ],
             [
              0.2222222222222222,
              "#000013"
             ],
             [
              0.3333333333333333,
              "#000014"
             ],
             [
              0.4444444444444444,
              "#000015"
             ],
             [
              0.5555555555555556,
              "#000016"
             ],
             [
              0.6666666666666666,
              "#000017"
             ],
             [
              0.7777777777777778,
              "#000018"
             ],
             [
              0.8888888888888888,
              "#000019"
             ],
             [
              1.0,
              "#000020"
             ]
            ],
            "type": "heatmap"
           }
          ],
          "histogram2d": [
           {
            "colorscale": [
             [
              0.0,
              "#000011"
             ],
             [
              0.1111111111111111,
              "#000012"
             ],
             [
              0.2222222222222222,
              "#000013"
             ],
             [
              0.3333333333333333,
              "#000014"
             ],
             [
              0.4444444444444444,
              "#000015"
             ],
             [
              0.5555555555555556,
              "#000016"
             ],
             [
              0.6666666666666666,
              "#000017"
             ],
             [
              0.7777777777777778,
              "#000018"
             ],
             [
              0.8888888888888888,
              "#000019"
             ],
             [
              1.0,
              "#000020"
             ]
            ],
            "type": "histogram2d"
           }
          ],
          "icicle": [
           {
            "textfont": {
             "color": "white"
            },
            "type": "icicle"
           }
          ],
          "sankey": [
           {
            "textfont": {
             "color": "#000036"
            },
            "type": "sankey"
           }
          ],
          "scatter": [
           {
            "marker": {
             "line": {
              "width": 0
             }
            },
            "type": "scatter"
           }
          ],
          "table": [
           {
            "cells": {
             "fill": {
              "color": "#000038"
             },
             "font": {
              "color": "#000037"
             },
             "line": {
              "color": "#000039"
             }
            },
            "header": {
             "fill": {
              "color": "#000040"
             },
             "font": {
              "color": "#000036"
             },
             "line": {
              "color": "#000039"
             }
            },
            "type": "table"
           }
          ],
          "waterfall": [
           {
            "connector": {
             "line": {
              "color": "#000036",
              "width": 2
             }
            },
            "decreasing": {
             "marker": {
              "color": "#000033"
             }
            },
            "increasing": {
             "marker": {
              "color": "#000032"
             }
            },
            "totals": {
             "marker": {
              "color": "#000034"
             }
            },
            "type": "waterfall"
           }
          ]
         },
         "layout": {
          "coloraxis": {
           "colorscale": [
            [
             0.0,
             "#000011"
            ],
            [
             0.1111111111111111,
             "#000012"
            ],
            [
             0.2222222222222222,
             "#000013"
            ],
            [
             0.3333333333333333,
             "#000014"
            ],
            [
             0.4444444444444444,
             "#000015"
            ],
            [
             0.5555555555555556,
             "#000016"
            ],
            [
             0.6666666666666666,
             "#000017"
            ],
            [
             0.7777777777777778,
             "#000018"
            ],
            [
             0.8888888888888888,
             "#000019"
            ],
            [
             1.0,
             "#000020"
            ]
           ]
          },
          "colorscale": {
           "diverging": [
            [
             0.0,
             "#000021"
            ],
            [
             0.1,
             "#000022"
            ],
            [
             0.2,
             "#000023"
            ],
            [
             0.3,
             "#000024"
            ],
            [
             0.4,
             "#000025"
            ],
            [
             0.5,
             "#000026"
            ],
            [
             0.6,
             "#000027"
            ],
            [
             0.7,
             "#000028"
            ],
            [
             0.8,
             "#000029"
            ],
            [
             0.9,
             "#000030"
            ],
            [
             1.0,
             "#000031"
            ]
           ],
           "sequential": [
            [
             0.0,
             "#000011"
            ],
            [
             0.1111111111111111,
             "#000012"
            ],
            [
             0.2222222222222222,
             "#000013"
            ],
            [
             0.3333333333333333,
             "#000014"
            ],
            [
             0.4444444444444444,
             "#000015"
            ],
            [
             0.5555555555555556,
             "#000016"
            ],
            [
             0.6666666666666666,
             "#000017"
            ],
            [
             0.7777777777777778,
             "#000018"
            ],
            [
             0.8888888888888888,
             "#000019"
            ],
            [
             1.0,
             "#000020"
            ]
           ],
           "sequentialminus": [
            [
             0.0,
             "#000011"
            ],
            [
             0.1111111111111111,
             "#000012"
            ],
            [
             0.2222222222222222,
             "#000013"
            ],
            [
             0.3333333333333333,
             "#000014"
            ],
            [
             0.4444444444444444,
             "#000015"
            ],
            [
             0.5555555555555556,
             "#000016"
            ],
            [
             0.6666666666666666,
             "#000017"
            ],
            [
             0.7777777777777778,
             "#000018"
            ],
            [
             0.8888888888888888,
             "#000019"
            ],
            [
             1.0,
             "#000020"
            ]
           ]
          },
          "colorway": [
           "#000001",
           "#000002",
           "#000003",
           "#000004",
           "#000005",
           "#000006",
           "#000007",
           "#000008",
           "#000009",
           "#000010"
          ]
         }
        },
        "xaxis": {
         "anchor": "y",
         "domain": [
          0.0,
          1.0
         ]
        },
        "yaxis": {
         "anchor": "x",
         "domain": [
          0.0,
          1.0
         ],
         "title": {
          "text": "produccion"
         }
        },
        "legend": {
         "tracegroupgap": 0
        },
        "title": {
         "text": "Boxplot de Producción"
        },
        "boxmode": "group"
       },
       "config": {
        "plotlyServerURL": "https://plot.ly"
       }
      }
     },
     "metadata": {},
     "output_type": "display_data"
    }
   ],
   "execution_count": 32
  },
  {
   "metadata": {},
   "cell_type": "markdown",
   "source": "### Gráfico de Densidad",
   "id": "a860c0df11aac8e9"
  },
  {
   "metadata": {
    "ExecuteTime": {
     "end_time": "2025-07-17T06:24:14.413634Z",
     "start_time": "2025-07-17T06:24:14.187179Z"
    }
   },
   "cell_type": "code",
   "source": "eda_rnn.graficar_densidad('produccion')",
   "id": "631240c0b6ac57b6",
   "outputs": [
    {
     "data": {
      "text/plain": [
       "<Figure size 1000x300 with 1 Axes>"
      ],
      "image/png": "[encoded data removed]"
     },
     "metadata": {},
     "output_type": "display_data"
    }
   ],
   "execution_count": 33
  },
  {
   "metadata": {
    "ExecuteTime": {
     "end_time": "2025-07-17T06:24:23.825890Z",
     "start_time": "2025-07-17T06:24:23.566253Z"
    }
   },
   "cell_type": "code",
   "source": [
    "produccion_mensual = eda_rnn.df.set_index('fecha').resample('ME')['produccion'].sum()\n",
    "\n",
    "plt.figure(figsize=(16, 6))\n",
    "produccion_mensual.plot(kind='line', color='steelblue', linewidth=2)\n",
    "plt.title('Producción Total por Mes', fontsize=16)\n",
    "plt.xlabel('Fecha', fontsize=12)\n",
    "plt.ylabel('Producción Total Mensual', fontsize=12)\n",
    "plt.grid(True, alpha=0.3)\n",
    "plt.tight_layout()\n",
    "plt.show()\n"
   ],
   "id": "ac3cc83b58eab94d",
   "outputs": [
    {
     "data": {
      "text/plain": [
       "<Figure size 1600x600 with 1 Axes>"
      ],
      "image/png": "[encoded data removed]"
     },
     "metadata": {},
     "output_type": "display_data"
    }
   ],
   "execution_count": 35
  },
  {
   "metadata": {
    "ExecuteTime": {
     "end_time": "2025-07-17T06:24:31.440974Z",
     "start_time": "2025-07-17T06:24:31.425389Z"
    }
   },
   "cell_type": "code",
   "source": "eda_rnn.df.sort_values(by=['produccion'], ascending=False)",
   "id": "25be8e1b4f707ff7",
   "outputs": [
    {
     "data": {
      "text/plain": [
       "          fecha  lluvia  humedad  temperatura  produccion\n",
       "1102 2023-11-01  294.26    93.77        21.08     166.635\n",
       "674  2016-03-01   31.67    81.08        21.29     160.650\n",
       "1043 2022-12-01  104.96    90.88        19.42     147.000\n",
       "1162 2024-11-01  779.73    94.04        20.64     140.679\n",
       "683  2016-12-01  176.91    93.04        19.65     125.475\n",
       "...         ...     ...      ...          ...         ...\n",
       "857  2019-06-01  255.94    91.58        21.52       4.375\n",
       "920  2020-09-01  266.41    89.58        20.60       1.050\n",
       "1212 2025-01-01  122.30    91.29        19.89       0.530\n",
       "921  2020-10-01  419.90    92.39        20.64         NaN\n",
       "1213 2025-02-01   57.69    88.61        19.99         NaN\n",
       "\n",
       "[126 rows x 5 columns]"
      ],
      "text/html": [
       "<div>\n",
       "<style scoped>\n",
       "    .dataframe tbody tr th:only-of-type {\n",
       "        vertical-align: middle;\n",
       "    }\n",
       "\n",
       "    .dataframe tbody tr th {\n",
       "        vertical-align: top;\n",
       "    }\n",
       "\n",
       "    .dataframe thead th {\n",
       "        text-align: right;\n",
       "    }\n",
       "</style>\n",
       "<table border=\"1\" class=\"dataframe\">\n",
       "  <thead>\n",
       "    <tr style=\"text-align: right;\">\n",
       "      <th></th>\n",
       "      <th>fecha</th>\n",
       "      <th>lluvia</th>\n",
       "      <th>humedad</th>\n",
       "      <th>temperatura</th>\n",
       "      <th>produccion</th>\n",
       "    </tr>\n",
       "  </thead>\n",
       "  <tbody>\n",
       "    <tr>\n",
       "      <th>1102</th>\n",
       "      <td>2023-11-01</td>\n",
       "      <td>294.26</td>\n",
       "      <td>93.77</td>\n",
       "      <td>21.08</td>\n",
       "      <td>166.635</td>\n",
       "    </tr>\n",
       "    <tr>\n",
       "      <th>674</th>\n",
       "      <td>2016-03-01</td>\n",
       "      <td>31.67</td>\n",
       "      <td>81.08</td>\n",
       "      <td>21.29</td>\n",
       "      <td>160.650</td>\n",
       "    </tr>\n",
       "    <tr>\n",
       "      <th>1043</th>\n",
       "      <td>2022-12-01</td>\n",
       "      <td>104.96</td>\n",
       "      <td>90.88</td>\n",
       "      <td>19.42</td>\n",
       "      <td>147.000</td>\n",
       "    </tr>\n",
       "    <tr>\n",
       "      <th>1162</th>\n",
       "      <td>2024-11-01</td>\n",
       "      <td>779.73</td>\n",
       "      <td>94.04</td>\n",
       "      <td>20.64</td>\n",
       "      <td>140.679</td>\n",
       "    </tr>\n",
       "    <tr>\n",
       "      <th>683</th>\n",
       "      <td>2016-12-01</td>\n",
       "      <td>176.91</td>\n",
       "      <td>93.04</td>\n",
       "      <td>19.65</td>\n",
       "      <td>125.475</td>\n",
       "    </tr>\n",
       "    <tr>\n",
       "      <th>...</th>\n",
       "      <td>...</td>\n",
       "      <td>...</td>\n",
       "      <td>...</td>\n",
       "      <td>...</td>\n",
       "      <td>...</td>\n",
       "    </tr>\n",
       "    <tr>\n",
       "      <th>857</th>\n",
       "      <td>2019-06-01</td>\n",
       "      <td>255.94</td>\n",
       "      <td>91.58</td>\n",
       "      <td>21.52</td>\n",
       "      <td>4.375</td>\n",
       "    </tr>\n",
       "    <tr>\n",
       "      <th>920</th>\n",
       "      <td>2020-09-01</td>\n",
       "      <td>266.41</td>\n",
       "      <td>89.58</td>\n",
       "      <td>20.60</td>\n",
       "      <td>1.050</td>\n",
       "    </tr>\n",
       "    <tr>\n",
       "      <th>1212</th>\n",
       "      <td>2025-01-01</td>\n",
       "      <td>122.30</td>\n",
       "      <td>91.29</td>\n",
       "      <td>19.89</td>\n",
       "      <td>0.530</td>\n",
       "    </tr>\n",
       "    <tr>\n",
       "      <th>921</th>\n",
       "      <td>2020-10-01</td>\n",
       "      <td>419.90</td>\n",
       "      <td>92.39</td>\n",
       "      <td>20.64</td>\n",
       "      <td>NaN</td>\n",
       "    </tr>\n",
       "    <tr>\n",
       "      <th>1213</th>\n",
       "      <td>2025-02-01</td>\n",
       "      <td>57.69</td>\n",
       "      <td>88.61</td>\n",
       "      <td>19.99</td>\n",
       "      <td>NaN</td>\n",
       "    </tr>\n",
       "  </tbody>\n",
       "</table>\n",
       "<p>126 rows × 5 columns</p>\n",
       "</div>"
      ]
     },
     "execution_count": 36,
     "metadata": {},
     "output_type": "execute_result"
    }
   ],
   "execution_count": 36
  },
  {
   "metadata": {},
   "cell_type": "markdown",
   "source": "### Rellenar NaN",
   "id": "26b3f114c1518145"
  },
  {
   "metadata": {
    "ExecuteTime": {
     "end_time": "2025-07-17T06:24:50.056132Z",
     "start_time": "2025-07-17T06:24:50.044601Z"
    }
   },
   "cell_type": "code",
   "source": "eda_rnn.df[eda_rnn.df.isnull().any(axis=1)]",
   "id": "25de1cff10f875e1",
   "outputs": [
    {
     "data": {
      "text/plain": [
       "          fecha  lluvia  humedad  temperatura  produccion\n",
       "921  2020-10-01  419.90    92.39        20.64         NaN\n",
       "1213 2025-02-01   57.69    88.61        19.99         NaN\n",
       "1217 2025-06-01     NaN      NaN          NaN      93.072"
      ],
      "text/html": [
       "<div>\n",
       "<style scoped>\n",
       "    .dataframe tbody tr th:only-of-type {\n",
       "        vertical-align: middle;\n",
       "    }\n",
       "\n",
       "    .dataframe tbody tr th {\n",
       "        vertical-align: top;\n",
       "    }\n",
       "\n",
       "    .dataframe thead th {\n",
       "        text-align: right;\n",
       "    }\n",
       "</style>\n",
       "<table border=\"1\" class=\"dataframe\">\n",
       "  <thead>\n",
       "    <tr style=\"text-align: right;\">\n",
       "      <th></th>\n",
       "      <th>fecha</th>\n",
       "      <th>lluvia</th>\n",
       "      <th>humedad</th>\n",
       "      <th>temperatura</th>\n",
       "      <th>produccion</th>\n",
       "    </tr>\n",
       "  </thead>\n",
       "  <tbody>\n",
       "    <tr>\n",
       "      <th>921</th>\n",
       "      <td>2020-10-01</td>\n",
       "      <td>419.90</td>\n",
       "      <td>92.39</td>\n",
       "      <td>20.64</td>\n",
       "      <td>NaN</td>\n",
       "    </tr>\n",
       "    <tr>\n",
       "      <th>1213</th>\n",
       "      <td>2025-02-01</td>\n",
       "      <td>57.69</td>\n",
       "      <td>88.61</td>\n",
       "      <td>19.99</td>\n",
       "      <td>NaN</td>\n",
       "    </tr>\n",
       "    <tr>\n",
       "      <th>1217</th>\n",
       "      <td>2025-06-01</td>\n",
       "      <td>NaN</td>\n",
       "      <td>NaN</td>\n",
       "      <td>NaN</td>\n",
       "      <td>93.072</td>\n",
       "    </tr>\n",
       "  </tbody>\n",
       "</table>\n",
       "</div>"
      ]
     },
     "execution_count": 37,
     "metadata": {},
     "output_type": "execute_result"
    }
   ],
   "execution_count": 37
  },
  {
   "metadata": {
    "ExecuteTime": {
     "end_time": "2025-07-17T06:25:04.929383Z",
     "start_time": "2025-07-17T06:25:04.922267Z"
    }
   },
   "cell_type": "code",
   "source": "print(eda_rnn.df.isnull().sum())",
   "id": "3ba56334fa7d5088",
   "outputs": [
    {
     "name": "stdout",
     "output_type": "stream",
     "text": [
      "fecha          0\n",
      "lluvia         1\n",
      "humedad        1\n",
      "temperatura    1\n",
      "produccion     2\n",
      "dtype: int64\n"
     ]
    }
   ],
   "execution_count": 38
  },
  {
   "metadata": {
    "ExecuteTime": {
     "end_time": "2025-07-17T06:25:21.069811Z",
     "start_time": "2025-07-17T06:25:21.060423Z"
    }
   },
   "cell_type": "code",
   "source": "eda_rnn.df.fillna(method='ffill', inplace=True)",
   "id": "b6910124eb4a65ea",
   "outputs": [
    {
     "name": "stderr",
     "output_type": "stream",
     "text": [
      "C:\\Users\\pmari\\AppData\\Local\\Temp\\ipykernel_19676\\2239502998.py:1: FutureWarning:\n",
      "\n",
      "DataFrame.fillna with 'method' is deprecated and will raise in a future version. Use obj.ffill() or obj.bfill() instead.\n",
      "\n"
     ]
    }
   ],
   "execution_count": 39
  },
  {
   "metadata": {
    "ExecuteTime": {
     "end_time": "2025-07-17T06:25:35.051031Z",
     "start_time": "2025-07-17T06:25:35.044636Z"
    }
   },
   "cell_type": "code",
   "source": "print(eda_rnn.df.isnull().sum())",
   "id": "5191cda8d4a79af7",
   "outputs": [
    {
     "name": "stdout",
     "output_type": "stream",
     "text": [
      "fecha          0\n",
      "lluvia         0\n",
      "humedad        0\n",
      "temperatura    0\n",
      "produccion     0\n",
      "dtype: int64\n"
     ]
    }
   ],
   "execution_count": 40
  },
  {
   "metadata": {
    "ExecuteTime": {
     "end_time": "2025-07-17T06:25:37.482139Z",
     "start_time": "2025-07-17T06:25:37.472997Z"
    }
   },
   "cell_type": "code",
   "source": "print(eda_rnn.df)",
   "id": "71b2cd6723b5dbf1",
   "outputs": [
    {
     "name": "stdout",
     "output_type": "stream",
     "text": [
      "          fecha  lluvia  humedad  temperatura  produccion\n",
      "612  2015-01-01  171.90    90.67        19.20      36.400\n",
      "613  2015-02-01  107.62    89.37        19.11      62.200\n",
      "614  2015-03-01   79.44    86.31        19.49     102.800\n",
      "615  2015-04-01  115.93    85.46        20.80      29.950\n",
      "616  2015-05-01  253.66    89.03        20.93       8.400\n",
      "...         ...     ...      ...          ...         ...\n",
      "1213 2025-02-01   57.69    88.61        19.99       0.530\n",
      "1214 2025-03-01   78.32    84.79        20.68       5.640\n",
      "1215 2025-04-01  342.60    87.64        20.78      73.339\n",
      "1216 2025-05-01  364.74    92.25        21.60     123.480\n",
      "1217 2025-06-01  364.74    92.25        21.60      93.072\n",
      "\n",
      "[126 rows x 5 columns]\n"
     ]
    }
   ],
   "execution_count": 41
  },
  {
   "metadata": {
    "ExecuteTime": {
     "end_time": "2025-07-17T06:25:45.148341Z",
     "start_time": "2025-07-17T06:25:45.142323Z"
    }
   },
   "cell_type": "code",
   "source": "print(eda_rnn.df.isnull().sum())",
   "id": "f1ab1d0b04f067bf",
   "outputs": [
    {
     "name": "stdout",
     "output_type": "stream",
     "text": [
      "fecha          0\n",
      "lluvia         0\n",
      "humedad        0\n",
      "temperatura    0\n",
      "produccion     0\n",
      "dtype: int64\n"
     ]
    }
   ],
   "execution_count": 42
  },
  {
   "metadata": {},
   "cell_type": "markdown",
   "source": "### Combinaciones de cantones y fechas mensuales",
   "id": "44aff7138e6c6383"
  },
  {
   "metadata": {
    "ExecuteTime": {
     "end_time": "2025-07-17T06:26:13.038638Z",
     "start_time": "2025-07-17T06:26:13.032084Z"
    }
   },
   "cell_type": "code",
   "source": "print(eda_rnn.df.corr(numeric_only=True)['produccion'].sort_values())\n",
   "id": "8e06af39d2db6547",
   "outputs": [
    {
     "name": "stdout",
     "output_type": "stream",
     "text": [
      "humedad        0.023660\n",
      "lluvia         0.086058\n",
      "temperatura    0.119523\n",
      "produccion     1.000000\n",
      "Name: produccion, dtype: float64\n"
     ]
    }
   ],
   "execution_count": 44
  },
  {
   "metadata": {
    "ExecuteTime": {
     "end_time": "2025-07-17T06:26:38.136982Z",
     "start_time": "2025-07-17T06:26:38.129996Z"
    }
   },
   "cell_type": "code",
   "source": "eda_rnn.df.columns",
   "id": "440f8088a5347e91",
   "outputs": [
    {
     "data": {
      "text/plain": [
       "Index(['fecha', 'lluvia', 'humedad', 'temperatura', 'produccion'], dtype='object')"
      ]
     },
     "execution_count": 46,
     "metadata": {},
     "output_type": "execute_result"
    }
   ],
   "execution_count": 46
  },
  {
   "metadata": {
    "ExecuteTime": {
     "end_time": "2025-07-17T06:26:42.039937Z",
     "start_time": "2025-07-17T06:26:41.775853Z"
    }
   },
   "cell_type": "code",
   "source": "eda_rnn.df.plot(figsize=(12,8))",
   "id": "6b5429847d6b2a67",
   "outputs": [
    {
     "data": {
      "text/plain": [
       "<Axes: >"
      ]
     },
     "execution_count": 47,
     "metadata": {},
     "output_type": "execute_result"
    },
    {
     "data": {
      "text/plain": [
       "<Figure size 1200x800 with 1 Axes>"
      ],
      "image/png": "[encoded data removed]"
     },
     "metadata": {},
     "output_type": "display_data"
    }
   ],
   "execution_count": 47
  },
  {
   "metadata": {},
   "cell_type": "raw",
   "source": "",
   "id": "e3cc24e73be8dddb"
  },
  {
   "metadata": {},
   "cell_type": "markdown",
   "source": "### Normalización de variables numéricas",
   "id": "ecf128f0a834c023"
  },
  {
   "metadata": {
    "ExecuteTime": {
     "end_time": "2025-07-17T06:27:10.174035Z",
     "start_time": "2025-07-17T06:27:10.167869Z"
    }
   },
   "cell_type": "code",
   "source": [
    "columnas_a_normalizar = [col for col in eda_rnn.df.columns\n",
    "                        if col not in ['fecha', 'canton_id'] and\n",
    "                        eda_rnn.df[col].dtype in ['int64', 'float64']]"
   ],
   "id": "cfb527f937e88084",
   "outputs": [],
   "execution_count": 48
  },
  {
   "metadata": {
    "ExecuteTime": {
     "end_time": "2025-07-17T06:27:18.524469Z",
     "start_time": "2025-07-17T06:27:18.519771Z"
    }
   },
   "cell_type": "code",
   "source": "print(\"Columnas a normalizar:\", columnas_a_normalizar)",
   "id": "a8d4ddb0772793b7",
   "outputs": [
    {
     "name": "stdout",
     "output_type": "stream",
     "text": [
      "Columnas a normalizar: ['lluvia', 'humedad', 'temperatura', 'produccion']\n"
     ]
    }
   ],
   "execution_count": 49
  },
  {
   "metadata": {
    "ExecuteTime": {
     "end_time": "2025-07-17T06:27:27.258196Z",
     "start_time": "2025-07-17T06:27:27.219920Z"
    }
   },
   "cell_type": "code",
   "source": "eda_rnn.df.head()",
   "id": "ceaf2a3ca009326f",
   "outputs": [
    {
     "data": {
      "text/plain": [
       "         fecha  lluvia  humedad  temperatura  produccion\n",
       "612 2015-01-01  171.90    90.67        19.20       36.40\n",
       "613 2015-02-01  107.62    89.37        19.11       62.20\n",
       "614 2015-03-01   79.44    86.31        19.49      102.80\n",
       "615 2015-04-01  115.93    85.46        20.80       29.95\n",
       "616 2015-05-01  253.66    89.03        20.93        8.40"
      ],
      "text/html": [
       "<div>\n",
       "<style scoped>\n",
       "    .dataframe tbody tr th:only-of-type {\n",
       "        vertical-align: middle;\n",
       "    }\n",
       "\n",
       "    .dataframe tbody tr th {\n",
       "        vertical-align: top;\n",
       "    }\n",
       "\n",
       "    .dataframe thead th {\n",
       "        text-align: right;\n",
       "    }\n",
       "</style>\n",
       "<table border=\"1\" class=\"dataframe\">\n",
       "  <thead>\n",
       "    <tr style=\"text-align: right;\">\n",
       "      <th></th>\n",
       "      <th>fecha</th>\n",
       "      <th>lluvia</th>\n",
       "      <th>humedad</th>\n",
       "      <th>temperatura</th>\n",
       "      <th>produccion</th>\n",
       "    </tr>\n",
       "  </thead>\n",
       "  <tbody>\n",
       "    <tr>\n",
       "      <th>612</th>\n",
       "      <td>2015-01-01</td>\n",
       "      <td>171.90</td>\n",
       "      <td>90.67</td>\n",
       "      <td>19.20</td>\n",
       "      <td>36.40</td>\n",
       "    </tr>\n",
       "    <tr>\n",
       "      <th>613</th>\n",
       "      <td>2015-02-01</td>\n",
       "      <td>107.62</td>\n",
       "      <td>89.37</td>\n",
       "      <td>19.11</td>\n",
       "      <td>62.20</td>\n",
       "    </tr>\n",
       "    <tr>\n",
       "      <th>614</th>\n",
       "      <td>2015-03-01</td>\n",
       "      <td>79.44</td>\n",
       "      <td>86.31</td>\n",
       "      <td>19.49</td>\n",
       "      <td>102.80</td>\n",
       "    </tr>\n",
       "    <tr>\n",
       "      <th>615</th>\n",
       "      <td>2015-04-01</td>\n",
       "      <td>115.93</td>\n",
       "      <td>85.46</td>\n",
       "      <td>20.80</td>\n",
       "      <td>29.95</td>\n",
       "    </tr>\n",
       "    <tr>\n",
       "      <th>616</th>\n",
       "      <td>2015-05-01</td>\n",
       "      <td>253.66</td>\n",
       "      <td>89.03</td>\n",
       "      <td>20.93</td>\n",
       "      <td>8.40</td>\n",
       "    </tr>\n",
       "  </tbody>\n",
       "</table>\n",
       "</div>"
      ]
     },
     "execution_count": 51,
     "metadata": {},
     "output_type": "execute_result"
    }
   ],
   "execution_count": 51
  },
  {
   "metadata": {},
   "cell_type": "markdown",
   "source": "### Guardado de Archivo CSV",
   "id": "9cafb527fdc4312b"
  },
  {
   "metadata": {
    "ExecuteTime": {
     "end_time": "2025-07-17T06:27:47.314630Z",
     "start_time": "2025-07-17T06:27:47.305159Z"
    }
   },
   "cell_type": "code",
   "source": [
    "file_path = eda_rnn.guardar_csv(\n",
    "    subcarpetas=[\"data\", \"processed\", \"rnn\"],\n",
    "    nombre_archivo=\"rnn_produccion.csv\"\n",
    ")\n",
    "print(f\"Archivo guardado en: {file_path}\")"
   ],
   "id": "46c049b47ed75ac3",
   "outputs": [
    {
     "name": "stdout",
     "output_type": "stream",
     "text": [
      "Archivo guardado en: C:\\Users\\pmari\\Downloads\\Template-AgroIA (3)\\Template-AgroIA\\data\\processed\\rnn\\rnn_produccion.csv\n"
     ]
    }
   ],
   "execution_count": 52
  },
  {
   "metadata": {},
   "cell_type": "code",
   "outputs": [],
   "execution_count": null,
   "source": "",
   "id": "98d390d644a25b5d"
  }
 ],
 "metadata": {
  "kernelspec": {
   "name": "python3",
   "language": "python",
   "display_name": "Python 3 (ipykernel)"
  }
 },
 "nbformat": 5,
 "nbformat_minor": 9
}
